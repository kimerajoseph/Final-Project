{
 "cells": [
  {
   "cell_type": "code",
   "execution_count": 1,
   "id": "13817bdc",
   "metadata": {},
   "outputs": [],
   "source": [
    "import numpy as np\n",
    "from pandas.io.json import json_normalize\n",
    "from sklearn.model_selection import cross_validate, train_test_split\n",
    "import seaborn as sns\n",
    "import matplotlib.pyplot as plt"
   ]
  },
  {
   "cell_type": "code",
   "execution_count": 2,
   "id": "03811800",
   "metadata": {},
   "outputs": [],
   "source": [
    "import pandas as pd\n",
    "data1 = pd.read_csv('tripadvisor_european_restaurants.csv', low_memory = False)\n",
    "#data.head()"
   ]
  },
  {
   "cell_type": "code",
   "execution_count": 3,
   "id": "db1bc33a",
   "metadata": {},
   "outputs": [
    {
     "data": {
      "text/html": [
       "<div>\n",
       "<style scoped>\n",
       "    .dataframe tbody tr th:only-of-type {\n",
       "        vertical-align: middle;\n",
       "    }\n",
       "\n",
       "    .dataframe tbody tr th {\n",
       "        vertical-align: top;\n",
       "    }\n",
       "\n",
       "    .dataframe thead th {\n",
       "        text-align: right;\n",
       "    }\n",
       "</style>\n",
       "<table border=\"1\" class=\"dataframe\">\n",
       "  <thead>\n",
       "    <tr style=\"text-align: right;\">\n",
       "      <th></th>\n",
       "      <th>restaurant_link</th>\n",
       "      <th>restaurant_name</th>\n",
       "      <th>original_location</th>\n",
       "      <th>country</th>\n",
       "      <th>region</th>\n",
       "      <th>province</th>\n",
       "      <th>city</th>\n",
       "      <th>address</th>\n",
       "      <th>latitude</th>\n",
       "      <th>longitude</th>\n",
       "      <th>...</th>\n",
       "      <th>excellent</th>\n",
       "      <th>very_good</th>\n",
       "      <th>average</th>\n",
       "      <th>poor</th>\n",
       "      <th>terrible</th>\n",
       "      <th>food</th>\n",
       "      <th>service</th>\n",
       "      <th>value</th>\n",
       "      <th>atmosphere</th>\n",
       "      <th>keywords</th>\n",
       "    </tr>\n",
       "  </thead>\n",
       "  <tbody>\n",
       "    <tr>\n",
       "      <th>0</th>\n",
       "      <td>g10001637-d10002227</td>\n",
       "      <td>Le 147</td>\n",
       "      <td>[\"Europe\", \"France\", \"Nouvelle-Aquitaine\", \"Ha...</td>\n",
       "      <td>France</td>\n",
       "      <td>Nouvelle-Aquitaine</td>\n",
       "      <td>Haute-Vienne</td>\n",
       "      <td>Saint-Jouvent</td>\n",
       "      <td>10 Maison Neuve, 87510 Saint-Jouvent France</td>\n",
       "      <td>45.961674</td>\n",
       "      <td>1.169131</td>\n",
       "      <td>...</td>\n",
       "      <td>2.0</td>\n",
       "      <td>0.0</td>\n",
       "      <td>0.0</td>\n",
       "      <td>0.0</td>\n",
       "      <td>0.0</td>\n",
       "      <td>4.0</td>\n",
       "      <td>4.5</td>\n",
       "      <td>4.0</td>\n",
       "      <td>NaN</td>\n",
       "      <td>NaN</td>\n",
       "    </tr>\n",
       "    <tr>\n",
       "      <th>1</th>\n",
       "      <td>g10001637-d14975787</td>\n",
       "      <td>Le Saint Jouvent</td>\n",
       "      <td>[\"Europe\", \"France\", \"Nouvelle-Aquitaine\", \"Ha...</td>\n",
       "      <td>France</td>\n",
       "      <td>Nouvelle-Aquitaine</td>\n",
       "      <td>Haute-Vienne</td>\n",
       "      <td>Saint-Jouvent</td>\n",
       "      <td>16 Place de l Eglise, 87510 Saint-Jouvent France</td>\n",
       "      <td>45.957040</td>\n",
       "      <td>1.205480</td>\n",
       "      <td>...</td>\n",
       "      <td>2.0</td>\n",
       "      <td>2.0</td>\n",
       "      <td>1.0</td>\n",
       "      <td>0.0</td>\n",
       "      <td>0.0</td>\n",
       "      <td>NaN</td>\n",
       "      <td>NaN</td>\n",
       "      <td>NaN</td>\n",
       "      <td>NaN</td>\n",
       "      <td>NaN</td>\n",
       "    </tr>\n",
       "    <tr>\n",
       "      <th>2</th>\n",
       "      <td>g10002858-d4586832</td>\n",
       "      <td>Au Bout du Pont</td>\n",
       "      <td>[\"Europe\", \"France\", \"Centre-Val de Loire\", \"B...</td>\n",
       "      <td>France</td>\n",
       "      <td>Centre-Val de Loire</td>\n",
       "      <td>Berry</td>\n",
       "      <td>Rivarennes</td>\n",
       "      <td>2 rue des Dames, 36800 Rivarennes France</td>\n",
       "      <td>46.635895</td>\n",
       "      <td>1.386133</td>\n",
       "      <td>...</td>\n",
       "      <td>3.0</td>\n",
       "      <td>1.0</td>\n",
       "      <td>0.0</td>\n",
       "      <td>0.0</td>\n",
       "      <td>0.0</td>\n",
       "      <td>NaN</td>\n",
       "      <td>NaN</td>\n",
       "      <td>NaN</td>\n",
       "      <td>NaN</td>\n",
       "      <td>NaN</td>\n",
       "    </tr>\n",
       "  </tbody>\n",
       "</table>\n",
       "<p>3 rows × 42 columns</p>\n",
       "</div>"
      ],
      "text/plain": [
       "       restaurant_link   restaurant_name  \\\n",
       "0  g10001637-d10002227            Le 147   \n",
       "1  g10001637-d14975787  Le Saint Jouvent   \n",
       "2   g10002858-d4586832   Au Bout du Pont   \n",
       "\n",
       "                                   original_location country  \\\n",
       "0  [\"Europe\", \"France\", \"Nouvelle-Aquitaine\", \"Ha...  France   \n",
       "1  [\"Europe\", \"France\", \"Nouvelle-Aquitaine\", \"Ha...  France   \n",
       "2  [\"Europe\", \"France\", \"Centre-Val de Loire\", \"B...  France   \n",
       "\n",
       "                region      province           city  \\\n",
       "0   Nouvelle-Aquitaine  Haute-Vienne  Saint-Jouvent   \n",
       "1   Nouvelle-Aquitaine  Haute-Vienne  Saint-Jouvent   \n",
       "2  Centre-Val de Loire         Berry     Rivarennes   \n",
       "\n",
       "                                            address   latitude  longitude  \\\n",
       "0       10 Maison Neuve, 87510 Saint-Jouvent France  45.961674   1.169131   \n",
       "1  16 Place de l Eglise, 87510 Saint-Jouvent France  45.957040   1.205480   \n",
       "2          2 rue des Dames, 36800 Rivarennes France  46.635895   1.386133   \n",
       "\n",
       "   ... excellent very_good average poor terrible food service value  \\\n",
       "0  ...       2.0       0.0     0.0  0.0      0.0  4.0     4.5   4.0   \n",
       "1  ...       2.0       2.0     1.0  0.0      0.0  NaN     NaN   NaN   \n",
       "2  ...       3.0       1.0     0.0  0.0      0.0  NaN     NaN   NaN   \n",
       "\n",
       "  atmosphere keywords  \n",
       "0        NaN      NaN  \n",
       "1        NaN      NaN  \n",
       "2        NaN      NaN  \n",
       "\n",
       "[3 rows x 42 columns]"
      ]
     },
     "execution_count": 3,
     "metadata": {},
     "output_type": "execute_result"
    }
   ],
   "source": [
    "data = data1.copy()\n",
    "data.head(3)"
   ]
  },
  {
   "cell_type": "code",
   "execution_count": 4,
   "id": "d8d8b509",
   "metadata": {},
   "outputs": [
    {
     "data": {
      "text/plain": [
       "Index(['restaurant_link', 'restaurant_name', 'original_location', 'country',\n",
       "       'region', 'province', 'city', 'address', 'latitude', 'longitude',\n",
       "       'claimed', 'awards', 'popularity_detailed', 'popularity_generic',\n",
       "       'top_tags', 'price_level', 'price_range', 'meals', 'cuisines',\n",
       "       'special_diets', 'features', 'vegetarian_friendly', 'vegan_options',\n",
       "       'gluten_free', 'original_open_hours', 'open_days_per_week',\n",
       "       'open_hours_per_week', 'working_shifts_per_week', 'avg_rating',\n",
       "       'total_reviews_count', 'default_language',\n",
       "       'reviews_count_in_default_language', 'excellent', 'very_good',\n",
       "       'average', 'poor', 'terrible', 'food', 'service', 'value', 'atmosphere',\n",
       "       'keywords'],\n",
       "      dtype='object')"
      ]
     },
     "execution_count": 4,
     "metadata": {},
     "output_type": "execute_result"
    }
   ],
   "source": [
    "data.columns"
   ]
  },
  {
   "cell_type": "code",
   "execution_count": 5,
   "id": "b92f2476",
   "metadata": {},
   "outputs": [
    {
     "data": {
      "text/plain": [
       "(1083397, 42)"
      ]
     },
     "execution_count": 5,
     "metadata": {},
     "output_type": "execute_result"
    }
   ],
   "source": [
    "data.shape"
   ]
  },
  {
   "cell_type": "markdown",
   "id": "14ea306c",
   "metadata": {},
   "source": [
    "# DATA CLEANING"
   ]
  },
  {
   "cell_type": "markdown",
   "id": "2b1023ee",
   "metadata": {},
   "source": [
    "    1.Drop column \"popularity_generic\" because its similar to \"popularity_detailed\". It only replaces 'Restaurants to eat' with 'Places to eat'. A place to eat can be taken to mean restaurant\n",
    "    2. Drop \"Original_location\" column because where the restaurant originally started has little impact on its rating now. The current location is more important\n",
    "    3. Over 25% of rows in the \"price_level\" columns are emmpty. There is no 3# and 2# ratings in the data"
   ]
  },
  {
   "cell_type": "code",
   "execution_count": 6,
   "id": "d2a65315",
   "metadata": {},
   "outputs": [
    {
     "data": {
      "text/plain": [
       "0.2558665013840725"
      ]
     },
     "execution_count": 6,
     "metadata": {},
     "output_type": "execute_result"
    }
   ],
   "source": [
    "data['price_level'].isna().sum()/len(data)"
   ]
  },
  {
   "cell_type": "code",
   "execution_count": 7,
   "id": "0e1270ae",
   "metadata": {},
   "outputs": [
    {
     "data": {
      "text/plain": [
       "NaN          779070\n",
       "€10-€30        5937\n",
       "€5-€15         5810\n",
       "€10-€20        5148\n",
       "€5-€20         4793\n",
       "              ...  \n",
       "€5-€2,242         1\n",
       "€38-€63           1\n",
       "€11-€113          1\n",
       "€661-€862         1\n",
       "€35-€180          1\n",
       "Name: price_range, Length: 7299, dtype: int64"
      ]
     },
     "execution_count": 7,
     "metadata": {},
     "output_type": "execute_result"
    }
   ],
   "source": [
    "data['price_range'].value_counts(dropna = False)"
   ]
  },
  {
   "cell_type": "code",
   "execution_count": 8,
   "id": "79040132",
   "metadata": {},
   "outputs": [
    {
     "data": {
      "text/plain": [
       "0.7190992775501501"
      ]
     },
     "execution_count": 8,
     "metadata": {},
     "output_type": "execute_result"
    }
   ],
   "source": [
    "data['price_range'].isna().sum()/len(data)"
   ]
  },
  {
   "cell_type": "code",
   "execution_count": 9,
   "id": "b9d7dbc4",
   "metadata": {},
   "outputs": [],
   "source": [
    "#data['city'].value_counts()"
   ]
  },
  {
   "cell_type": "code",
   "execution_count": 10,
   "id": "b2823b25",
   "metadata": {},
   "outputs": [
    {
     "data": {
      "text/plain": [
       "110634"
      ]
     },
     "execution_count": 10,
     "metadata": {},
     "output_type": "execute_result"
    }
   ],
   "source": [
    "data['top_tags'].isna().sum()"
   ]
  },
  {
   "cell_type": "markdown",
   "id": "6aede488",
   "metadata": {},
   "source": [
    "## Check restaurants with no ratings,  description and cuisines"
   ]
  },
  {
   "cell_type": "code",
   "execution_count": 11,
   "id": "8c35a93f",
   "metadata": {},
   "outputs": [
    {
     "data": {
      "text/plain": [
       "(110617, 42)"
      ]
     },
     "execution_count": 11,
     "metadata": {},
     "output_type": "execute_result"
    }
   ],
   "source": [
    "restaurant_drop = data[(data['top_tags'].isna()) & (data['price_level'].isna())]\n",
    "restaurant_drop.shape"
   ]
  },
  {
   "cell_type": "code",
   "execution_count": 12,
   "id": "1f94c55c",
   "metadata": {},
   "outputs": [
    {
     "data": {
      "text/plain": [
       "NaN                                                            110634\n",
       "Mid-range, French                                               20211\n",
       "Mid-range                                                       19422\n",
       "Cheap Eats                                                      15864\n",
       "Mid-range, Italian                                              14363\n",
       "                                                                ...  \n",
       "Cheap Eats, Chinese, American, Asian                                1\n",
       "Quick Bites, Chinese, Fast food, Sushi                              1\n",
       "Bakeries, French, Spanish                                           1\n",
       "Mid-range, International, Catalan, Vegetarian Friendly              1\n",
       "Mid-range, Gastropub, Eastern European, Vegetarian Friendly         1\n",
       "Name: top_tags, Length: 39963, dtype: int64"
      ]
     },
     "execution_count": 12,
     "metadata": {},
     "output_type": "execute_result"
    }
   ],
   "source": [
    "data['top_tags'].value_counts(dropna = False)"
   ]
  },
  {
   "cell_type": "code",
   "execution_count": 13,
   "id": "3265c075",
   "metadata": {},
   "outputs": [
    {
     "data": {
      "text/plain": [
       "(110634, 42)"
      ]
     },
     "execution_count": 13,
     "metadata": {},
     "output_type": "execute_result"
    }
   ],
   "source": [
    "no_rating_restaurant = data[data['top_tags'].isna()]\n",
    "no_rating_restaurant.shape"
   ]
  },
  {
   "cell_type": "code",
   "execution_count": 14,
   "id": "8444ce9b",
   "metadata": {},
   "outputs": [],
   "source": [
    "#pokemon_games = df.loc[df['Name'].str.contains(\"pokemon\", case=False)]"
   ]
  },
  {
   "cell_type": "markdown",
   "id": "3fef96a8",
   "metadata": {},
   "source": [
    "## Its hard to fill out ratings without a description. These restaurants are a significant percentage of the data (10%). But even if i drop them, I still remain with enough sample data to build a recommender"
   ]
  },
  {
   "cell_type": "code",
   "execution_count": 15,
   "id": "7f25cf60",
   "metadata": {},
   "outputs": [
    {
     "data": {
      "text/plain": [
       "0.10211769092954845"
      ]
     },
     "execution_count": 15,
     "metadata": {},
     "output_type": "execute_result"
    }
   ],
   "source": [
    "len(no_rating_restaurant)/len(data)"
   ]
  },
  {
   "cell_type": "code",
   "execution_count": 16,
   "id": "8514aee9",
   "metadata": {},
   "outputs": [
    {
     "data": {
      "text/plain": [
       "(972763, 42)"
      ]
     },
     "execution_count": 16,
     "metadata": {},
     "output_type": "execute_result"
    }
   ],
   "source": [
    "data = data[~data['top_tags'].isna()]\n",
    "data.shape"
   ]
  },
  {
   "cell_type": "markdown",
   "id": "125a4b2d",
   "metadata": {},
   "source": [
    "## Remove bars and pubs"
   ]
  },
  {
   "cell_type": "code",
   "execution_count": 17,
   "id": "71b70225",
   "metadata": {},
   "outputs": [
    {
     "data": {
      "text/plain": [
       "(831905, 42)"
      ]
     },
     "execution_count": 17,
     "metadata": {},
     "output_type": "execute_result"
    }
   ],
   "source": [
    "data = data[~data['top_tags'].str.contains('pub', case = False)]\n",
    "data = data[~data['top_tags'].str.contains('bar', case = False)]\n",
    "data.shape"
   ]
  },
  {
   "cell_type": "markdown",
   "id": "9b4991a8",
   "metadata": {},
   "source": [
    "## Remove restaurants with no Cuisine specified"
   ]
  },
  {
   "cell_type": "code",
   "execution_count": 18,
   "id": "7a568d4f",
   "metadata": {},
   "outputs": [
    {
     "name": "stdout",
     "output_type": "stream",
     "text": [
      "(831905, 42)\n"
     ]
    },
    {
     "data": {
      "text/plain": [
       "(774358, 42)"
      ]
     },
     "execution_count": 18,
     "metadata": {},
     "output_type": "execute_result"
    }
   ],
   "source": [
    "print(data.shape)\n",
    "data = data[data['cuisines'].notnull()]\n",
    "data.shape"
   ]
  },
  {
   "cell_type": "code",
   "execution_count": 19,
   "id": "a04c2411",
   "metadata": {},
   "outputs": [
    {
     "data": {
      "text/plain": [
       "139834"
      ]
     },
     "execution_count": 19,
     "metadata": {},
     "output_type": "execute_result"
    }
   ],
   "source": [
    "data['price_level'].isna().sum()"
   ]
  },
  {
   "cell_type": "code",
   "execution_count": 20,
   "id": "4f5b0a94",
   "metadata": {},
   "outputs": [],
   "source": [
    "# conditions = [\n",
    "#     (df['Age'] < 20),\n",
    "#     (df['Age'] >= 20) & (df['Age'] < 40),\n",
    "#     (df['Age'] >= 40) & (df['Age'] < 59),\n",
    "#     (df['Age'] >= 60)\n",
    "# ]\n",
    "# values = ['<20 years old', '20-39 years old', '40-59 years old', '60+ years old']\n",
    "# df['Age Group'] = np.select(conditions, values)\n",
    "# print(df)"
   ]
  },
  {
   "cell_type": "code",
   "execution_count": 21,
   "id": "d60333d5",
   "metadata": {},
   "outputs": [
    {
     "data": {
      "text/plain": [
       "€€-€€€    421602\n",
       "€         188360\n",
       "NaN       139834\n",
       "€€€€       24562\n",
       "Name: price_level, dtype: int64"
      ]
     },
     "execution_count": 21,
     "metadata": {},
     "output_type": "execute_result"
    }
   ],
   "source": [
    "data['price_level'].value_counts(dropna = False)"
   ]
  },
  {
   "cell_type": "code",
   "execution_count": 22,
   "id": "a4f4a0d5",
   "metadata": {},
   "outputs": [
    {
     "data": {
      "text/plain": [
       "5.0    421602\n",
       "1.0    188360\n",
       "NaN    139834\n",
       "4.0     24562\n",
       "Name: price_level, dtype: int64"
      ]
     },
     "execution_count": 22,
     "metadata": {},
     "output_type": "execute_result"
    }
   ],
   "source": [
    "# Map Euro Counts to Numbers\n",
    "# To be done before assigning Null values ratings. If done after, it will map all values that are not present\n",
    "#in the mapping dictionary to NaN\n",
    "\n",
    "data['price_level'] = data['price_level'].map({'€€-€€€':5,'€€€€':4,'€':1})\n",
    "data['price_level'].value_counts(dropna = False)"
   ]
  },
  {
   "cell_type": "code",
   "execution_count": 23,
   "id": "993c4269",
   "metadata": {},
   "outputs": [],
   "source": [
    "# data = np.where(data['price_level'].isna(),label_rate(),data['price_level'])\n",
    "# data['price_level'].isna().sum()\n",
    "# data['price_level'] = data[data['price_level'].isna()].apply( data['cuisines'] : label_rate(data['cuisines']))"
   ]
  },
  {
   "cell_type": "code",
   "execution_count": 24,
   "id": "62d1d707",
   "metadata": {},
   "outputs": [],
   "source": [
    "#data[data['price_level'] == 1]"
   ]
  },
  {
   "cell_type": "code",
   "execution_count": 25,
   "id": "e63d030c",
   "metadata": {},
   "outputs": [
    {
     "data": {
      "text/plain": [
       "(139834, 42)"
      ]
     },
     "execution_count": 25,
     "metadata": {},
     "output_type": "execute_result"
    }
   ],
   "source": [
    "rest_without_rating = data[(data['price_level'].isna()) & (~data['top_tags'].isna())]\n",
    "rest_without_rating.shape"
   ]
  },
  {
   "cell_type": "code",
   "execution_count": 26,
   "id": "1d471f22",
   "metadata": {},
   "outputs": [
    {
     "data": {
      "text/plain": [
       "5.0    421602\n",
       "1.0    188360\n",
       "NaN    139834\n",
       "4.0     24562\n",
       "Name: price_level, dtype: int64"
      ]
     },
     "execution_count": 26,
     "metadata": {},
     "output_type": "execute_result"
    }
   ],
   "source": [
    "data['price_level'].value_counts(dropna = False)"
   ]
  },
  {
   "cell_type": "code",
   "execution_count": 27,
   "id": "ce9a51f6",
   "metadata": {},
   "outputs": [],
   "source": [
    "#rest_without_rating.to_csv(\"E:\\\\SKUL\\\\PROGRAMMING_SKULS\\\\ironhack\\\\COURSE\\\\Final-Year-Project\\\\Final Data\\\\ratings.csv\")"
   ]
  },
  {
   "cell_type": "code",
   "execution_count": 28,
   "id": "26ed3b6f",
   "metadata": {},
   "outputs": [
    {
     "data": {
      "text/plain": [
       "0.0"
      ]
     },
     "execution_count": 28,
     "metadata": {},
     "output_type": "execute_result"
    }
   ],
   "source": [
    "rest_without_rating['cuisines'].isna().sum()/len(rest_without_rating)"
   ]
  },
  {
   "cell_type": "markdown",
   "id": "3d5455b3",
   "metadata": {},
   "source": [
    "## Filling out ratings for restaurants without them\n",
    "### Assumptions \n",
    "    1.Every restaurant with the tags 'french','italian','german', 'european','portuguese','american','international' cuisines is considered good and allocated a 3-Star rating\n",
    "    2.Every restaurant with a cuisnine \"Street food\" is given a 1-Star rating"
   ]
  },
  {
   "cell_type": "code",
   "execution_count": 29,
   "id": "a46a5fcc",
   "metadata": {},
   "outputs": [],
   "source": [
    "# Function for assigning a rating to the restaurants\n",
    "\n",
    "three_star_labels = ['french','italian','german', 'european','portuguese','american','international','Japanese','Chinese']\n",
    "one_start_labels = ['street food','pizza']\n",
    "def label_rate(x):\n",
    "    x = x.lower()\n",
    "    if any(ext in x for ext in three_star_labels):\n",
    "        return 3\n",
    "    elif any(ext in x for ext in one_start_labels):\n",
    "        return 1\n",
    "    else:\n",
    "        return 2      \n",
    "    "
   ]
  },
  {
   "cell_type": "code",
   "execution_count": 30,
   "id": "1a5d8f2e",
   "metadata": {},
   "outputs": [],
   "source": [
    "# Get DF for restaurants without ratings but having cuisine types\n",
    "\n",
    "rest_without_rating = rest_without_rating[~rest_without_rating['cuisines'].isna()]\n",
    "rest_without_rating['price_level'] = rest_without_rating['cuisines'].apply(lambda x : label_rate(x))"
   ]
  },
  {
   "cell_type": "code",
   "execution_count": 31,
   "id": "e8018760",
   "metadata": {},
   "outputs": [
    {
     "data": {
      "text/plain": [
       "0"
      ]
     },
     "execution_count": 31,
     "metadata": {},
     "output_type": "execute_result"
    }
   ],
   "source": [
    "#rest_without_rating.to_csv(\"E:\\\\SKUL\\\\PROGRAMMING_SKULS\\\\ironhack\\\\COURSE\\\\Final-Year-Project\\\\Final Data\\\\ratings.csv\")\n",
    "rest_without_rating['price_level'].isna().sum()"
   ]
  },
  {
   "cell_type": "markdown",
   "id": "ce90ac18",
   "metadata": {},
   "source": [
    "### Combine the two dataframes and fill the NaN in the original data with the assigned ratings\n",
    "### After, delete the created dataframe to free up memory"
   ]
  },
  {
   "cell_type": "code",
   "execution_count": 32,
   "id": "3512cbc2",
   "metadata": {},
   "outputs": [],
   "source": [
    "#data.loc[rest_without_rating.index, :] = rest_without_rating[:]\n",
    "data = data.combine_first(rest_without_rating)\n",
    "del rest_without_rating"
   ]
  },
  {
   "cell_type": "code",
   "execution_count": 33,
   "id": "dd907e98",
   "metadata": {},
   "outputs": [
    {
     "name": "stdout",
     "output_type": "stream",
     "text": [
      "5.0    421602\n",
      "1.0    198355\n",
      "3.0     68170\n",
      "2.0     61669\n",
      "4.0     24562\n",
      "Name: price_level, dtype: int64\n"
     ]
    },
    {
     "data": {
      "text/plain": [
       "0"
      ]
     },
     "execution_count": 33,
     "metadata": {},
     "output_type": "execute_result"
    }
   ],
   "source": [
    "# Check if all NaN values have been filled out\n",
    "\n",
    "print(data['price_level'].value_counts(dropna = False))\n",
    "data['price_level'].isna().sum()"
   ]
  },
  {
   "cell_type": "code",
   "execution_count": 34,
   "id": "c6d64b8c",
   "metadata": {},
   "outputs": [],
   "source": [
    "#data.iloc[:1000].to_csv(\"E:\\\\SKUL\\\\PROGRAMMING_SKULS\\\\ironhack\\\\COURSE\\\\Final-Year-Project\\\\Final Data\\\\mydata.csv\")"
   ]
  },
  {
   "cell_type": "code",
   "execution_count": 35,
   "id": "b88a252e",
   "metadata": {},
   "outputs": [
    {
     "data": {
      "text/plain": [
       "(774358, 42)"
      ]
     },
     "execution_count": 35,
     "metadata": {},
     "output_type": "execute_result"
    }
   ],
   "source": [
    "data.shape"
   ]
  },
  {
   "cell_type": "markdown",
   "id": "5bdc7f31",
   "metadata": {},
   "source": [
    "# We have lost over 30% of our original data in this phase of data cleaning. I need a minimum of 500k restaurants"
   ]
  },
  {
   "cell_type": "markdown",
   "id": "3bdac00f",
   "metadata": {},
   "source": [
    "## Cleaning the meals column"
   ]
  },
  {
   "cell_type": "code",
   "execution_count": 36,
   "id": "f5073e6d",
   "metadata": {},
   "outputs": [
    {
     "data": {
      "text/plain": [
       "0.39024843806094855"
      ]
     },
     "execution_count": 36,
     "metadata": {},
     "output_type": "execute_result"
    }
   ],
   "source": [
    "data['meals'].isna().sum()/len(data)"
   ]
  },
  {
   "cell_type": "markdown",
   "id": "b8d60ad3",
   "metadata": {},
   "source": [
    "### About 39% of restaurants do not specify meal types\n",
    "### We removed all pubs, bars and those serving only breakfast\n",
    "### Safe to assume all our remaining restaurants atleast serve both lunch and dinner\n",
    "### Fill all NaN in meals with Lunch, Dinner"
   ]
  },
  {
   "cell_type": "code",
   "execution_count": 37,
   "id": "20817d18",
   "metadata": {},
   "outputs": [
    {
     "data": {
      "text/plain": [
       "0"
      ]
     },
     "execution_count": 37,
     "metadata": {},
     "output_type": "execute_result"
    }
   ],
   "source": [
    "data['meals'] = data['meals'].fillna('Lunch, Dinner')\n",
    "data['meals'].isna().sum()"
   ]
  },
  {
   "cell_type": "markdown",
   "id": "bc2ceb2d",
   "metadata": {},
   "source": [
    "## Filter the restaurants that have bars\n",
    "### Create column 'bar' with 1 - for restautants whose meals include the word 'Drinks' and 0 - for those that dont"
   ]
  },
  {
   "cell_type": "code",
   "execution_count": 38,
   "id": "a75bf06b",
   "metadata": {},
   "outputs": [],
   "source": [
    "# def with_bar(x):\n",
    "#     if 'drinks' in x.lower():\n",
    "#         return 1\n",
    "#     else:\n",
    "#         return 0"
   ]
  },
  {
   "cell_type": "code",
   "execution_count": 39,
   "id": "e300da42",
   "metadata": {},
   "outputs": [],
   "source": [
    "# data['bar'] = data['meals'].apply(lambda x: with_bar(x))\n",
    "# data['bar'].value_counts(dropna = False)"
   ]
  },
  {
   "cell_type": "code",
   "execution_count": 40,
   "id": "551708d5",
   "metadata": {},
   "outputs": [],
   "source": [
    "# bar_list = ['alcohol', 'bar']\n",
    "# regstr = '|'.join(bar_list)\n",
    "# data['xx'] = data['features'].str.lower().str.contains(regstr)\n",
    "# data['xx'].head()"
   ]
  },
  {
   "cell_type": "code",
   "execution_count": 41,
   "id": "19bb752f",
   "metadata": {},
   "outputs": [],
   "source": [
    "data['features'] = data['features'].astype(str)"
   ]
  },
  {
   "cell_type": "markdown",
   "id": "fce7ae40",
   "metadata": {},
   "source": [
    "## Fileter out restaurants that have won awards\n",
    "### Over 73% of restaurants have never won an award\n",
    "### Count Number of awards by counting the commas that appear in the string and add 1"
   ]
  },
  {
   "cell_type": "code",
   "execution_count": 42,
   "id": "7bb7e854",
   "metadata": {},
   "outputs": [
    {
     "data": {
      "text/plain": [
       "0.73"
      ]
     },
     "execution_count": 42,
     "metadata": {},
     "output_type": "execute_result"
    }
   ],
   "source": [
    "round(data['awards'].isna().sum()/len(data),2)"
   ]
  },
  {
   "cell_type": "code",
   "execution_count": 43,
   "id": "ce8c4fe1",
   "metadata": {},
   "outputs": [
    {
     "data": {
      "text/plain": [
       "568207"
      ]
     },
     "execution_count": 43,
     "metadata": {},
     "output_type": "execute_result"
    }
   ],
   "source": [
    "data['awards'].isna().sum()"
   ]
  },
  {
   "cell_type": "code",
   "execution_count": 44,
   "id": "0c47fa90",
   "metadata": {},
   "outputs": [
    {
     "data": {
      "text/plain": [
       "dtype('O')"
      ]
     },
     "execution_count": 44,
     "metadata": {},
     "output_type": "execute_result"
    }
   ],
   "source": [
    "data['awards'].dtypes"
   ]
  },
  {
   "cell_type": "code",
   "execution_count": 45,
   "id": "5229a5ee",
   "metadata": {},
   "outputs": [],
   "source": [
    "def awards(x):    \n",
    "    if x!= 0:\n",
    "        x = str(x)\n",
    "        return (x.count(\",\")+1)\n",
    "    else:\n",
    "        return 0"
   ]
  },
  {
   "cell_type": "code",
   "execution_count": 46,
   "id": "312e3ad6",
   "metadata": {},
   "outputs": [
    {
     "data": {
      "text/plain": [
       "0     568207\n",
       "2      40174\n",
       "1      38247\n",
       "3      34357\n",
       "4      25068\n",
       "5      19606\n",
       "6      16858\n",
       "7      12740\n",
       "8       9143\n",
       "9       5785\n",
       "10      2909\n",
       "11      1254\n",
       "12        10\n",
       "Name: awards, dtype: int64"
      ]
     },
     "execution_count": 46,
     "metadata": {},
     "output_type": "execute_result"
    }
   ],
   "source": [
    "#ASK JAN WHY I CANT FILL NaN WITH 0\n",
    "data['awards'].fillna(0, inplace = True)\n",
    "data['awards'] = data['awards'].apply(lambda x: awards(x))\n",
    "data['awards'].value_counts(dropna = False)"
   ]
  },
  {
   "cell_type": "code",
   "execution_count": 47,
   "id": "c327e332",
   "metadata": {},
   "outputs": [
    {
     "data": {
      "text/plain": [
       "568207"
      ]
     },
     "execution_count": 47,
     "metadata": {},
     "output_type": "execute_result"
    }
   ],
   "source": [
    "len(data[data['awards'] == 0])\n",
    "#.replace(np.nan, 0)"
   ]
  },
  {
   "cell_type": "code",
   "execution_count": 48,
   "id": "f0d45718",
   "metadata": {},
   "outputs": [
    {
     "data": {
      "text/plain": [
       "0"
      ]
     },
     "execution_count": 48,
     "metadata": {},
     "output_type": "execute_result"
    }
   ],
   "source": [
    "data['awards'].isna().sum()"
   ]
  },
  {
   "cell_type": "code",
   "execution_count": 49,
   "id": "efdb468b",
   "metadata": {},
   "outputs": [
    {
     "data": {
      "text/plain": [
       "(428762, 42)"
      ]
     },
     "execution_count": 49,
     "metadata": {},
     "output_type": "execute_result"
    }
   ],
   "source": [
    "all_data = data[~data['original_open_hours'].isna()]\n",
    "all_data.shape"
   ]
  },
  {
   "cell_type": "markdown",
   "id": "50c9c25a",
   "metadata": {},
   "source": [
    "## Encoding 'features' Column\n",
    "## My PC ran out of memory when i attempted to use onehot Encoding"
   ]
  },
  {
   "cell_type": "code",
   "execution_count": 50,
   "id": "505f1860",
   "metadata": {},
   "outputs": [],
   "source": [
    "data['reservations'] = np.where(data['features'].str.contains(\"Reservations\", case=False, na=False), 1, 0)\n",
    "data['seating'] = np.where(data['features'].str.contains(\"Seating\", case=False, na=False), 1, 0)\n",
    "data['wheel_chair'] = np.where(data['features'].str.contains(\"Wheelchair Accessible\", case=False, na=False), 1, 0)\n",
    "data['alcohol'] = np.where(data['features'].str.contains(\"Serves Alcohol\", case=False, na=False), 1, 0)\n",
    "data['credit_cards'] = np.where(data['features'].str.contains(\"Accepts Credit Cards\", case=False, na=False), 1, 0)\n",
    "data['table_service'] = np.where(data['features'].str.contains(\"Table Service\", case=False, na=False), 1, 0)\n",
    "data['takeout'] = np.where(data['features'].str.contains(\"Takeout\", case=False, na=False), 1, 0)\n",
    "data['outdoor'] = np.where(data['features'].str.contains(\"Outdoor Seating\", case=False, na=False), 1, 0)\n",
    "data['delivery'] = np.where(data['features'].str.contains(\"Delivery\", case=False, na=False), 1, 0)\n",
    "data['wifi'] = np.where(data['features'].str.contains(\"Free Wifi\", case=False, na=False), 1, 0)\n",
    "data['highchair'] = np.where(data['features'].str.contains(\"Highchairs Available\", case=False, na=False), 1, 0)\n",
    "data['full_bar'] = np.where(data['features'].str.contains(\"Full Bar\", case=False, na=False), 1, 0)\n",
    "data['parking'] = np.where(data['features'].str.contains(\"Parking Available\", case=False, na=False), 1, 0)\n",
    "data['street_parking'] = np.where(data['features'].str.contains(\"Free off-street parking\", case=False, na=False), 1, 0)"
   ]
  },
  {
   "cell_type": "code",
   "execution_count": 51,
   "id": "54084251",
   "metadata": {},
   "outputs": [],
   "source": [
    "#numerical = data.select_dtypes(include = np.number)\n",
    "#numerical.columns"
   ]
  },
  {
   "cell_type": "markdown",
   "id": "d087f2bb",
   "metadata": {},
   "source": [
    "## Encoding 'original_open_hours' column. Its a dictionary with keys (days of week) and value (open hours)"
   ]
  },
  {
   "cell_type": "markdown",
   "id": "d0d73727",
   "metadata": {},
   "source": [
    "### Program reads it as a string. Convert values from string to a dictionary\n",
    "### Assign all restaurants with no time specified uniform hours"
   ]
  },
  {
   "cell_type": "code",
   "execution_count": 52,
   "id": "2f9dcb26",
   "metadata": {},
   "outputs": [],
   "source": [
    "#data['original_open_hours'].value_counts(dropna = False)"
   ]
  },
  {
   "cell_type": "code",
   "execution_count": 53,
   "id": "d38fcaf7",
   "metadata": {},
   "outputs": [
    {
     "data": {
      "text/plain": [
       "'\\n{\"Mon\": [\"00:00-23:59\"], \"Tue\": [\"00:00-23:59\"], \"Wed\": [\"00:00-23:59\"], \"Thu\": [\"00:00-23:59\"], \\n \"Fri\": [\"00:00-23:59\"], \"Sat\": [\"00:00-23:59\"], \"Sun\": [\"00:00-23:59\"]}\\n'"
      ]
     },
     "execution_count": 53,
     "metadata": {},
     "output_type": "execute_result"
    }
   ],
   "source": [
    "# Below is the most commonly occuring working hours \n",
    "\n",
    "\"\"\"\n",
    "{\"Mon\": [\"00:00-23:59\"], \"Tue\": [\"00:00-23:59\"], \"Wed\": [\"00:00-23:59\"], \"Thu\": [\"00:00-23:59\"], \n",
    " \"Fri\": [\"00:00-23:59\"], \"Sat\": [\"00:00-23:59\"], \"Sun\": [\"00:00-23:59\"]}\n",
    "\"\"\""
   ]
  },
  {
   "cell_type": "code",
   "execution_count": null,
   "id": "61e70198",
   "metadata": {},
   "outputs": [],
   "source": []
  },
  {
   "cell_type": "code",
   "execution_count": 54,
   "id": "ac671e80",
   "metadata": {},
   "outputs": [],
   "source": [
    "import ast\n",
    "x = {\"Mon\": [\"00:00-23:59\"], \"Tue\": [\"00:00-23:59\"], \"Wed\": [\"00:00-23:59\"], \"Thu\": [\"00:00-23:59\"],\"Fri\": [\"00:00-23:59\"], \"Sat\": [\"00:00-23:59\"], \"Sun\": [\"00:00-23:59\"]}  \n",
    "#x = {\"Mon\": [\"09:00-14:30\"], \"Tue\": [\"09:00-14:30\", \"19:00-21:30\"], \"Wed\": [\"09:00-14:30\", \"19:00-21:30\"], \"Thu\": [\"09:00-14:30\", \"19:00-21:30\"], \"Fri\": [\"09:00-14:30\", \"19:00-22:00\"], \"Sat\": [\"09:00-14:30\", \"19:00-22:00\"], \"Sun\": [\"09:00-16:00\"]}\n",
    "x = str(x)\n",
    "x = x.replace('\"\"', \"''\")\n",
    "def convert_dict(l):\n",
    "    if l != 0:\n",
    "      return ast.literal_eval(l)  \n",
    "    else:       \n",
    "        return ast.literal_eval(x)"
   ]
  },
  {
   "cell_type": "code",
   "execution_count": 55,
   "id": "89db2eed",
   "metadata": {},
   "outputs": [],
   "source": [
    "data['original_open_hours'].fillna(0, inplace = True)\n",
    "data['original_open_hours'] = data['original_open_hours'].apply(lambda l : convert_dict(l))"
   ]
  },
  {
   "cell_type": "markdown",
   "id": "1c37680e",
   "metadata": {},
   "source": [
    "## Fill out 'open_days_per_week' and 'open_hours_per_week' columns based on values\n",
    "## in the 'original_open_hours' column\n",
    "## For the assigned hours and from data exploration, days_per_week = 7, hours_per_week = 84 and working shifts = 7"
   ]
  },
  {
   "cell_type": "code",
   "execution_count": 56,
   "id": "75fc028e",
   "metadata": {},
   "outputs": [
    {
     "data": {
      "text/plain": [
       "0    7.0\n",
       "2    7.0\n",
       "3    7.0\n",
       "4    7.0\n",
       "5    7.0\n",
       "Name: open_days_per_week, dtype: float64"
      ]
     },
     "execution_count": 56,
     "metadata": {},
     "output_type": "execute_result"
    }
   ],
   "source": [
    "ll = {\"Mon\": [\"00:00-23:59\"], \"Tue\": [\"00:00-23:59\"], \"Wed\": [\"00:00-23:59\"], \"Thu\": [\"00:00-23:59\"],\"Fri\": [\"00:00-23:59\"], \"Sat\": [\"00:00-23:59\"], \"Sun\": [\"00:00-23:59\"]} \n",
    "data['open_days_per_week'] = np.where(data['original_open_hours'] == ll,7,data['open_days_per_week'])\n",
    "data['open_days_per_week'].head()"
   ]
  },
  {
   "cell_type": "code",
   "execution_count": 57,
   "id": "385ef8cc",
   "metadata": {},
   "outputs": [
    {
     "data": {
      "text/plain": [
       "0    84.0\n",
       "2    84.0\n",
       "3    84.0\n",
       "4    84.0\n",
       "5    53.5\n",
       "Name: open_hours_per_week, dtype: float64"
      ]
     },
     "execution_count": 57,
     "metadata": {},
     "output_type": "execute_result"
    }
   ],
   "source": [
    "data['open_hours_per_week'] = np.where(data['original_open_hours'] == ll,84,data['open_hours_per_week'])\n",
    "data['open_hours_per_week'].head()"
   ]
  },
  {
   "cell_type": "code",
   "execution_count": 58,
   "id": "6766807f",
   "metadata": {},
   "outputs": [
    {
     "data": {
      "text/plain": [
       "0     7.0\n",
       "2     7.0\n",
       "3     7.0\n",
       "4     7.0\n",
       "5    12.0\n",
       "Name: working_shifts_per_week, dtype: float64"
      ]
     },
     "execution_count": 58,
     "metadata": {},
     "output_type": "execute_result"
    }
   ],
   "source": [
    "data['working_shifts_per_week'] = np.where(data['original_open_hours'] == ll,7,data['working_shifts_per_week'])\n",
    "data['working_shifts_per_week'].head()"
   ]
  },
  {
   "cell_type": "code",
   "execution_count": 59,
   "id": "fc483525",
   "metadata": {},
   "outputs": [],
   "source": [
    "#df = data[data['original_open_hours'] != 0]\n",
    "#df['Mon'] = df['original_open_hours'].apply(lambda x : x['Mon'])"
   ]
  },
  {
   "cell_type": "code",
   "execution_count": 60,
   "id": "0c0a560b",
   "metadata": {},
   "outputs": [],
   "source": [
    "data['mon'] = data['original_open_hours'].apply(lambda x : x['Mon'])\n",
    "data['tue'] = data['original_open_hours'].apply(lambda x : x['Tue'])\n",
    "data['wed'] = data['original_open_hours'].apply(lambda x : x['Wed'])\n",
    "data['thur'] = data['original_open_hours'].apply(lambda x : x['Thu'])\n",
    "data['fri'] = data['original_open_hours'].apply(lambda x : x['Fri'])\n",
    "data['sat'] = data['original_open_hours'].apply(lambda x : x['Sat'])\n",
    "data['sun'] = data['original_open_hours'].apply(lambda x : x['Sun'])"
   ]
  },
  {
   "cell_type": "code",
   "execution_count": 61,
   "id": "8626b45e",
   "metadata": {},
   "outputs": [
    {
     "data": {
      "text/html": [
       "<div>\n",
       "<style scoped>\n",
       "    .dataframe tbody tr th:only-of-type {\n",
       "        vertical-align: middle;\n",
       "    }\n",
       "\n",
       "    .dataframe tbody tr th {\n",
       "        vertical-align: top;\n",
       "    }\n",
       "\n",
       "    .dataframe thead th {\n",
       "        text-align: right;\n",
       "    }\n",
       "</style>\n",
       "<table border=\"1\" class=\"dataframe\">\n",
       "  <thead>\n",
       "    <tr style=\"text-align: right;\">\n",
       "      <th></th>\n",
       "      <th>mon</th>\n",
       "      <th>tue</th>\n",
       "      <th>wed</th>\n",
       "    </tr>\n",
       "  </thead>\n",
       "  <tbody>\n",
       "    <tr>\n",
       "      <th>0</th>\n",
       "      <td>[00:00-23:59]</td>\n",
       "      <td>[00:00-23:59]</td>\n",
       "      <td>[00:00-23:59]</td>\n",
       "    </tr>\n",
       "    <tr>\n",
       "      <th>2</th>\n",
       "      <td>[00:00-23:59]</td>\n",
       "      <td>[00:00-23:59]</td>\n",
       "      <td>[00:00-23:59]</td>\n",
       "    </tr>\n",
       "    <tr>\n",
       "      <th>3</th>\n",
       "      <td>[00:00-23:59]</td>\n",
       "      <td>[00:00-23:59]</td>\n",
       "      <td>[00:00-23:59]</td>\n",
       "    </tr>\n",
       "    <tr>\n",
       "      <th>4</th>\n",
       "      <td>[00:00-23:59]</td>\n",
       "      <td>[00:00-23:59]</td>\n",
       "      <td>[00:00-23:59]</td>\n",
       "    </tr>\n",
       "    <tr>\n",
       "      <th>5</th>\n",
       "      <td>[09:00-14:30]</td>\n",
       "      <td>[09:00-14:30, 19:00-21:30]</td>\n",
       "      <td>[09:00-14:30, 19:00-21:30]</td>\n",
       "    </tr>\n",
       "  </tbody>\n",
       "</table>\n",
       "</div>"
      ],
      "text/plain": [
       "             mon                         tue                         wed\n",
       "0  [00:00-23:59]               [00:00-23:59]               [00:00-23:59]\n",
       "2  [00:00-23:59]               [00:00-23:59]               [00:00-23:59]\n",
       "3  [00:00-23:59]               [00:00-23:59]               [00:00-23:59]\n",
       "4  [00:00-23:59]               [00:00-23:59]               [00:00-23:59]\n",
       "5  [09:00-14:30]  [09:00-14:30, 19:00-21:30]  [09:00-14:30, 19:00-21:30]"
      ]
     },
     "execution_count": 61,
     "metadata": {},
     "output_type": "execute_result"
    }
   ],
   "source": [
    "data[['mon','tue','wed']].head()"
   ]
  },
  {
   "cell_type": "markdown",
   "id": "776b2736",
   "metadata": {},
   "source": [
    "# Encoding 'default_language' column\n",
    "## Using Web scrapping to get official languages of European countries from Wikipedia\n",
    "## Assign restaurants the official country language of the countries where they are located\n",
    "### Over 47,000 restaurants are not assigned a language "
   ]
  },
  {
   "cell_type": "code",
   "execution_count": 62,
   "id": "d788b96b",
   "metadata": {},
   "outputs": [
    {
     "data": {
      "text/plain": [
       "English          522125\n",
       "All languages    204381\n",
       "NaN               47852\n",
       "Name: default_language, dtype: int64"
      ]
     },
     "execution_count": 62,
     "metadata": {},
     "output_type": "execute_result"
    }
   ],
   "source": [
    "data['default_language'].value_counts(dropna = False)"
   ]
  },
  {
   "cell_type": "code",
   "execution_count": 63,
   "id": "df2235ca",
   "metadata": {},
   "outputs": [],
   "source": [
    "import requests\n",
    "from bs4 import BeautifulSoup\n"
   ]
  },
  {
   "cell_type": "code",
   "execution_count": 64,
   "id": "af453563",
   "metadata": {},
   "outputs": [],
   "source": [
    "uri = 'https://en.wikipedia.org/wiki/Languages_of_the_European_Union'\n",
    "response = requests.get(uri)\n",
    "soup = BeautifulSoup(response.content, 'html.parser')\n",
    "#soup"
   ]
  },
  {
   "cell_type": "code",
   "execution_count": 65,
   "id": "b9eaa980",
   "metadata": {},
   "outputs": [],
   "source": [
    "countries = []\n",
    "languages = []\n",
    "for i in range(3,27):\n",
    "    language  =(soup.select(\"#mw-content-text > div.mw-parser-output > table:nth-child(16) > tbody > tr:nth-child(\" + str(i) + \") > td:nth-child(1) > a\")[0].text)\n",
    "    country = soup.select(\"#mw-content-text > div.mw-parser-output > table:nth-child(16) > tbody > tr:nth-child(\" + str(i) + \") > td:nth-child(2)\")[0].text.replace('\\n','')\n",
    "    #count = len(country.split()) --> DOES NOT WORK. SOME COUNTRIES HAVE DOUBLE SPACES\n",
    "    count = country.count(' ')   \n",
    "    if count > 1 and 'Czech' not in country:\n",
    "        countries.append(country.split())\n",
    "        languages.append(language)\n",
    "    else:\n",
    "        languages.append(language)\n",
    "        countries.append(country)\n"
   ]
  },
  {
   "cell_type": "code",
   "execution_count": 66,
   "id": "db2bcfeb",
   "metadata": {},
   "outputs": [
    {
     "name": "stdout",
     "output_type": "stream",
     "text": [
      "['Bulgarian', 'Croatian', 'Czech', 'Danish', 'Dutch', 'English', 'Estonian', 'Finnish', 'French', 'German', 'Greek', 'Hungarian', 'Irish', 'Italian', 'Latvian', 'Lithuanian', 'Maltese', 'Polish', 'Portuguese', 'Romanian', 'Slovak', 'Slovene', 'Spanish', 'Swedish']\n",
      "['Bulgaria', 'Croatia', 'Czech Republic', 'Denmark', ['Belgium', 'Netherlands'], ['Ireland', 'Malta'], 'Estonia', 'Finland', ['Belgium', 'France', 'Luxembourg'], ['Austria', 'Belgium', 'Germany', 'Luxembourg'], ['Cyprus', 'Greece'], 'Hungary', 'Ireland', 'Italy', 'Latvia', 'Lithuania', 'Malta', 'Poland', 'Portugal', 'Romania', 'Slovakia', 'Slovenia', 'Spain', ['Sweden', 'Finland']]\n"
     ]
    }
   ],
   "source": [
    "print(languages)\n",
    "print(countries)"
   ]
  },
  {
   "cell_type": "markdown",
   "id": "7f48bac9",
   "metadata": {},
   "source": [
    "## Cleaning the lists\n",
    "### There are languages spoken by multiple countries\n",
    "###  Belgium and Finland have more than one official language\n",
    "### Countries that appear more than twice are assigned the last instance where they appear (Ireland & Malta)"
   ]
  },
  {
   "cell_type": "code",
   "execution_count": 67,
   "id": "e5a912fa",
   "metadata": {},
   "outputs": [],
   "source": [
    "countries_and_languages = {}\n",
    "for country in countries:\n",
    "    for language in languages:\n",
    "        if isinstance(country, list) == True:\n",
    "            for i in range(len(country)):\n",
    "                countries_and_languages[country[i]] = language\n",
    "            languages.remove(language)\n",
    "            break\n",
    "            \n",
    "        else:\n",
    "            countries_and_languages[country] = language\n",
    "            languages.remove(language)\n",
    "            break\n",
    "        "
   ]
  },
  {
   "cell_type": "markdown",
   "id": "84723249",
   "metadata": {},
   "source": [
    "### The UK, Scotland, Wales and Northern Ireland are not part of the European Union but i want to include them in recommender\n",
    "### Fortunately, they all speak the same language. Will append them to the language dictionary"
   ]
  },
  {
   "cell_type": "code",
   "execution_count": 68,
   "id": "023bafe1",
   "metadata": {},
   "outputs": [
    {
     "data": {
      "text/plain": [
       "{'Bulgaria': 'Bulgarian',\n",
       " 'Croatia': 'Croatian',\n",
       " 'Czech Republic': 'Czech',\n",
       " 'Denmark': 'Danish',\n",
       " 'Belgium': 'German',\n",
       " 'Netherlands': 'Dutch',\n",
       " 'Ireland': 'Irish',\n",
       " 'Malta': 'Maltese',\n",
       " 'Estonia': 'Estonian',\n",
       " 'Finland': 'Swedish',\n",
       " 'France': 'French',\n",
       " 'Luxembourg': 'German',\n",
       " 'Austria': 'German',\n",
       " 'Germany': 'German',\n",
       " 'Cyprus': 'Greek',\n",
       " 'Greece': 'Greek',\n",
       " 'Hungary': 'Hungarian',\n",
       " 'Italy': 'Italian',\n",
       " 'Latvia': 'Latvian',\n",
       " 'Lithuania': 'Lithuanian',\n",
       " 'Poland': 'Polish',\n",
       " 'Portugal': 'Portuguese',\n",
       " 'Romania': 'Romanian',\n",
       " 'Slovakia': 'Slovak',\n",
       " 'Slovenia': 'Slovene',\n",
       " 'Spain': 'Spanish',\n",
       " 'Sweden': 'Swedish',\n",
       " 'England': 'English',\n",
       " 'Scotland': 'English',\n",
       " 'Wales': 'English',\n",
       " 'Northern Ireland': 'English'}"
      ]
     },
     "execution_count": 68,
     "metadata": {},
     "output_type": "execute_result"
    }
   ],
   "source": [
    "uk_countries = ['England','Scotland','Wales','Northern Ireland']\n",
    "for country in uk_countries:\n",
    "    countries_and_languages[country] = 'English'\n",
    "countries_and_languages"
   ]
  },
  {
   "cell_type": "markdown",
   "id": "7bfd3cd5",
   "metadata": {},
   "source": [
    "### I am populating a column based on values of another column\n",
    "### Create a new dataframe, fill the NaN in 'default_language' column based on values in the 'country' column\n",
    "### There are no NaNs in the 'country' column"
   ]
  },
  {
   "cell_type": "code",
   "execution_count": 69,
   "id": "c02312ab",
   "metadata": {},
   "outputs": [
    {
     "data": {
      "text/plain": [
       "0"
      ]
     },
     "metadata": {},
     "output_type": "display_data"
    },
    {
     "data": {
      "text/plain": [
       "47852"
      ]
     },
     "execution_count": 69,
     "metadata": {},
     "output_type": "execute_result"
    }
   ],
   "source": [
    "# Check for NaN in 'country' column\n",
    "display(data['country'].isna().sum())\n",
    "country_data = data[data['default_language'].isna()]\n",
    "len(country_data)"
   ]
  },
  {
   "cell_type": "code",
   "execution_count": 70,
   "id": "3f86ad8d",
   "metadata": {},
   "outputs": [],
   "source": [
    "def clean_country(x):\n",
    "    if x == 'The Netherlands':\n",
    "        return 'Netherlands'\n",
    "    else:\n",
    "        return x"
   ]
  },
  {
   "cell_type": "code",
   "execution_count": 71,
   "id": "453fd6c9",
   "metadata": {},
   "outputs": [
    {
     "name": "stderr",
     "output_type": "stream",
     "text": [
      "C:\\Users\\KIMERA\\AppData\\Local\\Temp/ipykernel_9052/3065780036.py:1: SettingWithCopyWarning: \n",
      "A value is trying to be set on a copy of a slice from a DataFrame.\n",
      "Try using .loc[row_indexer,col_indexer] = value instead\n",
      "\n",
      "See the caveats in the documentation: https://pandas.pydata.org/pandas-docs/stable/user_guide/indexing.html#returning-a-view-versus-a-copy\n",
      "  country_data['country'] = country_data['country'].apply(lambda x : clean_country(x))\n"
     ]
    },
    {
     "data": {
      "text/plain": [
       "Spain               7631\n",
       "Italy               7239\n",
       "France              5549\n",
       "Germany             5410\n",
       "England             5153\n",
       "Poland              2130\n",
       "Portugal            2085\n",
       "Greece              1959\n",
       "Netherlands         1428\n",
       "Czech Republic      1218\n",
       "Austria             1128\n",
       "Romania             1085\n",
       "Belgium             1067\n",
       "Sweden               830\n",
       "Hungary              494\n",
       "Finland              492\n",
       "Ireland              491\n",
       "Denmark              465\n",
       "Bulgaria             450\n",
       "Slovakia             422\n",
       "Scotland             405\n",
       "Croatia              355\n",
       "Wales                244\n",
       "Northern Ireland     122\n",
       "Name: country, dtype: int64"
      ]
     },
     "execution_count": 71,
     "metadata": {},
     "output_type": "execute_result"
    }
   ],
   "source": [
    "country_data['country'] = country_data['country'].apply(lambda x : clean_country(x))\n",
    "country_data['country'].value_counts(dropna = False)"
   ]
  },
  {
   "cell_type": "code",
   "execution_count": 72,
   "id": "7cc9663e",
   "metadata": {},
   "outputs": [],
   "source": [
    "def languages(x):\n",
    "    #x = str(x)\n",
    "    return countries_and_languages[x]"
   ]
  },
  {
   "cell_type": "code",
   "execution_count": 73,
   "id": "d8b4cef6",
   "metadata": {},
   "outputs": [
    {
     "name": "stderr",
     "output_type": "stream",
     "text": [
      "C:\\Users\\KIMERA\\AppData\\Local\\Temp/ipykernel_9052/3434592492.py:1: SettingWithCopyWarning: \n",
      "A value is trying to be set on a copy of a slice from a DataFrame.\n",
      "Try using .loc[row_indexer,col_indexer] = value instead\n",
      "\n",
      "See the caveats in the documentation: https://pandas.pydata.org/pandas-docs/stable/user_guide/indexing.html#returning-a-view-versus-a-copy\n",
      "  country_data['default_language'] = country_data['country'].apply(lambda x : countries_and_languages[x])\n"
     ]
    }
   ],
   "source": [
    "country_data['default_language'] = country_data['country'].apply(lambda x : countries_and_languages[x])"
   ]
  },
  {
   "cell_type": "code",
   "execution_count": 74,
   "id": "2c2e1b87",
   "metadata": {},
   "outputs": [
    {
     "data": {
      "text/plain": [
       "Spanish       7631\n",
       "German        7605\n",
       "Italian       7239\n",
       "English       5924\n",
       "French        5549\n",
       "Polish        2130\n",
       "Portuguese    2085\n",
       "Greek         1959\n",
       "Dutch         1428\n",
       "Swedish       1322\n",
       "Czech         1218\n",
       "Romanian      1085\n",
       "Hungarian      494\n",
       "Irish          491\n",
       "Danish         465\n",
       "Bulgarian      450\n",
       "Slovak         422\n",
       "Croatian       355\n",
       "Name: default_language, dtype: int64"
      ]
     },
     "execution_count": 74,
     "metadata": {},
     "output_type": "execute_result"
    }
   ],
   "source": [
    "country_data['default_language'].value_counts(dropna = False)"
   ]
  },
  {
   "cell_type": "markdown",
   "id": "089e8a1d",
   "metadata": {},
   "source": [
    "### Merge the two dataframes \n",
    "### After, delete the 'country_data' dataframe o save memory"
   ]
  },
  {
   "cell_type": "code",
   "execution_count": 75,
   "id": "e8c1347f",
   "metadata": {},
   "outputs": [
    {
     "data": {
      "text/plain": [
       "0"
      ]
     },
     "execution_count": 75,
     "metadata": {},
     "output_type": "execute_result"
    }
   ],
   "source": [
    "data = data.combine_first(country_data)\n",
    "len(data[data['default_language'].isna()])"
   ]
  },
  {
   "cell_type": "code",
   "execution_count": 76,
   "id": "3324f4a8",
   "metadata": {},
   "outputs": [],
   "source": [
    "del country_data"
   ]
  },
  {
   "cell_type": "markdown",
   "id": "f5e1a95a",
   "metadata": {},
   "source": [
    "## Cleaning the Average rating column\n",
    "### Only 6% of restaurants do not have ratings\n",
    "### Its small enough to be filled with the mean value"
   ]
  },
  {
   "cell_type": "code",
   "execution_count": 77,
   "id": "392f2d10",
   "metadata": {},
   "outputs": [
    {
     "data": {
      "text/plain": [
       "0.06321107291459506"
      ]
     },
     "execution_count": 77,
     "metadata": {},
     "output_type": "execute_result"
    }
   ],
   "source": [
    "data['avg_rating'].isna().sum()/len(data)"
   ]
  },
  {
   "cell_type": "code",
   "execution_count": 78,
   "id": "3796184b",
   "metadata": {},
   "outputs": [
    {
     "data": {
      "text/plain": [
       "0.0"
      ]
     },
     "execution_count": 78,
     "metadata": {},
     "output_type": "execute_result"
    }
   ],
   "source": [
    "data['avg_rating'].fillna(np.mean(data['avg_rating']), inplace = True)\n",
    "data['avg_rating'].isna().sum()/len(data)"
   ]
  },
  {
   "cell_type": "markdown",
   "id": "d4a1f591",
   "metadata": {},
   "source": [
    "## Check for NaN in the various reviews columns\n",
    "### All columns have the same percentage of NaN values (6%)\n",
    "### It is assumed that these restaurants have just not received any reviews"
   ]
  },
  {
   "cell_type": "code",
   "execution_count": 79,
   "id": "94856696",
   "metadata": {},
   "outputs": [
    {
     "data": {
      "text/plain": [
       "reviews_count_in_default_language    0.06\n",
       "excellent                            0.06\n",
       "very_good                            0.06\n",
       "average                              0.06\n",
       "poor                                 0.06\n",
       "terrible                             0.06\n",
       "dtype: float64"
      ]
     },
     "execution_count": 79,
     "metadata": {},
     "output_type": "execute_result"
    }
   ],
   "source": [
    "reviews_df = data[['reviews_count_in_default_language','excellent','very_good','average','poor','terrible']]\n",
    "round(reviews_df.isna().sum()/len(data),2)"
   ]
  },
  {
   "cell_type": "code",
   "execution_count": 80,
   "id": "d8f47240",
   "metadata": {},
   "outputs": [],
   "source": [
    "# DELETE DATAFRAME TO SAVE MEMORY\n",
    "del reviews_df"
   ]
  },
  {
   "cell_type": "markdown",
   "id": "73894a2c",
   "metadata": {},
   "source": [
    "## Processing Vegan Options"
   ]
  },
  {
   "cell_type": "code",
   "execution_count": 81,
   "id": "3dd102d3",
   "metadata": {},
   "outputs": [],
   "source": [
    "vegans_columns = ['vegetarian_friendly','vegan_options','gluten_free']\n",
    "for col in vegans_columns:\n",
    "    data[col] = data[col].map({'Y':1,'N':0})\n"
   ]
  },
  {
   "cell_type": "code",
   "execution_count": 82,
   "id": "ba302e56",
   "metadata": {},
   "outputs": [
    {
     "data": {
      "text/plain": [
       "0    661754\n",
       "1    112604\n",
       "Name: vegan_options, dtype: int64"
      ]
     },
     "execution_count": 82,
     "metadata": {},
     "output_type": "execute_result"
    }
   ],
   "source": [
    "\n",
    "data['vegan_options'].value_counts(dropna = False)"
   ]
  },
  {
   "cell_type": "code",
   "execution_count": 83,
   "id": "7cad7cb6",
   "metadata": {},
   "outputs": [
    {
     "data": {
      "text/plain": [
       "0    678507\n",
       "1     95851\n",
       "Name: gluten_free, dtype: int64"
      ]
     },
     "execution_count": 83,
     "metadata": {},
     "output_type": "execute_result"
    }
   ],
   "source": [
    "data['gluten_free'].value_counts(dropna = False)"
   ]
  },
  {
   "cell_type": "code",
   "execution_count": 84,
   "id": "ac9e1051",
   "metadata": {},
   "outputs": [
    {
     "data": {
      "text/plain": [
       "0    508622\n",
       "1    265736\n",
       "Name: vegetarian_friendly, dtype: int64"
      ]
     },
     "execution_count": 84,
     "metadata": {},
     "output_type": "execute_result"
    }
   ],
   "source": [
    "data['vegetarian_friendly'].value_counts(dropna = False)"
   ]
  },
  {
   "cell_type": "markdown",
   "id": "c4710062",
   "metadata": {},
   "source": [
    "## Process the Claimed Column\n",
    "### Claimed - Restaurant owners manages the account, post new content and respond to reviews\n",
    "### Unclaimed - The account is unmanaged and reviews do not get responses\n",
    "### Over 52.8% of restaurants are unclaimed"
   ]
  },
  {
   "cell_type": "code",
   "execution_count": 85,
   "id": "6e451fa3",
   "metadata": {},
   "outputs": [
    {
     "data": {
      "text/plain": [
       "0.528628877082693"
      ]
     },
     "execution_count": 85,
     "metadata": {},
     "output_type": "execute_result"
    }
   ],
   "source": [
    "unclaimed_perc = len(data[data['claimed'] == 'Unclaimed'])/len(data)\n",
    "unclaimed_perc"
   ]
  },
  {
   "cell_type": "code",
   "execution_count": 86,
   "id": "9f8db2c1",
   "metadata": {},
   "outputs": [
    {
     "data": {
      "text/plain": [
       "0    409348\n",
       "1    365010\n",
       "Name: claimed, dtype: int64"
      ]
     },
     "execution_count": 86,
     "metadata": {},
     "output_type": "execute_result"
    }
   ],
   "source": [
    "data['claimed'] = data['claimed'].map({'Claimed':1,'Unclaimed':0})\n",
    "data['claimed'].value_counts(dropna = False)"
   ]
  },
  {
   "cell_type": "code",
   "execution_count": 87,
   "id": "4a8a340f",
   "metadata": {},
   "outputs": [],
   "source": [
    "#data.iloc[:1000].to_csv(\"E:\\\\SKUL\\\\PROGRAMMING_SKULS\\\\ironhack\\\\COURSE\\\\Final-Year-Project\\\\Final Data\\\\mydata.csv\")"
   ]
  },
  {
   "cell_type": "code",
   "execution_count": 88,
   "id": "04419a5d",
   "metadata": {},
   "outputs": [
    {
     "data": {
      "text/plain": [
       "dtype('O')"
      ]
     },
     "execution_count": 88,
     "metadata": {},
     "output_type": "execute_result"
    }
   ],
   "source": [
    "data['price_range'].dtypes"
   ]
  },
  {
   "cell_type": "markdown",
   "id": "af21ce73",
   "metadata": {},
   "source": [
    "# USING MACHINE LEARNING\n",
    "## Applying Linear Regression to predict and fillout the missing values in the 'lower_limit' column"
   ]
  },
  {
   "cell_type": "code",
   "execution_count": 89,
   "id": "c515ecf4",
   "metadata": {},
   "outputs": [
    {
     "data": {
      "text/plain": [
       "0       NaN\n",
       "2       NaN\n",
       "3       NaN\n",
       "4       NaN\n",
       "5     14-29\n",
       "6      8-17\n",
       "7     10-35\n",
       "8     12-26\n",
       "10      NaN\n",
       "11      NaN\n",
       "Name: price_range, dtype: object"
      ]
     },
     "execution_count": 89,
     "metadata": {},
     "output_type": "execute_result"
    }
   ],
   "source": [
    "# REPLACE THE EUROS SIGN\n",
    "data['price_range'] = data['price_range'].str.replace('€','')\n",
    "data['price_range'].iloc[:10]"
   ]
  },
  {
   "cell_type": "code",
   "execution_count": 90,
   "id": "f7710fc2",
   "metadata": {},
   "outputs": [
    {
     "data": {
      "text/plain": [
       "0     nan\n",
       "2     nan\n",
       "3     nan\n",
       "4     nan\n",
       "5      14\n",
       "6       8\n",
       "7      10\n",
       "8      12\n",
       "10    nan\n",
       "11    nan\n",
       "Name: lower_limit, dtype: object"
      ]
     },
     "execution_count": 90,
     "metadata": {},
     "output_type": "execute_result"
    }
   ],
   "source": [
    "# GET THE LOWER LIMIT\n",
    "data['lower_limit'] = data['price_range'].apply(lambda x : str(x).split('-')[0])\n",
    "data['lower_limit'].head(10)"
   ]
  },
  {
   "cell_type": "markdown",
   "id": "33d6431f",
   "metadata": {},
   "source": [
    "## Switzerland doesnot use EUROS. Swiss use Swiss Francs\n",
    "### Processing the swiss francs"
   ]
  },
  {
   "cell_type": "code",
   "execution_count": 91,
   "id": "edc82567",
   "metadata": {},
   "outputs": [],
   "source": [
    "def swiss_francs(x):\n",
    "    y = str(x)\n",
    "    if 'CHF' in y:\n",
    "        # Keep the last two characters on the string\n",
    "        m = y[-2:]\n",
    "        #m = y.replace(\"CHF\"+\"\\\\xa\",\"\")\n",
    "        z = int(m) * 0.96\n",
    "        return z\n",
    "    else:\n",
    "        return y\n",
    "data['lower_limit'] = data['lower_limit'].apply(lambda x: swiss_francs(x))\n",
    "data['lower_limit'] = data['lower_limit'].apply(lambda x: str(x).replace(\",\",\"\"))\n",
    "data['lower_limit'] = data['lower_limit'].astype(float).round(2)"
   ]
  },
  {
   "cell_type": "markdown",
   "id": "3a6abc2b",
   "metadata": {},
   "source": [
    "### Convert 'nan' back to proper NaN => Its just a text"
   ]
  },
  {
   "cell_type": "code",
   "execution_count": 92,
   "id": "cad52d26",
   "metadata": {},
   "outputs": [
    {
     "data": {
      "text/plain": [
       "0     NaN\n",
       "2     NaN\n",
       "3     NaN\n",
       "4     NaN\n",
       "5    14.0\n",
       "6     8.0\n",
       "7    10.0\n",
       "Name: lower_limit, dtype: float64"
      ]
     },
     "execution_count": 92,
     "metadata": {},
     "output_type": "execute_result"
    }
   ],
   "source": [
    "data['lower_limit'] = data['lower_limit'].replace('nan',np.nan)\n",
    "data['lower_limit'].head(7)"
   ]
  },
  {
   "cell_type": "code",
   "execution_count": 93,
   "id": "365a5e41",
   "metadata": {},
   "outputs": [
    {
     "data": {
      "text/plain": [
       "530295"
      ]
     },
     "execution_count": 93,
     "metadata": {},
     "output_type": "execute_result"
    }
   ],
   "source": [
    "data['lower_limit'].isna().sum()"
   ]
  },
  {
   "cell_type": "code",
   "execution_count": 94,
   "id": "c0f4c7a0",
   "metadata": {},
   "outputs": [
    {
     "data": {
      "text/plain": [
       "5.0       26766\n",
       "10.0      25050\n",
       "2.0       22750\n",
       "3.0       20751\n",
       "6.0       15319\n",
       "          ...  \n",
       "1390.0        1\n",
       "583.0         1\n",
       "743.0         1\n",
       "1212.0        1\n",
       "174.0         1\n",
       "Name: lower_limit, Length: 371, dtype: int64"
      ]
     },
     "execution_count": 94,
     "metadata": {},
     "output_type": "execute_result"
    }
   ],
   "source": [
    "data['lower_limit'].value_counts()"
   ]
  },
  {
   "cell_type": "code",
   "execution_count": 95,
   "id": "1db9bb9d",
   "metadata": {},
   "outputs": [
    {
     "data": {
      "text/plain": [
       "dtype('float64')"
      ]
     },
     "execution_count": 95,
     "metadata": {},
     "output_type": "execute_result"
    }
   ],
   "source": [
    "#data['lower_limit'].fillna(0, inplace = True)\n",
    "#data['lower_limit'] = data['lower_limit'].astype(float)\n",
    "data['lower_limit'].dtypes"
   ]
  },
  {
   "cell_type": "markdown",
   "id": "3c407b35",
   "metadata": {},
   "source": [
    "## Fillout 100k rows to be used in training the ML model"
   ]
  },
  {
   "cell_type": "code",
   "execution_count": 96,
   "id": "53fa3ba1",
   "metadata": {},
   "outputs": [
    {
     "data": {
      "text/plain": [
       "5.0    421602\n",
       "1.0    198355\n",
       "3.0     68170\n",
       "2.0     61669\n",
       "4.0     24562\n",
       "Name: price_level, dtype: int64"
      ]
     },
     "execution_count": 96,
     "metadata": {},
     "output_type": "execute_result"
    }
   ],
   "source": [
    "data['price_level'].value_counts()"
   ]
  },
  {
   "cell_type": "markdown",
   "id": "bcd6b392",
   "metadata": {},
   "source": [
    "## Getting mean of various ratings (from 5-start to 1-star)"
   ]
  },
  {
   "cell_type": "code",
   "execution_count": 97,
   "id": "6b407b04",
   "metadata": {},
   "outputs": [
    {
     "data": {
      "text/plain": [
       "(100000, 64)"
      ]
     },
     "execution_count": 97,
     "metadata": {},
     "output_type": "execute_result"
    }
   ],
   "source": [
    "data_copy = data.iloc[:100000]\n",
    "data_copy.shape"
   ]
  },
  {
   "cell_type": "code",
   "execution_count": 98,
   "id": "46e289c1",
   "metadata": {},
   "outputs": [
    {
     "name": "stderr",
     "output_type": "stream",
     "text": [
      "C:\\Users\\KIMERA\\AppData\\Local\\Temp/ipykernel_9052/1769149559.py:1: SettingWithCopyWarning: \n",
      "A value is trying to be set on a copy of a slice from a DataFrame.\n",
      "Try using .loc[row_indexer,col_indexer] = value instead\n",
      "\n",
      "See the caveats in the documentation: https://pandas.pydata.org/pandas-docs/stable/user_guide/indexing.html#returning-a-view-versus-a-copy\n",
      "  data_copy['lower_limit'] = data_copy['lower_limit'].replace('nan',np.nan)\n"
     ]
    }
   ],
   "source": [
    "data_copy['lower_limit'] = data_copy['lower_limit'].replace('nan',np.nan)"
   ]
  },
  {
   "cell_type": "code",
   "execution_count": 99,
   "id": "8116037a",
   "metadata": {},
   "outputs": [
    {
     "data": {
      "text/plain": [
       "11.429796312869152"
      ]
     },
     "execution_count": 99,
     "metadata": {},
     "output_type": "execute_result"
    }
   ],
   "source": [
    "five_mean = np.mean(data_copy['lower_limit'][(data_copy['price_level']== 5.0) & (~data_copy['lower_limit'].isna())])\n",
    "five_mean"
   ]
  },
  {
   "cell_type": "code",
   "execution_count": 100,
   "id": "c55da4f1",
   "metadata": {},
   "outputs": [
    {
     "data": {
      "text/plain": [
       "31.078733252131553"
      ]
     },
     "execution_count": 100,
     "metadata": {},
     "output_type": "execute_result"
    }
   ],
   "source": [
    "four_mean = np.mean(data_copy['lower_limit'][(data_copy['price_level']== 4.0) & (~data_copy['lower_limit'].isna())])\n",
    "four_mean"
   ]
  },
  {
   "cell_type": "code",
   "execution_count": 101,
   "id": "ffcaf178",
   "metadata": {},
   "outputs": [
    {
     "data": {
      "text/plain": [
       "11.606060606060606"
      ]
     },
     "execution_count": 101,
     "metadata": {},
     "output_type": "execute_result"
    }
   ],
   "source": [
    "three_mean = np.mean(data_copy['lower_limit'][(data_copy['price_level']== 3.0) & (~data_copy['lower_limit'].isna())])\n",
    "three_mean"
   ]
  },
  {
   "cell_type": "code",
   "execution_count": 102,
   "id": "3463a6d2",
   "metadata": {},
   "outputs": [
    {
     "data": {
      "text/plain": [
       "8.0"
      ]
     },
     "execution_count": 102,
     "metadata": {},
     "output_type": "execute_result"
    }
   ],
   "source": [
    "two_mean = np.mean(data_copy['lower_limit'][(data_copy['price_level']== 2.0) & (~data_copy['lower_limit'].isna())])\n",
    "two_mean"
   ]
  },
  {
   "cell_type": "code",
   "execution_count": 103,
   "id": "b88a7ae6",
   "metadata": {},
   "outputs": [
    {
     "data": {
      "text/plain": [
       "6.53869061413673"
      ]
     },
     "execution_count": 103,
     "metadata": {},
     "output_type": "execute_result"
    }
   ],
   "source": [
    "one_mean = np.mean(data_copy['lower_limit'][(data_copy['price_level']== 1.0) & (~data_copy['lower_limit'].isna())])\n",
    "one_mean"
   ]
  },
  {
   "cell_type": "markdown",
   "id": "d5acd15f",
   "metadata": {},
   "source": [
    "## Fill all NaN with the respective mean depending on the value in the 'price_level' column"
   ]
  },
  {
   "cell_type": "code",
   "execution_count": 104,
   "id": "07ccb35e",
   "metadata": {},
   "outputs": [],
   "source": [
    "def fill_out(x):\n",
    "    if x == 5.0:\n",
    "        return five_mean\n",
    "    if x == 4.0:\n",
    "        return four_mean\n",
    "    if x == 3.0:\n",
    "        return three_mean\n",
    "    if x == 2.0:\n",
    "        return two_mean\n",
    "    if x == 1.0:\n",
    "        return one_mean"
   ]
  },
  {
   "cell_type": "code",
   "execution_count": 105,
   "id": "e03a6e7d",
   "metadata": {},
   "outputs": [
    {
     "data": {
      "text/plain": [
       "62659"
      ]
     },
     "execution_count": 105,
     "metadata": {},
     "output_type": "execute_result"
    }
   ],
   "source": [
    "# CREATE DATAFRAME WHERE 'lower_limit' IS NaN\n",
    "null_df = data_copy[data_copy['lower_limit'].isna()]\n",
    "len(null_df)"
   ]
  },
  {
   "cell_type": "code",
   "execution_count": 106,
   "id": "63768312",
   "metadata": {},
   "outputs": [
    {
     "name": "stderr",
     "output_type": "stream",
     "text": [
      "C:\\Users\\KIMERA\\AppData\\Local\\Temp/ipykernel_9052/1183878958.py:1: SettingWithCopyWarning: \n",
      "A value is trying to be set on a copy of a slice from a DataFrame.\n",
      "Try using .loc[row_indexer,col_indexer] = value instead\n",
      "\n",
      "See the caveats in the documentation: https://pandas.pydata.org/pandas-docs/stable/user_guide/indexing.html#returning-a-view-versus-a-copy\n",
      "  null_df['lower_limit'] = null_df['price_level'].apply(lambda x: fill_out(x))\n"
     ]
    },
    {
     "data": {
      "text/plain": [
       "0      6.538691\n",
       "2      6.538691\n",
       "3      6.538691\n",
       "4     11.429796\n",
       "10    11.429796\n",
       "11     6.538691\n",
       "12     8.000000\n",
       "13    11.606061\n",
       "16    11.429796\n",
       "17    11.429796\n",
       "Name: lower_limit, dtype: float64"
      ]
     },
     "execution_count": 106,
     "metadata": {},
     "output_type": "execute_result"
    }
   ],
   "source": [
    "null_df['lower_limit'] = null_df['price_level'].apply(lambda x: fill_out(x))\n",
    "null_df['lower_limit'].iloc[:10]"
   ]
  },
  {
   "cell_type": "markdown",
   "id": "ece8fe39",
   "metadata": {},
   "source": [
    "## Merge the Dataframe\n",
    "### Note: After the merge, All NaN are filled"
   ]
  },
  {
   "cell_type": "code",
   "execution_count": 107,
   "id": "ecc9c618",
   "metadata": {},
   "outputs": [],
   "source": [
    "data_copy = data_copy.combine_first(null_df)\n",
    "del null_df"
   ]
  },
  {
   "cell_type": "code",
   "execution_count": 108,
   "id": "03540368",
   "metadata": {},
   "outputs": [
    {
     "data": {
      "text/plain": [
       "0"
      ]
     },
     "execution_count": 108,
     "metadata": {},
     "output_type": "execute_result"
    }
   ],
   "source": [
    "data_copy['lower_limit'].isna().sum()"
   ]
  },
  {
   "cell_type": "markdown",
   "id": "75a254ce",
   "metadata": {},
   "source": [
    "# MODEL EXPLAINED\n",
    "### I will train the model on the first 100k rows of data where all the NaN in the target variable (lower_limit) are filled out\n",
    "### I will predict the empty values in the remaining rows that are empty"
   ]
  },
  {
   "cell_type": "code",
   "execution_count": 114,
   "id": "9f13df17",
   "metadata": {},
   "outputs": [
    {
     "name": "stdout",
     "output_type": "stream",
     "text": [
      "(100000, 38)\n"
     ]
    },
    {
     "data": {
      "text/plain": [
       "Index(['latitude', 'longitude', 'claimed', 'awards', 'price_level',\n",
       "       'vegetarian_friendly', 'vegan_options', 'gluten_free',\n",
       "       'open_days_per_week', 'open_hours_per_week', 'working_shifts_per_week',\n",
       "       'avg_rating', 'total_reviews_count',\n",
       "       'reviews_count_in_default_language', 'excellent', 'very_good',\n",
       "       'average', 'poor', 'terrible', 'food', 'service', 'value', 'atmosphere',\n",
       "       'reservations', 'seating', 'wheel_chair', 'alcohol', 'credit_cards',\n",
       "       'table_service', 'takeout', 'outdoor', 'delivery', 'wifi', 'highchair',\n",
       "       'full_bar', 'parking', 'street_parking', 'lower_limit'],\n",
       "      dtype='object')"
      ]
     },
     "execution_count": 114,
     "metadata": {},
     "output_type": "execute_result"
    }
   ],
   "source": [
    "# USE ALL NUMERICAL COLUMNS\n",
    "numericals = data_copy.select_dtypes(include = np.number)\n",
    "print(numericals.shape)\n",
    "numericals.columns"
   ]
  },
  {
   "cell_type": "code",
   "execution_count": 115,
   "id": "964349fb",
   "metadata": {},
   "outputs": [
    {
     "name": "stdout",
     "output_type": "stream",
     "text": [
      "FOUND IT\n"
     ]
    }
   ],
   "source": [
    "if 'lower_limit' in numericals.columns:\n",
    "    print(\"FOUND IT\")"
   ]
  },
  {
   "cell_type": "markdown",
   "id": "a7b4ab78",
   "metadata": {},
   "source": [
    "## NORMALIZE THE NUMERICAL DATA USING MINMAXSCALER\n",
    "### We have a number of columns with only 0 & 1. They will not be affected by the transformer"
   ]
  },
  {
   "cell_type": "code",
   "execution_count": 116,
   "id": "04c1fcb0",
   "metadata": {},
   "outputs": [
    {
     "name": "stderr",
     "output_type": "stream",
     "text": [
      "C:\\Users\\KIMERA\\.conda\\envs\\iron_hack_DA\\lib\\site-packages\\pandas\\core\\frame.py:5176: SettingWithCopyWarning: \n",
      "A value is trying to be set on a copy of a slice from a DataFrame\n",
      "\n",
      "See the caveats in the documentation: https://pandas.pydata.org/pandas-docs/stable/user_guide/indexing.html#returning-a-view-versus-a-copy\n",
      "  return super().fillna(\n"
     ]
    },
    {
     "data": {
      "text/plain": [
       "latitude                             0\n",
       "longitude                            0\n",
       "claimed                              0\n",
       "awards                               0\n",
       "price_level                          0\n",
       "vegetarian_friendly                  0\n",
       "vegan_options                        0\n",
       "gluten_free                          0\n",
       "open_days_per_week                   0\n",
       "open_hours_per_week                  0\n",
       "working_shifts_per_week              0\n",
       "avg_rating                           0\n",
       "total_reviews_count                  0\n",
       "reviews_count_in_default_language    0\n",
       "excellent                            0\n",
       "very_good                            0\n",
       "average                              0\n",
       "poor                                 0\n",
       "terrible                             0\n",
       "food                                 0\n",
       "service                              0\n",
       "value                                0\n",
       "atmosphere                           0\n",
       "reservations                         0\n",
       "seating                              0\n",
       "wheel_chair                          0\n",
       "alcohol                              0\n",
       "credit_cards                         0\n",
       "table_service                        0\n",
       "takeout                              0\n",
       "outdoor                              0\n",
       "delivery                             0\n",
       "wifi                                 0\n",
       "highchair                            0\n",
       "full_bar                             0\n",
       "parking                              0\n",
       "street_parking                       0\n",
       "lower_limit                          0\n",
       "dtype: int64"
      ]
     },
     "execution_count": 116,
     "metadata": {},
     "output_type": "execute_result"
    }
   ],
   "source": [
    "# FILL NaN WITH ZEROS\n",
    "\n",
    "numericals.fillna(0, inplace = True)\n",
    "numericals.isna().sum()"
   ]
  },
  {
   "cell_type": "code",
   "execution_count": 117,
   "id": "49d12ccb",
   "metadata": {},
   "outputs": [
    {
     "name": "stdout",
     "output_type": "stream",
     "text": [
      "(100000, 38)\n"
     ]
    },
    {
     "data": {
      "text/html": [
       "<div>\n",
       "<style scoped>\n",
       "    .dataframe tbody tr th:only-of-type {\n",
       "        vertical-align: middle;\n",
       "    }\n",
       "\n",
       "    .dataframe tbody tr th {\n",
       "        vertical-align: top;\n",
       "    }\n",
       "\n",
       "    .dataframe thead th {\n",
       "        text-align: right;\n",
       "    }\n",
       "</style>\n",
       "<table border=\"1\" class=\"dataframe\">\n",
       "  <thead>\n",
       "    <tr style=\"text-align: right;\">\n",
       "      <th></th>\n",
       "      <th>latitude</th>\n",
       "      <th>longitude</th>\n",
       "      <th>claimed</th>\n",
       "      <th>awards</th>\n",
       "      <th>price_level</th>\n",
       "      <th>vegetarian_friendly</th>\n",
       "      <th>vegan_options</th>\n",
       "      <th>gluten_free</th>\n",
       "      <th>open_days_per_week</th>\n",
       "      <th>open_hours_per_week</th>\n",
       "      <th>...</th>\n",
       "      <th>table_service</th>\n",
       "      <th>takeout</th>\n",
       "      <th>outdoor</th>\n",
       "      <th>delivery</th>\n",
       "      <th>wifi</th>\n",
       "      <th>highchair</th>\n",
       "      <th>full_bar</th>\n",
       "      <th>parking</th>\n",
       "      <th>street_parking</th>\n",
       "      <th>lower_limit</th>\n",
       "    </tr>\n",
       "  </thead>\n",
       "  <tbody>\n",
       "    <tr>\n",
       "      <th>0</th>\n",
       "      <td>0.899694</td>\n",
       "      <td>0.427901</td>\n",
       "      <td>1.0</td>\n",
       "      <td>0.000000</td>\n",
       "      <td>0.0</td>\n",
       "      <td>0.0</td>\n",
       "      <td>0.0</td>\n",
       "      <td>0.0</td>\n",
       "      <td>1.0</td>\n",
       "      <td>0.505263</td>\n",
       "      <td>...</td>\n",
       "      <td>1.0</td>\n",
       "      <td>0.0</td>\n",
       "      <td>0.0</td>\n",
       "      <td>0.0</td>\n",
       "      <td>0.0</td>\n",
       "      <td>0.0</td>\n",
       "      <td>0.0</td>\n",
       "      <td>0.0</td>\n",
       "      <td>0.0</td>\n",
       "      <td>0.003846</td>\n",
       "    </tr>\n",
       "    <tr>\n",
       "      <th>1</th>\n",
       "      <td>0.912892</td>\n",
       "      <td>0.442717</td>\n",
       "      <td>1.0</td>\n",
       "      <td>0.000000</td>\n",
       "      <td>0.0</td>\n",
       "      <td>0.0</td>\n",
       "      <td>0.0</td>\n",
       "      <td>0.0</td>\n",
       "      <td>1.0</td>\n",
       "      <td>0.505263</td>\n",
       "      <td>...</td>\n",
       "      <td>1.0</td>\n",
       "      <td>0.0</td>\n",
       "      <td>0.0</td>\n",
       "      <td>0.0</td>\n",
       "      <td>0.0</td>\n",
       "      <td>0.0</td>\n",
       "      <td>0.0</td>\n",
       "      <td>0.0</td>\n",
       "      <td>0.0</td>\n",
       "      <td>0.003846</td>\n",
       "    </tr>\n",
       "    <tr>\n",
       "      <th>2</th>\n",
       "      <td>0.893449</td>\n",
       "      <td>0.472644</td>\n",
       "      <td>1.0</td>\n",
       "      <td>0.000000</td>\n",
       "      <td>0.0</td>\n",
       "      <td>0.0</td>\n",
       "      <td>0.0</td>\n",
       "      <td>0.0</td>\n",
       "      <td>1.0</td>\n",
       "      <td>0.505263</td>\n",
       "      <td>...</td>\n",
       "      <td>1.0</td>\n",
       "      <td>0.0</td>\n",
       "      <td>0.0</td>\n",
       "      <td>0.0</td>\n",
       "      <td>0.0</td>\n",
       "      <td>0.0</td>\n",
       "      <td>0.0</td>\n",
       "      <td>0.0</td>\n",
       "      <td>0.0</td>\n",
       "      <td>0.003846</td>\n",
       "    </tr>\n",
       "    <tr>\n",
       "      <th>3</th>\n",
       "      <td>0.865383</td>\n",
       "      <td>0.550205</td>\n",
       "      <td>0.0</td>\n",
       "      <td>0.000000</td>\n",
       "      <td>1.0</td>\n",
       "      <td>0.0</td>\n",
       "      <td>0.0</td>\n",
       "      <td>0.0</td>\n",
       "      <td>1.0</td>\n",
       "      <td>0.505263</td>\n",
       "      <td>...</td>\n",
       "      <td>1.0</td>\n",
       "      <td>0.0</td>\n",
       "      <td>0.0</td>\n",
       "      <td>0.0</td>\n",
       "      <td>0.0</td>\n",
       "      <td>0.0</td>\n",
       "      <td>0.0</td>\n",
       "      <td>0.0</td>\n",
       "      <td>0.0</td>\n",
       "      <td>0.006723</td>\n",
       "    </tr>\n",
       "    <tr>\n",
       "      <th>4</th>\n",
       "      <td>0.903769</td>\n",
       "      <td>0.611335</td>\n",
       "      <td>1.0</td>\n",
       "      <td>0.181818</td>\n",
       "      <td>1.0</td>\n",
       "      <td>0.0</td>\n",
       "      <td>0.0</td>\n",
       "      <td>0.0</td>\n",
       "      <td>1.0</td>\n",
       "      <td>0.321805</td>\n",
       "      <td>...</td>\n",
       "      <td>0.0</td>\n",
       "      <td>0.0</td>\n",
       "      <td>0.0</td>\n",
       "      <td>0.0</td>\n",
       "      <td>0.0</td>\n",
       "      <td>0.0</td>\n",
       "      <td>0.0</td>\n",
       "      <td>0.0</td>\n",
       "      <td>0.0</td>\n",
       "      <td>0.008235</td>\n",
       "    </tr>\n",
       "  </tbody>\n",
       "</table>\n",
       "<p>5 rows × 38 columns</p>\n",
       "</div>"
      ],
      "text/plain": [
       "   latitude  longitude  claimed    awards  price_level  vegetarian_friendly  \\\n",
       "0  0.899694   0.427901      1.0  0.000000          0.0                  0.0   \n",
       "1  0.912892   0.442717      1.0  0.000000          0.0                  0.0   \n",
       "2  0.893449   0.472644      1.0  0.000000          0.0                  0.0   \n",
       "3  0.865383   0.550205      0.0  0.000000          1.0                  0.0   \n",
       "4  0.903769   0.611335      1.0  0.181818          1.0                  0.0   \n",
       "\n",
       "   vegan_options  gluten_free  open_days_per_week  open_hours_per_week  ...  \\\n",
       "0            0.0          0.0                 1.0             0.505263  ...   \n",
       "1            0.0          0.0                 1.0             0.505263  ...   \n",
       "2            0.0          0.0                 1.0             0.505263  ...   \n",
       "3            0.0          0.0                 1.0             0.505263  ...   \n",
       "4            0.0          0.0                 1.0             0.321805  ...   \n",
       "\n",
       "   table_service  takeout  outdoor  delivery  wifi  highchair  full_bar  \\\n",
       "0            1.0      0.0      0.0       0.0   0.0        0.0       0.0   \n",
       "1            1.0      0.0      0.0       0.0   0.0        0.0       0.0   \n",
       "2            1.0      0.0      0.0       0.0   0.0        0.0       0.0   \n",
       "3            1.0      0.0      0.0       0.0   0.0        0.0       0.0   \n",
       "4            0.0      0.0      0.0       0.0   0.0        0.0       0.0   \n",
       "\n",
       "   parking  street_parking  lower_limit  \n",
       "0      0.0             0.0     0.003846  \n",
       "1      0.0             0.0     0.003846  \n",
       "2      0.0             0.0     0.003846  \n",
       "3      0.0             0.0     0.006723  \n",
       "4      0.0             0.0     0.008235  \n",
       "\n",
       "[5 rows x 38 columns]"
      ]
     },
     "execution_count": 117,
     "metadata": {},
     "output_type": "execute_result"
    }
   ],
   "source": [
    "from sklearn.preprocessing import MinMaxScaler\n",
    "kimera = MinMaxScaler().fit(numericals)\n",
    "x_normalized = kimera.transform(numericals)\n",
    "print(x_normalized.shape)\n",
    "x_normalized = pd.DataFrame(x_normalized,columns=numericals.columns)\n",
    "x_normalized.head()"
   ]
  },
  {
   "cell_type": "code",
   "execution_count": 118,
   "id": "6a77dea1",
   "metadata": {},
   "outputs": [],
   "source": [
    "# import statsmodels.api as sm\n",
    "# X_added_constant = sm.add_constant(X)\n",
    "# model = sm.OLS(y,X_added_constant).fit()\n",
    "# model.summary()"
   ]
  },
  {
   "cell_type": "code",
   "execution_count": 119,
   "id": "49e3a204",
   "metadata": {},
   "outputs": [
    {
     "data": {
      "text/html": [
       "<div>\n",
       "<style scoped>\n",
       "    .dataframe tbody tr th:only-of-type {\n",
       "        vertical-align: middle;\n",
       "    }\n",
       "\n",
       "    .dataframe tbody tr th {\n",
       "        vertical-align: top;\n",
       "    }\n",
       "\n",
       "    .dataframe thead th {\n",
       "        text-align: right;\n",
       "    }\n",
       "</style>\n",
       "<table border=\"1\" class=\"dataframe\">\n",
       "  <thead>\n",
       "    <tr style=\"text-align: right;\">\n",
       "      <th></th>\n",
       "      <th>latitude</th>\n",
       "      <th>longitude</th>\n",
       "      <th>claimed</th>\n",
       "      <th>awards</th>\n",
       "      <th>price_level</th>\n",
       "      <th>vegetarian_friendly</th>\n",
       "      <th>vegan_options</th>\n",
       "      <th>gluten_free</th>\n",
       "      <th>open_days_per_week</th>\n",
       "      <th>open_hours_per_week</th>\n",
       "      <th>...</th>\n",
       "      <th>table_service</th>\n",
       "      <th>takeout</th>\n",
       "      <th>outdoor</th>\n",
       "      <th>delivery</th>\n",
       "      <th>wifi</th>\n",
       "      <th>highchair</th>\n",
       "      <th>full_bar</th>\n",
       "      <th>parking</th>\n",
       "      <th>street_parking</th>\n",
       "      <th>lower_limit</th>\n",
       "    </tr>\n",
       "  </thead>\n",
       "  <tbody>\n",
       "    <tr>\n",
       "      <th>latitude</th>\n",
       "      <td>1.000000</td>\n",
       "      <td>0.085452</td>\n",
       "      <td>-0.086900</td>\n",
       "      <td>-0.060695</td>\n",
       "      <td>-0.017829</td>\n",
       "      <td>0.042016</td>\n",
       "      <td>0.002491</td>\n",
       "      <td>-0.025305</td>\n",
       "      <td>-0.017770</td>\n",
       "      <td>-0.082877</td>\n",
       "      <td>...</td>\n",
       "      <td>-0.116168</td>\n",
       "      <td>0.038789</td>\n",
       "      <td>-0.075352</td>\n",
       "      <td>0.038415</td>\n",
       "      <td>-0.025298</td>\n",
       "      <td>0.004884</td>\n",
       "      <td>-0.050717</td>\n",
       "      <td>-0.000250</td>\n",
       "      <td>-0.006408</td>\n",
       "      <td>-0.001230</td>\n",
       "    </tr>\n",
       "    <tr>\n",
       "      <th>longitude</th>\n",
       "      <td>0.085452</td>\n",
       "      <td>1.000000</td>\n",
       "      <td>-0.026390</td>\n",
       "      <td>-0.031669</td>\n",
       "      <td>-0.001033</td>\n",
       "      <td>0.018781</td>\n",
       "      <td>-0.031190</td>\n",
       "      <td>-0.060981</td>\n",
       "      <td>0.057570</td>\n",
       "      <td>0.099648</td>\n",
       "      <td>...</td>\n",
       "      <td>-0.066099</td>\n",
       "      <td>-0.058796</td>\n",
       "      <td>-0.017562</td>\n",
       "      <td>-0.036783</td>\n",
       "      <td>-0.018926</td>\n",
       "      <td>-0.056237</td>\n",
       "      <td>-0.063490</td>\n",
       "      <td>-0.006628</td>\n",
       "      <td>0.004303</td>\n",
       "      <td>-0.003307</td>\n",
       "    </tr>\n",
       "    <tr>\n",
       "      <th>claimed</th>\n",
       "      <td>-0.086900</td>\n",
       "      <td>-0.026390</td>\n",
       "      <td>1.000000</td>\n",
       "      <td>0.336812</td>\n",
       "      <td>0.232755</td>\n",
       "      <td>0.292623</td>\n",
       "      <td>0.273276</td>\n",
       "      <td>0.297433</td>\n",
       "      <td>-0.280925</td>\n",
       "      <td>-0.333542</td>\n",
       "      <td>...</td>\n",
       "      <td>-0.048831</td>\n",
       "      <td>0.004855</td>\n",
       "      <td>0.106064</td>\n",
       "      <td>0.019998</td>\n",
       "      <td>0.163300</td>\n",
       "      <td>0.121120</td>\n",
       "      <td>0.125125</td>\n",
       "      <td>0.112162</td>\n",
       "      <td>0.103728</td>\n",
       "      <td>0.001057</td>\n",
       "    </tr>\n",
       "    <tr>\n",
       "      <th>awards</th>\n",
       "      <td>-0.060695</td>\n",
       "      <td>-0.031669</td>\n",
       "      <td>0.336812</td>\n",
       "      <td>1.000000</td>\n",
       "      <td>0.220186</td>\n",
       "      <td>0.439295</td>\n",
       "      <td>0.444601</td>\n",
       "      <td>0.551205</td>\n",
       "      <td>-0.159220</td>\n",
       "      <td>-0.251456</td>\n",
       "      <td>...</td>\n",
       "      <td>0.004930</td>\n",
       "      <td>-0.022949</td>\n",
       "      <td>0.091518</td>\n",
       "      <td>-0.023196</td>\n",
       "      <td>0.116392</td>\n",
       "      <td>0.164621</td>\n",
       "      <td>0.152037</td>\n",
       "      <td>0.050029</td>\n",
       "      <td>0.014534</td>\n",
       "      <td>-0.001193</td>\n",
       "    </tr>\n",
       "    <tr>\n",
       "      <th>price_level</th>\n",
       "      <td>-0.017829</td>\n",
       "      <td>-0.001033</td>\n",
       "      <td>0.232755</td>\n",
       "      <td>0.220186</td>\n",
       "      <td>1.000000</td>\n",
       "      <td>0.223698</td>\n",
       "      <td>0.149397</td>\n",
       "      <td>0.211223</td>\n",
       "      <td>-0.097914</td>\n",
       "      <td>-0.136925</td>\n",
       "      <td>...</td>\n",
       "      <td>0.106658</td>\n",
       "      <td>-0.115918</td>\n",
       "      <td>0.069623</td>\n",
       "      <td>-0.048621</td>\n",
       "      <td>0.035938</td>\n",
       "      <td>0.088051</td>\n",
       "      <td>0.092961</td>\n",
       "      <td>0.022559</td>\n",
       "      <td>0.006395</td>\n",
       "      <td>-0.003681</td>\n",
       "    </tr>\n",
       "    <tr>\n",
       "      <th>vegetarian_friendly</th>\n",
       "      <td>0.042016</td>\n",
       "      <td>0.018781</td>\n",
       "      <td>0.292623</td>\n",
       "      <td>0.439295</td>\n",
       "      <td>0.223698</td>\n",
       "      <td>1.000000</td>\n",
       "      <td>0.543754</td>\n",
       "      <td>0.452683</td>\n",
       "      <td>-0.116969</td>\n",
       "      <td>-0.198235</td>\n",
       "      <td>...</td>\n",
       "      <td>-0.233502</td>\n",
       "      <td>-0.136093</td>\n",
       "      <td>-0.089531</td>\n",
       "      <td>-0.047731</td>\n",
       "      <td>0.009461</td>\n",
       "      <td>-0.014066</td>\n",
       "      <td>0.005759</td>\n",
       "      <td>-0.055101</td>\n",
       "      <td>-0.032672</td>\n",
       "      <td>-0.001655</td>\n",
       "    </tr>\n",
       "    <tr>\n",
       "      <th>vegan_options</th>\n",
       "      <td>0.002491</td>\n",
       "      <td>-0.031190</td>\n",
       "      <td>0.273276</td>\n",
       "      <td>0.444601</td>\n",
       "      <td>0.149397</td>\n",
       "      <td>0.543754</td>\n",
       "      <td>1.000000</td>\n",
       "      <td>0.551077</td>\n",
       "      <td>-0.085966</td>\n",
       "      <td>-0.153636</td>\n",
       "      <td>...</td>\n",
       "      <td>-0.090289</td>\n",
       "      <td>-0.047776</td>\n",
       "      <td>-0.008855</td>\n",
       "      <td>-0.009874</td>\n",
       "      <td>0.083507</td>\n",
       "      <td>0.067066</td>\n",
       "      <td>0.077061</td>\n",
       "      <td>-0.006604</td>\n",
       "      <td>0.002068</td>\n",
       "      <td>-0.001051</td>\n",
       "    </tr>\n",
       "    <tr>\n",
       "      <th>gluten_free</th>\n",
       "      <td>-0.025305</td>\n",
       "      <td>-0.060981</td>\n",
       "      <td>0.297433</td>\n",
       "      <td>0.551205</td>\n",
       "      <td>0.211223</td>\n",
       "      <td>0.452683</td>\n",
       "      <td>0.551077</td>\n",
       "      <td>1.000000</td>\n",
       "      <td>-0.105193</td>\n",
       "      <td>-0.179169</td>\n",
       "      <td>...</td>\n",
       "      <td>-0.062540</td>\n",
       "      <td>-0.042620</td>\n",
       "      <td>0.011744</td>\n",
       "      <td>-0.015159</td>\n",
       "      <td>0.108590</td>\n",
       "      <td>0.095280</td>\n",
       "      <td>0.109736</td>\n",
       "      <td>0.008695</td>\n",
       "      <td>0.009889</td>\n",
       "      <td>-0.000971</td>\n",
       "    </tr>\n",
       "    <tr>\n",
       "      <th>open_days_per_week</th>\n",
       "      <td>-0.017770</td>\n",
       "      <td>0.057570</td>\n",
       "      <td>-0.280925</td>\n",
       "      <td>-0.159220</td>\n",
       "      <td>-0.097914</td>\n",
       "      <td>-0.116969</td>\n",
       "      <td>-0.085966</td>\n",
       "      <td>-0.105193</td>\n",
       "      <td>1.000000</td>\n",
       "      <td>0.624256</td>\n",
       "      <td>...</td>\n",
       "      <td>0.026524</td>\n",
       "      <td>0.021527</td>\n",
       "      <td>-0.014158</td>\n",
       "      <td>0.011767</td>\n",
       "      <td>-0.027435</td>\n",
       "      <td>-0.022736</td>\n",
       "      <td>-0.018886</td>\n",
       "      <td>-0.036340</td>\n",
       "      <td>-0.043073</td>\n",
       "      <td>0.001238</td>\n",
       "    </tr>\n",
       "    <tr>\n",
       "      <th>open_hours_per_week</th>\n",
       "      <td>-0.082877</td>\n",
       "      <td>0.099648</td>\n",
       "      <td>-0.333542</td>\n",
       "      <td>-0.251456</td>\n",
       "      <td>-0.136925</td>\n",
       "      <td>-0.198235</td>\n",
       "      <td>-0.153636</td>\n",
       "      <td>-0.179169</td>\n",
       "      <td>0.624256</td>\n",
       "      <td>1.000000</td>\n",
       "      <td>...</td>\n",
       "      <td>0.050398</td>\n",
       "      <td>0.003007</td>\n",
       "      <td>0.006186</td>\n",
       "      <td>-0.024736</td>\n",
       "      <td>-0.017980</td>\n",
       "      <td>-0.047599</td>\n",
       "      <td>-0.000115</td>\n",
       "      <td>-0.040666</td>\n",
       "      <td>-0.035954</td>\n",
       "      <td>0.001577</td>\n",
       "    </tr>\n",
       "    <tr>\n",
       "      <th>working_shifts_per_week</th>\n",
       "      <td>-0.096478</td>\n",
       "      <td>-0.015720</td>\n",
       "      <td>0.108880</td>\n",
       "      <td>0.138746</td>\n",
       "      <td>0.098118</td>\n",
       "      <td>0.100411</td>\n",
       "      <td>0.055190</td>\n",
       "      <td>0.083288</td>\n",
       "      <td>0.247780</td>\n",
       "      <td>-0.169724</td>\n",
       "      <td>...</td>\n",
       "      <td>0.016854</td>\n",
       "      <td>0.006047</td>\n",
       "      <td>0.005590</td>\n",
       "      <td>0.011151</td>\n",
       "      <td>-0.007251</td>\n",
       "      <td>0.033318</td>\n",
       "      <td>0.015096</td>\n",
       "      <td>0.010994</td>\n",
       "      <td>-0.005356</td>\n",
       "      <td>-0.000492</td>\n",
       "    </tr>\n",
       "    <tr>\n",
       "      <th>avg_rating</th>\n",
       "      <td>-0.031348</td>\n",
       "      <td>0.044508</td>\n",
       "      <td>0.179350</td>\n",
       "      <td>0.206662</td>\n",
       "      <td>0.030766</td>\n",
       "      <td>0.149137</td>\n",
       "      <td>0.163973</td>\n",
       "      <td>0.139334</td>\n",
       "      <td>-0.176877</td>\n",
       "      <td>-0.167741</td>\n",
       "      <td>...</td>\n",
       "      <td>-0.107838</td>\n",
       "      <td>-0.101343</td>\n",
       "      <td>-0.047677</td>\n",
       "      <td>-0.063185</td>\n",
       "      <td>0.030647</td>\n",
       "      <td>-0.019638</td>\n",
       "      <td>-0.007275</td>\n",
       "      <td>-0.000521</td>\n",
       "      <td>0.020889</td>\n",
       "      <td>-0.007537</td>\n",
       "    </tr>\n",
       "    <tr>\n",
       "      <th>total_reviews_count</th>\n",
       "      <td>-0.072232</td>\n",
       "      <td>-0.021451</td>\n",
       "      <td>0.264264</td>\n",
       "      <td>0.543139</td>\n",
       "      <td>0.190431</td>\n",
       "      <td>0.323122</td>\n",
       "      <td>0.331397</td>\n",
       "      <td>0.436798</td>\n",
       "      <td>-0.059836</td>\n",
       "      <td>-0.137437</td>\n",
       "      <td>...</td>\n",
       "      <td>0.059143</td>\n",
       "      <td>-0.003992</td>\n",
       "      <td>0.125134</td>\n",
       "      <td>-0.014820</td>\n",
       "      <td>0.160224</td>\n",
       "      <td>0.194664</td>\n",
       "      <td>0.206288</td>\n",
       "      <td>0.041831</td>\n",
       "      <td>0.011500</td>\n",
       "      <td>-0.000803</td>\n",
       "    </tr>\n",
       "    <tr>\n",
       "      <th>reviews_count_in_default_language</th>\n",
       "      <td>0.072222</td>\n",
       "      <td>-0.097866</td>\n",
       "      <td>0.179843</td>\n",
       "      <td>0.396301</td>\n",
       "      <td>0.125588</td>\n",
       "      <td>0.250577</td>\n",
       "      <td>0.319790</td>\n",
       "      <td>0.386306</td>\n",
       "      <td>-0.022256</td>\n",
       "      <td>-0.072459</td>\n",
       "      <td>...</td>\n",
       "      <td>0.076983</td>\n",
       "      <td>0.047176</td>\n",
       "      <td>0.096704</td>\n",
       "      <td>0.019146</td>\n",
       "      <td>0.210764</td>\n",
       "      <td>0.208396</td>\n",
       "      <td>0.238252</td>\n",
       "      <td>0.050770</td>\n",
       "      <td>0.031876</td>\n",
       "      <td>-0.000391</td>\n",
       "    </tr>\n",
       "    <tr>\n",
       "      <th>excellent</th>\n",
       "      <td>0.060200</td>\n",
       "      <td>-0.090501</td>\n",
       "      <td>0.182673</td>\n",
       "      <td>0.421955</td>\n",
       "      <td>0.114017</td>\n",
       "      <td>0.248479</td>\n",
       "      <td>0.332549</td>\n",
       "      <td>0.393863</td>\n",
       "      <td>-0.044307</td>\n",
       "      <td>-0.091945</td>\n",
       "      <td>...</td>\n",
       "      <td>0.068478</td>\n",
       "      <td>0.039437</td>\n",
       "      <td>0.087675</td>\n",
       "      <td>0.018323</td>\n",
       "      <td>0.210143</td>\n",
       "      <td>0.197044</td>\n",
       "      <td>0.230830</td>\n",
       "      <td>0.049430</td>\n",
       "      <td>0.036600</td>\n",
       "      <td>-0.000592</td>\n",
       "    </tr>\n",
       "    <tr>\n",
       "      <th>very_good</th>\n",
       "      <td>0.070577</td>\n",
       "      <td>-0.087005</td>\n",
       "      <td>0.161624</td>\n",
       "      <td>0.372081</td>\n",
       "      <td>0.130424</td>\n",
       "      <td>0.239862</td>\n",
       "      <td>0.285349</td>\n",
       "      <td>0.349172</td>\n",
       "      <td>-0.001334</td>\n",
       "      <td>-0.048097</td>\n",
       "      <td>...</td>\n",
       "      <td>0.078444</td>\n",
       "      <td>0.039889</td>\n",
       "      <td>0.097087</td>\n",
       "      <td>0.007935</td>\n",
       "      <td>0.191903</td>\n",
       "      <td>0.200239</td>\n",
       "      <td>0.223564</td>\n",
       "      <td>0.040996</td>\n",
       "      <td>0.021213</td>\n",
       "      <td>-0.000448</td>\n",
       "    </tr>\n",
       "    <tr>\n",
       "      <th>average</th>\n",
       "      <td>0.074932</td>\n",
       "      <td>-0.082893</td>\n",
       "      <td>0.134988</td>\n",
       "      <td>0.252765</td>\n",
       "      <td>0.115113</td>\n",
       "      <td>0.194912</td>\n",
       "      <td>0.227032</td>\n",
       "      <td>0.290579</td>\n",
       "      <td>0.016229</td>\n",
       "      <td>-0.025242</td>\n",
       "      <td>...</td>\n",
       "      <td>0.073838</td>\n",
       "      <td>0.042573</td>\n",
       "      <td>0.086912</td>\n",
       "      <td>0.008083</td>\n",
       "      <td>0.171992</td>\n",
       "      <td>0.182238</td>\n",
       "      <td>0.201921</td>\n",
       "      <td>0.044844</td>\n",
       "      <td>0.019234</td>\n",
       "      <td>-0.000453</td>\n",
       "    </tr>\n",
       "    <tr>\n",
       "      <th>poor</th>\n",
       "      <td>0.087885</td>\n",
       "      <td>-0.095622</td>\n",
       "      <td>0.130094</td>\n",
       "      <td>0.195061</td>\n",
       "      <td>0.113230</td>\n",
       "      <td>0.178291</td>\n",
       "      <td>0.203383</td>\n",
       "      <td>0.267701</td>\n",
       "      <td>0.025151</td>\n",
       "      <td>-0.019519</td>\n",
       "      <td>...</td>\n",
       "      <td>0.067814</td>\n",
       "      <td>0.050626</td>\n",
       "      <td>0.082618</td>\n",
       "      <td>0.018039</td>\n",
       "      <td>0.155206</td>\n",
       "      <td>0.171302</td>\n",
       "      <td>0.184909</td>\n",
       "      <td>0.047557</td>\n",
       "      <td>0.018895</td>\n",
       "      <td>-0.000344</td>\n",
       "    </tr>\n",
       "    <tr>\n",
       "      <th>terrible</th>\n",
       "      <td>0.081268</td>\n",
       "      <td>-0.102920</td>\n",
       "      <td>0.094260</td>\n",
       "      <td>0.114835</td>\n",
       "      <td>0.083678</td>\n",
       "      <td>0.130650</td>\n",
       "      <td>0.144864</td>\n",
       "      <td>0.190886</td>\n",
       "      <td>0.045030</td>\n",
       "      <td>0.005520</td>\n",
       "      <td>...</td>\n",
       "      <td>0.066102</td>\n",
       "      <td>0.088020</td>\n",
       "      <td>0.083181</td>\n",
       "      <td>0.057505</td>\n",
       "      <td>0.116364</td>\n",
       "      <td>0.147024</td>\n",
       "      <td>0.152935</td>\n",
       "      <td>0.043303</td>\n",
       "      <td>0.012779</td>\n",
       "      <td>0.002769</td>\n",
       "    </tr>\n",
       "    <tr>\n",
       "      <th>food</th>\n",
       "      <td>-0.019545</td>\n",
       "      <td>0.024748</td>\n",
       "      <td>0.212300</td>\n",
       "      <td>0.314465</td>\n",
       "      <td>0.040998</td>\n",
       "      <td>0.257807</td>\n",
       "      <td>0.242322</td>\n",
       "      <td>0.207997</td>\n",
       "      <td>-0.205847</td>\n",
       "      <td>-0.209795</td>\n",
       "      <td>...</td>\n",
       "      <td>-0.143738</td>\n",
       "      <td>-0.130220</td>\n",
       "      <td>-0.076812</td>\n",
       "      <td>-0.082784</td>\n",
       "      <td>0.026109</td>\n",
       "      <td>-0.030423</td>\n",
       "      <td>-0.013370</td>\n",
       "      <td>-0.017151</td>\n",
       "      <td>0.014360</td>\n",
       "      <td>-0.001342</td>\n",
       "    </tr>\n",
       "    <tr>\n",
       "      <th>service</th>\n",
       "      <td>0.000194</td>\n",
       "      <td>-0.008100</td>\n",
       "      <td>0.211347</td>\n",
       "      <td>0.284593</td>\n",
       "      <td>0.042928</td>\n",
       "      <td>0.234635</td>\n",
       "      <td>0.227329</td>\n",
       "      <td>0.196219</td>\n",
       "      <td>-0.197915</td>\n",
       "      <td>-0.202496</td>\n",
       "      <td>...</td>\n",
       "      <td>-0.132762</td>\n",
       "      <td>-0.138821</td>\n",
       "      <td>-0.074688</td>\n",
       "      <td>-0.077712</td>\n",
       "      <td>0.033195</td>\n",
       "      <td>-0.027264</td>\n",
       "      <td>-0.009373</td>\n",
       "      <td>-0.017274</td>\n",
       "      <td>0.014366</td>\n",
       "      <td>-0.008653</td>\n",
       "    </tr>\n",
       "    <tr>\n",
       "      <th>value</th>\n",
       "      <td>-0.021212</td>\n",
       "      <td>0.016666</td>\n",
       "      <td>0.134446</td>\n",
       "      <td>0.233302</td>\n",
       "      <td>-0.111809</td>\n",
       "      <td>0.205988</td>\n",
       "      <td>0.193607</td>\n",
       "      <td>0.121723</td>\n",
       "      <td>-0.169732</td>\n",
       "      <td>-0.154099</td>\n",
       "      <td>...</td>\n",
       "      <td>-0.114427</td>\n",
       "      <td>-0.095900</td>\n",
       "      <td>-0.082495</td>\n",
       "      <td>-0.067130</td>\n",
       "      <td>0.011812</td>\n",
       "      <td>-0.036978</td>\n",
       "      <td>-0.034836</td>\n",
       "      <td>-0.023346</td>\n",
       "      <td>0.010518</td>\n",
       "      <td>-0.002911</td>\n",
       "    </tr>\n",
       "    <tr>\n",
       "      <th>atmosphere</th>\n",
       "      <td>-0.030739</td>\n",
       "      <td>0.040868</td>\n",
       "      <td>0.216611</td>\n",
       "      <td>0.381160</td>\n",
       "      <td>0.115896</td>\n",
       "      <td>0.251131</td>\n",
       "      <td>0.225648</td>\n",
       "      <td>0.255670</td>\n",
       "      <td>-0.151155</td>\n",
       "      <td>-0.127018</td>\n",
       "      <td>...</td>\n",
       "      <td>-0.137037</td>\n",
       "      <td>-0.131817</td>\n",
       "      <td>-0.050172</td>\n",
       "      <td>-0.052276</td>\n",
       "      <td>0.064216</td>\n",
       "      <td>-0.028139</td>\n",
       "      <td>0.009300</td>\n",
       "      <td>-0.007685</td>\n",
       "      <td>0.020726</td>\n",
       "      <td>0.000730</td>\n",
       "    </tr>\n",
       "    <tr>\n",
       "      <th>reservations</th>\n",
       "      <td>-0.090120</td>\n",
       "      <td>-0.033366</td>\n",
       "      <td>-0.072996</td>\n",
       "      <td>-0.035562</td>\n",
       "      <td>0.091690</td>\n",
       "      <td>-0.265769</td>\n",
       "      <td>-0.113455</td>\n",
       "      <td>-0.085825</td>\n",
       "      <td>0.028943</td>\n",
       "      <td>0.051023</td>\n",
       "      <td>...</td>\n",
       "      <td>0.750030</td>\n",
       "      <td>0.219688</td>\n",
       "      <td>0.362901</td>\n",
       "      <td>0.102310</td>\n",
       "      <td>0.250126</td>\n",
       "      <td>0.350059</td>\n",
       "      <td>0.330106</td>\n",
       "      <td>0.218331</td>\n",
       "      <td>0.142612</td>\n",
       "      <td>-0.000483</td>\n",
       "    </tr>\n",
       "    <tr>\n",
       "      <th>seating</th>\n",
       "      <td>-0.071180</td>\n",
       "      <td>-0.087577</td>\n",
       "      <td>-0.042640</td>\n",
       "      <td>-0.018047</td>\n",
       "      <td>0.046289</td>\n",
       "      <td>-0.266951</td>\n",
       "      <td>-0.110651</td>\n",
       "      <td>-0.081931</td>\n",
       "      <td>0.034186</td>\n",
       "      <td>0.056100</td>\n",
       "      <td>...</td>\n",
       "      <td>0.826966</td>\n",
       "      <td>0.392802</td>\n",
       "      <td>0.487083</td>\n",
       "      <td>0.109140</td>\n",
       "      <td>0.327834</td>\n",
       "      <td>0.416876</td>\n",
       "      <td>0.360873</td>\n",
       "      <td>0.260514</td>\n",
       "      <td>0.169623</td>\n",
       "      <td>-0.000458</td>\n",
       "    </tr>\n",
       "    <tr>\n",
       "      <th>wheel_chair</th>\n",
       "      <td>-0.054502</td>\n",
       "      <td>-0.083240</td>\n",
       "      <td>-0.012062</td>\n",
       "      <td>0.010396</td>\n",
       "      <td>-0.013794</td>\n",
       "      <td>-0.191684</td>\n",
       "      <td>-0.073705</td>\n",
       "      <td>-0.048520</td>\n",
       "      <td>0.027257</td>\n",
       "      <td>0.036475</td>\n",
       "      <td>...</td>\n",
       "      <td>0.522250</td>\n",
       "      <td>0.401978</td>\n",
       "      <td>0.384293</td>\n",
       "      <td>0.111146</td>\n",
       "      <td>0.294167</td>\n",
       "      <td>0.401340</td>\n",
       "      <td>0.315627</td>\n",
       "      <td>0.276072</td>\n",
       "      <td>0.174385</td>\n",
       "      <td>-0.000363</td>\n",
       "    </tr>\n",
       "    <tr>\n",
       "      <th>alcohol</th>\n",
       "      <td>-0.097759</td>\n",
       "      <td>-0.072158</td>\n",
       "      <td>0.072511</td>\n",
       "      <td>0.100922</td>\n",
       "      <td>0.127041</td>\n",
       "      <td>-0.141537</td>\n",
       "      <td>-0.028371</td>\n",
       "      <td>-0.000972</td>\n",
       "      <td>-0.014234</td>\n",
       "      <td>-0.007840</td>\n",
       "      <td>...</td>\n",
       "      <td>0.668487</td>\n",
       "      <td>0.262067</td>\n",
       "      <td>0.553574</td>\n",
       "      <td>0.109112</td>\n",
       "      <td>0.381431</td>\n",
       "      <td>0.501749</td>\n",
       "      <td>0.517887</td>\n",
       "      <td>0.305160</td>\n",
       "      <td>0.195604</td>\n",
       "      <td>-0.000397</td>\n",
       "    </tr>\n",
       "    <tr>\n",
       "      <th>credit_cards</th>\n",
       "      <td>-0.023431</td>\n",
       "      <td>-0.041390</td>\n",
       "      <td>0.156855</td>\n",
       "      <td>0.151019</td>\n",
       "      <td>0.068087</td>\n",
       "      <td>-0.032070</td>\n",
       "      <td>0.051732</td>\n",
       "      <td>0.081745</td>\n",
       "      <td>-0.043321</td>\n",
       "      <td>-0.055399</td>\n",
       "      <td>...</td>\n",
       "      <td>0.365559</td>\n",
       "      <td>0.256922</td>\n",
       "      <td>0.447536</td>\n",
       "      <td>0.139410</td>\n",
       "      <td>0.498875</td>\n",
       "      <td>0.486657</td>\n",
       "      <td>0.460449</td>\n",
       "      <td>0.322560</td>\n",
       "      <td>0.267569</td>\n",
       "      <td>-0.000364</td>\n",
       "    </tr>\n",
       "    <tr>\n",
       "      <th>table_service</th>\n",
       "      <td>-0.116168</td>\n",
       "      <td>-0.066099</td>\n",
       "      <td>-0.048831</td>\n",
       "      <td>0.004930</td>\n",
       "      <td>0.106658</td>\n",
       "      <td>-0.233502</td>\n",
       "      <td>-0.090289</td>\n",
       "      <td>-0.062540</td>\n",
       "      <td>0.026524</td>\n",
       "      <td>0.050398</td>\n",
       "      <td>...</td>\n",
       "      <td>1.000000</td>\n",
       "      <td>0.239655</td>\n",
       "      <td>0.417758</td>\n",
       "      <td>0.074734</td>\n",
       "      <td>0.257221</td>\n",
       "      <td>0.373309</td>\n",
       "      <td>0.357914</td>\n",
       "      <td>0.195822</td>\n",
       "      <td>0.117959</td>\n",
       "      <td>-0.000430</td>\n",
       "    </tr>\n",
       "    <tr>\n",
       "      <th>takeout</th>\n",
       "      <td>0.038789</td>\n",
       "      <td>-0.058796</td>\n",
       "      <td>0.004855</td>\n",
       "      <td>-0.022949</td>\n",
       "      <td>-0.115918</td>\n",
       "      <td>-0.136093</td>\n",
       "      <td>-0.047776</td>\n",
       "      <td>-0.042620</td>\n",
       "      <td>0.021527</td>\n",
       "      <td>0.003007</td>\n",
       "      <td>...</td>\n",
       "      <td>0.239655</td>\n",
       "      <td>1.000000</td>\n",
       "      <td>0.236399</td>\n",
       "      <td>0.408175</td>\n",
       "      <td>0.286819</td>\n",
       "      <td>0.255819</td>\n",
       "      <td>0.168905</td>\n",
       "      <td>0.202105</td>\n",
       "      <td>0.178278</td>\n",
       "      <td>-0.000321</td>\n",
       "    </tr>\n",
       "    <tr>\n",
       "      <th>outdoor</th>\n",
       "      <td>-0.075352</td>\n",
       "      <td>-0.017562</td>\n",
       "      <td>0.106064</td>\n",
       "      <td>0.091518</td>\n",
       "      <td>0.069623</td>\n",
       "      <td>-0.089531</td>\n",
       "      <td>-0.008855</td>\n",
       "      <td>0.011744</td>\n",
       "      <td>-0.014158</td>\n",
       "      <td>0.006186</td>\n",
       "      <td>...</td>\n",
       "      <td>0.417758</td>\n",
       "      <td>0.236399</td>\n",
       "      <td>1.000000</td>\n",
       "      <td>0.079050</td>\n",
       "      <td>0.429783</td>\n",
       "      <td>0.483945</td>\n",
       "      <td>0.441731</td>\n",
       "      <td>0.367015</td>\n",
       "      <td>0.252547</td>\n",
       "      <td>-0.000310</td>\n",
       "    </tr>\n",
       "    <tr>\n",
       "      <th>delivery</th>\n",
       "      <td>0.038415</td>\n",
       "      <td>-0.036783</td>\n",
       "      <td>0.019998</td>\n",
       "      <td>-0.023196</td>\n",
       "      <td>-0.048621</td>\n",
       "      <td>-0.047731</td>\n",
       "      <td>-0.009874</td>\n",
       "      <td>-0.015159</td>\n",
       "      <td>0.011767</td>\n",
       "      <td>-0.024736</td>\n",
       "      <td>...</td>\n",
       "      <td>0.074734</td>\n",
       "      <td>0.408175</td>\n",
       "      <td>0.079050</td>\n",
       "      <td>1.000000</td>\n",
       "      <td>0.156589</td>\n",
       "      <td>0.097380</td>\n",
       "      <td>0.091665</td>\n",
       "      <td>0.107745</td>\n",
       "      <td>0.113341</td>\n",
       "      <td>-0.000167</td>\n",
       "    </tr>\n",
       "    <tr>\n",
       "      <th>wifi</th>\n",
       "      <td>-0.025298</td>\n",
       "      <td>-0.018926</td>\n",
       "      <td>0.163300</td>\n",
       "      <td>0.116392</td>\n",
       "      <td>0.035938</td>\n",
       "      <td>0.009461</td>\n",
       "      <td>0.083507</td>\n",
       "      <td>0.108590</td>\n",
       "      <td>-0.027435</td>\n",
       "      <td>-0.017980</td>\n",
       "      <td>...</td>\n",
       "      <td>0.257221</td>\n",
       "      <td>0.286819</td>\n",
       "      <td>0.429783</td>\n",
       "      <td>0.156589</td>\n",
       "      <td>1.000000</td>\n",
       "      <td>0.474910</td>\n",
       "      <td>0.474994</td>\n",
       "      <td>0.377286</td>\n",
       "      <td>0.331386</td>\n",
       "      <td>-0.000335</td>\n",
       "    </tr>\n",
       "    <tr>\n",
       "      <th>highchair</th>\n",
       "      <td>0.004884</td>\n",
       "      <td>-0.056237</td>\n",
       "      <td>0.121120</td>\n",
       "      <td>0.164621</td>\n",
       "      <td>0.088051</td>\n",
       "      <td>-0.014066</td>\n",
       "      <td>0.067066</td>\n",
       "      <td>0.095280</td>\n",
       "      <td>-0.022736</td>\n",
       "      <td>-0.047599</td>\n",
       "      <td>...</td>\n",
       "      <td>0.373309</td>\n",
       "      <td>0.255819</td>\n",
       "      <td>0.483945</td>\n",
       "      <td>0.097380</td>\n",
       "      <td>0.474910</td>\n",
       "      <td>1.000000</td>\n",
       "      <td>0.485228</td>\n",
       "      <td>0.405674</td>\n",
       "      <td>0.256893</td>\n",
       "      <td>-0.000341</td>\n",
       "    </tr>\n",
       "    <tr>\n",
       "      <th>full_bar</th>\n",
       "      <td>-0.050717</td>\n",
       "      <td>-0.063490</td>\n",
       "      <td>0.125125</td>\n",
       "      <td>0.152037</td>\n",
       "      <td>0.092961</td>\n",
       "      <td>0.005759</td>\n",
       "      <td>0.077061</td>\n",
       "      <td>0.109736</td>\n",
       "      <td>-0.018886</td>\n",
       "      <td>-0.000115</td>\n",
       "      <td>...</td>\n",
       "      <td>0.357914</td>\n",
       "      <td>0.168905</td>\n",
       "      <td>0.441731</td>\n",
       "      <td>0.091665</td>\n",
       "      <td>0.474994</td>\n",
       "      <td>0.485228</td>\n",
       "      <td>1.000000</td>\n",
       "      <td>0.311946</td>\n",
       "      <td>0.240988</td>\n",
       "      <td>-0.000330</td>\n",
       "    </tr>\n",
       "    <tr>\n",
       "      <th>parking</th>\n",
       "      <td>-0.000250</td>\n",
       "      <td>-0.006628</td>\n",
       "      <td>0.112162</td>\n",
       "      <td>0.050029</td>\n",
       "      <td>0.022559</td>\n",
       "      <td>-0.055101</td>\n",
       "      <td>-0.006604</td>\n",
       "      <td>0.008695</td>\n",
       "      <td>-0.036340</td>\n",
       "      <td>-0.040666</td>\n",
       "      <td>...</td>\n",
       "      <td>0.195822</td>\n",
       "      <td>0.202105</td>\n",
       "      <td>0.367015</td>\n",
       "      <td>0.107745</td>\n",
       "      <td>0.377286</td>\n",
       "      <td>0.405674</td>\n",
       "      <td>0.311946</td>\n",
       "      <td>1.000000</td>\n",
       "      <td>0.475170</td>\n",
       "      <td>-0.000190</td>\n",
       "    </tr>\n",
       "    <tr>\n",
       "      <th>street_parking</th>\n",
       "      <td>-0.006408</td>\n",
       "      <td>0.004303</td>\n",
       "      <td>0.103728</td>\n",
       "      <td>0.014534</td>\n",
       "      <td>0.006395</td>\n",
       "      <td>-0.032672</td>\n",
       "      <td>0.002068</td>\n",
       "      <td>0.009889</td>\n",
       "      <td>-0.043073</td>\n",
       "      <td>-0.035954</td>\n",
       "      <td>...</td>\n",
       "      <td>0.117959</td>\n",
       "      <td>0.178278</td>\n",
       "      <td>0.252547</td>\n",
       "      <td>0.113341</td>\n",
       "      <td>0.331386</td>\n",
       "      <td>0.256893</td>\n",
       "      <td>0.240988</td>\n",
       "      <td>0.475170</td>\n",
       "      <td>1.000000</td>\n",
       "      <td>-0.000153</td>\n",
       "    </tr>\n",
       "    <tr>\n",
       "      <th>lower_limit</th>\n",
       "      <td>-0.001230</td>\n",
       "      <td>-0.003307</td>\n",
       "      <td>0.001057</td>\n",
       "      <td>-0.001193</td>\n",
       "      <td>-0.003681</td>\n",
       "      <td>-0.001655</td>\n",
       "      <td>-0.001051</td>\n",
       "      <td>-0.000971</td>\n",
       "      <td>0.001238</td>\n",
       "      <td>0.001577</td>\n",
       "      <td>...</td>\n",
       "      <td>-0.000430</td>\n",
       "      <td>-0.000321</td>\n",
       "      <td>-0.000310</td>\n",
       "      <td>-0.000167</td>\n",
       "      <td>-0.000335</td>\n",
       "      <td>-0.000341</td>\n",
       "      <td>-0.000330</td>\n",
       "      <td>-0.000190</td>\n",
       "      <td>-0.000153</td>\n",
       "      <td>1.000000</td>\n",
       "    </tr>\n",
       "  </tbody>\n",
       "</table>\n",
       "<p>38 rows × 38 columns</p>\n",
       "</div>"
      ],
      "text/plain": [
       "                                   latitude  longitude   claimed    awards  \\\n",
       "latitude                           1.000000   0.085452 -0.086900 -0.060695   \n",
       "longitude                          0.085452   1.000000 -0.026390 -0.031669   \n",
       "claimed                           -0.086900  -0.026390  1.000000  0.336812   \n",
       "awards                            -0.060695  -0.031669  0.336812  1.000000   \n",
       "price_level                       -0.017829  -0.001033  0.232755  0.220186   \n",
       "vegetarian_friendly                0.042016   0.018781  0.292623  0.439295   \n",
       "vegan_options                      0.002491  -0.031190  0.273276  0.444601   \n",
       "gluten_free                       -0.025305  -0.060981  0.297433  0.551205   \n",
       "open_days_per_week                -0.017770   0.057570 -0.280925 -0.159220   \n",
       "open_hours_per_week               -0.082877   0.099648 -0.333542 -0.251456   \n",
       "working_shifts_per_week           -0.096478  -0.015720  0.108880  0.138746   \n",
       "avg_rating                        -0.031348   0.044508  0.179350  0.206662   \n",
       "total_reviews_count               -0.072232  -0.021451  0.264264  0.543139   \n",
       "reviews_count_in_default_language  0.072222  -0.097866  0.179843  0.396301   \n",
       "excellent                          0.060200  -0.090501  0.182673  0.421955   \n",
       "very_good                          0.070577  -0.087005  0.161624  0.372081   \n",
       "average                            0.074932  -0.082893  0.134988  0.252765   \n",
       "poor                               0.087885  -0.095622  0.130094  0.195061   \n",
       "terrible                           0.081268  -0.102920  0.094260  0.114835   \n",
       "food                              -0.019545   0.024748  0.212300  0.314465   \n",
       "service                            0.000194  -0.008100  0.211347  0.284593   \n",
       "value                             -0.021212   0.016666  0.134446  0.233302   \n",
       "atmosphere                        -0.030739   0.040868  0.216611  0.381160   \n",
       "reservations                      -0.090120  -0.033366 -0.072996 -0.035562   \n",
       "seating                           -0.071180  -0.087577 -0.042640 -0.018047   \n",
       "wheel_chair                       -0.054502  -0.083240 -0.012062  0.010396   \n",
       "alcohol                           -0.097759  -0.072158  0.072511  0.100922   \n",
       "credit_cards                      -0.023431  -0.041390  0.156855  0.151019   \n",
       "table_service                     -0.116168  -0.066099 -0.048831  0.004930   \n",
       "takeout                            0.038789  -0.058796  0.004855 -0.022949   \n",
       "outdoor                           -0.075352  -0.017562  0.106064  0.091518   \n",
       "delivery                           0.038415  -0.036783  0.019998 -0.023196   \n",
       "wifi                              -0.025298  -0.018926  0.163300  0.116392   \n",
       "highchair                          0.004884  -0.056237  0.121120  0.164621   \n",
       "full_bar                          -0.050717  -0.063490  0.125125  0.152037   \n",
       "parking                           -0.000250  -0.006628  0.112162  0.050029   \n",
       "street_parking                    -0.006408   0.004303  0.103728  0.014534   \n",
       "lower_limit                       -0.001230  -0.003307  0.001057 -0.001193   \n",
       "\n",
       "                                   price_level  vegetarian_friendly  \\\n",
       "latitude                             -0.017829             0.042016   \n",
       "longitude                            -0.001033             0.018781   \n",
       "claimed                               0.232755             0.292623   \n",
       "awards                                0.220186             0.439295   \n",
       "price_level                           1.000000             0.223698   \n",
       "vegetarian_friendly                   0.223698             1.000000   \n",
       "vegan_options                         0.149397             0.543754   \n",
       "gluten_free                           0.211223             0.452683   \n",
       "open_days_per_week                   -0.097914            -0.116969   \n",
       "open_hours_per_week                  -0.136925            -0.198235   \n",
       "working_shifts_per_week               0.098118             0.100411   \n",
       "avg_rating                            0.030766             0.149137   \n",
       "total_reviews_count                   0.190431             0.323122   \n",
       "reviews_count_in_default_language     0.125588             0.250577   \n",
       "excellent                             0.114017             0.248479   \n",
       "very_good                             0.130424             0.239862   \n",
       "average                               0.115113             0.194912   \n",
       "poor                                  0.113230             0.178291   \n",
       "terrible                              0.083678             0.130650   \n",
       "food                                  0.040998             0.257807   \n",
       "service                               0.042928             0.234635   \n",
       "value                                -0.111809             0.205988   \n",
       "atmosphere                            0.115896             0.251131   \n",
       "reservations                          0.091690            -0.265769   \n",
       "seating                               0.046289            -0.266951   \n",
       "wheel_chair                          -0.013794            -0.191684   \n",
       "alcohol                               0.127041            -0.141537   \n",
       "credit_cards                          0.068087            -0.032070   \n",
       "table_service                         0.106658            -0.233502   \n",
       "takeout                              -0.115918            -0.136093   \n",
       "outdoor                               0.069623            -0.089531   \n",
       "delivery                             -0.048621            -0.047731   \n",
       "wifi                                  0.035938             0.009461   \n",
       "highchair                             0.088051            -0.014066   \n",
       "full_bar                              0.092961             0.005759   \n",
       "parking                               0.022559            -0.055101   \n",
       "street_parking                        0.006395            -0.032672   \n",
       "lower_limit                          -0.003681            -0.001655   \n",
       "\n",
       "                                   vegan_options  gluten_free  \\\n",
       "latitude                                0.002491    -0.025305   \n",
       "longitude                              -0.031190    -0.060981   \n",
       "claimed                                 0.273276     0.297433   \n",
       "awards                                  0.444601     0.551205   \n",
       "price_level                             0.149397     0.211223   \n",
       "vegetarian_friendly                     0.543754     0.452683   \n",
       "vegan_options                           1.000000     0.551077   \n",
       "gluten_free                             0.551077     1.000000   \n",
       "open_days_per_week                     -0.085966    -0.105193   \n",
       "open_hours_per_week                    -0.153636    -0.179169   \n",
       "working_shifts_per_week                 0.055190     0.083288   \n",
       "avg_rating                              0.163973     0.139334   \n",
       "total_reviews_count                     0.331397     0.436798   \n",
       "reviews_count_in_default_language       0.319790     0.386306   \n",
       "excellent                               0.332549     0.393863   \n",
       "very_good                               0.285349     0.349172   \n",
       "average                                 0.227032     0.290579   \n",
       "poor                                    0.203383     0.267701   \n",
       "terrible                                0.144864     0.190886   \n",
       "food                                    0.242322     0.207997   \n",
       "service                                 0.227329     0.196219   \n",
       "value                                   0.193607     0.121723   \n",
       "atmosphere                              0.225648     0.255670   \n",
       "reservations                           -0.113455    -0.085825   \n",
       "seating                                -0.110651    -0.081931   \n",
       "wheel_chair                            -0.073705    -0.048520   \n",
       "alcohol                                -0.028371    -0.000972   \n",
       "credit_cards                            0.051732     0.081745   \n",
       "table_service                          -0.090289    -0.062540   \n",
       "takeout                                -0.047776    -0.042620   \n",
       "outdoor                                -0.008855     0.011744   \n",
       "delivery                               -0.009874    -0.015159   \n",
       "wifi                                    0.083507     0.108590   \n",
       "highchair                               0.067066     0.095280   \n",
       "full_bar                                0.077061     0.109736   \n",
       "parking                                -0.006604     0.008695   \n",
       "street_parking                          0.002068     0.009889   \n",
       "lower_limit                            -0.001051    -0.000971   \n",
       "\n",
       "                                   open_days_per_week  open_hours_per_week  \\\n",
       "latitude                                    -0.017770            -0.082877   \n",
       "longitude                                    0.057570             0.099648   \n",
       "claimed                                     -0.280925            -0.333542   \n",
       "awards                                      -0.159220            -0.251456   \n",
       "price_level                                 -0.097914            -0.136925   \n",
       "vegetarian_friendly                         -0.116969            -0.198235   \n",
       "vegan_options                               -0.085966            -0.153636   \n",
       "gluten_free                                 -0.105193            -0.179169   \n",
       "open_days_per_week                           1.000000             0.624256   \n",
       "open_hours_per_week                          0.624256             1.000000   \n",
       "working_shifts_per_week                      0.247780            -0.169724   \n",
       "avg_rating                                  -0.176877            -0.167741   \n",
       "total_reviews_count                         -0.059836            -0.137437   \n",
       "reviews_count_in_default_language           -0.022256            -0.072459   \n",
       "excellent                                   -0.044307            -0.091945   \n",
       "very_good                                   -0.001334            -0.048097   \n",
       "average                                      0.016229            -0.025242   \n",
       "poor                                         0.025151            -0.019519   \n",
       "terrible                                     0.045030             0.005520   \n",
       "food                                        -0.205847            -0.209795   \n",
       "service                                     -0.197915            -0.202496   \n",
       "value                                       -0.169732            -0.154099   \n",
       "atmosphere                                  -0.151155            -0.127018   \n",
       "reservations                                 0.028943             0.051023   \n",
       "seating                                      0.034186             0.056100   \n",
       "wheel_chair                                  0.027257             0.036475   \n",
       "alcohol                                     -0.014234            -0.007840   \n",
       "credit_cards                                -0.043321            -0.055399   \n",
       "table_service                                0.026524             0.050398   \n",
       "takeout                                      0.021527             0.003007   \n",
       "outdoor                                     -0.014158             0.006186   \n",
       "delivery                                     0.011767            -0.024736   \n",
       "wifi                                        -0.027435            -0.017980   \n",
       "highchair                                   -0.022736            -0.047599   \n",
       "full_bar                                    -0.018886            -0.000115   \n",
       "parking                                     -0.036340            -0.040666   \n",
       "street_parking                              -0.043073            -0.035954   \n",
       "lower_limit                                  0.001238             0.001577   \n",
       "\n",
       "                                   ...  table_service   takeout   outdoor  \\\n",
       "latitude                           ...      -0.116168  0.038789 -0.075352   \n",
       "longitude                          ...      -0.066099 -0.058796 -0.017562   \n",
       "claimed                            ...      -0.048831  0.004855  0.106064   \n",
       "awards                             ...       0.004930 -0.022949  0.091518   \n",
       "price_level                        ...       0.106658 -0.115918  0.069623   \n",
       "vegetarian_friendly                ...      -0.233502 -0.136093 -0.089531   \n",
       "vegan_options                      ...      -0.090289 -0.047776 -0.008855   \n",
       "gluten_free                        ...      -0.062540 -0.042620  0.011744   \n",
       "open_days_per_week                 ...       0.026524  0.021527 -0.014158   \n",
       "open_hours_per_week                ...       0.050398  0.003007  0.006186   \n",
       "working_shifts_per_week            ...       0.016854  0.006047  0.005590   \n",
       "avg_rating                         ...      -0.107838 -0.101343 -0.047677   \n",
       "total_reviews_count                ...       0.059143 -0.003992  0.125134   \n",
       "reviews_count_in_default_language  ...       0.076983  0.047176  0.096704   \n",
       "excellent                          ...       0.068478  0.039437  0.087675   \n",
       "very_good                          ...       0.078444  0.039889  0.097087   \n",
       "average                            ...       0.073838  0.042573  0.086912   \n",
       "poor                               ...       0.067814  0.050626  0.082618   \n",
       "terrible                           ...       0.066102  0.088020  0.083181   \n",
       "food                               ...      -0.143738 -0.130220 -0.076812   \n",
       "service                            ...      -0.132762 -0.138821 -0.074688   \n",
       "value                              ...      -0.114427 -0.095900 -0.082495   \n",
       "atmosphere                         ...      -0.137037 -0.131817 -0.050172   \n",
       "reservations                       ...       0.750030  0.219688  0.362901   \n",
       "seating                            ...       0.826966  0.392802  0.487083   \n",
       "wheel_chair                        ...       0.522250  0.401978  0.384293   \n",
       "alcohol                            ...       0.668487  0.262067  0.553574   \n",
       "credit_cards                       ...       0.365559  0.256922  0.447536   \n",
       "table_service                      ...       1.000000  0.239655  0.417758   \n",
       "takeout                            ...       0.239655  1.000000  0.236399   \n",
       "outdoor                            ...       0.417758  0.236399  1.000000   \n",
       "delivery                           ...       0.074734  0.408175  0.079050   \n",
       "wifi                               ...       0.257221  0.286819  0.429783   \n",
       "highchair                          ...       0.373309  0.255819  0.483945   \n",
       "full_bar                           ...       0.357914  0.168905  0.441731   \n",
       "parking                            ...       0.195822  0.202105  0.367015   \n",
       "street_parking                     ...       0.117959  0.178278  0.252547   \n",
       "lower_limit                        ...      -0.000430 -0.000321 -0.000310   \n",
       "\n",
       "                                   delivery      wifi  highchair  full_bar  \\\n",
       "latitude                           0.038415 -0.025298   0.004884 -0.050717   \n",
       "longitude                         -0.036783 -0.018926  -0.056237 -0.063490   \n",
       "claimed                            0.019998  0.163300   0.121120  0.125125   \n",
       "awards                            -0.023196  0.116392   0.164621  0.152037   \n",
       "price_level                       -0.048621  0.035938   0.088051  0.092961   \n",
       "vegetarian_friendly               -0.047731  0.009461  -0.014066  0.005759   \n",
       "vegan_options                     -0.009874  0.083507   0.067066  0.077061   \n",
       "gluten_free                       -0.015159  0.108590   0.095280  0.109736   \n",
       "open_days_per_week                 0.011767 -0.027435  -0.022736 -0.018886   \n",
       "open_hours_per_week               -0.024736 -0.017980  -0.047599 -0.000115   \n",
       "working_shifts_per_week            0.011151 -0.007251   0.033318  0.015096   \n",
       "avg_rating                        -0.063185  0.030647  -0.019638 -0.007275   \n",
       "total_reviews_count               -0.014820  0.160224   0.194664  0.206288   \n",
       "reviews_count_in_default_language  0.019146  0.210764   0.208396  0.238252   \n",
       "excellent                          0.018323  0.210143   0.197044  0.230830   \n",
       "very_good                          0.007935  0.191903   0.200239  0.223564   \n",
       "average                            0.008083  0.171992   0.182238  0.201921   \n",
       "poor                               0.018039  0.155206   0.171302  0.184909   \n",
       "terrible                           0.057505  0.116364   0.147024  0.152935   \n",
       "food                              -0.082784  0.026109  -0.030423 -0.013370   \n",
       "service                           -0.077712  0.033195  -0.027264 -0.009373   \n",
       "value                             -0.067130  0.011812  -0.036978 -0.034836   \n",
       "atmosphere                        -0.052276  0.064216  -0.028139  0.009300   \n",
       "reservations                       0.102310  0.250126   0.350059  0.330106   \n",
       "seating                            0.109140  0.327834   0.416876  0.360873   \n",
       "wheel_chair                        0.111146  0.294167   0.401340  0.315627   \n",
       "alcohol                            0.109112  0.381431   0.501749  0.517887   \n",
       "credit_cards                       0.139410  0.498875   0.486657  0.460449   \n",
       "table_service                      0.074734  0.257221   0.373309  0.357914   \n",
       "takeout                            0.408175  0.286819   0.255819  0.168905   \n",
       "outdoor                            0.079050  0.429783   0.483945  0.441731   \n",
       "delivery                           1.000000  0.156589   0.097380  0.091665   \n",
       "wifi                               0.156589  1.000000   0.474910  0.474994   \n",
       "highchair                          0.097380  0.474910   1.000000  0.485228   \n",
       "full_bar                           0.091665  0.474994   0.485228  1.000000   \n",
       "parking                            0.107745  0.377286   0.405674  0.311946   \n",
       "street_parking                     0.113341  0.331386   0.256893  0.240988   \n",
       "lower_limit                       -0.000167 -0.000335  -0.000341 -0.000330   \n",
       "\n",
       "                                    parking  street_parking  lower_limit  \n",
       "latitude                          -0.000250       -0.006408    -0.001230  \n",
       "longitude                         -0.006628        0.004303    -0.003307  \n",
       "claimed                            0.112162        0.103728     0.001057  \n",
       "awards                             0.050029        0.014534    -0.001193  \n",
       "price_level                        0.022559        0.006395    -0.003681  \n",
       "vegetarian_friendly               -0.055101       -0.032672    -0.001655  \n",
       "vegan_options                     -0.006604        0.002068    -0.001051  \n",
       "gluten_free                        0.008695        0.009889    -0.000971  \n",
       "open_days_per_week                -0.036340       -0.043073     0.001238  \n",
       "open_hours_per_week               -0.040666       -0.035954     0.001577  \n",
       "working_shifts_per_week            0.010994       -0.005356    -0.000492  \n",
       "avg_rating                        -0.000521        0.020889    -0.007537  \n",
       "total_reviews_count                0.041831        0.011500    -0.000803  \n",
       "reviews_count_in_default_language  0.050770        0.031876    -0.000391  \n",
       "excellent                          0.049430        0.036600    -0.000592  \n",
       "very_good                          0.040996        0.021213    -0.000448  \n",
       "average                            0.044844        0.019234    -0.000453  \n",
       "poor                               0.047557        0.018895    -0.000344  \n",
       "terrible                           0.043303        0.012779     0.002769  \n",
       "food                              -0.017151        0.014360    -0.001342  \n",
       "service                           -0.017274        0.014366    -0.008653  \n",
       "value                             -0.023346        0.010518    -0.002911  \n",
       "atmosphere                        -0.007685        0.020726     0.000730  \n",
       "reservations                       0.218331        0.142612    -0.000483  \n",
       "seating                            0.260514        0.169623    -0.000458  \n",
       "wheel_chair                        0.276072        0.174385    -0.000363  \n",
       "alcohol                            0.305160        0.195604    -0.000397  \n",
       "credit_cards                       0.322560        0.267569    -0.000364  \n",
       "table_service                      0.195822        0.117959    -0.000430  \n",
       "takeout                            0.202105        0.178278    -0.000321  \n",
       "outdoor                            0.367015        0.252547    -0.000310  \n",
       "delivery                           0.107745        0.113341    -0.000167  \n",
       "wifi                               0.377286        0.331386    -0.000335  \n",
       "highchair                          0.405674        0.256893    -0.000341  \n",
       "full_bar                           0.311946        0.240988    -0.000330  \n",
       "parking                            1.000000        0.475170    -0.000190  \n",
       "street_parking                     0.475170        1.000000    -0.000153  \n",
       "lower_limit                       -0.000190       -0.000153     1.000000  \n",
       "\n",
       "[38 rows x 38 columns]"
      ]
     },
     "execution_count": 119,
     "metadata": {},
     "output_type": "execute_result"
    }
   ],
   "source": [
    "correlations_matrix = data.corr()\n",
    "correlations_matrix"
   ]
  },
  {
   "cell_type": "code",
   "execution_count": 120,
   "id": "13575745",
   "metadata": {},
   "outputs": [
    {
     "data": {
      "text/plain": [
       "<AxesSubplot:>"
      ]
     },
     "execution_count": 120,
     "metadata": {},
     "output_type": "execute_result"
    },
    {
     "data": {
      "image/png": "[encoded data removed]",
      "text/plain": [
       "<Figure size 1440x720 with 2 Axes>"
      ]
     },
     "metadata": {
      "needs_background": "light"
     },
     "output_type": "display_data"
    }
   ],
   "source": [
    "import seaborn as sns\n",
    "fig, ax = plt.subplots(figsize=(20,10))         # Sample figsize in inches\n",
    "sns.heatmap(correlations_matrix, ax=ax, linewidth=3.1,annot=True,center=1)"
   ]
  },
  {
   "cell_type": "code",
   "execution_count": 121,
   "id": "d2b59761",
   "metadata": {},
   "outputs": [],
   "source": [
    "#from sklearn import linear_model\n",
    "from sklearn.metrics import r2_score\n",
    "from sklearn.metrics import mean_squared_error,mean_absolute_error\n",
    "from sklearn.linear_model import LinearRegression\n",
    "from sklearn.model_selection import cross_val_score\n",
    "from sklearn.tree import DecisionTreeRegressor\n",
    "model = LinearRegression()\n"
   ]
  },
  {
   "cell_type": "code",
   "execution_count": 122,
   "id": "5912e6e5",
   "metadata": {},
   "outputs": [],
   "source": [
    "y = numericals['lower_limit']\n",
    "X = numericals.drop('lower_limit', axis = 1)\n",
    "#X_train, X_test, y_train, y_test = train_test_split(X, y, test_size=0.2, random_state=42)\n",
    "#scores = cross_val_score(model, X_rand, y_rand, cv=10)"
   ]
  },
  {
   "cell_type": "code",
   "execution_count": 125,
   "id": "5faf37b2",
   "metadata": {},
   "outputs": [
    {
     "data": {
      "text/plain": [
       "array([0.06862649, 0.10420053, 0.21408706, 0.08275771, 0.0400214 ])"
      ]
     },
     "execution_count": 125,
     "metadata": {},
     "output_type": "execute_result"
    }
   ],
   "source": [
    "scores = cross_val_score(model, X, y, cv=5)\n",
    "scores"
   ]
  },
  {
   "cell_type": "code",
   "execution_count": 126,
   "id": "ca77f84d",
   "metadata": {},
   "outputs": [
    {
     "name": "stdout",
     "output_type": "stream",
     "text": [
      "0.1019386364766232\n"
     ]
    }
   ],
   "source": [
    "mean_score = scores.mean()\n",
    "print(mean_score)"
   ]
  },
  {
   "cell_type": "code",
   "execution_count": 127,
   "id": "0c464e7d",
   "metadata": {},
   "outputs": [
    {
     "name": "stderr",
     "output_type": "stream",
     "text": [
      "C:\\Users\\KIMERA\\.conda\\envs\\iron_hack_DA\\lib\\site-packages\\sklearn\\base.py:441: UserWarning: X does not have valid feature names, but KNeighborsRegressor was fitted with feature names\n",
      "  warnings.warn(\n",
      "C:\\Users\\KIMERA\\.conda\\envs\\iron_hack_DA\\lib\\site-packages\\sklearn\\base.py:441: UserWarning: X does not have valid feature names, but KNeighborsRegressor was fitted with feature names\n",
      "  warnings.warn(\n",
      "C:\\Users\\KIMERA\\.conda\\envs\\iron_hack_DA\\lib\\site-packages\\sklearn\\base.py:441: UserWarning: X does not have valid feature names, but KNeighborsRegressor was fitted with feature names\n",
      "  warnings.warn(\n",
      "C:\\Users\\KIMERA\\.conda\\envs\\iron_hack_DA\\lib\\site-packages\\sklearn\\base.py:441: UserWarning: X does not have valid feature names, but KNeighborsRegressor was fitted with feature names\n",
      "  warnings.warn(\n",
      "C:\\Users\\KIMERA\\.conda\\envs\\iron_hack_DA\\lib\\site-packages\\sklearn\\base.py:441: UserWarning: X does not have valid feature names, but KNeighborsRegressor was fitted with feature names\n",
      "  warnings.warn(\n",
      "C:\\Users\\KIMERA\\.conda\\envs\\iron_hack_DA\\lib\\site-packages\\sklearn\\base.py:441: UserWarning: X does not have valid feature names, but KNeighborsRegressor was fitted with feature names\n",
      "  warnings.warn(\n",
      "C:\\Users\\KIMERA\\.conda\\envs\\iron_hack_DA\\lib\\site-packages\\sklearn\\base.py:441: UserWarning: X does not have valid feature names, but KNeighborsRegressor was fitted with feature names\n",
      "  warnings.warn(\n",
      "C:\\Users\\KIMERA\\.conda\\envs\\iron_hack_DA\\lib\\site-packages\\sklearn\\base.py:441: UserWarning: X does not have valid feature names, but KNeighborsRegressor was fitted with feature names\n",
      "  warnings.warn(\n",
      "C:\\Users\\KIMERA\\.conda\\envs\\iron_hack_DA\\lib\\site-packages\\sklearn\\base.py:441: UserWarning: X does not have valid feature names, but KNeighborsRegressor was fitted with feature names\n",
      "  warnings.warn(\n",
      "C:\\Users\\KIMERA\\.conda\\envs\\iron_hack_DA\\lib\\site-packages\\sklearn\\base.py:441: UserWarning: X does not have valid feature names, but KNeighborsRegressor was fitted with feature names\n",
      "  warnings.warn(\n"
     ]
    },
    {
     "name": "stdout",
     "output_type": "stream",
     "text": [
      "{'Decision Tree Regressor': -1.2804750160542493, 'Linear Regression': 0.12173095818050558, 'KNN': -0.059960564809059216}\n"
     ]
    }
   ],
   "source": [
    "model1 = DecisionTreeRegressor()\n",
    "from sklearn.linear_model import LinearRegression\n",
    "model2 = LinearRegression()\n",
    "from sklearn.neighbors import KNeighborsRegressor\n",
    "model3 = KNeighborsRegressor()\n",
    "\n",
    "import numpy as np\n",
    "\n",
    "X_train, X_val, y_train, y_val = train_test_split(X, y, test_size=0.25)\n",
    "\n",
    "model_pipeline = [model1, model2, model3]\n",
    "model_names = ['Decision Tree Regressor', 'Linear Regression', 'KNN']\n",
    "scores = {}\n",
    "for model, model_name in zip(model_pipeline, model_names):\n",
    "    mean_score = np.mean(cross_val_score(model, X_train, y_train, cv=10))\n",
    "    scores[model_name] = mean_score\n",
    "print(scores)"
   ]
  },
  {
   "cell_type": "code",
   "execution_count": 128,
   "id": "84c0900d",
   "metadata": {},
   "outputs": [],
   "source": [
    "# lm = linear_model.LinearRegression()\n",
    "# model = lm.fit(X_train,y_train)"
   ]
  },
  {
   "cell_type": "code",
   "execution_count": 129,
   "id": "0d9b41c9",
   "metadata": {},
   "outputs": [],
   "source": [
    "# model.predict(X_test,y_test)\n",
    "# predictions = lm.predict(X_train)\n",
    "# r2_score(y_train, predictions)"
   ]
  },
  {
   "cell_type": "markdown",
   "id": "f1f7ac8c",
   "metadata": {},
   "source": [
    "## Features Selection using PCA"
   ]
  },
  {
   "cell_type": "code",
   "execution_count": 130,
   "id": "668ea18f",
   "metadata": {},
   "outputs": [],
   "source": [
    "from sklearn.decomposition import PCA"
   ]
  },
  {
   "cell_type": "code",
   "execution_count": 131,
   "id": "d6976cab",
   "metadata": {},
   "outputs": [
    {
     "data": {
      "text/plain": [
       "PCA()"
      ]
     },
     "execution_count": 131,
     "metadata": {},
     "output_type": "execute_result"
    }
   ],
   "source": [
    "pca = PCA()\n",
    "pca.fit(X_train)"
   ]
  },
  {
   "cell_type": "code",
   "execution_count": 132,
   "id": "1e0adb42",
   "metadata": {},
   "outputs": [
    {
     "data": {
      "text/plain": [
       "array([0.94, 0.05, 0.01, 0.  , 0.  , 0.  , 0.  , 0.  , 0.  , 0.  , 0.  ,\n",
       "       0.  , 0.  , 0.  , 0.  , 0.  , 0.  , 0.  , 0.  , 0.  , 0.  , 0.  ,\n",
       "       0.  , 0.  , 0.  , 0.  , 0.  , 0.  , 0.  , 0.  , 0.  , 0.  , 0.  ,\n",
       "       0.  , 0.  , 0.  , 0.  ])"
      ]
     },
     "execution_count": 132,
     "metadata": {},
     "output_type": "execute_result"
    }
   ],
   "source": [
    "pca.explained_variance_ratio_.round(2)"
   ]
  },
  {
   "cell_type": "markdown",
   "id": "e5df58a5",
   "metadata": {},
   "source": [
    "### Not that big difference between 10 & 20 features"
   ]
  },
  {
   "cell_type": "code",
   "execution_count": 133,
   "id": "d69f6a80",
   "metadata": {},
   "outputs": [
    {
     "data": {
      "text/plain": [
       "0.9999876865629406"
      ]
     },
     "execution_count": 133,
     "metadata": {},
     "output_type": "execute_result"
    }
   ],
   "source": [
    "pca.explained_variance_ratio_[:20].sum()"
   ]
  },
  {
   "cell_type": "code",
   "execution_count": 134,
   "id": "6f83dcf3",
   "metadata": {},
   "outputs": [
    {
     "data": {
      "text/plain": [
       "0.9997780608348975"
      ]
     },
     "execution_count": 134,
     "metadata": {},
     "output_type": "execute_result"
    }
   ],
   "source": [
    "pca.explained_variance_ratio_[:10].sum()"
   ]
  },
  {
   "cell_type": "code",
   "execution_count": 135,
   "id": "bc32ce3c",
   "metadata": {},
   "outputs": [
    {
     "data": {
      "text/plain": [
       "PCA(n_components=5)"
      ]
     },
     "execution_count": 135,
     "metadata": {},
     "output_type": "execute_result"
    }
   ],
   "source": [
    "pca = PCA(n_components = 5)\n",
    "pca.fit(X_train)"
   ]
  },
  {
   "cell_type": "code",
   "execution_count": 136,
   "id": "e42a4bd8",
   "metadata": {},
   "outputs": [
    {
     "data": {
      "text/plain": [
       "array([9.36773199e-01, 4.51489117e-02, 1.39543397e-02, 2.47063444e-03,\n",
       "       4.50320131e-04])"
      ]
     },
     "execution_count": 136,
     "metadata": {},
     "output_type": "execute_result"
    }
   ],
   "source": [
    "pca.explained_variance_ratio_"
   ]
  },
  {
   "cell_type": "code",
   "execution_count": 138,
   "id": "3c663067",
   "metadata": {},
   "outputs": [],
   "source": [
    "X_train_pca = pca.transform(X_train)\n",
    "X_test_pca = pca.transform(X_val)"
   ]
  },
  {
   "cell_type": "code",
   "execution_count": 140,
   "id": "6dbd86f8",
   "metadata": {},
   "outputs": [],
   "source": [
    "lm = LinearRegression()\n",
    "model = lm.fit(X_train_pca,y_train)"
   ]
  },
  {
   "cell_type": "code",
   "execution_count": 141,
   "id": "d1a25435",
   "metadata": {},
   "outputs": [
    {
     "data": {
      "text/plain": [
       "0.031110677959567234"
      ]
     },
     "execution_count": 141,
     "metadata": {},
     "output_type": "execute_result"
    }
   ],
   "source": [
    "# model.predict(X_test,y_test)\n",
    "predictions = lm.predict(X_train_pca)\n",
    "r2_score(y_train, predictions)"
   ]
  },
  {
   "cell_type": "markdown",
   "id": "29d78356",
   "metadata": {},
   "source": [
    "# WILL IMPROVE THE MODEL TOMORROW"
   ]
  },
  {
   "cell_type": "code",
   "execution_count": null,
   "id": "35037d58",
   "metadata": {},
   "outputs": [],
   "source": []
  }
 ],
 "metadata": {
  "kernelspec": {
   "display_name": "Python 3 (ipykernel)",
   "language": "python",
   "name": "python3"
  },
  "language_info": {
   "codemirror_mode": {
    "name": "ipython",
    "version": 3
   },
   "file_extension": ".py",
   "mimetype": "text/x-python",
   "name": "python",
   "nbconvert_exporter": "python",
   "pygments_lexer": "ipython3",
   "version": "3.8.12"
  }
 },
 "nbformat": 4,
 "nbformat_minor": 5
}
