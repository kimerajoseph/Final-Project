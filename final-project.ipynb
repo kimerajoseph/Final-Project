{
 "cells": [
  {
   "cell_type": "code",
   "execution_count": 1,
   "id": "13817bdc",
   "metadata": {},
   "outputs": [],
   "source": [
    "import numpy as np\n",
    "from pandas.io.json import json_normalize\n",
    "from sklearn.model_selection import cross_validate, train_test_split\n",
    "import seaborn as sns\n",
    "import matplotlib.pyplot as plt"
   ]
  },
  {
   "cell_type": "code",
   "execution_count": 2,
   "id": "03811800",
   "metadata": {},
   "outputs": [],
   "source": [
    "import pandas as pd\n",
    "data1 = pd.read_csv('tripadvisor_european_restaurants.csv', low_memory = False)\n",
    "#data.head()"
   ]
  },
  {
   "cell_type": "code",
   "execution_count": 3,
   "id": "db1bc33a",
   "metadata": {},
   "outputs": [
    {
     "data": {
      "text/html": [
       "<div>\n",
       "<style scoped>\n",
       "    .dataframe tbody tr th:only-of-type {\n",
       "        vertical-align: middle;\n",
       "    }\n",
       "\n",
       "    .dataframe tbody tr th {\n",
       "        vertical-align: top;\n",
       "    }\n",
       "\n",
       "    .dataframe thead th {\n",
       "        text-align: right;\n",
       "    }\n",
       "</style>\n",
       "<table border=\"1\" class=\"dataframe\">\n",
       "  <thead>\n",
       "    <tr style=\"text-align: right;\">\n",
       "      <th></th>\n",
       "      <th>restaurant_link</th>\n",
       "      <th>restaurant_name</th>\n",
       "      <th>original_location</th>\n",
       "      <th>country</th>\n",
       "      <th>region</th>\n",
       "      <th>province</th>\n",
       "      <th>city</th>\n",
       "      <th>address</th>\n",
       "      <th>latitude</th>\n",
       "      <th>longitude</th>\n",
       "      <th>...</th>\n",
       "      <th>excellent</th>\n",
       "      <th>very_good</th>\n",
       "      <th>average</th>\n",
       "      <th>poor</th>\n",
       "      <th>terrible</th>\n",
       "      <th>food</th>\n",
       "      <th>service</th>\n",
       "      <th>value</th>\n",
       "      <th>atmosphere</th>\n",
       "      <th>keywords</th>\n",
       "    </tr>\n",
       "  </thead>\n",
       "  <tbody>\n",
       "    <tr>\n",
       "      <th>0</th>\n",
       "      <td>g10001637-d10002227</td>\n",
       "      <td>Le 147</td>\n",
       "      <td>[\"Europe\", \"France\", \"Nouvelle-Aquitaine\", \"Ha...</td>\n",
       "      <td>France</td>\n",
       "      <td>Nouvelle-Aquitaine</td>\n",
       "      <td>Haute-Vienne</td>\n",
       "      <td>Saint-Jouvent</td>\n",
       "      <td>10 Maison Neuve, 87510 Saint-Jouvent France</td>\n",
       "      <td>45.961674</td>\n",
       "      <td>1.169131</td>\n",
       "      <td>...</td>\n",
       "      <td>2.0</td>\n",
       "      <td>0.0</td>\n",
       "      <td>0.0</td>\n",
       "      <td>0.0</td>\n",
       "      <td>0.0</td>\n",
       "      <td>4.0</td>\n",
       "      <td>4.5</td>\n",
       "      <td>4.0</td>\n",
       "      <td>NaN</td>\n",
       "      <td>NaN</td>\n",
       "    </tr>\n",
       "    <tr>\n",
       "      <th>1</th>\n",
       "      <td>g10001637-d14975787</td>\n",
       "      <td>Le Saint Jouvent</td>\n",
       "      <td>[\"Europe\", \"France\", \"Nouvelle-Aquitaine\", \"Ha...</td>\n",
       "      <td>France</td>\n",
       "      <td>Nouvelle-Aquitaine</td>\n",
       "      <td>Haute-Vienne</td>\n",
       "      <td>Saint-Jouvent</td>\n",
       "      <td>16 Place de l Eglise, 87510 Saint-Jouvent France</td>\n",
       "      <td>45.957040</td>\n",
       "      <td>1.205480</td>\n",
       "      <td>...</td>\n",
       "      <td>2.0</td>\n",
       "      <td>2.0</td>\n",
       "      <td>1.0</td>\n",
       "      <td>0.0</td>\n",
       "      <td>0.0</td>\n",
       "      <td>NaN</td>\n",
       "      <td>NaN</td>\n",
       "      <td>NaN</td>\n",
       "      <td>NaN</td>\n",
       "      <td>NaN</td>\n",
       "    </tr>\n",
       "    <tr>\n",
       "      <th>2</th>\n",
       "      <td>g10002858-d4586832</td>\n",
       "      <td>Au Bout du Pont</td>\n",
       "      <td>[\"Europe\", \"France\", \"Centre-Val de Loire\", \"B...</td>\n",
       "      <td>France</td>\n",
       "      <td>Centre-Val de Loire</td>\n",
       "      <td>Berry</td>\n",
       "      <td>Rivarennes</td>\n",
       "      <td>2 rue des Dames, 36800 Rivarennes France</td>\n",
       "      <td>46.635895</td>\n",
       "      <td>1.386133</td>\n",
       "      <td>...</td>\n",
       "      <td>3.0</td>\n",
       "      <td>1.0</td>\n",
       "      <td>0.0</td>\n",
       "      <td>0.0</td>\n",
       "      <td>0.0</td>\n",
       "      <td>NaN</td>\n",
       "      <td>NaN</td>\n",
       "      <td>NaN</td>\n",
       "      <td>NaN</td>\n",
       "      <td>NaN</td>\n",
       "    </tr>\n",
       "  </tbody>\n",
       "</table>\n",
       "<p>3 rows × 42 columns</p>\n",
       "</div>"
      ],
      "text/plain": [
       "       restaurant_link   restaurant_name  \\\n",
       "0  g10001637-d10002227            Le 147   \n",
       "1  g10001637-d14975787  Le Saint Jouvent   \n",
       "2   g10002858-d4586832   Au Bout du Pont   \n",
       "\n",
       "                                   original_location country  \\\n",
       "0  [\"Europe\", \"France\", \"Nouvelle-Aquitaine\", \"Ha...  France   \n",
       "1  [\"Europe\", \"France\", \"Nouvelle-Aquitaine\", \"Ha...  France   \n",
       "2  [\"Europe\", \"France\", \"Centre-Val de Loire\", \"B...  France   \n",
       "\n",
       "                region      province           city  \\\n",
       "0   Nouvelle-Aquitaine  Haute-Vienne  Saint-Jouvent   \n",
       "1   Nouvelle-Aquitaine  Haute-Vienne  Saint-Jouvent   \n",
       "2  Centre-Val de Loire         Berry     Rivarennes   \n",
       "\n",
       "                                            address   latitude  longitude  \\\n",
       "0       10 Maison Neuve, 87510 Saint-Jouvent France  45.961674   1.169131   \n",
       "1  16 Place de l Eglise, 87510 Saint-Jouvent France  45.957040   1.205480   \n",
       "2          2 rue des Dames, 36800 Rivarennes France  46.635895   1.386133   \n",
       "\n",
       "   ... excellent very_good average poor terrible food service value  \\\n",
       "0  ...       2.0       0.0     0.0  0.0      0.0  4.0     4.5   4.0   \n",
       "1  ...       2.0       2.0     1.0  0.0      0.0  NaN     NaN   NaN   \n",
       "2  ...       3.0       1.0     0.0  0.0      0.0  NaN     NaN   NaN   \n",
       "\n",
       "  atmosphere keywords  \n",
       "0        NaN      NaN  \n",
       "1        NaN      NaN  \n",
       "2        NaN      NaN  \n",
       "\n",
       "[3 rows x 42 columns]"
      ]
     },
     "execution_count": 3,
     "metadata": {},
     "output_type": "execute_result"
    }
   ],
   "source": [
    "data = data1.copy()\n",
    "data.head(3)"
   ]
  },
  {
   "cell_type": "code",
   "execution_count": 4,
   "id": "d8d8b509",
   "metadata": {},
   "outputs": [
    {
     "data": {
      "text/plain": [
       "Index(['restaurant_link', 'restaurant_name', 'original_location', 'country',\n",
       "       'region', 'province', 'city', 'address', 'latitude', 'longitude',\n",
       "       'claimed', 'awards', 'popularity_detailed', 'popularity_generic',\n",
       "       'top_tags', 'price_level', 'price_range', 'meals', 'cuisines',\n",
       "       'special_diets', 'features', 'vegetarian_friendly', 'vegan_options',\n",
       "       'gluten_free', 'original_open_hours', 'open_days_per_week',\n",
       "       'open_hours_per_week', 'working_shifts_per_week', 'avg_rating',\n",
       "       'total_reviews_count', 'default_language',\n",
       "       'reviews_count_in_default_language', 'excellent', 'very_good',\n",
       "       'average', 'poor', 'terrible', 'food', 'service', 'value', 'atmosphere',\n",
       "       'keywords'],\n",
       "      dtype='object')"
      ]
     },
     "execution_count": 4,
     "metadata": {},
     "output_type": "execute_result"
    }
   ],
   "source": [
    "data.columns"
   ]
  },
  {
   "cell_type": "code",
   "execution_count": 5,
   "id": "b92f2476",
   "metadata": {},
   "outputs": [
    {
     "data": {
      "text/plain": [
       "(1083397, 42)"
      ]
     },
     "execution_count": 5,
     "metadata": {},
     "output_type": "execute_result"
    }
   ],
   "source": [
    "data.shape"
   ]
  },
  {
   "cell_type": "code",
   "execution_count": 154,
   "id": "4347c653",
   "metadata": {},
   "outputs": [
    {
     "data": {
      "text/plain": [
       "Text(0.5, 1.0, 'Number of restaurants per country')"
      ]
     },
     "execution_count": 154,
     "metadata": {},
     "output_type": "execute_result"
    },
    {
     "data": {
      "image/png": "[encoded data removed]",
      "text/plain": [
       "<Figure size 1440x720 with 1 Axes>"
      ]
     },
     "metadata": {
      "needs_background": "light"
     },
     "output_type": "display_data"
    }
   ],
   "source": [
    "# customers['region'].hist()\n",
    "plt.figure(figsize=(20,10)) \n",
    "n, bins, patches = plt.hist(x=(data['country']), color='blue',\n",
    "                            alpha=0.7, rwidth=0.9)\n",
    "plt.grid(axis='y', alpha=0.9)\n",
    "plt.xlabel('Countries')\n",
    "plt.ylabel('Restaurant Count')\n",
    "plt.title('Number of restaurants per country')"
   ]
  },
  {
   "cell_type": "markdown",
   "id": "14ea306c",
   "metadata": {},
   "source": [
    "# DATA CLEANING"
   ]
  },
  {
   "cell_type": "markdown",
   "id": "2b1023ee",
   "metadata": {},
   "source": [
    "    1.Drop column \"popularity_generic\" because its similar to \"popularity_detailed\". It only replaces 'Restaurants to eat' with 'Places to eat'. A place to eat can be taken to mean restaurant\n",
    "    2. Drop \"Original_location\" column because where the restaurant originally started has little impact on its rating now. The current location is more important\n",
    "    3. Over 25% of rows in the \"price_level\" columns are emmpty. There is no 3# and 2# ratings in the data"
   ]
  },
  {
   "cell_type": "code",
   "execution_count": 6,
   "id": "d2a65315",
   "metadata": {},
   "outputs": [
    {
     "data": {
      "text/plain": [
       "0.2558665013840725"
      ]
     },
     "execution_count": 6,
     "metadata": {},
     "output_type": "execute_result"
    }
   ],
   "source": [
    "data['price_level'].isna().sum()/len(data)"
   ]
  },
  {
   "cell_type": "code",
   "execution_count": 7,
   "id": "0e1270ae",
   "metadata": {},
   "outputs": [
    {
     "data": {
      "text/plain": [
       "NaN          779070\n",
       "€10-€30        5937\n",
       "€5-€15         5810\n",
       "€10-€20        5148\n",
       "€5-€20         4793\n",
       "              ...  \n",
       "€5-€2,242         1\n",
       "€38-€63           1\n",
       "€11-€113          1\n",
       "€661-€862         1\n",
       "€35-€180          1\n",
       "Name: price_range, Length: 7299, dtype: int64"
      ]
     },
     "execution_count": 7,
     "metadata": {},
     "output_type": "execute_result"
    }
   ],
   "source": [
    "data['price_range'].value_counts(dropna = False)"
   ]
  },
  {
   "cell_type": "code",
   "execution_count": 8,
   "id": "79040132",
   "metadata": {},
   "outputs": [
    {
     "data": {
      "text/plain": [
       "0.7190992775501501"
      ]
     },
     "execution_count": 8,
     "metadata": {},
     "output_type": "execute_result"
    }
   ],
   "source": [
    "data['price_range'].isna().sum()/len(data)"
   ]
  },
  {
   "cell_type": "code",
   "execution_count": 9,
   "id": "b9d7dbc4",
   "metadata": {},
   "outputs": [],
   "source": [
    "#data['city'].value_counts()"
   ]
  },
  {
   "cell_type": "code",
   "execution_count": 10,
   "id": "b2823b25",
   "metadata": {},
   "outputs": [
    {
     "data": {
      "text/plain": [
       "110634"
      ]
     },
     "execution_count": 10,
     "metadata": {},
     "output_type": "execute_result"
    }
   ],
   "source": [
    "data['top_tags'].isna().sum()"
   ]
  },
  {
   "cell_type": "markdown",
   "id": "6aede488",
   "metadata": {},
   "source": [
    "## Check restaurants with no ratings,  description and cuisines"
   ]
  },
  {
   "cell_type": "code",
   "execution_count": 11,
   "id": "8c35a93f",
   "metadata": {},
   "outputs": [
    {
     "data": {
      "text/plain": [
       "(110617, 42)"
      ]
     },
     "execution_count": 11,
     "metadata": {},
     "output_type": "execute_result"
    }
   ],
   "source": [
    "restaurant_drop = data[(data['top_tags'].isna()) & (data['price_level'].isna())]\n",
    "restaurant_drop.shape"
   ]
  },
  {
   "cell_type": "code",
   "execution_count": 12,
   "id": "1f94c55c",
   "metadata": {},
   "outputs": [
    {
     "data": {
      "text/plain": [
       "NaN                                                            110634\n",
       "Mid-range, French                                               20211\n",
       "Mid-range                                                       19422\n",
       "Cheap Eats                                                      15864\n",
       "Mid-range, Italian                                              14363\n",
       "                                                                ...  \n",
       "Cheap Eats, Chinese, American, Asian                                1\n",
       "Quick Bites, Chinese, Fast food, Sushi                              1\n",
       "Bakeries, French, Spanish                                           1\n",
       "Mid-range, International, Catalan, Vegetarian Friendly              1\n",
       "Mid-range, Gastropub, Eastern European, Vegetarian Friendly         1\n",
       "Name: top_tags, Length: 39963, dtype: int64"
      ]
     },
     "execution_count": 12,
     "metadata": {},
     "output_type": "execute_result"
    }
   ],
   "source": [
    "data['top_tags'].value_counts(dropna = False)"
   ]
  },
  {
   "cell_type": "code",
   "execution_count": 13,
   "id": "3265c075",
   "metadata": {},
   "outputs": [
    {
     "data": {
      "text/plain": [
       "(110634, 42)"
      ]
     },
     "execution_count": 13,
     "metadata": {},
     "output_type": "execute_result"
    }
   ],
   "source": [
    "no_rating_restaurant = data[data['top_tags'].isna()]\n",
    "no_rating_restaurant.shape"
   ]
  },
  {
   "cell_type": "code",
   "execution_count": 14,
   "id": "8444ce9b",
   "metadata": {},
   "outputs": [],
   "source": [
    "#pokemon_games = df.loc[df['Name'].str.contains(\"pokemon\", case=False)]"
   ]
  },
  {
   "cell_type": "markdown",
   "id": "3fef96a8",
   "metadata": {},
   "source": [
    "## Its hard to fill out ratings without a description. These restaurants are a significant percentage of the data (10%). But even if i drop them, I still remain with enough sample data to build a recommender"
   ]
  },
  {
   "cell_type": "code",
   "execution_count": 15,
   "id": "7f25cf60",
   "metadata": {},
   "outputs": [
    {
     "data": {
      "text/plain": [
       "0.10211769092954845"
      ]
     },
     "execution_count": 15,
     "metadata": {},
     "output_type": "execute_result"
    }
   ],
   "source": [
    "len(no_rating_restaurant)/len(data)"
   ]
  },
  {
   "cell_type": "code",
   "execution_count": 16,
   "id": "8514aee9",
   "metadata": {},
   "outputs": [
    {
     "data": {
      "text/plain": [
       "(972763, 42)"
      ]
     },
     "execution_count": 16,
     "metadata": {},
     "output_type": "execute_result"
    }
   ],
   "source": [
    "data = data[~data['top_tags'].isna()]\n",
    "data.shape"
   ]
  },
  {
   "cell_type": "markdown",
   "id": "125a4b2d",
   "metadata": {},
   "source": [
    "## Remove bars and pubs"
   ]
  },
  {
   "cell_type": "code",
   "execution_count": 17,
   "id": "71b70225",
   "metadata": {},
   "outputs": [
    {
     "data": {
      "text/plain": [
       "(831905, 42)"
      ]
     },
     "execution_count": 17,
     "metadata": {},
     "output_type": "execute_result"
    }
   ],
   "source": [
    "data = data[~data['top_tags'].str.contains('pub', case = False)]\n",
    "data = data[~data['top_tags'].str.contains('bar', case = False)]\n",
    "data.shape"
   ]
  },
  {
   "cell_type": "markdown",
   "id": "9b4991a8",
   "metadata": {},
   "source": [
    "## Remove restaurants with no Cuisine specified"
   ]
  },
  {
   "cell_type": "code",
   "execution_count": 18,
   "id": "7a568d4f",
   "metadata": {},
   "outputs": [
    {
     "name": "stdout",
     "output_type": "stream",
     "text": [
      "(831905, 42)\n"
     ]
    },
    {
     "data": {
      "text/plain": [
       "(774358, 42)"
      ]
     },
     "execution_count": 18,
     "metadata": {},
     "output_type": "execute_result"
    }
   ],
   "source": [
    "print(data.shape)\n",
    "data = data[data['cuisines'].notnull()]\n",
    "data.shape"
   ]
  },
  {
   "cell_type": "code",
   "execution_count": 19,
   "id": "a04c2411",
   "metadata": {},
   "outputs": [
    {
     "data": {
      "text/plain": [
       "139834"
      ]
     },
     "execution_count": 19,
     "metadata": {},
     "output_type": "execute_result"
    }
   ],
   "source": [
    "data['price_level'].isna().sum()"
   ]
  },
  {
   "cell_type": "code",
   "execution_count": 20,
   "id": "4f5b0a94",
   "metadata": {},
   "outputs": [],
   "source": [
    "# conditions = [\n",
    "#     (df['Age'] < 20),\n",
    "#     (df['Age'] >= 20) & (df['Age'] < 40),\n",
    "#     (df['Age'] >= 40) & (df['Age'] < 59),\n",
    "#     (df['Age'] >= 60)\n",
    "# ]\n",
    "# values = ['<20 years old', '20-39 years old', '40-59 years old', '60+ years old']\n",
    "# df['Age Group'] = np.select(conditions, values)\n",
    "# print(df)"
   ]
  },
  {
   "cell_type": "code",
   "execution_count": 21,
   "id": "d60333d5",
   "metadata": {},
   "outputs": [
    {
     "data": {
      "text/plain": [
       "€€-€€€    421602\n",
       "€         188360\n",
       "NaN       139834\n",
       "€€€€       24562\n",
       "Name: price_level, dtype: int64"
      ]
     },
     "execution_count": 21,
     "metadata": {},
     "output_type": "execute_result"
    }
   ],
   "source": [
    "data['price_level'].value_counts(dropna = False)"
   ]
  },
  {
   "cell_type": "code",
   "execution_count": 22,
   "id": "a4f4a0d5",
   "metadata": {},
   "outputs": [
    {
     "data": {
      "text/plain": [
       "5.0    421602\n",
       "1.0    188360\n",
       "NaN    139834\n",
       "4.0     24562\n",
       "Name: price_level, dtype: int64"
      ]
     },
     "execution_count": 22,
     "metadata": {},
     "output_type": "execute_result"
    }
   ],
   "source": [
    "# Map Euro Counts to Numbers\n",
    "# To be done before assigning Null values ratings. If done after, it will map all values that are not present\n",
    "#in the mapping dictionary to NaN\n",
    "\n",
    "data['price_level'] = data['price_level'].map({'€€-€€€':5,'€€€€':4,'€':1})\n",
    "data['price_level'].value_counts(dropna = False)"
   ]
  },
  {
   "cell_type": "code",
   "execution_count": 23,
   "id": "993c4269",
   "metadata": {},
   "outputs": [],
   "source": [
    "# data = np.where(data['price_level'].isna(),label_rate(),data['price_level'])\n",
    "# data['price_level'].isna().sum()\n",
    "# data['price_level'] = data[data['price_level'].isna()].apply( data['cuisines'] : label_rate(data['cuisines']))"
   ]
  },
  {
   "cell_type": "code",
   "execution_count": 24,
   "id": "62d1d707",
   "metadata": {},
   "outputs": [],
   "source": [
    "#data[data['price_level'] == 1]"
   ]
  },
  {
   "cell_type": "code",
   "execution_count": 25,
   "id": "e63d030c",
   "metadata": {},
   "outputs": [
    {
     "data": {
      "text/plain": [
       "(139834, 42)"
      ]
     },
     "execution_count": 25,
     "metadata": {},
     "output_type": "execute_result"
    }
   ],
   "source": [
    "rest_without_rating = data[(data['price_level'].isna()) & (~data['top_tags'].isna())]\n",
    "rest_without_rating.shape"
   ]
  },
  {
   "cell_type": "code",
   "execution_count": 26,
   "id": "1d471f22",
   "metadata": {},
   "outputs": [
    {
     "data": {
      "text/plain": [
       "5.0    421602\n",
       "1.0    188360\n",
       "NaN    139834\n",
       "4.0     24562\n",
       "Name: price_level, dtype: int64"
      ]
     },
     "execution_count": 26,
     "metadata": {},
     "output_type": "execute_result"
    }
   ],
   "source": [
    "data['price_level'].value_counts(dropna = False)"
   ]
  },
  {
   "cell_type": "code",
   "execution_count": 27,
   "id": "ce9a51f6",
   "metadata": {},
   "outputs": [],
   "source": [
    "#rest_without_rating.to_csv(\"E:\\\\SKUL\\\\PROGRAMMING_SKULS\\\\ironhack\\\\COURSE\\\\Final-Year-Project\\\\Final Data\\\\ratings.csv\")"
   ]
  },
  {
   "cell_type": "code",
   "execution_count": 28,
   "id": "26ed3b6f",
   "metadata": {},
   "outputs": [
    {
     "data": {
      "text/plain": [
       "0.0"
      ]
     },
     "execution_count": 28,
     "metadata": {},
     "output_type": "execute_result"
    }
   ],
   "source": [
    "rest_without_rating['cuisines'].isna().sum()/len(rest_without_rating)"
   ]
  },
  {
   "cell_type": "markdown",
   "id": "3d5455b3",
   "metadata": {},
   "source": [
    "## Filling out ratings for restaurants without them\n",
    "### Assumptions \n",
    "    1.Every restaurant with the tags 'french','italian','german', 'european','portuguese','american','international' cuisines is considered good and allocated a 3-Star rating\n",
    "    2.Every restaurant with a cuisnine \"Street food\" is given a 1-Star rating"
   ]
  },
  {
   "cell_type": "code",
   "execution_count": 29,
   "id": "a46a5fcc",
   "metadata": {},
   "outputs": [],
   "source": [
    "# Function for assigning a rating to the restaurants\n",
    "\n",
    "three_star_labels = ['french','italian','german', 'european','portuguese','american','international','Japanese','Chinese']\n",
    "one_start_labels = ['street food','pizza']\n",
    "def label_rate(x):\n",
    "    x = x.lower()\n",
    "    if any(ext in x for ext in three_star_labels):\n",
    "        return 3\n",
    "    elif any(ext in x for ext in one_start_labels):\n",
    "        return 1\n",
    "    else:\n",
    "        return 2      \n",
    "    "
   ]
  },
  {
   "cell_type": "code",
   "execution_count": 30,
   "id": "1a5d8f2e",
   "metadata": {},
   "outputs": [],
   "source": [
    "# Get DF for restaurants without ratings but having cuisine types\n",
    "\n",
    "rest_without_rating = rest_without_rating[~rest_without_rating['cuisines'].isna()]\n",
    "rest_without_rating['price_level'] = rest_without_rating['cuisines'].apply(lambda x : label_rate(x))"
   ]
  },
  {
   "cell_type": "code",
   "execution_count": 31,
   "id": "e8018760",
   "metadata": {},
   "outputs": [
    {
     "data": {
      "text/plain": [
       "0"
      ]
     },
     "execution_count": 31,
     "metadata": {},
     "output_type": "execute_result"
    }
   ],
   "source": [
    "#rest_without_rating.to_csv(\"E:\\\\SKUL\\\\PROGRAMMING_SKULS\\\\ironhack\\\\COURSE\\\\Final-Year-Project\\\\Final Data\\\\ratings.csv\")\n",
    "rest_without_rating['price_level'].isna().sum()"
   ]
  },
  {
   "cell_type": "markdown",
   "id": "ce90ac18",
   "metadata": {},
   "source": [
    "### Combine the two dataframes and fill the NaN in the original data with the assigned ratings\n",
    "### After, delete the created dataframe to free up memory"
   ]
  },
  {
   "cell_type": "code",
   "execution_count": 32,
   "id": "3512cbc2",
   "metadata": {},
   "outputs": [],
   "source": [
    "#data.loc[rest_without_rating.index, :] = rest_without_rating[:]\n",
    "data = data.combine_first(rest_without_rating)\n",
    "del rest_without_rating"
   ]
  },
  {
   "cell_type": "code",
   "execution_count": 33,
   "id": "dd907e98",
   "metadata": {},
   "outputs": [
    {
     "name": "stdout",
     "output_type": "stream",
     "text": [
      "5.0    421602\n",
      "1.0    198355\n",
      "3.0     68170\n",
      "2.0     61669\n",
      "4.0     24562\n",
      "Name: price_level, dtype: int64\n"
     ]
    },
    {
     "data": {
      "text/plain": [
       "0"
      ]
     },
     "execution_count": 33,
     "metadata": {},
     "output_type": "execute_result"
    }
   ],
   "source": [
    "# Check if all NaN values have been filled out\n",
    "\n",
    "print(data['price_level'].value_counts(dropna = False))\n",
    "data['price_level'].isna().sum()"
   ]
  },
  {
   "cell_type": "code",
   "execution_count": 34,
   "id": "c6d64b8c",
   "metadata": {},
   "outputs": [],
   "source": [
    "#data.iloc[:1000].to_csv(\"E:\\\\SKUL\\\\PROGRAMMING_SKULS\\\\ironhack\\\\COURSE\\\\Final-Year-Project\\\\Final Data\\\\mydata.csv\")"
   ]
  },
  {
   "cell_type": "code",
   "execution_count": 35,
   "id": "b88a252e",
   "metadata": {},
   "outputs": [
    {
     "data": {
      "text/plain": [
       "(774358, 42)"
      ]
     },
     "execution_count": 35,
     "metadata": {},
     "output_type": "execute_result"
    }
   ],
   "source": [
    "data.shape"
   ]
  },
  {
   "cell_type": "markdown",
   "id": "5bdc7f31",
   "metadata": {},
   "source": [
    "# We have lost over 30% of our original data in this phase of data cleaning. I need a minimum of 500k restaurants"
   ]
  },
  {
   "cell_type": "markdown",
   "id": "3bdac00f",
   "metadata": {},
   "source": [
    "## Cleaning the meals column"
   ]
  },
  {
   "cell_type": "code",
   "execution_count": 36,
   "id": "f5073e6d",
   "metadata": {},
   "outputs": [
    {
     "data": {
      "text/plain": [
       "0.39024843806094855"
      ]
     },
     "execution_count": 36,
     "metadata": {},
     "output_type": "execute_result"
    }
   ],
   "source": [
    "data['meals'].isna().sum()/len(data)"
   ]
  },
  {
   "cell_type": "markdown",
   "id": "b8d60ad3",
   "metadata": {},
   "source": [
    "### About 39% of restaurants do not specify meal types\n",
    "### We removed all pubs, bars and those serving only breakfast\n",
    "### Safe to assume all our remaining restaurants atleast serve both lunch and dinner\n",
    "### Fill all NaN in meals with Lunch, Dinner"
   ]
  },
  {
   "cell_type": "code",
   "execution_count": 37,
   "id": "20817d18",
   "metadata": {},
   "outputs": [
    {
     "data": {
      "text/plain": [
       "0"
      ]
     },
     "execution_count": 37,
     "metadata": {},
     "output_type": "execute_result"
    }
   ],
   "source": [
    "data['meals'] = data['meals'].fillna('Lunch, Dinner')\n",
    "data['meals'].isna().sum()"
   ]
  },
  {
   "cell_type": "code",
   "execution_count": 38,
   "id": "19bb752f",
   "metadata": {},
   "outputs": [],
   "source": [
    "data['features'] = data['features'].astype(str)"
   ]
  },
  {
   "cell_type": "markdown",
   "id": "fce7ae40",
   "metadata": {},
   "source": [
    "## Fileter out restaurants that have won awards\n",
    "### Over 73% of restaurants have never won an award\n",
    "### Count Number of awards by counting the commas that appear in the string and add 1"
   ]
  },
  {
   "cell_type": "code",
   "execution_count": 39,
   "id": "7bb7e854",
   "metadata": {},
   "outputs": [
    {
     "data": {
      "text/plain": [
       "0.73"
      ]
     },
     "execution_count": 39,
     "metadata": {},
     "output_type": "execute_result"
    }
   ],
   "source": [
    "round(data['awards'].isna().sum()/len(data),2)"
   ]
  },
  {
   "cell_type": "code",
   "execution_count": 40,
   "id": "ce8c4fe1",
   "metadata": {},
   "outputs": [
    {
     "data": {
      "text/plain": [
       "568207"
      ]
     },
     "execution_count": 40,
     "metadata": {},
     "output_type": "execute_result"
    }
   ],
   "source": [
    "data['awards'].isna().sum()"
   ]
  },
  {
   "cell_type": "code",
   "execution_count": 41,
   "id": "0c47fa90",
   "metadata": {},
   "outputs": [
    {
     "data": {
      "text/plain": [
       "dtype('O')"
      ]
     },
     "execution_count": 41,
     "metadata": {},
     "output_type": "execute_result"
    }
   ],
   "source": [
    "data['awards'].dtypes"
   ]
  },
  {
   "cell_type": "code",
   "execution_count": 42,
   "id": "5229a5ee",
   "metadata": {},
   "outputs": [],
   "source": [
    "def awards(x):    \n",
    "    if x!= 0:\n",
    "        x = str(x)\n",
    "        return (x.count(\",\")+1)\n",
    "    else:\n",
    "        return 0"
   ]
  },
  {
   "cell_type": "code",
   "execution_count": 43,
   "id": "312e3ad6",
   "metadata": {},
   "outputs": [
    {
     "data": {
      "text/plain": [
       "0     568207\n",
       "2      40174\n",
       "1      38247\n",
       "3      34357\n",
       "4      25068\n",
       "5      19606\n",
       "6      16858\n",
       "7      12740\n",
       "8       9143\n",
       "9       5785\n",
       "10      2909\n",
       "11      1254\n",
       "12        10\n",
       "Name: awards, dtype: int64"
      ]
     },
     "execution_count": 43,
     "metadata": {},
     "output_type": "execute_result"
    }
   ],
   "source": [
    "#ASK JAN WHY I CANT FILL NaN WITH 0\n",
    "data['awards'].fillna(0, inplace = True)\n",
    "data['awards'] = data['awards'].apply(lambda x: awards(x))\n",
    "data['awards'].value_counts(dropna = False)"
   ]
  },
  {
   "cell_type": "code",
   "execution_count": 44,
   "id": "c327e332",
   "metadata": {},
   "outputs": [
    {
     "data": {
      "text/plain": [
       "568207"
      ]
     },
     "execution_count": 44,
     "metadata": {},
     "output_type": "execute_result"
    }
   ],
   "source": [
    "len(data[data['awards'] == 0])\n",
    "#.replace(np.nan, 0)"
   ]
  },
  {
   "cell_type": "code",
   "execution_count": 45,
   "id": "f0d45718",
   "metadata": {},
   "outputs": [
    {
     "data": {
      "text/plain": [
       "0"
      ]
     },
     "execution_count": 45,
     "metadata": {},
     "output_type": "execute_result"
    }
   ],
   "source": [
    "data['awards'].isna().sum()"
   ]
  },
  {
   "cell_type": "code",
   "execution_count": 46,
   "id": "efdb468b",
   "metadata": {},
   "outputs": [
    {
     "data": {
      "text/plain": [
       "(428762, 42)"
      ]
     },
     "execution_count": 46,
     "metadata": {},
     "output_type": "execute_result"
    }
   ],
   "source": [
    "all_data = data[~data['original_open_hours'].isna()]\n",
    "all_data.shape"
   ]
  },
  {
   "cell_type": "markdown",
   "id": "50c9c25a",
   "metadata": {},
   "source": [
    "## Encoding 'features' Column\n",
    "## My PC ran out of memory when i attempted to use onehot Encoding"
   ]
  },
  {
   "cell_type": "code",
   "execution_count": 47,
   "id": "505f1860",
   "metadata": {},
   "outputs": [],
   "source": [
    "data['reservations'] = np.where(data['features'].str.contains(\"Reservations\", case=False, na=False), 1, 0)\n",
    "data['seating'] = np.where(data['features'].str.contains(\"Seating\", case=False, na=False), 1, 0)\n",
    "data['wheel_chair'] = np.where(data['features'].str.contains(\"Wheelchair Accessible\", case=False, na=False), 1, 0)\n",
    "data['alcohol'] = np.where(data['features'].str.contains(\"Serves Alcohol\", case=False, na=False), 1, 0)\n",
    "data['credit_cards'] = np.where(data['features'].str.contains(\"Accepts Credit Cards\", case=False, na=False), 1, 0)\n",
    "data['table_service'] = np.where(data['features'].str.contains(\"Table Service\", case=False, na=False), 1, 0)\n",
    "data['takeout'] = np.where(data['features'].str.contains(\"Takeout\", case=False, na=False), 1, 0)\n",
    "data['outdoor'] = np.where(data['features'].str.contains(\"Outdoor Seating\", case=False, na=False), 1, 0)\n",
    "data['delivery'] = np.where(data['features'].str.contains(\"Delivery\", case=False, na=False), 1, 0)\n",
    "data['wifi'] = np.where(data['features'].str.contains(\"Free Wifi\", case=False, na=False), 1, 0)\n",
    "data['highchair'] = np.where(data['features'].str.contains(\"Highchairs Available\", case=False, na=False), 1, 0)\n",
    "data['full_bar'] = np.where(data['features'].str.contains(\"Full Bar\", case=False, na=False), 1, 0)\n",
    "data['parking'] = np.where(data['features'].str.contains(\"Parking Available\", case=False, na=False), 1, 0)\n",
    "data['street_parking'] = np.where(data['features'].str.contains(\"Free off-street parking\", case=False, na=False), 1, 0)"
   ]
  },
  {
   "cell_type": "code",
   "execution_count": 48,
   "id": "54084251",
   "metadata": {},
   "outputs": [],
   "source": [
    "#numerical = data.select_dtypes(include = np.number)\n",
    "#numerical.columns"
   ]
  },
  {
   "cell_type": "markdown",
   "id": "d087f2bb",
   "metadata": {},
   "source": [
    "## Encoding 'original_open_hours' column. Its a dictionary with keys (days of week) and value (open hours)"
   ]
  },
  {
   "cell_type": "markdown",
   "id": "d0d73727",
   "metadata": {},
   "source": [
    "### Program reads it as a string. Convert values from string to a dictionary\n",
    "### Assign all restaurants with no time specified uniform hours"
   ]
  },
  {
   "cell_type": "code",
   "execution_count": 49,
   "id": "2f9dcb26",
   "metadata": {},
   "outputs": [],
   "source": [
    "#data['original_open_hours'].value_counts(dropna = False)"
   ]
  },
  {
   "cell_type": "code",
   "execution_count": 50,
   "id": "d38fcaf7",
   "metadata": {},
   "outputs": [
    {
     "data": {
      "text/plain": [
       "'\\n{\"Mon\": [\"00:00-23:59\"], \"Tue\": [\"00:00-23:59\"], \"Wed\": [\"00:00-23:59\"], \"Thu\": [\"00:00-23:59\"], \\n \"Fri\": [\"00:00-23:59\"], \"Sat\": [\"00:00-23:59\"], \"Sun\": [\"00:00-23:59\"]}\\n'"
      ]
     },
     "execution_count": 50,
     "metadata": {},
     "output_type": "execute_result"
    }
   ],
   "source": [
    "# Below is the most commonly occuring working hours \n",
    "\n",
    "\"\"\"\n",
    "{\"Mon\": [\"00:00-23:59\"], \"Tue\": [\"00:00-23:59\"], \"Wed\": [\"00:00-23:59\"], \"Thu\": [\"00:00-23:59\"], \n",
    " \"Fri\": [\"00:00-23:59\"], \"Sat\": [\"00:00-23:59\"], \"Sun\": [\"00:00-23:59\"]}\n",
    "\"\"\""
   ]
  },
  {
   "cell_type": "code",
   "execution_count": null,
   "id": "61e70198",
   "metadata": {},
   "outputs": [],
   "source": []
  },
  {
   "cell_type": "code",
   "execution_count": 51,
   "id": "ac671e80",
   "metadata": {},
   "outputs": [],
   "source": [
    "import ast\n",
    "x = {\"Mon\": [\"00:00-23:59\"], \"Tue\": [\"00:00-23:59\"], \"Wed\": [\"00:00-23:59\"], \"Thu\": [\"00:00-23:59\"],\"Fri\": [\"00:00-23:59\"], \"Sat\": [\"00:00-23:59\"], \"Sun\": [\"00:00-23:59\"]}  \n",
    "#x = {\"Mon\": [\"09:00-14:30\"], \"Tue\": [\"09:00-14:30\", \"19:00-21:30\"], \"Wed\": [\"09:00-14:30\", \"19:00-21:30\"], \"Thu\": [\"09:00-14:30\", \"19:00-21:30\"], \"Fri\": [\"09:00-14:30\", \"19:00-22:00\"], \"Sat\": [\"09:00-14:30\", \"19:00-22:00\"], \"Sun\": [\"09:00-16:00\"]}\n",
    "x = str(x)\n",
    "x = x.replace('\"\"', \"''\")\n",
    "def convert_dict(l):\n",
    "    if l != 0:\n",
    "      return ast.literal_eval(l)  \n",
    "    else:       \n",
    "        return ast.literal_eval(x)"
   ]
  },
  {
   "cell_type": "code",
   "execution_count": 52,
   "id": "89db2eed",
   "metadata": {},
   "outputs": [],
   "source": [
    "data['original_open_hours'].fillna(0, inplace = True)\n",
    "data['original_open_hours'] = data['original_open_hours'].apply(lambda l : convert_dict(l))"
   ]
  },
  {
   "cell_type": "markdown",
   "id": "1c37680e",
   "metadata": {},
   "source": [
    "## Fill out 'open_days_per_week' and 'open_hours_per_week' columns based on values\n",
    "## in the 'original_open_hours' column\n",
    "## For the assigned hours and from data exploration, days_per_week = 7, hours_per_week = 84 and working shifts = 7"
   ]
  },
  {
   "cell_type": "code",
   "execution_count": 53,
   "id": "75fc028e",
   "metadata": {},
   "outputs": [
    {
     "data": {
      "text/plain": [
       "0    7.0\n",
       "2    7.0\n",
       "3    7.0\n",
       "4    7.0\n",
       "5    7.0\n",
       "Name: open_days_per_week, dtype: float64"
      ]
     },
     "execution_count": 53,
     "metadata": {},
     "output_type": "execute_result"
    }
   ],
   "source": [
    "ll = {\"Mon\": [\"00:00-23:59\"], \"Tue\": [\"00:00-23:59\"], \"Wed\": [\"00:00-23:59\"], \"Thu\": [\"00:00-23:59\"],\"Fri\": [\"00:00-23:59\"], \"Sat\": [\"00:00-23:59\"], \"Sun\": [\"00:00-23:59\"]} \n",
    "data['open_days_per_week'] = np.where(data['original_open_hours'] == ll,7,data['open_days_per_week'])\n",
    "data['open_days_per_week'].head()"
   ]
  },
  {
   "cell_type": "code",
   "execution_count": 54,
   "id": "385ef8cc",
   "metadata": {},
   "outputs": [
    {
     "data": {
      "text/plain": [
       "0    84.0\n",
       "2    84.0\n",
       "3    84.0\n",
       "4    84.0\n",
       "5    53.5\n",
       "Name: open_hours_per_week, dtype: float64"
      ]
     },
     "execution_count": 54,
     "metadata": {},
     "output_type": "execute_result"
    }
   ],
   "source": [
    "data['open_hours_per_week'] = np.where(data['original_open_hours'] == ll,84,data['open_hours_per_week'])\n",
    "data['open_hours_per_week'].head()"
   ]
  },
  {
   "cell_type": "code",
   "execution_count": 55,
   "id": "6766807f",
   "metadata": {},
   "outputs": [
    {
     "data": {
      "text/plain": [
       "0     7.0\n",
       "2     7.0\n",
       "3     7.0\n",
       "4     7.0\n",
       "5    12.0\n",
       "Name: working_shifts_per_week, dtype: float64"
      ]
     },
     "execution_count": 55,
     "metadata": {},
     "output_type": "execute_result"
    }
   ],
   "source": [
    "data['working_shifts_per_week'] = np.where(data['original_open_hours'] == ll,7,data['working_shifts_per_week'])\n",
    "data['working_shifts_per_week'].head()"
   ]
  },
  {
   "cell_type": "code",
   "execution_count": 56,
   "id": "fc483525",
   "metadata": {},
   "outputs": [],
   "source": [
    "#df = data[data['original_open_hours'] != 0]\n",
    "#df['Mon'] = df['original_open_hours'].apply(lambda x : x['Mon'])"
   ]
  },
  {
   "cell_type": "code",
   "execution_count": 57,
   "id": "0c0a560b",
   "metadata": {},
   "outputs": [],
   "source": [
    "data['mon'] = data['original_open_hours'].apply(lambda x : x['Mon'])\n",
    "data['tue'] = data['original_open_hours'].apply(lambda x : x['Tue'])\n",
    "data['wed'] = data['original_open_hours'].apply(lambda x : x['Wed'])\n",
    "data['thur'] = data['original_open_hours'].apply(lambda x : x['Thu'])\n",
    "data['fri'] = data['original_open_hours'].apply(lambda x : x['Fri'])\n",
    "data['sat'] = data['original_open_hours'].apply(lambda x : x['Sat'])\n",
    "data['sun'] = data['original_open_hours'].apply(lambda x : x['Sun'])"
   ]
  },
  {
   "cell_type": "code",
   "execution_count": 58,
   "id": "8626b45e",
   "metadata": {},
   "outputs": [
    {
     "data": {
      "text/html": [
       "<div>\n",
       "<style scoped>\n",
       "    .dataframe tbody tr th:only-of-type {\n",
       "        vertical-align: middle;\n",
       "    }\n",
       "\n",
       "    .dataframe tbody tr th {\n",
       "        vertical-align: top;\n",
       "    }\n",
       "\n",
       "    .dataframe thead th {\n",
       "        text-align: right;\n",
       "    }\n",
       "</style>\n",
       "<table border=\"1\" class=\"dataframe\">\n",
       "  <thead>\n",
       "    <tr style=\"text-align: right;\">\n",
       "      <th></th>\n",
       "      <th>mon</th>\n",
       "      <th>tue</th>\n",
       "      <th>wed</th>\n",
       "    </tr>\n",
       "  </thead>\n",
       "  <tbody>\n",
       "    <tr>\n",
       "      <th>0</th>\n",
       "      <td>[00:00-23:59]</td>\n",
       "      <td>[00:00-23:59]</td>\n",
       "      <td>[00:00-23:59]</td>\n",
       "    </tr>\n",
       "    <tr>\n",
       "      <th>2</th>\n",
       "      <td>[00:00-23:59]</td>\n",
       "      <td>[00:00-23:59]</td>\n",
       "      <td>[00:00-23:59]</td>\n",
       "    </tr>\n",
       "    <tr>\n",
       "      <th>3</th>\n",
       "      <td>[00:00-23:59]</td>\n",
       "      <td>[00:00-23:59]</td>\n",
       "      <td>[00:00-23:59]</td>\n",
       "    </tr>\n",
       "    <tr>\n",
       "      <th>4</th>\n",
       "      <td>[00:00-23:59]</td>\n",
       "      <td>[00:00-23:59]</td>\n",
       "      <td>[00:00-23:59]</td>\n",
       "    </tr>\n",
       "    <tr>\n",
       "      <th>5</th>\n",
       "      <td>[09:00-14:30]</td>\n",
       "      <td>[09:00-14:30, 19:00-21:30]</td>\n",
       "      <td>[09:00-14:30, 19:00-21:30]</td>\n",
       "    </tr>\n",
       "  </tbody>\n",
       "</table>\n",
       "</div>"
      ],
      "text/plain": [
       "             mon                         tue                         wed\n",
       "0  [00:00-23:59]               [00:00-23:59]               [00:00-23:59]\n",
       "2  [00:00-23:59]               [00:00-23:59]               [00:00-23:59]\n",
       "3  [00:00-23:59]               [00:00-23:59]               [00:00-23:59]\n",
       "4  [00:00-23:59]               [00:00-23:59]               [00:00-23:59]\n",
       "5  [09:00-14:30]  [09:00-14:30, 19:00-21:30]  [09:00-14:30, 19:00-21:30]"
      ]
     },
     "execution_count": 58,
     "metadata": {},
     "output_type": "execute_result"
    }
   ],
   "source": [
    "data[['mon','tue','wed']].head()"
   ]
  },
  {
   "cell_type": "markdown",
   "id": "776b2736",
   "metadata": {},
   "source": [
    "# Encoding 'default_language' column\n",
    "## Using Web scrapping to get official languages of European countries from Wikipedia\n",
    "## Assign restaurants the official country language of the countries where they are located\n",
    "### Over 47,000 restaurants are not assigned a language "
   ]
  },
  {
   "cell_type": "code",
   "execution_count": 59,
   "id": "d788b96b",
   "metadata": {},
   "outputs": [
    {
     "data": {
      "text/plain": [
       "English          522125\n",
       "All languages    204381\n",
       "NaN               47852\n",
       "Name: default_language, dtype: int64"
      ]
     },
     "execution_count": 59,
     "metadata": {},
     "output_type": "execute_result"
    }
   ],
   "source": [
    "data['default_language'].value_counts(dropna = False)"
   ]
  },
  {
   "cell_type": "code",
   "execution_count": 60,
   "id": "df2235ca",
   "metadata": {},
   "outputs": [],
   "source": [
    "import requests\n",
    "from bs4 import BeautifulSoup\n"
   ]
  },
  {
   "cell_type": "code",
   "execution_count": 61,
   "id": "af453563",
   "metadata": {},
   "outputs": [],
   "source": [
    "uri = 'https://en.wikipedia.org/wiki/Languages_of_the_European_Union'\n",
    "response = requests.get(uri)\n",
    "soup = BeautifulSoup(response.content, 'html.parser')\n",
    "#soup"
   ]
  },
  {
   "cell_type": "code",
   "execution_count": 62,
   "id": "b9eaa980",
   "metadata": {},
   "outputs": [],
   "source": [
    "countries = []\n",
    "languages = []\n",
    "for i in range(3,27):\n",
    "    language  =(soup.select(\"#mw-content-text > div.mw-parser-output > table:nth-child(16) > tbody > tr:nth-child(\" + str(i) + \") > td:nth-child(1) > a\")[0].text)\n",
    "    country = soup.select(\"#mw-content-text > div.mw-parser-output > table:nth-child(16) > tbody > tr:nth-child(\" + str(i) + \") > td:nth-child(2)\")[0].text.replace('\\n','')\n",
    "    #count = len(country.split()) --> DOES NOT WORK. SOME COUNTRIES HAVE DOUBLE SPACES\n",
    "    count = country.count(' ')   \n",
    "    if count > 1 and 'Czech' not in country:\n",
    "        countries.append(country.split())\n",
    "        languages.append(language)\n",
    "    else:\n",
    "        languages.append(language)\n",
    "        countries.append(country)\n"
   ]
  },
  {
   "cell_type": "code",
   "execution_count": 63,
   "id": "db2bcfeb",
   "metadata": {},
   "outputs": [
    {
     "name": "stdout",
     "output_type": "stream",
     "text": [
      "['Bulgarian', 'Croatian', 'Czech', 'Danish', 'Dutch', 'English', 'Estonian', 'Finnish', 'French', 'German', 'Greek', 'Hungarian', 'Irish', 'Italian', 'Latvian', 'Lithuanian', 'Maltese', 'Polish', 'Portuguese', 'Romanian', 'Slovak', 'Slovene', 'Spanish', 'Swedish']\n",
      "['Bulgaria', 'Croatia', 'Czech Republic', 'Denmark', ['Belgium', 'Netherlands'], ['Ireland', 'Malta'], 'Estonia', 'Finland', ['Belgium', 'France', 'Luxembourg'], ['Austria', 'Belgium', 'Germany', 'Luxembourg'], ['Cyprus', 'Greece'], 'Hungary', 'Ireland', 'Italy', 'Latvia', 'Lithuania', 'Malta', 'Poland', 'Portugal', 'Romania', 'Slovakia', 'Slovenia', 'Spain', ['Sweden', 'Finland']]\n"
     ]
    }
   ],
   "source": [
    "print(languages)\n",
    "print(countries)"
   ]
  },
  {
   "cell_type": "markdown",
   "id": "7f48bac9",
   "metadata": {},
   "source": [
    "## Cleaning the lists\n",
    "### There are languages spoken by multiple countries\n",
    "###  Belgium and Finland have more than one official language\n",
    "### Countries that appear more than twice are assigned the last instance where they appear (Ireland & Malta)"
   ]
  },
  {
   "cell_type": "code",
   "execution_count": 64,
   "id": "e5a912fa",
   "metadata": {},
   "outputs": [],
   "source": [
    "countries_and_languages = {}\n",
    "for country in countries:\n",
    "    for language in languages:\n",
    "        if isinstance(country, list) == True:\n",
    "            for i in range(len(country)):\n",
    "                countries_and_languages[country[i]] = language\n",
    "            languages.remove(language)\n",
    "            break\n",
    "            \n",
    "        else:\n",
    "            countries_and_languages[country] = language\n",
    "            languages.remove(language)\n",
    "            break\n",
    "        "
   ]
  },
  {
   "cell_type": "markdown",
   "id": "84723249",
   "metadata": {},
   "source": [
    "### The UK, Scotland, Wales and Northern Ireland are not part of the European Union but i want to include them in recommender\n",
    "### Fortunately, they all speak the same language. Will append them to the language dictionary"
   ]
  },
  {
   "cell_type": "code",
   "execution_count": 65,
   "id": "023bafe1",
   "metadata": {},
   "outputs": [
    {
     "data": {
      "text/plain": [
       "{'Bulgaria': 'Bulgarian',\n",
       " 'Croatia': 'Croatian',\n",
       " 'Czech Republic': 'Czech',\n",
       " 'Denmark': 'Danish',\n",
       " 'Belgium': 'German',\n",
       " 'Netherlands': 'Dutch',\n",
       " 'Ireland': 'Irish',\n",
       " 'Malta': 'Maltese',\n",
       " 'Estonia': 'Estonian',\n",
       " 'Finland': 'Swedish',\n",
       " 'France': 'French',\n",
       " 'Luxembourg': 'German',\n",
       " 'Austria': 'German',\n",
       " 'Germany': 'German',\n",
       " 'Cyprus': 'Greek',\n",
       " 'Greece': 'Greek',\n",
       " 'Hungary': 'Hungarian',\n",
       " 'Italy': 'Italian',\n",
       " 'Latvia': 'Latvian',\n",
       " 'Lithuania': 'Lithuanian',\n",
       " 'Poland': 'Polish',\n",
       " 'Portugal': 'Portuguese',\n",
       " 'Romania': 'Romanian',\n",
       " 'Slovakia': 'Slovak',\n",
       " 'Slovenia': 'Slovene',\n",
       " 'Spain': 'Spanish',\n",
       " 'Sweden': 'Swedish',\n",
       " 'England': 'English',\n",
       " 'Scotland': 'English',\n",
       " 'Wales': 'English',\n",
       " 'Northern Ireland': 'English'}"
      ]
     },
     "execution_count": 65,
     "metadata": {},
     "output_type": "execute_result"
    }
   ],
   "source": [
    "uk_countries = ['England','Scotland','Wales','Northern Ireland']\n",
    "for country in uk_countries:\n",
    "    countries_and_languages[country] = 'English'\n",
    "countries_and_languages"
   ]
  },
  {
   "cell_type": "markdown",
   "id": "7bfd3cd5",
   "metadata": {},
   "source": [
    "### I am populating a column based on values of another column\n",
    "### Create a new dataframe, fill the NaN in 'default_language' column based on values in the 'country' column\n",
    "### There are no NaNs in the 'country' column"
   ]
  },
  {
   "cell_type": "code",
   "execution_count": 66,
   "id": "c02312ab",
   "metadata": {},
   "outputs": [
    {
     "data": {
      "text/plain": [
       "0"
      ]
     },
     "metadata": {},
     "output_type": "display_data"
    },
    {
     "data": {
      "text/plain": [
       "47852"
      ]
     },
     "execution_count": 66,
     "metadata": {},
     "output_type": "execute_result"
    }
   ],
   "source": [
    "# Check for NaN in 'country' column\n",
    "display(data['country'].isna().sum())\n",
    "country_data = data[data['default_language'].isna()]\n",
    "len(country_data)"
   ]
  },
  {
   "cell_type": "code",
   "execution_count": 67,
   "id": "3f86ad8d",
   "metadata": {},
   "outputs": [],
   "source": [
    "def clean_country(x):\n",
    "    if x == 'The Netherlands':\n",
    "        return 'Netherlands'\n",
    "    else:\n",
    "        return x"
   ]
  },
  {
   "cell_type": "code",
   "execution_count": 68,
   "id": "453fd6c9",
   "metadata": {},
   "outputs": [
    {
     "name": "stderr",
     "output_type": "stream",
     "text": [
      "C:\\Users\\KIMERA\\AppData\\Local\\Temp/ipykernel_5292/3065780036.py:1: SettingWithCopyWarning: \n",
      "A value is trying to be set on a copy of a slice from a DataFrame.\n",
      "Try using .loc[row_indexer,col_indexer] = value instead\n",
      "\n",
      "See the caveats in the documentation: https://pandas.pydata.org/pandas-docs/stable/user_guide/indexing.html#returning-a-view-versus-a-copy\n",
      "  country_data['country'] = country_data['country'].apply(lambda x : clean_country(x))\n"
     ]
    },
    {
     "data": {
      "text/plain": [
       "Spain               7631\n",
       "Italy               7239\n",
       "France              5549\n",
       "Germany             5410\n",
       "England             5153\n",
       "Poland              2130\n",
       "Portugal            2085\n",
       "Greece              1959\n",
       "Netherlands         1428\n",
       "Czech Republic      1218\n",
       "Austria             1128\n",
       "Romania             1085\n",
       "Belgium             1067\n",
       "Sweden               830\n",
       "Hungary              494\n",
       "Finland              492\n",
       "Ireland              491\n",
       "Denmark              465\n",
       "Bulgaria             450\n",
       "Slovakia             422\n",
       "Scotland             405\n",
       "Croatia              355\n",
       "Wales                244\n",
       "Northern Ireland     122\n",
       "Name: country, dtype: int64"
      ]
     },
     "execution_count": 68,
     "metadata": {},
     "output_type": "execute_result"
    }
   ],
   "source": [
    "country_data['country'] = country_data['country'].apply(lambda x : clean_country(x))\n",
    "country_data['country'].value_counts(dropna = False)"
   ]
  },
  {
   "cell_type": "code",
   "execution_count": 69,
   "id": "7cc9663e",
   "metadata": {},
   "outputs": [],
   "source": [
    "def languages(x):\n",
    "    #x = str(x)\n",
    "    return countries_and_languages[x]"
   ]
  },
  {
   "cell_type": "code",
   "execution_count": 70,
   "id": "d8b4cef6",
   "metadata": {},
   "outputs": [
    {
     "name": "stderr",
     "output_type": "stream",
     "text": [
      "C:\\Users\\KIMERA\\AppData\\Local\\Temp/ipykernel_5292/3434592492.py:1: SettingWithCopyWarning: \n",
      "A value is trying to be set on a copy of a slice from a DataFrame.\n",
      "Try using .loc[row_indexer,col_indexer] = value instead\n",
      "\n",
      "See the caveats in the documentation: https://pandas.pydata.org/pandas-docs/stable/user_guide/indexing.html#returning-a-view-versus-a-copy\n",
      "  country_data['default_language'] = country_data['country'].apply(lambda x : countries_and_languages[x])\n"
     ]
    }
   ],
   "source": [
    "country_data['default_language'] = country_data['country'].apply(lambda x : countries_and_languages[x])"
   ]
  },
  {
   "cell_type": "code",
   "execution_count": 71,
   "id": "2c2e1b87",
   "metadata": {},
   "outputs": [
    {
     "data": {
      "text/plain": [
       "Spanish       7631\n",
       "German        7605\n",
       "Italian       7239\n",
       "English       5924\n",
       "French        5549\n",
       "Polish        2130\n",
       "Portuguese    2085\n",
       "Greek         1959\n",
       "Dutch         1428\n",
       "Swedish       1322\n",
       "Czech         1218\n",
       "Romanian      1085\n",
       "Hungarian      494\n",
       "Irish          491\n",
       "Danish         465\n",
       "Bulgarian      450\n",
       "Slovak         422\n",
       "Croatian       355\n",
       "Name: default_language, dtype: int64"
      ]
     },
     "execution_count": 71,
     "metadata": {},
     "output_type": "execute_result"
    }
   ],
   "source": [
    "country_data['default_language'].value_counts(dropna = False)"
   ]
  },
  {
   "cell_type": "markdown",
   "id": "089e8a1d",
   "metadata": {},
   "source": [
    "### Merge the two dataframes \n",
    "### After, delete the 'country_data' dataframe o save memory"
   ]
  },
  {
   "cell_type": "code",
   "execution_count": 72,
   "id": "e8c1347f",
   "metadata": {},
   "outputs": [
    {
     "data": {
      "text/plain": [
       "0"
      ]
     },
     "execution_count": 72,
     "metadata": {},
     "output_type": "execute_result"
    }
   ],
   "source": [
    "data = data.combine_first(country_data)\n",
    "len(data[data['default_language'].isna()])"
   ]
  },
  {
   "cell_type": "code",
   "execution_count": 73,
   "id": "3324f4a8",
   "metadata": {},
   "outputs": [],
   "source": [
    "del country_data"
   ]
  },
  {
   "cell_type": "markdown",
   "id": "f5e1a95a",
   "metadata": {},
   "source": [
    "## Cleaning the Average rating column\n",
    "### Only 6% of restaurants do not have ratings\n",
    "### Its small enough to be filled with the mean value"
   ]
  },
  {
   "cell_type": "code",
   "execution_count": 74,
   "id": "392f2d10",
   "metadata": {},
   "outputs": [
    {
     "data": {
      "text/plain": [
       "0.06321107291459506"
      ]
     },
     "execution_count": 74,
     "metadata": {},
     "output_type": "execute_result"
    }
   ],
   "source": [
    "data['avg_rating'].isna().sum()/len(data)"
   ]
  },
  {
   "cell_type": "code",
   "execution_count": 75,
   "id": "3796184b",
   "metadata": {},
   "outputs": [
    {
     "data": {
      "text/plain": [
       "0.0"
      ]
     },
     "execution_count": 75,
     "metadata": {},
     "output_type": "execute_result"
    }
   ],
   "source": [
    "data['avg_rating'].fillna(np.mean(data['avg_rating']), inplace = True)\n",
    "data['avg_rating'].isna().sum()/len(data)"
   ]
  },
  {
   "cell_type": "markdown",
   "id": "d4a1f591",
   "metadata": {},
   "source": [
    "## Check for NaN in the various reviews columns\n",
    "### All columns have the same percentage of NaN values (6%)\n",
    "### It is assumed that these restaurants have just not received any reviews"
   ]
  },
  {
   "cell_type": "code",
   "execution_count": 76,
   "id": "94856696",
   "metadata": {},
   "outputs": [
    {
     "data": {
      "text/plain": [
       "reviews_count_in_default_language    0.06\n",
       "excellent                            0.06\n",
       "very_good                            0.06\n",
       "average                              0.06\n",
       "poor                                 0.06\n",
       "terrible                             0.06\n",
       "dtype: float64"
      ]
     },
     "execution_count": 76,
     "metadata": {},
     "output_type": "execute_result"
    }
   ],
   "source": [
    "reviews_df = data[['reviews_count_in_default_language','excellent','very_good','average','poor','terrible']]\n",
    "round(reviews_df.isna().sum()/len(data),2)"
   ]
  },
  {
   "cell_type": "code",
   "execution_count": 77,
   "id": "d8f47240",
   "metadata": {},
   "outputs": [],
   "source": [
    "# DELETE DATAFRAME TO SAVE MEMORY\n",
    "del reviews_df"
   ]
  },
  {
   "cell_type": "markdown",
   "id": "73894a2c",
   "metadata": {},
   "source": [
    "## Processing Vegan Options"
   ]
  },
  {
   "cell_type": "code",
   "execution_count": 78,
   "id": "3dd102d3",
   "metadata": {},
   "outputs": [],
   "source": [
    "vegans_columns = ['vegetarian_friendly','vegan_options','gluten_free']\n",
    "for col in vegans_columns:\n",
    "    data[col] = data[col].map({'Y':1,'N':0})\n"
   ]
  },
  {
   "cell_type": "code",
   "execution_count": 79,
   "id": "ba302e56",
   "metadata": {},
   "outputs": [
    {
     "data": {
      "text/plain": [
       "0    661754\n",
       "1    112604\n",
       "Name: vegan_options, dtype: int64"
      ]
     },
     "execution_count": 79,
     "metadata": {},
     "output_type": "execute_result"
    }
   ],
   "source": [
    "\n",
    "data['vegan_options'].value_counts(dropna = False)"
   ]
  },
  {
   "cell_type": "code",
   "execution_count": 80,
   "id": "7cad7cb6",
   "metadata": {},
   "outputs": [
    {
     "data": {
      "text/plain": [
       "0    678507\n",
       "1     95851\n",
       "Name: gluten_free, dtype: int64"
      ]
     },
     "execution_count": 80,
     "metadata": {},
     "output_type": "execute_result"
    }
   ],
   "source": [
    "data['gluten_free'].value_counts(dropna = False)"
   ]
  },
  {
   "cell_type": "code",
   "execution_count": 81,
   "id": "ac9e1051",
   "metadata": {},
   "outputs": [
    {
     "data": {
      "text/plain": [
       "0    508622\n",
       "1    265736\n",
       "Name: vegetarian_friendly, dtype: int64"
      ]
     },
     "execution_count": 81,
     "metadata": {},
     "output_type": "execute_result"
    }
   ],
   "source": [
    "data['vegetarian_friendly'].value_counts(dropna = False)"
   ]
  },
  {
   "cell_type": "markdown",
   "id": "c4710062",
   "metadata": {},
   "source": [
    "## Process the Claimed Column\n",
    "### Claimed - Restaurant owners manages the account, post new content and respond to reviews\n",
    "### Unclaimed - The account is unmanaged and reviews do not get responses\n",
    "### Over 52.8% of restaurants are unclaimed"
   ]
  },
  {
   "cell_type": "code",
   "execution_count": 82,
   "id": "6e451fa3",
   "metadata": {},
   "outputs": [
    {
     "data": {
      "text/plain": [
       "0.528628877082693"
      ]
     },
     "execution_count": 82,
     "metadata": {},
     "output_type": "execute_result"
    }
   ],
   "source": [
    "unclaimed_perc = len(data[data['claimed'] == 'Unclaimed'])/len(data)\n",
    "unclaimed_perc"
   ]
  },
  {
   "cell_type": "code",
   "execution_count": 83,
   "id": "9f8db2c1",
   "metadata": {},
   "outputs": [
    {
     "data": {
      "text/plain": [
       "0    409348\n",
       "1    365010\n",
       "Name: claimed, dtype: int64"
      ]
     },
     "execution_count": 83,
     "metadata": {},
     "output_type": "execute_result"
    }
   ],
   "source": [
    "data['claimed'] = data['claimed'].map({'Claimed':1,'Unclaimed':0})\n",
    "data['claimed'].value_counts(dropna = False)"
   ]
  },
  {
   "cell_type": "code",
   "execution_count": 84,
   "id": "4a8a340f",
   "metadata": {},
   "outputs": [],
   "source": [
    "#data.iloc[:1000].to_csv(\"E:\\\\SKUL\\\\PROGRAMMING_SKULS\\\\ironhack\\\\COURSE\\\\Final-Year-Project\\\\Final Data\\\\mydata.csv\")"
   ]
  },
  {
   "cell_type": "code",
   "execution_count": 85,
   "id": "04419a5d",
   "metadata": {},
   "outputs": [
    {
     "data": {
      "text/plain": [
       "dtype('O')"
      ]
     },
     "execution_count": 85,
     "metadata": {},
     "output_type": "execute_result"
    }
   ],
   "source": [
    "data['price_range'].dtypes"
   ]
  },
  {
   "cell_type": "markdown",
   "id": "af21ce73",
   "metadata": {},
   "source": [
    "# USING MACHINE LEARNING\n",
    "## Applying Linear Regression to predict and fillout the missing values in the 'lower_limit' column"
   ]
  },
  {
   "cell_type": "code",
   "execution_count": 86,
   "id": "c515ecf4",
   "metadata": {},
   "outputs": [
    {
     "data": {
      "text/plain": [
       "0       NaN\n",
       "2       NaN\n",
       "3       NaN\n",
       "4       NaN\n",
       "5     14-29\n",
       "6      8-17\n",
       "7     10-35\n",
       "8     12-26\n",
       "10      NaN\n",
       "11      NaN\n",
       "Name: price_range, dtype: object"
      ]
     },
     "execution_count": 86,
     "metadata": {},
     "output_type": "execute_result"
    }
   ],
   "source": [
    "# REPLACE THE EUROS SIGN\n",
    "data['price_range'] = data['price_range'].str.replace('€','')\n",
    "data['price_range'].iloc[:10]"
   ]
  },
  {
   "cell_type": "code",
   "execution_count": 87,
   "id": "f7710fc2",
   "metadata": {},
   "outputs": [
    {
     "data": {
      "text/plain": [
       "0     nan\n",
       "2     nan\n",
       "3     nan\n",
       "4     nan\n",
       "5      14\n",
       "6       8\n",
       "7      10\n",
       "8      12\n",
       "10    nan\n",
       "11    nan\n",
       "Name: lower_limit, dtype: object"
      ]
     },
     "execution_count": 87,
     "metadata": {},
     "output_type": "execute_result"
    }
   ],
   "source": [
    "# GET THE LOWER LIMIT\n",
    "data['lower_limit'] = data['price_range'].apply(lambda x : str(x).split('-')[0])\n",
    "data['lower_limit'].head(10)"
   ]
  },
  {
   "cell_type": "markdown",
   "id": "33d6431f",
   "metadata": {},
   "source": [
    "## Switzerland doesnot use EUROS. Swiss use Swiss Francs\n",
    "### Processing the swiss francs"
   ]
  },
  {
   "cell_type": "code",
   "execution_count": 88,
   "id": "edc82567",
   "metadata": {},
   "outputs": [],
   "source": [
    "def swiss_francs(x):\n",
    "    y = str(x)\n",
    "    if 'CHF' in y:\n",
    "        # Keep the last two characters on the string\n",
    "        m = y[-2:]\n",
    "        #m = y.replace(\"CHF\"+\"\\\\xa\",\"\")\n",
    "        z = int(m) * 0.96\n",
    "        return z\n",
    "    else:\n",
    "        return y\n",
    "data['lower_limit'] = data['lower_limit'].apply(lambda x: swiss_francs(x))\n",
    "data['lower_limit'] = data['lower_limit'].apply(lambda x: str(x).replace(\",\",\"\"))\n",
    "data['lower_limit'] = data['lower_limit'].astype(float).round(2)"
   ]
  },
  {
   "cell_type": "markdown",
   "id": "3a6abc2b",
   "metadata": {},
   "source": [
    "### Convert 'nan' back to proper NaN => Its just a text"
   ]
  },
  {
   "cell_type": "code",
   "execution_count": 89,
   "id": "cad52d26",
   "metadata": {},
   "outputs": [
    {
     "data": {
      "text/plain": [
       "0     NaN\n",
       "2     NaN\n",
       "3     NaN\n",
       "4     NaN\n",
       "5    14.0\n",
       "6     8.0\n",
       "7    10.0\n",
       "Name: lower_limit, dtype: float64"
      ]
     },
     "execution_count": 89,
     "metadata": {},
     "output_type": "execute_result"
    }
   ],
   "source": [
    "data['lower_limit'] = data['lower_limit'].replace('nan',np.nan)\n",
    "data['lower_limit'].head(7)"
   ]
  },
  {
   "cell_type": "code",
   "execution_count": 90,
   "id": "365a5e41",
   "metadata": {},
   "outputs": [
    {
     "data": {
      "text/plain": [
       "530295"
      ]
     },
     "execution_count": 90,
     "metadata": {},
     "output_type": "execute_result"
    }
   ],
   "source": [
    "data['lower_limit'].isna().sum()"
   ]
  },
  {
   "cell_type": "code",
   "execution_count": 91,
   "id": "c0f4c7a0",
   "metadata": {},
   "outputs": [
    {
     "data": {
      "text/plain": [
       "5.0       26766\n",
       "10.0      25050\n",
       "2.0       22750\n",
       "3.0       20751\n",
       "6.0       15319\n",
       "          ...  \n",
       "1390.0        1\n",
       "583.0         1\n",
       "743.0         1\n",
       "1212.0        1\n",
       "174.0         1\n",
       "Name: lower_limit, Length: 371, dtype: int64"
      ]
     },
     "execution_count": 91,
     "metadata": {},
     "output_type": "execute_result"
    }
   ],
   "source": [
    "data['lower_limit'].value_counts()"
   ]
  },
  {
   "cell_type": "code",
   "execution_count": 92,
   "id": "1db9bb9d",
   "metadata": {},
   "outputs": [
    {
     "data": {
      "text/plain": [
       "dtype('float64')"
      ]
     },
     "execution_count": 92,
     "metadata": {},
     "output_type": "execute_result"
    }
   ],
   "source": [
    "data['lower_limit'].dtypes"
   ]
  },
  {
   "cell_type": "code",
   "execution_count": 93,
   "id": "642d149b",
   "metadata": {},
   "outputs": [],
   "source": [
    "#some are empty. Others have more than one range \n",
    "# count = 0\n",
    "# new_list = []\n",
    "# for item in my_list:\n",
    "#     if len(item) > 1:\n",
    "#         count += 1\n",
    "#     elif len(item)==1:\n",
    "#         new_list.append(item[0])\n",
    "    \n",
    "# print(count)\n",
    "# print(\"PERCENTAGE: \", count/len(my_list))\n",
    "# #print(my_list)"
   ]
  },
  {
   "cell_type": "code",
   "execution_count": 94,
   "id": "859cc445",
   "metadata": {},
   "outputs": [],
   "source": [
    "#new_list"
   ]
  },
  {
   "cell_type": "markdown",
   "id": "96a237c6",
   "metadata": {},
   "source": [
    "## PROCESSING OPENING AND CLOSING TIMES"
   ]
  },
  {
   "cell_type": "code",
   "execution_count": 95,
   "id": "b759334f",
   "metadata": {},
   "outputs": [],
   "source": [
    "# FUNCTION FOR OPEN TIME\n",
    "def clean_time(x):\n",
    "    if len(x) >= 1:\n",
    "        y = x[0]\n",
    "        z = str(y).split(\"-\")[0][:2]\n",
    "        return z\n",
    "    else:\n",
    "        return 0\n",
    "\n",
    "# FUNCTION FOR CLOSE TIME\n",
    "def clean_time_close(x):\n",
    "    if len(x) == 1:\n",
    "        y = x[0]\n",
    "        z = str(y).split(\"-\")[1][:2]\n",
    "        #str(x[1]).split(\"-\")[1][:2]\n",
    "        return z\n",
    "    elif len(x) > 1:\n",
    "        # GET LAST ELEMENT OF LIST\n",
    "        y = list(x)\n",
    "        z = str(y[-1]).split(\"-\")[1][:2]\n",
    "        return z\n",
    "       \n",
    "    else:\n",
    "        return 0       "
   ]
  },
  {
   "cell_type": "code",
   "execution_count": 96,
   "id": "26729da6",
   "metadata": {},
   "outputs": [],
   "source": [
    "col_process_list = ['mon','tue','wed','thur','fri','sat','sun']\n",
    "for col in col_process_list:\n",
    "    new_col = col+'_open'\n",
    "    new_col_close = col+'_close'\n",
    "    #print(new_col)\n",
    "    #data_copy[new_col] = data_copy[col].apply(lambda x: clean_time_close(x))\n",
    "    data[new_col] = data[col].apply(lambda x: clean_time(x)).astype(int)\n",
    "    \n",
    "    #print(new_col)\n",
    "    data[new_col_close] = data[col].apply(lambda x: clean_time_close(x)).astype(int)"
   ]
  },
  {
   "cell_type": "code",
   "execution_count": 97,
   "id": "b98cb34a",
   "metadata": {},
   "outputs": [],
   "source": [
    "# DROP ORIGINAL COLUMNS\n",
    "data = data.drop(col_process_list, axis = 1)"
   ]
  },
  {
   "cell_type": "code",
   "execution_count": 98,
   "id": "047a892b",
   "metadata": {},
   "outputs": [
    {
     "data": {
      "text/plain": [
       "Index(['restaurant_link', 'restaurant_name', 'original_location', 'country',\n",
       "       'region', 'province', 'city', 'address', 'latitude', 'longitude',\n",
       "       'claimed', 'awards', 'popularity_detailed', 'popularity_generic',\n",
       "       'top_tags', 'price_level', 'price_range', 'meals', 'cuisines',\n",
       "       'special_diets', 'features', 'vegetarian_friendly', 'vegan_options',\n",
       "       'gluten_free', 'original_open_hours', 'open_days_per_week',\n",
       "       'open_hours_per_week', 'working_shifts_per_week', 'avg_rating',\n",
       "       'total_reviews_count', 'default_language',\n",
       "       'reviews_count_in_default_language', 'excellent', 'very_good',\n",
       "       'average', 'poor', 'terrible', 'food', 'service', 'value', 'atmosphere',\n",
       "       'keywords', 'reservations', 'seating', 'wheel_chair', 'alcohol',\n",
       "       'credit_cards', 'table_service', 'takeout', 'outdoor', 'delivery',\n",
       "       'wifi', 'highchair', 'full_bar', 'parking', 'street_parking',\n",
       "       'lower_limit', 'mon_open', 'mon_close', 'tue_open', 'tue_close',\n",
       "       'wed_open', 'wed_close', 'thur_open', 'thur_close', 'fri_open',\n",
       "       'fri_close', 'sat_open', 'sat_close', 'sun_open', 'sun_close'],\n",
       "      dtype='object')"
      ]
     },
     "execution_count": 98,
     "metadata": {},
     "output_type": "execute_result"
    }
   ],
   "source": [
    "data.columns"
   ]
  },
  {
   "cell_type": "code",
   "execution_count": 99,
   "id": "59cc5645",
   "metadata": {},
   "outputs": [
    {
     "data": {
      "text/plain": [
       "Series([], Name: mon_close, dtype: int32)"
      ]
     },
     "execution_count": 99,
     "metadata": {},
     "output_type": "execute_result"
    }
   ],
   "source": [
    "data['mon_close'][data['mon_close'] == '00'].head(10)"
   ]
  },
  {
   "cell_type": "code",
   "execution_count": 100,
   "id": "9435099f",
   "metadata": {},
   "outputs": [
    {
     "data": {
      "text/plain": [
       "0    0\n",
       "2    0\n",
       "3    0\n",
       "4    0\n",
       "5    9\n",
       "Name: mon_open, dtype: int32"
      ]
     },
     "execution_count": 100,
     "metadata": {},
     "output_type": "execute_result"
    }
   ],
   "source": [
    "data['mon_open'].head()"
   ]
  },
  {
   "cell_type": "code",
   "execution_count": 101,
   "id": "0cc00102",
   "metadata": {},
   "outputs": [
    {
     "data": {
      "text/plain": [
       "0    23\n",
       "2    23\n",
       "3    23\n",
       "4    23\n",
       "5    14\n",
       "Name: mon_close, dtype: int32"
      ]
     },
     "execution_count": 101,
     "metadata": {},
     "output_type": "execute_result"
    }
   ],
   "source": [
    "data['mon_close'].head()"
   ]
  },
  {
   "cell_type": "markdown",
   "id": "b8e4e0ee",
   "metadata": {},
   "source": [
    "# MACHINE LEARNING\n",
    "## Training a model on the dataframe where the lower_limit column value is given\n",
    "## Use the model to predict the values in lower_limit column"
   ]
  },
  {
   "cell_type": "markdown",
   "id": "91238155",
   "metadata": {},
   "source": [
    "## Get dataframe where price_level is not NaN (ml_df)\n",
    "### Only 31.5% of values are given \n",
    "### 244k rows are enough to train the model"
   ]
  },
  {
   "cell_type": "code",
   "execution_count": 102,
   "id": "fc092591",
   "metadata": {},
   "outputs": [
    {
     "data": {
      "text/plain": [
       "(244063, 71)"
      ]
     },
     "execution_count": 102,
     "metadata": {},
     "output_type": "execute_result"
    }
   ],
   "source": [
    "ml_df = data[~data['lower_limit'].isna()]\n",
    "ml_df.shape"
   ]
  },
  {
   "cell_type": "code",
   "execution_count": 103,
   "id": "86ddd67f",
   "metadata": {},
   "outputs": [
    {
     "data": {
      "text/plain": [
       "0.31518109194971833"
      ]
     },
     "execution_count": 103,
     "metadata": {},
     "output_type": "execute_result"
    }
   ],
   "source": [
    "len(ml_df)/len(data)"
   ]
  },
  {
   "cell_type": "markdown",
   "id": "141f4e4d",
   "metadata": {},
   "source": [
    "## Get Numerical columns and treat NaN\n",
    "### Delete the ml_df to save memory"
   ]
  },
  {
   "cell_type": "code",
   "execution_count": 104,
   "id": "fcf653ef",
   "metadata": {},
   "outputs": [
    {
     "data": {
      "text/html": [
       "<div>\n",
       "<style scoped>\n",
       "    .dataframe tbody tr th:only-of-type {\n",
       "        vertical-align: middle;\n",
       "    }\n",
       "\n",
       "    .dataframe tbody tr th {\n",
       "        vertical-align: top;\n",
       "    }\n",
       "\n",
       "    .dataframe thead th {\n",
       "        text-align: right;\n",
       "    }\n",
       "</style>\n",
       "<table border=\"1\" class=\"dataframe\">\n",
       "  <thead>\n",
       "    <tr style=\"text-align: right;\">\n",
       "      <th></th>\n",
       "      <th>latitude</th>\n",
       "      <th>longitude</th>\n",
       "      <th>claimed</th>\n",
       "      <th>awards</th>\n",
       "      <th>price_level</th>\n",
       "      <th>vegetarian_friendly</th>\n",
       "      <th>vegan_options</th>\n",
       "      <th>gluten_free</th>\n",
       "      <th>open_days_per_week</th>\n",
       "      <th>open_hours_per_week</th>\n",
       "      <th>...</th>\n",
       "      <th>wed_open</th>\n",
       "      <th>wed_close</th>\n",
       "      <th>thur_open</th>\n",
       "      <th>thur_close</th>\n",
       "      <th>fri_open</th>\n",
       "      <th>fri_close</th>\n",
       "      <th>sat_open</th>\n",
       "      <th>sat_close</th>\n",
       "      <th>sun_open</th>\n",
       "      <th>sun_close</th>\n",
       "    </tr>\n",
       "  </thead>\n",
       "  <tbody>\n",
       "    <tr>\n",
       "      <th>5</th>\n",
       "      <td>46.169823</td>\n",
       "      <td>3.855819</td>\n",
       "      <td>1</td>\n",
       "      <td>2</td>\n",
       "      <td>5.0</td>\n",
       "      <td>0</td>\n",
       "      <td>0</td>\n",
       "      <td>0</td>\n",
       "      <td>7.0</td>\n",
       "      <td>53.5</td>\n",
       "      <td>...</td>\n",
       "      <td>9</td>\n",
       "      <td>21</td>\n",
       "      <td>9</td>\n",
       "      <td>21</td>\n",
       "      <td>9</td>\n",
       "      <td>22</td>\n",
       "      <td>9</td>\n",
       "      <td>22</td>\n",
       "      <td>9</td>\n",
       "      <td>16</td>\n",
       "    </tr>\n",
       "    <tr>\n",
       "      <th>6</th>\n",
       "      <td>44.233078</td>\n",
       "      <td>4.251449</td>\n",
       "      <td>1</td>\n",
       "      <td>0</td>\n",
       "      <td>5.0</td>\n",
       "      <td>0</td>\n",
       "      <td>0</td>\n",
       "      <td>0</td>\n",
       "      <td>5.0</td>\n",
       "      <td>30.0</td>\n",
       "      <td>...</td>\n",
       "      <td>12</td>\n",
       "      <td>22</td>\n",
       "      <td>12</td>\n",
       "      <td>22</td>\n",
       "      <td>12</td>\n",
       "      <td>22</td>\n",
       "      <td>12</td>\n",
       "      <td>22</td>\n",
       "      <td>12</td>\n",
       "      <td>22</td>\n",
       "    </tr>\n",
       "    <tr>\n",
       "      <th>7</th>\n",
       "      <td>43.360023</td>\n",
       "      <td>2.219851</td>\n",
       "      <td>1</td>\n",
       "      <td>5</td>\n",
       "      <td>5.0</td>\n",
       "      <td>1</td>\n",
       "      <td>0</td>\n",
       "      <td>0</td>\n",
       "      <td>6.0</td>\n",
       "      <td>24.0</td>\n",
       "      <td>...</td>\n",
       "      <td>10</td>\n",
       "      <td>14</td>\n",
       "      <td>10</td>\n",
       "      <td>14</td>\n",
       "      <td>10</td>\n",
       "      <td>14</td>\n",
       "      <td>10</td>\n",
       "      <td>14</td>\n",
       "      <td>10</td>\n",
       "      <td>14</td>\n",
       "    </tr>\n",
       "    <tr>\n",
       "      <th>8</th>\n",
       "      <td>42.934000</td>\n",
       "      <td>0.936559</td>\n",
       "      <td>1</td>\n",
       "      <td>0</td>\n",
       "      <td>5.0</td>\n",
       "      <td>0</td>\n",
       "      <td>0</td>\n",
       "      <td>0</td>\n",
       "      <td>5.0</td>\n",
       "      <td>14.0</td>\n",
       "      <td>...</td>\n",
       "      <td>12</td>\n",
       "      <td>14</td>\n",
       "      <td>12</td>\n",
       "      <td>14</td>\n",
       "      <td>12</td>\n",
       "      <td>21</td>\n",
       "      <td>19</td>\n",
       "      <td>21</td>\n",
       "      <td>12</td>\n",
       "      <td>21</td>\n",
       "    </tr>\n",
       "    <tr>\n",
       "      <th>14</th>\n",
       "      <td>43.315163</td>\n",
       "      <td>6.076051</td>\n",
       "      <td>1</td>\n",
       "      <td>0</td>\n",
       "      <td>5.0</td>\n",
       "      <td>0</td>\n",
       "      <td>0</td>\n",
       "      <td>0</td>\n",
       "      <td>6.0</td>\n",
       "      <td>20.5</td>\n",
       "      <td>...</td>\n",
       "      <td>11</td>\n",
       "      <td>14</td>\n",
       "      <td>11</td>\n",
       "      <td>14</td>\n",
       "      <td>11</td>\n",
       "      <td>21</td>\n",
       "      <td>11</td>\n",
       "      <td>21</td>\n",
       "      <td>11</td>\n",
       "      <td>14</td>\n",
       "    </tr>\n",
       "  </tbody>\n",
       "</table>\n",
       "<p>5 rows × 52 columns</p>\n",
       "</div>"
      ],
      "text/plain": [
       "     latitude  longitude  claimed  awards  price_level  vegetarian_friendly  \\\n",
       "5   46.169823   3.855819        1       2          5.0                    0   \n",
       "6   44.233078   4.251449        1       0          5.0                    0   \n",
       "7   43.360023   2.219851        1       5          5.0                    1   \n",
       "8   42.934000   0.936559        1       0          5.0                    0   \n",
       "14  43.315163   6.076051        1       0          5.0                    0   \n",
       "\n",
       "    vegan_options  gluten_free  open_days_per_week  open_hours_per_week  ...  \\\n",
       "5               0            0                 7.0                 53.5  ...   \n",
       "6               0            0                 5.0                 30.0  ...   \n",
       "7               0            0                 6.0                 24.0  ...   \n",
       "8               0            0                 5.0                 14.0  ...   \n",
       "14              0            0                 6.0                 20.5  ...   \n",
       "\n",
       "    wed_open  wed_close  thur_open  thur_close  fri_open  fri_close  sat_open  \\\n",
       "5          9         21          9          21         9         22         9   \n",
       "6         12         22         12          22        12         22        12   \n",
       "7         10         14         10          14        10         14        10   \n",
       "8         12         14         12          14        12         21        19   \n",
       "14        11         14         11          14        11         21        11   \n",
       "\n",
       "    sat_close  sun_open  sun_close  \n",
       "5          22         9         16  \n",
       "6          22        12         22  \n",
       "7          14        10         14  \n",
       "8          21        12         21  \n",
       "14         21        11         14  \n",
       "\n",
       "[5 rows x 52 columns]"
      ]
     },
     "execution_count": 104,
     "metadata": {},
     "output_type": "execute_result"
    }
   ],
   "source": [
    "numerical = ml_df.select_dtypes(include = np.number)\n",
    "numerical.head()"
   ]
  },
  {
   "cell_type": "code",
   "execution_count": 105,
   "id": "3486bbc4",
   "metadata": {},
   "outputs": [],
   "source": [
    "del ml_df"
   ]
  },
  {
   "cell_type": "code",
   "execution_count": 106,
   "id": "7937663c",
   "metadata": {},
   "outputs": [
    {
     "data": {
      "text/plain": [
       "latitude                              1.0\n",
       "longitude                             1.0\n",
       "claimed                               0.0\n",
       "awards                                0.0\n",
       "price_level                           0.0\n",
       "vegetarian_friendly                   0.0\n",
       "vegan_options                         0.0\n",
       "gluten_free                           0.0\n",
       "open_days_per_week                    0.0\n",
       "open_hours_per_week                   0.0\n",
       "working_shifts_per_week               0.0\n",
       "avg_rating                            0.0\n",
       "total_reviews_count                   4.0\n",
       "reviews_count_in_default_language     8.0\n",
       "excellent                             8.0\n",
       "very_good                             8.0\n",
       "average                               8.0\n",
       "poor                                  8.0\n",
       "terrible                              8.0\n",
       "food                                 38.0\n",
       "service                              37.0\n",
       "value                                38.0\n",
       "atmosphere                           73.0\n",
       "reservations                          0.0\n",
       "seating                               0.0\n",
       "wheel_chair                           0.0\n",
       "alcohol                               0.0\n",
       "credit_cards                          0.0\n",
       "table_service                         0.0\n",
       "takeout                               0.0\n",
       "outdoor                               0.0\n",
       "delivery                              0.0\n",
       "wifi                                  0.0\n",
       "highchair                             0.0\n",
       "full_bar                              0.0\n",
       "parking                               0.0\n",
       "street_parking                        0.0\n",
       "lower_limit                           0.0\n",
       "mon_open                              0.0\n",
       "mon_close                             0.0\n",
       "tue_open                              0.0\n",
       "tue_close                             0.0\n",
       "wed_open                              0.0\n",
       "wed_close                             0.0\n",
       "thur_open                             0.0\n",
       "thur_close                            0.0\n",
       "fri_open                              0.0\n",
       "fri_close                             0.0\n",
       "sat_open                              0.0\n",
       "sat_close                             0.0\n",
       "sun_open                              0.0\n",
       "sun_close                             0.0\n",
       "dtype: float64"
      ]
     },
     "execution_count": 106,
     "metadata": {},
     "output_type": "execute_result"
    }
   ],
   "source": [
    "all_cols = round(numerical.isna().sum()/len(numerical),2)* 100\n",
    "all_cols"
   ]
  },
  {
   "cell_type": "markdown",
   "id": "7b93df29",
   "metadata": {},
   "source": [
    "## Drop columns that have over 30% NaN"
   ]
  },
  {
   "cell_type": "code",
   "execution_count": 107,
   "id": "58966bba",
   "metadata": {},
   "outputs": [],
   "source": [
    "cols_with_high_perc = ['food','service','value','atmosphere']\n",
    "numerical = numerical.drop(cols_with_high_perc, axis =1)"
   ]
  },
  {
   "cell_type": "code",
   "execution_count": 108,
   "id": "6d6c0c27",
   "metadata": {},
   "outputs": [
    {
     "data": {
      "text/html": [
       "<div>\n",
       "<style scoped>\n",
       "    .dataframe tbody tr th:only-of-type {\n",
       "        vertical-align: middle;\n",
       "    }\n",
       "\n",
       "    .dataframe tbody tr th {\n",
       "        vertical-align: top;\n",
       "    }\n",
       "\n",
       "    .dataframe thead th {\n",
       "        text-align: right;\n",
       "    }\n",
       "</style>\n",
       "<table border=\"1\" class=\"dataframe\">\n",
       "  <thead>\n",
       "    <tr style=\"text-align: right;\">\n",
       "      <th></th>\n",
       "      <th>0</th>\n",
       "    </tr>\n",
       "  </thead>\n",
       "  <tbody>\n",
       "    <tr>\n",
       "      <th>latitude</th>\n",
       "      <td>1.0</td>\n",
       "    </tr>\n",
       "    <tr>\n",
       "      <th>longitude</th>\n",
       "      <td>1.0</td>\n",
       "    </tr>\n",
       "    <tr>\n",
       "      <th>claimed</th>\n",
       "      <td>0.0</td>\n",
       "    </tr>\n",
       "    <tr>\n",
       "      <th>awards</th>\n",
       "      <td>0.0</td>\n",
       "    </tr>\n",
       "    <tr>\n",
       "      <th>price_level</th>\n",
       "      <td>0.0</td>\n",
       "    </tr>\n",
       "  </tbody>\n",
       "</table>\n",
       "</div>"
      ],
      "text/plain": [
       "               0\n",
       "latitude     1.0\n",
       "longitude    1.0\n",
       "claimed      0.0\n",
       "awards       0.0\n",
       "price_level  0.0"
      ]
     },
     "execution_count": 108,
     "metadata": {},
     "output_type": "execute_result"
    }
   ],
   "source": [
    "df = pd.DataFrame(all_cols)\n",
    "df.head()"
   ]
  },
  {
   "cell_type": "code",
   "execution_count": 109,
   "id": "16973d35",
   "metadata": {},
   "outputs": [
    {
     "data": {
      "text/plain": [
       "latitude                             1.0\n",
       "longitude                            1.0\n",
       "claimed                              0.0\n",
       "awards                               0.0\n",
       "price_level                          0.0\n",
       "vegetarian_friendly                  0.0\n",
       "vegan_options                        0.0\n",
       "gluten_free                          0.0\n",
       "open_days_per_week                   0.0\n",
       "open_hours_per_week                  0.0\n",
       "working_shifts_per_week              0.0\n",
       "avg_rating                           0.0\n",
       "total_reviews_count                  4.0\n",
       "reviews_count_in_default_language    8.0\n",
       "excellent                            8.0\n",
       "very_good                            8.0\n",
       "average                              8.0\n",
       "poor                                 8.0\n",
       "terrible                             8.0\n",
       "reservations                         0.0\n",
       "seating                              0.0\n",
       "wheel_chair                          0.0\n",
       "alcohol                              0.0\n",
       "credit_cards                         0.0\n",
       "table_service                        0.0\n",
       "takeout                              0.0\n",
       "outdoor                              0.0\n",
       "delivery                             0.0\n",
       "wifi                                 0.0\n",
       "highchair                            0.0\n",
       "full_bar                             0.0\n",
       "parking                              0.0\n",
       "street_parking                       0.0\n",
       "lower_limit                          0.0\n",
       "mon_open                             0.0\n",
       "mon_close                            0.0\n",
       "tue_open                             0.0\n",
       "tue_close                            0.0\n",
       "wed_open                             0.0\n",
       "wed_close                            0.0\n",
       "thur_open                            0.0\n",
       "thur_close                           0.0\n",
       "fri_open                             0.0\n",
       "fri_close                            0.0\n",
       "sat_open                             0.0\n",
       "sat_close                            0.0\n",
       "sun_open                             0.0\n",
       "sun_close                            0.0\n",
       "dtype: float64"
      ]
     },
     "execution_count": 109,
     "metadata": {},
     "output_type": "execute_result"
    }
   ],
   "source": [
    "round(numerical.isna().sum()/len(numerical),2)* 100"
   ]
  },
  {
   "cell_type": "markdown",
   "id": "704e9191",
   "metadata": {},
   "source": [
    "## REPLACE ALL NaN WITH ZERO"
   ]
  },
  {
   "cell_type": "code",
   "execution_count": 110,
   "id": "48138a5f",
   "metadata": {},
   "outputs": [
    {
     "data": {
      "text/plain": [
       "latitude                             0\n",
       "longitude                            0\n",
       "claimed                              0\n",
       "awards                               0\n",
       "price_level                          0\n",
       "vegetarian_friendly                  0\n",
       "vegan_options                        0\n",
       "gluten_free                          0\n",
       "open_days_per_week                   0\n",
       "open_hours_per_week                  0\n",
       "working_shifts_per_week              0\n",
       "avg_rating                           0\n",
       "total_reviews_count                  0\n",
       "reviews_count_in_default_language    0\n",
       "excellent                            0\n",
       "very_good                            0\n",
       "average                              0\n",
       "poor                                 0\n",
       "terrible                             0\n",
       "reservations                         0\n",
       "seating                              0\n",
       "wheel_chair                          0\n",
       "alcohol                              0\n",
       "credit_cards                         0\n",
       "table_service                        0\n",
       "takeout                              0\n",
       "outdoor                              0\n",
       "delivery                             0\n",
       "wifi                                 0\n",
       "highchair                            0\n",
       "full_bar                             0\n",
       "parking                              0\n",
       "street_parking                       0\n",
       "lower_limit                          0\n",
       "mon_open                             0\n",
       "mon_close                            0\n",
       "tue_open                             0\n",
       "tue_close                            0\n",
       "wed_open                             0\n",
       "wed_close                            0\n",
       "thur_open                            0\n",
       "thur_close                           0\n",
       "fri_open                             0\n",
       "fri_close                            0\n",
       "sat_open                             0\n",
       "sat_close                            0\n",
       "sun_open                             0\n",
       "sun_close                            0\n",
       "dtype: int64"
      ]
     },
     "execution_count": 110,
     "metadata": {},
     "output_type": "execute_result"
    }
   ],
   "source": [
    "numerical.fillna(0, inplace = True)\n",
    "numerical.isna().sum()"
   ]
  },
  {
   "cell_type": "code",
   "execution_count": 147,
   "id": "ecad1032",
   "metadata": {},
   "outputs": [
    {
     "data": {
      "text/html": [
       "<div>\n",
       "<style scoped>\n",
       "    .dataframe tbody tr th:only-of-type {\n",
       "        vertical-align: middle;\n",
       "    }\n",
       "\n",
       "    .dataframe tbody tr th {\n",
       "        vertical-align: top;\n",
       "    }\n",
       "\n",
       "    .dataframe thead th {\n",
       "        text-align: right;\n",
       "    }\n",
       "</style>\n",
       "<table border=\"1\" class=\"dataframe\">\n",
       "  <thead>\n",
       "    <tr style=\"text-align: right;\">\n",
       "      <th></th>\n",
       "      <th>latitude</th>\n",
       "      <th>longitude</th>\n",
       "      <th>claimed</th>\n",
       "      <th>awards</th>\n",
       "      <th>price_level</th>\n",
       "      <th>vegetarian_friendly</th>\n",
       "      <th>vegan_options</th>\n",
       "      <th>gluten_free</th>\n",
       "      <th>open_days_per_week</th>\n",
       "      <th>open_hours_per_week</th>\n",
       "      <th>...</th>\n",
       "      <th>wed_open</th>\n",
       "      <th>wed_close</th>\n",
       "      <th>thur_open</th>\n",
       "      <th>thur_close</th>\n",
       "      <th>fri_open</th>\n",
       "      <th>fri_close</th>\n",
       "      <th>sat_open</th>\n",
       "      <th>sat_close</th>\n",
       "      <th>sun_open</th>\n",
       "      <th>sun_close</th>\n",
       "    </tr>\n",
       "  </thead>\n",
       "  <tbody>\n",
       "    <tr>\n",
       "      <th>latitude</th>\n",
       "      <td>1.000000</td>\n",
       "      <td>0.118269</td>\n",
       "      <td>0.019836</td>\n",
       "      <td>0.015015</td>\n",
       "      <td>-0.009239</td>\n",
       "      <td>0.072373</td>\n",
       "      <td>0.043871</td>\n",
       "      <td>0.023452</td>\n",
       "      <td>-0.042177</td>\n",
       "      <td>-0.085878</td>\n",
       "      <td>...</td>\n",
       "      <td>0.073430</td>\n",
       "      <td>0.082231</td>\n",
       "      <td>0.072009</td>\n",
       "      <td>0.088897</td>\n",
       "      <td>0.069824</td>\n",
       "      <td>0.079926</td>\n",
       "      <td>0.062730</td>\n",
       "      <td>0.064237</td>\n",
       "      <td>0.021794</td>\n",
       "      <td>0.017589</td>\n",
       "    </tr>\n",
       "    <tr>\n",
       "      <th>longitude</th>\n",
       "      <td>0.118269</td>\n",
       "      <td>1.000000</td>\n",
       "      <td>-0.024533</td>\n",
       "      <td>-0.041617</td>\n",
       "      <td>-0.075191</td>\n",
       "      <td>-0.011456</td>\n",
       "      <td>-0.051613</td>\n",
       "      <td>-0.071896</td>\n",
       "      <td>0.065908</td>\n",
       "      <td>0.098578</td>\n",
       "      <td>...</td>\n",
       "      <td>-0.027299</td>\n",
       "      <td>-0.021166</td>\n",
       "      <td>-0.035087</td>\n",
       "      <td>-0.034636</td>\n",
       "      <td>-0.034813</td>\n",
       "      <td>-0.027562</td>\n",
       "      <td>-0.030816</td>\n",
       "      <td>-0.022634</td>\n",
       "      <td>-0.001791</td>\n",
       "      <td>0.018866</td>\n",
       "    </tr>\n",
       "    <tr>\n",
       "      <th>claimed</th>\n",
       "      <td>0.019836</td>\n",
       "      <td>-0.024533</td>\n",
       "      <td>1.000000</td>\n",
       "      <td>0.256550</td>\n",
       "      <td>0.106097</td>\n",
       "      <td>0.287187</td>\n",
       "      <td>0.209320</td>\n",
       "      <td>0.216870</td>\n",
       "      <td>-0.238693</td>\n",
       "      <td>-0.304596</td>\n",
       "      <td>...</td>\n",
       "      <td>0.461081</td>\n",
       "      <td>-0.224557</td>\n",
       "      <td>0.496552</td>\n",
       "      <td>-0.205278</td>\n",
       "      <td>0.516698</td>\n",
       "      <td>-0.198896</td>\n",
       "      <td>0.495900</td>\n",
       "      <td>-0.206212</td>\n",
       "      <td>0.401260</td>\n",
       "      <td>-0.257720</td>\n",
       "    </tr>\n",
       "    <tr>\n",
       "      <th>awards</th>\n",
       "      <td>0.015015</td>\n",
       "      <td>-0.041617</td>\n",
       "      <td>0.256550</td>\n",
       "      <td>1.000000</td>\n",
       "      <td>0.147894</td>\n",
       "      <td>0.479397</td>\n",
       "      <td>0.437897</td>\n",
       "      <td>0.545056</td>\n",
       "      <td>-0.117590</td>\n",
       "      <td>-0.231535</td>\n",
       "      <td>...</td>\n",
       "      <td>0.228580</td>\n",
       "      <td>-0.083966</td>\n",
       "      <td>0.255440</td>\n",
       "      <td>-0.055165</td>\n",
       "      <td>0.267967</td>\n",
       "      <td>-0.032746</td>\n",
       "      <td>0.270107</td>\n",
       "      <td>-0.014785</td>\n",
       "      <td>0.196557</td>\n",
       "      <td>-0.084295</td>\n",
       "    </tr>\n",
       "    <tr>\n",
       "      <th>price_level</th>\n",
       "      <td>-0.009239</td>\n",
       "      <td>-0.075191</td>\n",
       "      <td>0.106097</td>\n",
       "      <td>0.147894</td>\n",
       "      <td>1.000000</td>\n",
       "      <td>0.130575</td>\n",
       "      <td>0.082239</td>\n",
       "      <td>0.153331</td>\n",
       "      <td>-0.046720</td>\n",
       "      <td>-0.081811</td>\n",
       "      <td>...</td>\n",
       "      <td>0.090913</td>\n",
       "      <td>-0.040528</td>\n",
       "      <td>0.109078</td>\n",
       "      <td>-0.022582</td>\n",
       "      <td>0.117295</td>\n",
       "      <td>-0.016952</td>\n",
       "      <td>0.124431</td>\n",
       "      <td>0.004390</td>\n",
       "      <td>0.103636</td>\n",
       "      <td>0.014986</td>\n",
       "    </tr>\n",
       "    <tr>\n",
       "      <th>vegetarian_friendly</th>\n",
       "      <td>0.072373</td>\n",
       "      <td>-0.011456</td>\n",
       "      <td>0.287187</td>\n",
       "      <td>0.479397</td>\n",
       "      <td>0.130575</td>\n",
       "      <td>1.000000</td>\n",
       "      <td>0.598551</td>\n",
       "      <td>0.510182</td>\n",
       "      <td>-0.079116</td>\n",
       "      <td>-0.174723</td>\n",
       "      <td>...</td>\n",
       "      <td>0.273783</td>\n",
       "      <td>-0.097050</td>\n",
       "      <td>0.294324</td>\n",
       "      <td>-0.085017</td>\n",
       "      <td>0.302861</td>\n",
       "      <td>-0.080667</td>\n",
       "      <td>0.300501</td>\n",
       "      <td>-0.064655</td>\n",
       "      <td>0.257617</td>\n",
       "      <td>-0.077150</td>\n",
       "    </tr>\n",
       "    <tr>\n",
       "      <th>vegan_options</th>\n",
       "      <td>0.043871</td>\n",
       "      <td>-0.051613</td>\n",
       "      <td>0.209320</td>\n",
       "      <td>0.437897</td>\n",
       "      <td>0.082239</td>\n",
       "      <td>0.598551</td>\n",
       "      <td>1.000000</td>\n",
       "      <td>0.566927</td>\n",
       "      <td>-0.045008</td>\n",
       "      <td>-0.117541</td>\n",
       "      <td>...</td>\n",
       "      <td>0.208773</td>\n",
       "      <td>-0.067352</td>\n",
       "      <td>0.218929</td>\n",
       "      <td>-0.063120</td>\n",
       "      <td>0.222784</td>\n",
       "      <td>-0.064101</td>\n",
       "      <td>0.219691</td>\n",
       "      <td>-0.050987</td>\n",
       "      <td>0.192890</td>\n",
       "      <td>-0.061645</td>\n",
       "    </tr>\n",
       "    <tr>\n",
       "      <th>gluten_free</th>\n",
       "      <td>0.023452</td>\n",
       "      <td>-0.071896</td>\n",
       "      <td>0.216870</td>\n",
       "      <td>0.545056</td>\n",
       "      <td>0.153331</td>\n",
       "      <td>0.510182</td>\n",
       "      <td>0.566927</td>\n",
       "      <td>1.000000</td>\n",
       "      <td>-0.060247</td>\n",
       "      <td>-0.144291</td>\n",
       "      <td>...</td>\n",
       "      <td>0.202446</td>\n",
       "      <td>-0.073131</td>\n",
       "      <td>0.218744</td>\n",
       "      <td>-0.062647</td>\n",
       "      <td>0.225789</td>\n",
       "      <td>-0.056718</td>\n",
       "      <td>0.224032</td>\n",
       "      <td>-0.036279</td>\n",
       "      <td>0.194467</td>\n",
       "      <td>-0.043952</td>\n",
       "    </tr>\n",
       "    <tr>\n",
       "      <th>open_days_per_week</th>\n",
       "      <td>-0.042177</td>\n",
       "      <td>0.065908</td>\n",
       "      <td>-0.238693</td>\n",
       "      <td>-0.117590</td>\n",
       "      <td>-0.046720</td>\n",
       "      <td>-0.079116</td>\n",
       "      <td>-0.045008</td>\n",
       "      <td>-0.060247</td>\n",
       "      <td>1.000000</td>\n",
       "      <td>0.604350</td>\n",
       "      <td>...</td>\n",
       "      <td>-0.073031</td>\n",
       "      <td>0.380762</td>\n",
       "      <td>-0.185355</td>\n",
       "      <td>0.289903</td>\n",
       "      <td>-0.300220</td>\n",
       "      <td>0.166151</td>\n",
       "      <td>-0.258979</td>\n",
       "      <td>0.194344</td>\n",
       "      <td>-0.025105</td>\n",
       "      <td>0.383182</td>\n",
       "    </tr>\n",
       "    <tr>\n",
       "      <th>open_hours_per_week</th>\n",
       "      <td>-0.085878</td>\n",
       "      <td>0.098578</td>\n",
       "      <td>-0.304596</td>\n",
       "      <td>-0.231535</td>\n",
       "      <td>-0.081811</td>\n",
       "      <td>-0.174723</td>\n",
       "      <td>-0.117541</td>\n",
       "      <td>-0.144291</td>\n",
       "      <td>0.604350</td>\n",
       "      <td>1.000000</td>\n",
       "      <td>...</td>\n",
       "      <td>-0.469501</td>\n",
       "      <td>0.171005</td>\n",
       "      <td>-0.557317</td>\n",
       "      <td>0.091687</td>\n",
       "      <td>-0.618105</td>\n",
       "      <td>0.016833</td>\n",
       "      <td>-0.569750</td>\n",
       "      <td>0.050227</td>\n",
       "      <td>-0.348036</td>\n",
       "      <td>0.244818</td>\n",
       "    </tr>\n",
       "    <tr>\n",
       "      <th>working_shifts_per_week</th>\n",
       "      <td>-0.081397</td>\n",
       "      <td>-0.033745</td>\n",
       "      <td>0.089546</td>\n",
       "      <td>0.131329</td>\n",
       "      <td>0.085761</td>\n",
       "      <td>0.095523</td>\n",
       "      <td>0.043554</td>\n",
       "      <td>0.072902</td>\n",
       "      <td>0.338975</td>\n",
       "      <td>-0.110402</td>\n",
       "      <td>...</td>\n",
       "      <td>0.215526</td>\n",
       "      <td>0.144673</td>\n",
       "      <td>0.185132</td>\n",
       "      <td>0.134582</td>\n",
       "      <td>0.138607</td>\n",
       "      <td>0.082697</td>\n",
       "      <td>0.174438</td>\n",
       "      <td>0.092272</td>\n",
       "      <td>0.214864</td>\n",
       "      <td>0.084691</td>\n",
       "    </tr>\n",
       "    <tr>\n",
       "      <th>avg_rating</th>\n",
       "      <td>-0.023443</td>\n",
       "      <td>0.020335</td>\n",
       "      <td>0.096230</td>\n",
       "      <td>0.154531</td>\n",
       "      <td>-0.041327</td>\n",
       "      <td>0.091930</td>\n",
       "      <td>0.131969</td>\n",
       "      <td>0.102268</td>\n",
       "      <td>-0.170505</td>\n",
       "      <td>-0.165381</td>\n",
       "      <td>...</td>\n",
       "      <td>0.062864</td>\n",
       "      <td>-0.035362</td>\n",
       "      <td>0.083730</td>\n",
       "      <td>-0.011976</td>\n",
       "      <td>0.095782</td>\n",
       "      <td>0.011823</td>\n",
       "      <td>0.082555</td>\n",
       "      <td>-0.002498</td>\n",
       "      <td>0.008401</td>\n",
       "      <td>-0.092120</td>\n",
       "    </tr>\n",
       "    <tr>\n",
       "      <th>total_reviews_count</th>\n",
       "      <td>-0.008615</td>\n",
       "      <td>-0.027490</td>\n",
       "      <td>0.192048</td>\n",
       "      <td>0.543203</td>\n",
       "      <td>0.129079</td>\n",
       "      <td>0.351804</td>\n",
       "      <td>0.335461</td>\n",
       "      <td>0.438143</td>\n",
       "      <td>-0.016553</td>\n",
       "      <td>-0.104824</td>\n",
       "      <td>...</td>\n",
       "      <td>0.181405</td>\n",
       "      <td>-0.068338</td>\n",
       "      <td>0.191989</td>\n",
       "      <td>-0.060571</td>\n",
       "      <td>0.198012</td>\n",
       "      <td>-0.051527</td>\n",
       "      <td>0.198352</td>\n",
       "      <td>-0.032947</td>\n",
       "      <td>0.180777</td>\n",
       "      <td>-0.040731</td>\n",
       "    </tr>\n",
       "    <tr>\n",
       "      <th>reviews_count_in_default_language</th>\n",
       "      <td>0.106404</td>\n",
       "      <td>-0.106180</td>\n",
       "      <td>0.128293</td>\n",
       "      <td>0.401244</td>\n",
       "      <td>0.094825</td>\n",
       "      <td>0.276751</td>\n",
       "      <td>0.325874</td>\n",
       "      <td>0.391051</td>\n",
       "      <td>0.004521</td>\n",
       "      <td>-0.039721</td>\n",
       "      <td>...</td>\n",
       "      <td>0.136367</td>\n",
       "      <td>-0.008566</td>\n",
       "      <td>0.136914</td>\n",
       "      <td>-0.010019</td>\n",
       "      <td>0.137624</td>\n",
       "      <td>-0.012567</td>\n",
       "      <td>0.133930</td>\n",
       "      <td>-0.000872</td>\n",
       "      <td>0.124759</td>\n",
       "      <td>-0.005944</td>\n",
       "    </tr>\n",
       "    <tr>\n",
       "      <th>excellent</th>\n",
       "      <td>0.092583</td>\n",
       "      <td>-0.100712</td>\n",
       "      <td>0.126123</td>\n",
       "      <td>0.417355</td>\n",
       "      <td>0.083781</td>\n",
       "      <td>0.271165</td>\n",
       "      <td>0.333309</td>\n",
       "      <td>0.394029</td>\n",
       "      <td>-0.016741</td>\n",
       "      <td>-0.059317</td>\n",
       "      <td>...</td>\n",
       "      <td>0.134363</td>\n",
       "      <td>-0.012016</td>\n",
       "      <td>0.137598</td>\n",
       "      <td>-0.010161</td>\n",
       "      <td>0.139609</td>\n",
       "      <td>-0.010436</td>\n",
       "      <td>0.134997</td>\n",
       "      <td>0.000369</td>\n",
       "      <td>0.116892</td>\n",
       "      <td>-0.015018</td>\n",
       "    </tr>\n",
       "    <tr>\n",
       "      <th>very_good</th>\n",
       "      <td>0.108522</td>\n",
       "      <td>-0.095005</td>\n",
       "      <td>0.118282</td>\n",
       "      <td>0.378686</td>\n",
       "      <td>0.099023</td>\n",
       "      <td>0.259887</td>\n",
       "      <td>0.288853</td>\n",
       "      <td>0.351327</td>\n",
       "      <td>0.026145</td>\n",
       "      <td>-0.015972</td>\n",
       "      <td>...</td>\n",
       "      <td>0.124024</td>\n",
       "      <td>-0.005930</td>\n",
       "      <td>0.121987</td>\n",
       "      <td>-0.010197</td>\n",
       "      <td>0.121262</td>\n",
       "      <td>-0.013967</td>\n",
       "      <td>0.119433</td>\n",
       "      <td>-0.002921</td>\n",
       "      <td>0.118963</td>\n",
       "      <td>0.000837</td>\n",
       "    </tr>\n",
       "    <tr>\n",
       "      <th>average</th>\n",
       "      <td>0.108323</td>\n",
       "      <td>-0.091726</td>\n",
       "      <td>0.102533</td>\n",
       "      <td>0.271726</td>\n",
       "      <td>0.091422</td>\n",
       "      <td>0.223199</td>\n",
       "      <td>0.241438</td>\n",
       "      <td>0.303507</td>\n",
       "      <td>0.037537</td>\n",
       "      <td>0.000961</td>\n",
       "      <td>...</td>\n",
       "      <td>0.108618</td>\n",
       "      <td>0.002198</td>\n",
       "      <td>0.104293</td>\n",
       "      <td>-0.004702</td>\n",
       "      <td>0.102855</td>\n",
       "      <td>-0.010001</td>\n",
       "      <td>0.101175</td>\n",
       "      <td>0.000357</td>\n",
       "      <td>0.108866</td>\n",
       "      <td>0.013123</td>\n",
       "    </tr>\n",
       "    <tr>\n",
       "      <th>poor</th>\n",
       "      <td>0.114181</td>\n",
       "      <td>-0.100789</td>\n",
       "      <td>0.098984</td>\n",
       "      <td>0.216776</td>\n",
       "      <td>0.092144</td>\n",
       "      <td>0.209835</td>\n",
       "      <td>0.222256</td>\n",
       "      <td>0.284568</td>\n",
       "      <td>0.046301</td>\n",
       "      <td>0.009255</td>\n",
       "      <td>...</td>\n",
       "      <td>0.104232</td>\n",
       "      <td>0.006251</td>\n",
       "      <td>0.098787</td>\n",
       "      <td>-0.001810</td>\n",
       "      <td>0.096605</td>\n",
       "      <td>-0.009230</td>\n",
       "      <td>0.095276</td>\n",
       "      <td>0.001459</td>\n",
       "      <td>0.108354</td>\n",
       "      <td>0.020239</td>\n",
       "    </tr>\n",
       "    <tr>\n",
       "      <th>terrible</th>\n",
       "      <td>0.101819</td>\n",
       "      <td>-0.099344</td>\n",
       "      <td>0.090389</td>\n",
       "      <td>0.153893</td>\n",
       "      <td>0.084546</td>\n",
       "      <td>0.186405</td>\n",
       "      <td>0.186621</td>\n",
       "      <td>0.233264</td>\n",
       "      <td>0.061171</td>\n",
       "      <td>0.029608</td>\n",
       "      <td>...</td>\n",
       "      <td>0.101025</td>\n",
       "      <td>-0.000037</td>\n",
       "      <td>0.094127</td>\n",
       "      <td>-0.010872</td>\n",
       "      <td>0.091025</td>\n",
       "      <td>-0.021997</td>\n",
       "      <td>0.089794</td>\n",
       "      <td>-0.010116</td>\n",
       "      <td>0.111545</td>\n",
       "      <td>0.022425</td>\n",
       "    </tr>\n",
       "    <tr>\n",
       "      <th>reservations</th>\n",
       "      <td>0.015738</td>\n",
       "      <td>-0.047509</td>\n",
       "      <td>-0.034253</td>\n",
       "      <td>0.124722</td>\n",
       "      <td>0.067518</td>\n",
       "      <td>0.066974</td>\n",
       "      <td>0.132232</td>\n",
       "      <td>0.163048</td>\n",
       "      <td>0.046560</td>\n",
       "      <td>0.048015</td>\n",
       "      <td>...</td>\n",
       "      <td>-0.039659</td>\n",
       "      <td>0.044313</td>\n",
       "      <td>-0.045531</td>\n",
       "      <td>0.041253</td>\n",
       "      <td>-0.050501</td>\n",
       "      <td>0.038284</td>\n",
       "      <td>-0.047242</td>\n",
       "      <td>0.048047</td>\n",
       "      <td>-0.032855</td>\n",
       "      <td>0.057134</td>\n",
       "    </tr>\n",
       "    <tr>\n",
       "      <th>seating</th>\n",
       "      <td>0.040747</td>\n",
       "      <td>-0.052028</td>\n",
       "      <td>0.042458</td>\n",
       "      <td>0.181788</td>\n",
       "      <td>0.049944</td>\n",
       "      <td>0.124488</td>\n",
       "      <td>0.183775</td>\n",
       "      <td>0.213927</td>\n",
       "      <td>0.020241</td>\n",
       "      <td>0.010610</td>\n",
       "      <td>...</td>\n",
       "      <td>0.028749</td>\n",
       "      <td>0.010420</td>\n",
       "      <td>0.026505</td>\n",
       "      <td>0.008377</td>\n",
       "      <td>0.023467</td>\n",
       "      <td>0.005429</td>\n",
       "      <td>0.023648</td>\n",
       "      <td>0.015099</td>\n",
       "      <td>0.028307</td>\n",
       "      <td>0.019301</td>\n",
       "    </tr>\n",
       "    <tr>\n",
       "      <th>wheel_chair</th>\n",
       "      <td>0.030713</td>\n",
       "      <td>-0.055608</td>\n",
       "      <td>0.049320</td>\n",
       "      <td>0.170167</td>\n",
       "      <td>0.035570</td>\n",
       "      <td>0.113091</td>\n",
       "      <td>0.162866</td>\n",
       "      <td>0.196943</td>\n",
       "      <td>0.018578</td>\n",
       "      <td>0.005627</td>\n",
       "      <td>...</td>\n",
       "      <td>0.033887</td>\n",
       "      <td>0.007858</td>\n",
       "      <td>0.032755</td>\n",
       "      <td>0.006535</td>\n",
       "      <td>0.030246</td>\n",
       "      <td>0.003852</td>\n",
       "      <td>0.029876</td>\n",
       "      <td>0.011060</td>\n",
       "      <td>0.034661</td>\n",
       "      <td>0.014482</td>\n",
       "    </tr>\n",
       "    <tr>\n",
       "      <th>alcohol</th>\n",
       "      <td>0.033037</td>\n",
       "      <td>-0.050823</td>\n",
       "      <td>0.077843</td>\n",
       "      <td>0.217370</td>\n",
       "      <td>0.069553</td>\n",
       "      <td>0.159907</td>\n",
       "      <td>0.209774</td>\n",
       "      <td>0.247265</td>\n",
       "      <td>0.004471</td>\n",
       "      <td>-0.009329</td>\n",
       "      <td>...</td>\n",
       "      <td>0.070832</td>\n",
       "      <td>-0.004738</td>\n",
       "      <td>0.071466</td>\n",
       "      <td>-0.005260</td>\n",
       "      <td>0.070028</td>\n",
       "      <td>-0.008341</td>\n",
       "      <td>0.068054</td>\n",
       "      <td>0.000676</td>\n",
       "      <td>0.063481</td>\n",
       "      <td>0.001462</td>\n",
       "    </tr>\n",
       "    <tr>\n",
       "      <th>credit_cards</th>\n",
       "      <td>0.043103</td>\n",
       "      <td>-0.051082</td>\n",
       "      <td>0.081357</td>\n",
       "      <td>0.225215</td>\n",
       "      <td>0.056730</td>\n",
       "      <td>0.157496</td>\n",
       "      <td>0.208415</td>\n",
       "      <td>0.247076</td>\n",
       "      <td>-0.003386</td>\n",
       "      <td>-0.021392</td>\n",
       "      <td>...</td>\n",
       "      <td>0.074806</td>\n",
       "      <td>-0.010572</td>\n",
       "      <td>0.075417</td>\n",
       "      <td>-0.011115</td>\n",
       "      <td>0.075396</td>\n",
       "      <td>-0.011423</td>\n",
       "      <td>0.072789</td>\n",
       "      <td>-0.003526</td>\n",
       "      <td>0.066081</td>\n",
       "      <td>-0.007597</td>\n",
       "    </tr>\n",
       "    <tr>\n",
       "      <th>table_service</th>\n",
       "      <td>0.028902</td>\n",
       "      <td>-0.050913</td>\n",
       "      <td>0.037369</td>\n",
       "      <td>0.194358</td>\n",
       "      <td>0.069045</td>\n",
       "      <td>0.136153</td>\n",
       "      <td>0.191890</td>\n",
       "      <td>0.224748</td>\n",
       "      <td>0.017695</td>\n",
       "      <td>0.006158</td>\n",
       "      <td>...</td>\n",
       "      <td>0.037665</td>\n",
       "      <td>0.009183</td>\n",
       "      <td>0.036710</td>\n",
       "      <td>0.008512</td>\n",
       "      <td>0.034179</td>\n",
       "      <td>0.005671</td>\n",
       "      <td>0.033027</td>\n",
       "      <td>0.014563</td>\n",
       "      <td>0.035019</td>\n",
       "      <td>0.017432</td>\n",
       "    </tr>\n",
       "    <tr>\n",
       "      <th>takeout</th>\n",
       "      <td>0.054332</td>\n",
       "      <td>-0.032141</td>\n",
       "      <td>0.035451</td>\n",
       "      <td>0.110309</td>\n",
       "      <td>-0.004370</td>\n",
       "      <td>0.083469</td>\n",
       "      <td>0.135960</td>\n",
       "      <td>0.126011</td>\n",
       "      <td>0.028764</td>\n",
       "      <td>0.011558</td>\n",
       "      <td>...</td>\n",
       "      <td>0.028218</td>\n",
       "      <td>0.011703</td>\n",
       "      <td>0.024059</td>\n",
       "      <td>0.007683</td>\n",
       "      <td>0.020463</td>\n",
       "      <td>0.002512</td>\n",
       "      <td>0.021260</td>\n",
       "      <td>0.010064</td>\n",
       "      <td>0.031985</td>\n",
       "      <td>0.017674</td>\n",
       "    </tr>\n",
       "    <tr>\n",
       "      <th>outdoor</th>\n",
       "      <td>-0.002618</td>\n",
       "      <td>-0.009800</td>\n",
       "      <td>0.060442</td>\n",
       "      <td>0.156561</td>\n",
       "      <td>0.038039</td>\n",
       "      <td>0.111796</td>\n",
       "      <td>0.150630</td>\n",
       "      <td>0.174661</td>\n",
       "      <td>0.011158</td>\n",
       "      <td>0.015053</td>\n",
       "      <td>...</td>\n",
       "      <td>0.029108</td>\n",
       "      <td>-0.018356</td>\n",
       "      <td>0.028261</td>\n",
       "      <td>-0.020650</td>\n",
       "      <td>0.028514</td>\n",
       "      <td>-0.018709</td>\n",
       "      <td>0.029638</td>\n",
       "      <td>-0.009741</td>\n",
       "      <td>0.039414</td>\n",
       "      <td>0.000318</td>\n",
       "    </tr>\n",
       "    <tr>\n",
       "      <th>delivery</th>\n",
       "      <td>0.037859</td>\n",
       "      <td>-0.024195</td>\n",
       "      <td>0.021185</td>\n",
       "      <td>0.044006</td>\n",
       "      <td>0.004508</td>\n",
       "      <td>0.047781</td>\n",
       "      <td>0.081401</td>\n",
       "      <td>0.060651</td>\n",
       "      <td>0.021538</td>\n",
       "      <td>0.001868</td>\n",
       "      <td>...</td>\n",
       "      <td>0.032837</td>\n",
       "      <td>0.014397</td>\n",
       "      <td>0.029386</td>\n",
       "      <td>0.010962</td>\n",
       "      <td>0.027128</td>\n",
       "      <td>0.001755</td>\n",
       "      <td>0.024853</td>\n",
       "      <td>0.004267</td>\n",
       "      <td>0.034838</td>\n",
       "      <td>0.019774</td>\n",
       "    </tr>\n",
       "    <tr>\n",
       "      <th>wifi</th>\n",
       "      <td>0.029067</td>\n",
       "      <td>-0.032509</td>\n",
       "      <td>0.081591</td>\n",
       "      <td>0.195938</td>\n",
       "      <td>0.047218</td>\n",
       "      <td>0.145339</td>\n",
       "      <td>0.197857</td>\n",
       "      <td>0.228922</td>\n",
       "      <td>0.006585</td>\n",
       "      <td>-0.001417</td>\n",
       "      <td>...</td>\n",
       "      <td>0.059724</td>\n",
       "      <td>-0.011313</td>\n",
       "      <td>0.060606</td>\n",
       "      <td>-0.011866</td>\n",
       "      <td>0.059863</td>\n",
       "      <td>-0.013580</td>\n",
       "      <td>0.057910</td>\n",
       "      <td>-0.006353</td>\n",
       "      <td>0.056947</td>\n",
       "      <td>-0.003964</td>\n",
       "    </tr>\n",
       "    <tr>\n",
       "      <th>highchair</th>\n",
       "      <td>0.050000</td>\n",
       "      <td>-0.058798</td>\n",
       "      <td>0.078576</td>\n",
       "      <td>0.218863</td>\n",
       "      <td>0.063797</td>\n",
       "      <td>0.163743</td>\n",
       "      <td>0.214343</td>\n",
       "      <td>0.252341</td>\n",
       "      <td>0.006686</td>\n",
       "      <td>-0.013636</td>\n",
       "      <td>...</td>\n",
       "      <td>0.070994</td>\n",
       "      <td>-0.003475</td>\n",
       "      <td>0.070761</td>\n",
       "      <td>-0.004672</td>\n",
       "      <td>0.069812</td>\n",
       "      <td>-0.007191</td>\n",
       "      <td>0.068362</td>\n",
       "      <td>0.001952</td>\n",
       "      <td>0.071265</td>\n",
       "      <td>0.006399</td>\n",
       "    </tr>\n",
       "    <tr>\n",
       "      <th>full_bar</th>\n",
       "      <td>0.035225</td>\n",
       "      <td>-0.058876</td>\n",
       "      <td>0.076355</td>\n",
       "      <td>0.212007</td>\n",
       "      <td>0.068662</td>\n",
       "      <td>0.157323</td>\n",
       "      <td>0.203557</td>\n",
       "      <td>0.249081</td>\n",
       "      <td>0.002174</td>\n",
       "      <td>-0.008570</td>\n",
       "      <td>...</td>\n",
       "      <td>0.077930</td>\n",
       "      <td>-0.005278</td>\n",
       "      <td>0.078784</td>\n",
       "      <td>-0.006527</td>\n",
       "      <td>0.077141</td>\n",
       "      <td>-0.011652</td>\n",
       "      <td>0.074793</td>\n",
       "      <td>-0.004020</td>\n",
       "      <td>0.068812</td>\n",
       "      <td>-0.000830</td>\n",
       "    </tr>\n",
       "    <tr>\n",
       "      <th>parking</th>\n",
       "      <td>0.028241</td>\n",
       "      <td>-0.017673</td>\n",
       "      <td>0.046098</td>\n",
       "      <td>0.082537</td>\n",
       "      <td>0.014912</td>\n",
       "      <td>0.050503</td>\n",
       "      <td>0.074743</td>\n",
       "      <td>0.093233</td>\n",
       "      <td>-0.004712</td>\n",
       "      <td>-0.009118</td>\n",
       "      <td>...</td>\n",
       "      <td>0.014646</td>\n",
       "      <td>-0.002238</td>\n",
       "      <td>0.014816</td>\n",
       "      <td>-0.002273</td>\n",
       "      <td>0.014568</td>\n",
       "      <td>-0.001814</td>\n",
       "      <td>0.015722</td>\n",
       "      <td>0.003963</td>\n",
       "      <td>0.021020</td>\n",
       "      <td>0.008356</td>\n",
       "    </tr>\n",
       "    <tr>\n",
       "      <th>street_parking</th>\n",
       "      <td>0.020440</td>\n",
       "      <td>-0.017616</td>\n",
       "      <td>0.038616</td>\n",
       "      <td>0.068327</td>\n",
       "      <td>0.016280</td>\n",
       "      <td>0.048850</td>\n",
       "      <td>0.069991</td>\n",
       "      <td>0.081995</td>\n",
       "      <td>-0.010626</td>\n",
       "      <td>-0.015740</td>\n",
       "      <td>...</td>\n",
       "      <td>0.021421</td>\n",
       "      <td>-0.004805</td>\n",
       "      <td>0.023448</td>\n",
       "      <td>-0.003467</td>\n",
       "      <td>0.024172</td>\n",
       "      <td>-0.003002</td>\n",
       "      <td>0.023463</td>\n",
       "      <td>0.000987</td>\n",
       "      <td>0.025577</td>\n",
       "      <td>0.003365</td>\n",
       "    </tr>\n",
       "    <tr>\n",
       "      <th>lower_limit</th>\n",
       "      <td>-0.000921</td>\n",
       "      <td>-0.003292</td>\n",
       "      <td>0.001057</td>\n",
       "      <td>-0.001193</td>\n",
       "      <td>-0.003681</td>\n",
       "      <td>-0.001655</td>\n",
       "      <td>-0.001051</td>\n",
       "      <td>-0.000971</td>\n",
       "      <td>0.001238</td>\n",
       "      <td>0.001577</td>\n",
       "      <td>...</td>\n",
       "      <td>-0.002590</td>\n",
       "      <td>0.001263</td>\n",
       "      <td>-0.002767</td>\n",
       "      <td>0.001187</td>\n",
       "      <td>-0.002869</td>\n",
       "      <td>0.001180</td>\n",
       "      <td>-0.002755</td>\n",
       "      <td>0.001227</td>\n",
       "      <td>-0.002238</td>\n",
       "      <td>0.001487</td>\n",
       "    </tr>\n",
       "    <tr>\n",
       "      <th>mon_open</th>\n",
       "      <td>0.047080</td>\n",
       "      <td>0.005831</td>\n",
       "      <td>0.341184</td>\n",
       "      <td>0.157899</td>\n",
       "      <td>0.040670</td>\n",
       "      <td>0.210200</td>\n",
       "      <td>0.165879</td>\n",
       "      <td>0.149794</td>\n",
       "      <td>0.188246</td>\n",
       "      <td>-0.193324</td>\n",
       "      <td>...</td>\n",
       "      <td>0.550695</td>\n",
       "      <td>-0.193698</td>\n",
       "      <td>0.581039</td>\n",
       "      <td>-0.182791</td>\n",
       "      <td>0.572628</td>\n",
       "      <td>-0.217678</td>\n",
       "      <td>0.528308</td>\n",
       "      <td>-0.245403</td>\n",
       "      <td>0.465590</td>\n",
       "      <td>-0.232574</td>\n",
       "    </tr>\n",
       "    <tr>\n",
       "      <th>mon_close</th>\n",
       "      <td>0.029612</td>\n",
       "      <td>0.023287</td>\n",
       "      <td>-0.291292</td>\n",
       "      <td>-0.136622</td>\n",
       "      <td>-0.076210</td>\n",
       "      <td>-0.132195</td>\n",
       "      <td>-0.091020</td>\n",
       "      <td>-0.103680</td>\n",
       "      <td>0.538677</td>\n",
       "      <td>0.364735</td>\n",
       "      <td>...</td>\n",
       "      <td>-0.380211</td>\n",
       "      <td>0.564777</td>\n",
       "      <td>-0.415460</td>\n",
       "      <td>0.584389</td>\n",
       "      <td>-0.454407</td>\n",
       "      <td>0.523909</td>\n",
       "      <td>-0.448537</td>\n",
       "      <td>0.470446</td>\n",
       "      <td>-0.338036</td>\n",
       "      <td>0.478229</td>\n",
       "    </tr>\n",
       "    <tr>\n",
       "      <th>tue_open</th>\n",
       "      <td>0.057542</td>\n",
       "      <td>-0.014170</td>\n",
       "      <td>0.420493</td>\n",
       "      <td>0.211558</td>\n",
       "      <td>0.072687</td>\n",
       "      <td>0.243657</td>\n",
       "      <td>0.189445</td>\n",
       "      <td>0.179945</td>\n",
       "      <td>0.046485</td>\n",
       "      <td>-0.373374</td>\n",
       "      <td>...</td>\n",
       "      <td>0.777691</td>\n",
       "      <td>-0.162086</td>\n",
       "      <td>0.767241</td>\n",
       "      <td>-0.194416</td>\n",
       "      <td>0.745390</td>\n",
       "      <td>-0.241885</td>\n",
       "      <td>0.698439</td>\n",
       "      <td>-0.263795</td>\n",
       "      <td>0.540411</td>\n",
       "      <td>-0.331139</td>\n",
       "    </tr>\n",
       "    <tr>\n",
       "      <th>tue_close</th>\n",
       "      <td>0.057434</td>\n",
       "      <td>-0.002795</td>\n",
       "      <td>-0.245508</td>\n",
       "      <td>-0.095451</td>\n",
       "      <td>-0.055251</td>\n",
       "      <td>-0.117800</td>\n",
       "      <td>-0.079994</td>\n",
       "      <td>-0.089172</td>\n",
       "      <td>0.466497</td>\n",
       "      <td>0.243145</td>\n",
       "      <td>...</td>\n",
       "      <td>-0.236024</td>\n",
       "      <td>0.764630</td>\n",
       "      <td>-0.316563</td>\n",
       "      <td>0.741534</td>\n",
       "      <td>-0.371689</td>\n",
       "      <td>0.653088</td>\n",
       "      <td>-0.360624</td>\n",
       "      <td>0.591462</td>\n",
       "      <td>-0.326414</td>\n",
       "      <td>0.472208</td>\n",
       "    </tr>\n",
       "    <tr>\n",
       "      <th>wed_open</th>\n",
       "      <td>0.073430</td>\n",
       "      <td>-0.027299</td>\n",
       "      <td>0.461081</td>\n",
       "      <td>0.228580</td>\n",
       "      <td>0.090913</td>\n",
       "      <td>0.273783</td>\n",
       "      <td>0.208773</td>\n",
       "      <td>0.202446</td>\n",
       "      <td>-0.073031</td>\n",
       "      <td>-0.469501</td>\n",
       "      <td>...</td>\n",
       "      <td>1.000000</td>\n",
       "      <td>-0.060163</td>\n",
       "      <td>0.880618</td>\n",
       "      <td>-0.193769</td>\n",
       "      <td>0.846554</td>\n",
       "      <td>-0.256426</td>\n",
       "      <td>0.789842</td>\n",
       "      <td>-0.275831</td>\n",
       "      <td>0.623478</td>\n",
       "      <td>-0.333751</td>\n",
       "    </tr>\n",
       "    <tr>\n",
       "      <th>wed_close</th>\n",
       "      <td>0.082231</td>\n",
       "      <td>-0.021166</td>\n",
       "      <td>-0.224557</td>\n",
       "      <td>-0.083966</td>\n",
       "      <td>-0.040528</td>\n",
       "      <td>-0.097050</td>\n",
       "      <td>-0.067352</td>\n",
       "      <td>-0.073131</td>\n",
       "      <td>0.380762</td>\n",
       "      <td>0.171005</td>\n",
       "      <td>...</td>\n",
       "      <td>-0.060163</td>\n",
       "      <td>1.000000</td>\n",
       "      <td>-0.248511</td>\n",
       "      <td>0.848801</td>\n",
       "      <td>-0.319305</td>\n",
       "      <td>0.733236</td>\n",
       "      <td>-0.313690</td>\n",
       "      <td>0.666303</td>\n",
       "      <td>-0.278910</td>\n",
       "      <td>0.534829</td>\n",
       "    </tr>\n",
       "    <tr>\n",
       "      <th>thur_open</th>\n",
       "      <td>0.072009</td>\n",
       "      <td>-0.035087</td>\n",
       "      <td>0.496552</td>\n",
       "      <td>0.255440</td>\n",
       "      <td>0.109078</td>\n",
       "      <td>0.294324</td>\n",
       "      <td>0.218929</td>\n",
       "      <td>0.218744</td>\n",
       "      <td>-0.185355</td>\n",
       "      <td>-0.557317</td>\n",
       "      <td>...</td>\n",
       "      <td>0.880618</td>\n",
       "      <td>-0.248511</td>\n",
       "      <td>1.000000</td>\n",
       "      <td>-0.169032</td>\n",
       "      <td>0.927732</td>\n",
       "      <td>-0.262533</td>\n",
       "      <td>0.863222</td>\n",
       "      <td>-0.280487</td>\n",
       "      <td>0.685286</td>\n",
       "      <td>-0.338563</td>\n",
       "    </tr>\n",
       "    <tr>\n",
       "      <th>thur_close</th>\n",
       "      <td>0.088897</td>\n",
       "      <td>-0.034636</td>\n",
       "      <td>-0.205278</td>\n",
       "      <td>-0.055165</td>\n",
       "      <td>-0.022582</td>\n",
       "      <td>-0.085017</td>\n",
       "      <td>-0.063120</td>\n",
       "      <td>-0.062647</td>\n",
       "      <td>0.289903</td>\n",
       "      <td>0.091687</td>\n",
       "      <td>...</td>\n",
       "      <td>-0.193769</td>\n",
       "      <td>0.848801</td>\n",
       "      <td>-0.169032</td>\n",
       "      <td>1.000000</td>\n",
       "      <td>-0.280238</td>\n",
       "      <td>0.830020</td>\n",
       "      <td>-0.277964</td>\n",
       "      <td>0.754317</td>\n",
       "      <td>-0.247761</td>\n",
       "      <td>0.586836</td>\n",
       "    </tr>\n",
       "    <tr>\n",
       "      <th>fri_open</th>\n",
       "      <td>0.069824</td>\n",
       "      <td>-0.034813</td>\n",
       "      <td>0.516698</td>\n",
       "      <td>0.267967</td>\n",
       "      <td>0.117295</td>\n",
       "      <td>0.302861</td>\n",
       "      <td>0.222784</td>\n",
       "      <td>0.225789</td>\n",
       "      <td>-0.300220</td>\n",
       "      <td>-0.618105</td>\n",
       "      <td>...</td>\n",
       "      <td>0.846554</td>\n",
       "      <td>-0.319305</td>\n",
       "      <td>0.927732</td>\n",
       "      <td>-0.280238</td>\n",
       "      <td>1.000000</td>\n",
       "      <td>-0.256140</td>\n",
       "      <td>0.912506</td>\n",
       "      <td>-0.279202</td>\n",
       "      <td>0.718104</td>\n",
       "      <td>-0.344643</td>\n",
       "    </tr>\n",
       "    <tr>\n",
       "      <th>fri_close</th>\n",
       "      <td>0.079926</td>\n",
       "      <td>-0.027562</td>\n",
       "      <td>-0.198896</td>\n",
       "      <td>-0.032746</td>\n",
       "      <td>-0.016952</td>\n",
       "      <td>-0.080667</td>\n",
       "      <td>-0.064101</td>\n",
       "      <td>-0.056718</td>\n",
       "      <td>0.166151</td>\n",
       "      <td>0.016833</td>\n",
       "      <td>...</td>\n",
       "      <td>-0.256426</td>\n",
       "      <td>0.733236</td>\n",
       "      <td>-0.262533</td>\n",
       "      <td>0.830020</td>\n",
       "      <td>-0.256140</td>\n",
       "      <td>1.000000</td>\n",
       "      <td>-0.269287</td>\n",
       "      <td>0.899879</td>\n",
       "      <td>-0.247095</td>\n",
       "      <td>0.578287</td>\n",
       "    </tr>\n",
       "    <tr>\n",
       "      <th>sat_open</th>\n",
       "      <td>0.062730</td>\n",
       "      <td>-0.030816</td>\n",
       "      <td>0.495900</td>\n",
       "      <td>0.270107</td>\n",
       "      <td>0.124431</td>\n",
       "      <td>0.300501</td>\n",
       "      <td>0.219691</td>\n",
       "      <td>0.224032</td>\n",
       "      <td>-0.258979</td>\n",
       "      <td>-0.569750</td>\n",
       "      <td>...</td>\n",
       "      <td>0.789842</td>\n",
       "      <td>-0.313690</td>\n",
       "      <td>0.863222</td>\n",
       "      <td>-0.277964</td>\n",
       "      <td>0.912506</td>\n",
       "      <td>-0.269287</td>\n",
       "      <td>1.000000</td>\n",
       "      <td>-0.182565</td>\n",
       "      <td>0.737364</td>\n",
       "      <td>-0.295575</td>\n",
       "    </tr>\n",
       "    <tr>\n",
       "      <th>sat_close</th>\n",
       "      <td>0.064237</td>\n",
       "      <td>-0.022634</td>\n",
       "      <td>-0.206212</td>\n",
       "      <td>-0.014785</td>\n",
       "      <td>0.004390</td>\n",
       "      <td>-0.064655</td>\n",
       "      <td>-0.050987</td>\n",
       "      <td>-0.036279</td>\n",
       "      <td>0.194344</td>\n",
       "      <td>0.050227</td>\n",
       "      <td>...</td>\n",
       "      <td>-0.275831</td>\n",
       "      <td>0.666303</td>\n",
       "      <td>-0.280487</td>\n",
       "      <td>0.754317</td>\n",
       "      <td>-0.279202</td>\n",
       "      <td>0.899879</td>\n",
       "      <td>-0.182565</td>\n",
       "      <td>1.000000</td>\n",
       "      <td>-0.184218</td>\n",
       "      <td>0.634274</td>\n",
       "    </tr>\n",
       "    <tr>\n",
       "      <th>sun_open</th>\n",
       "      <td>0.021794</td>\n",
       "      <td>-0.001791</td>\n",
       "      <td>0.401260</td>\n",
       "      <td>0.196557</td>\n",
       "      <td>0.103636</td>\n",
       "      <td>0.257617</td>\n",
       "      <td>0.192890</td>\n",
       "      <td>0.194467</td>\n",
       "      <td>-0.025105</td>\n",
       "      <td>-0.348036</td>\n",
       "      <td>...</td>\n",
       "      <td>0.623478</td>\n",
       "      <td>-0.278910</td>\n",
       "      <td>0.685286</td>\n",
       "      <td>-0.247761</td>\n",
       "      <td>0.718104</td>\n",
       "      <td>-0.247095</td>\n",
       "      <td>0.737364</td>\n",
       "      <td>-0.184218</td>\n",
       "      <td>1.000000</td>\n",
       "      <td>0.108760</td>\n",
       "    </tr>\n",
       "    <tr>\n",
       "      <th>sun_close</th>\n",
       "      <td>0.017589</td>\n",
       "      <td>0.018866</td>\n",
       "      <td>-0.257720</td>\n",
       "      <td>-0.084295</td>\n",
       "      <td>0.014986</td>\n",
       "      <td>-0.077150</td>\n",
       "      <td>-0.061645</td>\n",
       "      <td>-0.043952</td>\n",
       "      <td>0.383182</td>\n",
       "      <td>0.244818</td>\n",
       "      <td>...</td>\n",
       "      <td>-0.333751</td>\n",
       "      <td>0.534829</td>\n",
       "      <td>-0.338563</td>\n",
       "      <td>0.586836</td>\n",
       "      <td>-0.344643</td>\n",
       "      <td>0.578287</td>\n",
       "      <td>-0.295575</td>\n",
       "      <td>0.634274</td>\n",
       "      <td>0.108760</td>\n",
       "      <td>1.000000</td>\n",
       "    </tr>\n",
       "  </tbody>\n",
       "</table>\n",
       "<p>48 rows × 48 columns</p>\n",
       "</div>"
      ],
      "text/plain": [
       "                                   latitude  longitude   claimed    awards  \\\n",
       "latitude                           1.000000   0.118269  0.019836  0.015015   \n",
       "longitude                          0.118269   1.000000 -0.024533 -0.041617   \n",
       "claimed                            0.019836  -0.024533  1.000000  0.256550   \n",
       "awards                             0.015015  -0.041617  0.256550  1.000000   \n",
       "price_level                       -0.009239  -0.075191  0.106097  0.147894   \n",
       "vegetarian_friendly                0.072373  -0.011456  0.287187  0.479397   \n",
       "vegan_options                      0.043871  -0.051613  0.209320  0.437897   \n",
       "gluten_free                        0.023452  -0.071896  0.216870  0.545056   \n",
       "open_days_per_week                -0.042177   0.065908 -0.238693 -0.117590   \n",
       "open_hours_per_week               -0.085878   0.098578 -0.304596 -0.231535   \n",
       "working_shifts_per_week           -0.081397  -0.033745  0.089546  0.131329   \n",
       "avg_rating                        -0.023443   0.020335  0.096230  0.154531   \n",
       "total_reviews_count               -0.008615  -0.027490  0.192048  0.543203   \n",
       "reviews_count_in_default_language  0.106404  -0.106180  0.128293  0.401244   \n",
       "excellent                          0.092583  -0.100712  0.126123  0.417355   \n",
       "very_good                          0.108522  -0.095005  0.118282  0.378686   \n",
       "average                            0.108323  -0.091726  0.102533  0.271726   \n",
       "poor                               0.114181  -0.100789  0.098984  0.216776   \n",
       "terrible                           0.101819  -0.099344  0.090389  0.153893   \n",
       "reservations                       0.015738  -0.047509 -0.034253  0.124722   \n",
       "seating                            0.040747  -0.052028  0.042458  0.181788   \n",
       "wheel_chair                        0.030713  -0.055608  0.049320  0.170167   \n",
       "alcohol                            0.033037  -0.050823  0.077843  0.217370   \n",
       "credit_cards                       0.043103  -0.051082  0.081357  0.225215   \n",
       "table_service                      0.028902  -0.050913  0.037369  0.194358   \n",
       "takeout                            0.054332  -0.032141  0.035451  0.110309   \n",
       "outdoor                           -0.002618  -0.009800  0.060442  0.156561   \n",
       "delivery                           0.037859  -0.024195  0.021185  0.044006   \n",
       "wifi                               0.029067  -0.032509  0.081591  0.195938   \n",
       "highchair                          0.050000  -0.058798  0.078576  0.218863   \n",
       "full_bar                           0.035225  -0.058876  0.076355  0.212007   \n",
       "parking                            0.028241  -0.017673  0.046098  0.082537   \n",
       "street_parking                     0.020440  -0.017616  0.038616  0.068327   \n",
       "lower_limit                       -0.000921  -0.003292  0.001057 -0.001193   \n",
       "mon_open                           0.047080   0.005831  0.341184  0.157899   \n",
       "mon_close                          0.029612   0.023287 -0.291292 -0.136622   \n",
       "tue_open                           0.057542  -0.014170  0.420493  0.211558   \n",
       "tue_close                          0.057434  -0.002795 -0.245508 -0.095451   \n",
       "wed_open                           0.073430  -0.027299  0.461081  0.228580   \n",
       "wed_close                          0.082231  -0.021166 -0.224557 -0.083966   \n",
       "thur_open                          0.072009  -0.035087  0.496552  0.255440   \n",
       "thur_close                         0.088897  -0.034636 -0.205278 -0.055165   \n",
       "fri_open                           0.069824  -0.034813  0.516698  0.267967   \n",
       "fri_close                          0.079926  -0.027562 -0.198896 -0.032746   \n",
       "sat_open                           0.062730  -0.030816  0.495900  0.270107   \n",
       "sat_close                          0.064237  -0.022634 -0.206212 -0.014785   \n",
       "sun_open                           0.021794  -0.001791  0.401260  0.196557   \n",
       "sun_close                          0.017589   0.018866 -0.257720 -0.084295   \n",
       "\n",
       "                                   price_level  vegetarian_friendly  \\\n",
       "latitude                             -0.009239             0.072373   \n",
       "longitude                            -0.075191            -0.011456   \n",
       "claimed                               0.106097             0.287187   \n",
       "awards                                0.147894             0.479397   \n",
       "price_level                           1.000000             0.130575   \n",
       "vegetarian_friendly                   0.130575             1.000000   \n",
       "vegan_options                         0.082239             0.598551   \n",
       "gluten_free                           0.153331             0.510182   \n",
       "open_days_per_week                   -0.046720            -0.079116   \n",
       "open_hours_per_week                  -0.081811            -0.174723   \n",
       "working_shifts_per_week               0.085761             0.095523   \n",
       "avg_rating                           -0.041327             0.091930   \n",
       "total_reviews_count                   0.129079             0.351804   \n",
       "reviews_count_in_default_language     0.094825             0.276751   \n",
       "excellent                             0.083781             0.271165   \n",
       "very_good                             0.099023             0.259887   \n",
       "average                               0.091422             0.223199   \n",
       "poor                                  0.092144             0.209835   \n",
       "terrible                              0.084546             0.186405   \n",
       "reservations                          0.067518             0.066974   \n",
       "seating                               0.049944             0.124488   \n",
       "wheel_chair                           0.035570             0.113091   \n",
       "alcohol                               0.069553             0.159907   \n",
       "credit_cards                          0.056730             0.157496   \n",
       "table_service                         0.069045             0.136153   \n",
       "takeout                              -0.004370             0.083469   \n",
       "outdoor                               0.038039             0.111796   \n",
       "delivery                              0.004508             0.047781   \n",
       "wifi                                  0.047218             0.145339   \n",
       "highchair                             0.063797             0.163743   \n",
       "full_bar                              0.068662             0.157323   \n",
       "parking                               0.014912             0.050503   \n",
       "street_parking                        0.016280             0.048850   \n",
       "lower_limit                          -0.003681            -0.001655   \n",
       "mon_open                              0.040670             0.210200   \n",
       "mon_close                            -0.076210            -0.132195   \n",
       "tue_open                              0.072687             0.243657   \n",
       "tue_close                            -0.055251            -0.117800   \n",
       "wed_open                              0.090913             0.273783   \n",
       "wed_close                            -0.040528            -0.097050   \n",
       "thur_open                             0.109078             0.294324   \n",
       "thur_close                           -0.022582            -0.085017   \n",
       "fri_open                              0.117295             0.302861   \n",
       "fri_close                            -0.016952            -0.080667   \n",
       "sat_open                              0.124431             0.300501   \n",
       "sat_close                             0.004390            -0.064655   \n",
       "sun_open                              0.103636             0.257617   \n",
       "sun_close                             0.014986            -0.077150   \n",
       "\n",
       "                                   vegan_options  gluten_free  \\\n",
       "latitude                                0.043871     0.023452   \n",
       "longitude                              -0.051613    -0.071896   \n",
       "claimed                                 0.209320     0.216870   \n",
       "awards                                  0.437897     0.545056   \n",
       "price_level                             0.082239     0.153331   \n",
       "vegetarian_friendly                     0.598551     0.510182   \n",
       "vegan_options                           1.000000     0.566927   \n",
       "gluten_free                             0.566927     1.000000   \n",
       "open_days_per_week                     -0.045008    -0.060247   \n",
       "open_hours_per_week                    -0.117541    -0.144291   \n",
       "working_shifts_per_week                 0.043554     0.072902   \n",
       "avg_rating                              0.131969     0.102268   \n",
       "total_reviews_count                     0.335461     0.438143   \n",
       "reviews_count_in_default_language       0.325874     0.391051   \n",
       "excellent                               0.333309     0.394029   \n",
       "very_good                               0.288853     0.351327   \n",
       "average                                 0.241438     0.303507   \n",
       "poor                                    0.222256     0.284568   \n",
       "terrible                                0.186621     0.233264   \n",
       "reservations                            0.132232     0.163048   \n",
       "seating                                 0.183775     0.213927   \n",
       "wheel_chair                             0.162866     0.196943   \n",
       "alcohol                                 0.209774     0.247265   \n",
       "credit_cards                            0.208415     0.247076   \n",
       "table_service                           0.191890     0.224748   \n",
       "takeout                                 0.135960     0.126011   \n",
       "outdoor                                 0.150630     0.174661   \n",
       "delivery                                0.081401     0.060651   \n",
       "wifi                                    0.197857     0.228922   \n",
       "highchair                               0.214343     0.252341   \n",
       "full_bar                                0.203557     0.249081   \n",
       "parking                                 0.074743     0.093233   \n",
       "street_parking                          0.069991     0.081995   \n",
       "lower_limit                            -0.001051    -0.000971   \n",
       "mon_open                                0.165879     0.149794   \n",
       "mon_close                              -0.091020    -0.103680   \n",
       "tue_open                                0.189445     0.179945   \n",
       "tue_close                              -0.079994    -0.089172   \n",
       "wed_open                                0.208773     0.202446   \n",
       "wed_close                              -0.067352    -0.073131   \n",
       "thur_open                               0.218929     0.218744   \n",
       "thur_close                             -0.063120    -0.062647   \n",
       "fri_open                                0.222784     0.225789   \n",
       "fri_close                              -0.064101    -0.056718   \n",
       "sat_open                                0.219691     0.224032   \n",
       "sat_close                              -0.050987    -0.036279   \n",
       "sun_open                                0.192890     0.194467   \n",
       "sun_close                              -0.061645    -0.043952   \n",
       "\n",
       "                                   open_days_per_week  open_hours_per_week  \\\n",
       "latitude                                    -0.042177            -0.085878   \n",
       "longitude                                    0.065908             0.098578   \n",
       "claimed                                     -0.238693            -0.304596   \n",
       "awards                                      -0.117590            -0.231535   \n",
       "price_level                                 -0.046720            -0.081811   \n",
       "vegetarian_friendly                         -0.079116            -0.174723   \n",
       "vegan_options                               -0.045008            -0.117541   \n",
       "gluten_free                                 -0.060247            -0.144291   \n",
       "open_days_per_week                           1.000000             0.604350   \n",
       "open_hours_per_week                          0.604350             1.000000   \n",
       "working_shifts_per_week                      0.338975            -0.110402   \n",
       "avg_rating                                  -0.170505            -0.165381   \n",
       "total_reviews_count                         -0.016553            -0.104824   \n",
       "reviews_count_in_default_language            0.004521            -0.039721   \n",
       "excellent                                   -0.016741            -0.059317   \n",
       "very_good                                    0.026145            -0.015972   \n",
       "average                                      0.037537             0.000961   \n",
       "poor                                         0.046301             0.009255   \n",
       "terrible                                     0.061171             0.029608   \n",
       "reservations                                 0.046560             0.048015   \n",
       "seating                                      0.020241             0.010610   \n",
       "wheel_chair                                  0.018578             0.005627   \n",
       "alcohol                                      0.004471            -0.009329   \n",
       "credit_cards                                -0.003386            -0.021392   \n",
       "table_service                                0.017695             0.006158   \n",
       "takeout                                      0.028764             0.011558   \n",
       "outdoor                                      0.011158             0.015053   \n",
       "delivery                                     0.021538             0.001868   \n",
       "wifi                                         0.006585            -0.001417   \n",
       "highchair                                    0.006686            -0.013636   \n",
       "full_bar                                     0.002174            -0.008570   \n",
       "parking                                     -0.004712            -0.009118   \n",
       "street_parking                              -0.010626            -0.015740   \n",
       "lower_limit                                  0.001238             0.001577   \n",
       "mon_open                                     0.188246            -0.193324   \n",
       "mon_close                                    0.538677             0.364735   \n",
       "tue_open                                     0.046485            -0.373374   \n",
       "tue_close                                    0.466497             0.243145   \n",
       "wed_open                                    -0.073031            -0.469501   \n",
       "wed_close                                    0.380762             0.171005   \n",
       "thur_open                                   -0.185355            -0.557317   \n",
       "thur_close                                   0.289903             0.091687   \n",
       "fri_open                                    -0.300220            -0.618105   \n",
       "fri_close                                    0.166151             0.016833   \n",
       "sat_open                                    -0.258979            -0.569750   \n",
       "sat_close                                    0.194344             0.050227   \n",
       "sun_open                                    -0.025105            -0.348036   \n",
       "sun_close                                    0.383182             0.244818   \n",
       "\n",
       "                                   ...  wed_open  wed_close  thur_open  \\\n",
       "latitude                           ...  0.073430   0.082231   0.072009   \n",
       "longitude                          ... -0.027299  -0.021166  -0.035087   \n",
       "claimed                            ...  0.461081  -0.224557   0.496552   \n",
       "awards                             ...  0.228580  -0.083966   0.255440   \n",
       "price_level                        ...  0.090913  -0.040528   0.109078   \n",
       "vegetarian_friendly                ...  0.273783  -0.097050   0.294324   \n",
       "vegan_options                      ...  0.208773  -0.067352   0.218929   \n",
       "gluten_free                        ...  0.202446  -0.073131   0.218744   \n",
       "open_days_per_week                 ... -0.073031   0.380762  -0.185355   \n",
       "open_hours_per_week                ... -0.469501   0.171005  -0.557317   \n",
       "working_shifts_per_week            ...  0.215526   0.144673   0.185132   \n",
       "avg_rating                         ...  0.062864  -0.035362   0.083730   \n",
       "total_reviews_count                ...  0.181405  -0.068338   0.191989   \n",
       "reviews_count_in_default_language  ...  0.136367  -0.008566   0.136914   \n",
       "excellent                          ...  0.134363  -0.012016   0.137598   \n",
       "very_good                          ...  0.124024  -0.005930   0.121987   \n",
       "average                            ...  0.108618   0.002198   0.104293   \n",
       "poor                               ...  0.104232   0.006251   0.098787   \n",
       "terrible                           ...  0.101025  -0.000037   0.094127   \n",
       "reservations                       ... -0.039659   0.044313  -0.045531   \n",
       "seating                            ...  0.028749   0.010420   0.026505   \n",
       "wheel_chair                        ...  0.033887   0.007858   0.032755   \n",
       "alcohol                            ...  0.070832  -0.004738   0.071466   \n",
       "credit_cards                       ...  0.074806  -0.010572   0.075417   \n",
       "table_service                      ...  0.037665   0.009183   0.036710   \n",
       "takeout                            ...  0.028218   0.011703   0.024059   \n",
       "outdoor                            ...  0.029108  -0.018356   0.028261   \n",
       "delivery                           ...  0.032837   0.014397   0.029386   \n",
       "wifi                               ...  0.059724  -0.011313   0.060606   \n",
       "highchair                          ...  0.070994  -0.003475   0.070761   \n",
       "full_bar                           ...  0.077930  -0.005278   0.078784   \n",
       "parking                            ...  0.014646  -0.002238   0.014816   \n",
       "street_parking                     ...  0.021421  -0.004805   0.023448   \n",
       "lower_limit                        ... -0.002590   0.001263  -0.002767   \n",
       "mon_open                           ...  0.550695  -0.193698   0.581039   \n",
       "mon_close                          ... -0.380211   0.564777  -0.415460   \n",
       "tue_open                           ...  0.777691  -0.162086   0.767241   \n",
       "tue_close                          ... -0.236024   0.764630  -0.316563   \n",
       "wed_open                           ...  1.000000  -0.060163   0.880618   \n",
       "wed_close                          ... -0.060163   1.000000  -0.248511   \n",
       "thur_open                          ...  0.880618  -0.248511   1.000000   \n",
       "thur_close                         ... -0.193769   0.848801  -0.169032   \n",
       "fri_open                           ...  0.846554  -0.319305   0.927732   \n",
       "fri_close                          ... -0.256426   0.733236  -0.262533   \n",
       "sat_open                           ...  0.789842  -0.313690   0.863222   \n",
       "sat_close                          ... -0.275831   0.666303  -0.280487   \n",
       "sun_open                           ...  0.623478  -0.278910   0.685286   \n",
       "sun_close                          ... -0.333751   0.534829  -0.338563   \n",
       "\n",
       "                                   thur_close  fri_open  fri_close  sat_open  \\\n",
       "latitude                             0.088897  0.069824   0.079926  0.062730   \n",
       "longitude                           -0.034636 -0.034813  -0.027562 -0.030816   \n",
       "claimed                             -0.205278  0.516698  -0.198896  0.495900   \n",
       "awards                              -0.055165  0.267967  -0.032746  0.270107   \n",
       "price_level                         -0.022582  0.117295  -0.016952  0.124431   \n",
       "vegetarian_friendly                 -0.085017  0.302861  -0.080667  0.300501   \n",
       "vegan_options                       -0.063120  0.222784  -0.064101  0.219691   \n",
       "gluten_free                         -0.062647  0.225789  -0.056718  0.224032   \n",
       "open_days_per_week                   0.289903 -0.300220   0.166151 -0.258979   \n",
       "open_hours_per_week                  0.091687 -0.618105   0.016833 -0.569750   \n",
       "working_shifts_per_week              0.134582  0.138607   0.082697  0.174438   \n",
       "avg_rating                          -0.011976  0.095782   0.011823  0.082555   \n",
       "total_reviews_count                 -0.060571  0.198012  -0.051527  0.198352   \n",
       "reviews_count_in_default_language   -0.010019  0.137624  -0.012567  0.133930   \n",
       "excellent                           -0.010161  0.139609  -0.010436  0.134997   \n",
       "very_good                           -0.010197  0.121262  -0.013967  0.119433   \n",
       "average                             -0.004702  0.102855  -0.010001  0.101175   \n",
       "poor                                -0.001810  0.096605  -0.009230  0.095276   \n",
       "terrible                            -0.010872  0.091025  -0.021997  0.089794   \n",
       "reservations                         0.041253 -0.050501   0.038284 -0.047242   \n",
       "seating                              0.008377  0.023467   0.005429  0.023648   \n",
       "wheel_chair                          0.006535  0.030246   0.003852  0.029876   \n",
       "alcohol                             -0.005260  0.070028  -0.008341  0.068054   \n",
       "credit_cards                        -0.011115  0.075396  -0.011423  0.072789   \n",
       "table_service                        0.008512  0.034179   0.005671  0.033027   \n",
       "takeout                              0.007683  0.020463   0.002512  0.021260   \n",
       "outdoor                             -0.020650  0.028514  -0.018709  0.029638   \n",
       "delivery                             0.010962  0.027128   0.001755  0.024853   \n",
       "wifi                                -0.011866  0.059863  -0.013580  0.057910   \n",
       "highchair                           -0.004672  0.069812  -0.007191  0.068362   \n",
       "full_bar                            -0.006527  0.077141  -0.011652  0.074793   \n",
       "parking                             -0.002273  0.014568  -0.001814  0.015722   \n",
       "street_parking                      -0.003467  0.024172  -0.003002  0.023463   \n",
       "lower_limit                          0.001187 -0.002869   0.001180 -0.002755   \n",
       "mon_open                            -0.182791  0.572628  -0.217678  0.528308   \n",
       "mon_close                            0.584389 -0.454407   0.523909 -0.448537   \n",
       "tue_open                            -0.194416  0.745390  -0.241885  0.698439   \n",
       "tue_close                            0.741534 -0.371689   0.653088 -0.360624   \n",
       "wed_open                            -0.193769  0.846554  -0.256426  0.789842   \n",
       "wed_close                            0.848801 -0.319305   0.733236 -0.313690   \n",
       "thur_open                           -0.169032  0.927732  -0.262533  0.863222   \n",
       "thur_close                           1.000000 -0.280238   0.830020 -0.277964   \n",
       "fri_open                            -0.280238  1.000000  -0.256140  0.912506   \n",
       "fri_close                            0.830020 -0.256140   1.000000 -0.269287   \n",
       "sat_open                            -0.277964  0.912506  -0.269287  1.000000   \n",
       "sat_close                            0.754317 -0.279202   0.899879 -0.182565   \n",
       "sun_open                            -0.247761  0.718104  -0.247095  0.737364   \n",
       "sun_close                            0.586836 -0.344643   0.578287 -0.295575   \n",
       "\n",
       "                                   sat_close  sun_open  sun_close  \n",
       "latitude                            0.064237  0.021794   0.017589  \n",
       "longitude                          -0.022634 -0.001791   0.018866  \n",
       "claimed                            -0.206212  0.401260  -0.257720  \n",
       "awards                             -0.014785  0.196557  -0.084295  \n",
       "price_level                         0.004390  0.103636   0.014986  \n",
       "vegetarian_friendly                -0.064655  0.257617  -0.077150  \n",
       "vegan_options                      -0.050987  0.192890  -0.061645  \n",
       "gluten_free                        -0.036279  0.194467  -0.043952  \n",
       "open_days_per_week                  0.194344 -0.025105   0.383182  \n",
       "open_hours_per_week                 0.050227 -0.348036   0.244818  \n",
       "working_shifts_per_week             0.092272  0.214864   0.084691  \n",
       "avg_rating                         -0.002498  0.008401  -0.092120  \n",
       "total_reviews_count                -0.032947  0.180777  -0.040731  \n",
       "reviews_count_in_default_language  -0.000872  0.124759  -0.005944  \n",
       "excellent                           0.000369  0.116892  -0.015018  \n",
       "very_good                          -0.002921  0.118963   0.000837  \n",
       "average                             0.000357  0.108866   0.013123  \n",
       "poor                                0.001459  0.108354   0.020239  \n",
       "terrible                           -0.010116  0.111545   0.022425  \n",
       "reservations                        0.048047 -0.032855   0.057134  \n",
       "seating                             0.015099  0.028307   0.019301  \n",
       "wheel_chair                         0.011060  0.034661   0.014482  \n",
       "alcohol                             0.000676  0.063481   0.001462  \n",
       "credit_cards                       -0.003526  0.066081  -0.007597  \n",
       "table_service                       0.014563  0.035019   0.017432  \n",
       "takeout                             0.010064  0.031985   0.017674  \n",
       "outdoor                            -0.009741  0.039414   0.000318  \n",
       "delivery                            0.004267  0.034838   0.019774  \n",
       "wifi                               -0.006353  0.056947  -0.003964  \n",
       "highchair                           0.001952  0.071265   0.006399  \n",
       "full_bar                           -0.004020  0.068812  -0.000830  \n",
       "parking                             0.003963  0.021020   0.008356  \n",
       "street_parking                      0.000987  0.025577   0.003365  \n",
       "lower_limit                         0.001227 -0.002238   0.001487  \n",
       "mon_open                           -0.245403  0.465590  -0.232574  \n",
       "mon_close                           0.470446 -0.338036   0.478229  \n",
       "tue_open                           -0.263795  0.540411  -0.331139  \n",
       "tue_close                           0.591462 -0.326414   0.472208  \n",
       "wed_open                           -0.275831  0.623478  -0.333751  \n",
       "wed_close                           0.666303 -0.278910   0.534829  \n",
       "thur_open                          -0.280487  0.685286  -0.338563  \n",
       "thur_close                          0.754317 -0.247761   0.586836  \n",
       "fri_open                           -0.279202  0.718104  -0.344643  \n",
       "fri_close                           0.899879 -0.247095   0.578287  \n",
       "sat_open                           -0.182565  0.737364  -0.295575  \n",
       "sat_close                           1.000000 -0.184218   0.634274  \n",
       "sun_open                           -0.184218  1.000000   0.108760  \n",
       "sun_close                           0.634274  0.108760   1.000000  \n",
       "\n",
       "[48 rows x 48 columns]"
      ]
     },
     "execution_count": 147,
     "metadata": {},
     "output_type": "execute_result"
    }
   ],
   "source": [
    "## CHECK CORELLATION\n",
    "correlations_matrix = numerical.corr()\n",
    "correlations_matrix"
   ]
  },
  {
   "cell_type": "code",
   "execution_count": 148,
   "id": "16a36652",
   "metadata": {},
   "outputs": [
    {
     "data": {
      "text/plain": [
       "<AxesSubplot:>"
      ]
     },
     "execution_count": 148,
     "metadata": {},
     "output_type": "execute_result"
    },
    {
     "data": {
      "image/png": "[encoded data removed]",
      "text/plain": [
       "<Figure size 1440x720 with 2 Axes>"
      ]
     },
     "metadata": {
      "needs_background": "light"
     },
     "output_type": "display_data"
    }
   ],
   "source": [
    "import seaborn as sns\n",
    "fig, ax = plt.subplots(figsize=(20,10))         # Sample figsize in inches\n",
    "sns.heatmap(correlations_matrix, ax=ax, linewidth=3.1,annot=True,center=1)"
   ]
  },
  {
   "cell_type": "markdown",
   "id": "3ce8550f",
   "metadata": {},
   "source": [
    "# Too many columns"
   ]
  },
  {
   "cell_type": "markdown",
   "id": "468d15c6",
   "metadata": {},
   "source": [
    "## Normalize the Data"
   ]
  },
  {
   "cell_type": "code",
   "execution_count": 111,
   "id": "3e881ff0",
   "metadata": {},
   "outputs": [
    {
     "name": "stdout",
     "output_type": "stream",
     "text": [
      "(244063, 48)\n"
     ]
    },
    {
     "data": {
      "text/html": [
       "<div>\n",
       "<style scoped>\n",
       "    .dataframe tbody tr th:only-of-type {\n",
       "        vertical-align: middle;\n",
       "    }\n",
       "\n",
       "    .dataframe tbody tr th {\n",
       "        vertical-align: top;\n",
       "    }\n",
       "\n",
       "    .dataframe thead th {\n",
       "        text-align: right;\n",
       "    }\n",
       "</style>\n",
       "<table border=\"1\" class=\"dataframe\">\n",
       "  <thead>\n",
       "    <tr style=\"text-align: right;\">\n",
       "      <th></th>\n",
       "      <th>latitude</th>\n",
       "      <th>longitude</th>\n",
       "      <th>claimed</th>\n",
       "      <th>awards</th>\n",
       "      <th>price_level</th>\n",
       "      <th>vegetarian_friendly</th>\n",
       "      <th>vegan_options</th>\n",
       "      <th>gluten_free</th>\n",
       "      <th>open_days_per_week</th>\n",
       "      <th>open_hours_per_week</th>\n",
       "      <th>...</th>\n",
       "      <th>wed_open</th>\n",
       "      <th>wed_close</th>\n",
       "      <th>thur_open</th>\n",
       "      <th>thur_close</th>\n",
       "      <th>fri_open</th>\n",
       "      <th>fri_close</th>\n",
       "      <th>sat_open</th>\n",
       "      <th>sat_close</th>\n",
       "      <th>sun_open</th>\n",
       "      <th>sun_close</th>\n",
       "    </tr>\n",
       "  </thead>\n",
       "  <tbody>\n",
       "    <tr>\n",
       "      <th>0</th>\n",
       "      <td>0.660261</td>\n",
       "      <td>0.734889</td>\n",
       "      <td>1.0</td>\n",
       "      <td>0.166667</td>\n",
       "      <td>1.0</td>\n",
       "      <td>0.0</td>\n",
       "      <td>0.0</td>\n",
       "      <td>0.0</td>\n",
       "      <td>1.000000</td>\n",
       "      <td>0.318452</td>\n",
       "      <td>...</td>\n",
       "      <td>0.391304</td>\n",
       "      <td>0.913043</td>\n",
       "      <td>0.391304</td>\n",
       "      <td>0.913043</td>\n",
       "      <td>0.391304</td>\n",
       "      <td>0.956522</td>\n",
       "      <td>0.391304</td>\n",
       "      <td>0.956522</td>\n",
       "      <td>0.391304</td>\n",
       "      <td>0.695652</td>\n",
       "    </tr>\n",
       "    <tr>\n",
       "      <th>1</th>\n",
       "      <td>0.632565</td>\n",
       "      <td>0.738762</td>\n",
       "      <td>1.0</td>\n",
       "      <td>0.000000</td>\n",
       "      <td>1.0</td>\n",
       "      <td>0.0</td>\n",
       "      <td>0.0</td>\n",
       "      <td>0.0</td>\n",
       "      <td>0.666667</td>\n",
       "      <td>0.178571</td>\n",
       "      <td>...</td>\n",
       "      <td>0.521739</td>\n",
       "      <td>0.956522</td>\n",
       "      <td>0.521739</td>\n",
       "      <td>0.956522</td>\n",
       "      <td>0.521739</td>\n",
       "      <td>0.956522</td>\n",
       "      <td>0.521739</td>\n",
       "      <td>0.956522</td>\n",
       "      <td>0.521739</td>\n",
       "      <td>0.956522</td>\n",
       "    </tr>\n",
       "    <tr>\n",
       "      <th>2</th>\n",
       "      <td>0.620079</td>\n",
       "      <td>0.718875</td>\n",
       "      <td>1.0</td>\n",
       "      <td>0.416667</td>\n",
       "      <td>1.0</td>\n",
       "      <td>1.0</td>\n",
       "      <td>0.0</td>\n",
       "      <td>0.0</td>\n",
       "      <td>0.833333</td>\n",
       "      <td>0.142857</td>\n",
       "      <td>...</td>\n",
       "      <td>0.434783</td>\n",
       "      <td>0.608696</td>\n",
       "      <td>0.434783</td>\n",
       "      <td>0.608696</td>\n",
       "      <td>0.434783</td>\n",
       "      <td>0.608696</td>\n",
       "      <td>0.434783</td>\n",
       "      <td>0.608696</td>\n",
       "      <td>0.434783</td>\n",
       "      <td>0.608696</td>\n",
       "    </tr>\n",
       "    <tr>\n",
       "      <th>3</th>\n",
       "      <td>0.613987</td>\n",
       "      <td>0.706313</td>\n",
       "      <td>1.0</td>\n",
       "      <td>0.000000</td>\n",
       "      <td>1.0</td>\n",
       "      <td>0.0</td>\n",
       "      <td>0.0</td>\n",
       "      <td>0.0</td>\n",
       "      <td>0.666667</td>\n",
       "      <td>0.083333</td>\n",
       "      <td>...</td>\n",
       "      <td>0.521739</td>\n",
       "      <td>0.608696</td>\n",
       "      <td>0.521739</td>\n",
       "      <td>0.608696</td>\n",
       "      <td>0.521739</td>\n",
       "      <td>0.913043</td>\n",
       "      <td>0.826087</td>\n",
       "      <td>0.913043</td>\n",
       "      <td>0.521739</td>\n",
       "      <td>0.913043</td>\n",
       "    </tr>\n",
       "    <tr>\n",
       "      <th>4</th>\n",
       "      <td>0.619438</td>\n",
       "      <td>0.756622</td>\n",
       "      <td>1.0</td>\n",
       "      <td>0.000000</td>\n",
       "      <td>1.0</td>\n",
       "      <td>0.0</td>\n",
       "      <td>0.0</td>\n",
       "      <td>0.0</td>\n",
       "      <td>0.833333</td>\n",
       "      <td>0.122024</td>\n",
       "      <td>...</td>\n",
       "      <td>0.478261</td>\n",
       "      <td>0.608696</td>\n",
       "      <td>0.478261</td>\n",
       "      <td>0.608696</td>\n",
       "      <td>0.478261</td>\n",
       "      <td>0.913043</td>\n",
       "      <td>0.478261</td>\n",
       "      <td>0.913043</td>\n",
       "      <td>0.478261</td>\n",
       "      <td>0.608696</td>\n",
       "    </tr>\n",
       "  </tbody>\n",
       "</table>\n",
       "<p>5 rows × 48 columns</p>\n",
       "</div>"
      ],
      "text/plain": [
       "   latitude  longitude  claimed    awards  price_level  vegetarian_friendly  \\\n",
       "0  0.660261   0.734889      1.0  0.166667          1.0                  0.0   \n",
       "1  0.632565   0.738762      1.0  0.000000          1.0                  0.0   \n",
       "2  0.620079   0.718875      1.0  0.416667          1.0                  1.0   \n",
       "3  0.613987   0.706313      1.0  0.000000          1.0                  0.0   \n",
       "4  0.619438   0.756622      1.0  0.000000          1.0                  0.0   \n",
       "\n",
       "   vegan_options  gluten_free  open_days_per_week  open_hours_per_week  ...  \\\n",
       "0            0.0          0.0            1.000000             0.318452  ...   \n",
       "1            0.0          0.0            0.666667             0.178571  ...   \n",
       "2            0.0          0.0            0.833333             0.142857  ...   \n",
       "3            0.0          0.0            0.666667             0.083333  ...   \n",
       "4            0.0          0.0            0.833333             0.122024  ...   \n",
       "\n",
       "   wed_open  wed_close  thur_open  thur_close  fri_open  fri_close  sat_open  \\\n",
       "0  0.391304   0.913043   0.391304    0.913043  0.391304   0.956522  0.391304   \n",
       "1  0.521739   0.956522   0.521739    0.956522  0.521739   0.956522  0.521739   \n",
       "2  0.434783   0.608696   0.434783    0.608696  0.434783   0.608696  0.434783   \n",
       "3  0.521739   0.608696   0.521739    0.608696  0.521739   0.913043  0.826087   \n",
       "4  0.478261   0.608696   0.478261    0.608696  0.478261   0.913043  0.478261   \n",
       "\n",
       "   sat_close  sun_open  sun_close  \n",
       "0   0.956522  0.391304   0.695652  \n",
       "1   0.956522  0.521739   0.956522  \n",
       "2   0.608696  0.434783   0.608696  \n",
       "3   0.913043  0.521739   0.913043  \n",
       "4   0.913043  0.478261   0.608696  \n",
       "\n",
       "[5 rows x 48 columns]"
      ]
     },
     "execution_count": 111,
     "metadata": {},
     "output_type": "execute_result"
    }
   ],
   "source": [
    "from sklearn.preprocessing import MinMaxScaler\n",
    "kimera = MinMaxScaler().fit(numerical)\n",
    "numerical_normalized = kimera.transform(numerical)\n",
    "print(numerical_normalized.shape)\n",
    "numerical_normalized = pd.DataFrame(numerical_normalized,columns=numerical.columns)\n",
    "numerical_normalized.head()"
   ]
  },
  {
   "cell_type": "code",
   "execution_count": 112,
   "id": "ea479bba",
   "metadata": {},
   "outputs": [],
   "source": [
    "from sklearn.metrics import r2_score\n",
    "#,mean_squared_error,mean_absolute_error\n",
    "from sklearn import linear_model\n",
    "#from sklearn.linear_model import LinearRegression\n",
    "from sklearn.model_selection import cross_val_score\n"
   ]
  },
  {
   "cell_type": "code",
   "execution_count": 113,
   "id": "88dbcc51",
   "metadata": {},
   "outputs": [],
   "source": [
    "#model = LinearRegression()\n",
    "y = numerical_normalized['lower_limit']\n",
    "X = numerical_normalized.drop('lower_limit', axis = 1)\n",
    "X_train, X_test, y_train, y_test = train_test_split(X, y, test_size=0.25, random_state=42)\n",
    "#scores = cross_val_score(model, X_rand, y_rand, cv=10)"
   ]
  },
  {
   "cell_type": "code",
   "execution_count": 114,
   "id": "1e5d38ac",
   "metadata": {},
   "outputs": [],
   "source": [
    "#y.head(20)\n",
    "#X.head(10)"
   ]
  },
  {
   "cell_type": "code",
   "execution_count": 115,
   "id": "82a58f4d",
   "metadata": {},
   "outputs": [],
   "source": [
    "#model = LinearRegression()\n",
    "lm = linear_model.LinearRegression()\n",
    "#lm = model.fit(X_train,y_train)\n",
    "model = lm.fit(X_train,y_train)"
   ]
  },
  {
   "cell_type": "code",
   "execution_count": 116,
   "id": "f5541a04",
   "metadata": {},
   "outputs": [
    {
     "data": {
      "text/plain": [
       "array([ 2.60726676e-05,  2.27274954e-06,  1.74696109e-06, ...,\n",
       "        2.53217376e-05, -7.75283352e-06,  4.77398377e-05])"
      ]
     },
     "execution_count": 116,
     "metadata": {},
     "output_type": "execute_result"
    }
   ],
   "source": [
    "predictions = model.predict(X_train)\n",
    "predictions"
   ]
  },
  {
   "cell_type": "code",
   "execution_count": 117,
   "id": "04da7e01",
   "metadata": {},
   "outputs": [
    {
     "data": {
      "text/plain": [
       "0.0001927334202815878"
      ]
     },
     "execution_count": 117,
     "metadata": {},
     "output_type": "execute_result"
    }
   ],
   "source": [
    "r2_score(y_train, predictions)"
   ]
  },
  {
   "cell_type": "code",
   "execution_count": 118,
   "id": "c3ef17b4",
   "metadata": {},
   "outputs": [
    {
     "data": {
      "text/plain": [
       "array([-2.74005930e-05, -6.73448165e+00, -4.93240732e-01, -2.54425798e+00,\n",
       "       -9.00294886e-02])"
      ]
     },
     "execution_count": 118,
     "metadata": {},
     "output_type": "execute_result"
    }
   ],
   "source": [
    "from sklearn.tree import DecisionTreeRegressor\n",
    "model1 = DecisionTreeRegressor()\n",
    "from sklearn.linear_model import LinearRegression\n",
    "#model2 = LinearRegression()\n",
    "\n",
    "cross_val_score(model1, X_train, y_train, cv=5)\n"
   ]
  },
  {
   "cell_type": "code",
   "execution_count": 119,
   "id": "e38bdd8b",
   "metadata": {},
   "outputs": [],
   "source": [
    "#KNN Model\n",
    "#cross_val_score(model1, X_train, y_train, cv=5)"
   ]
  },
  {
   "cell_type": "code",
   "execution_count": 120,
   "id": "d9ce5f99",
   "metadata": {},
   "outputs": [],
   "source": [
    "# from sklearn.neighbors import KNeighborsRegressor\n",
    "# model3 = KNeighborsRegressor()\n",
    "\n",
    "# cross_val_score(model3, X_train, y_train, cv=5)"
   ]
  },
  {
   "cell_type": "markdown",
   "id": "092f347c",
   "metadata": {},
   "source": [
    "# CONCLUSION\n",
    "## With the data available, it is impossible to predict the lower_limit values\n",
    "\n",
    "## Recommendation\n",
    "    1.Alot of data in the columns we are using is derived from values of other columns. We need to collect more data directly from restaurant owners and customers\n",
    "    2.Collect more information using load scrapping or APIs"
   ]
  },
  {
   "cell_type": "markdown",
   "id": "5ef530cd",
   "metadata": {},
   "source": [
    "# Fill out the NaN values using the ratings column (since our Machine learning models are not usable)\n",
    "### We are filling out the NaNs with the average of lower_limit of restaurants in the same country and with the same rating\n",
    "### All restaurants in our data are assigned a country"
   ]
  },
  {
   "cell_type": "code",
   "execution_count": 121,
   "id": "d40a9cd3",
   "metadata": {},
   "outputs": [
    {
     "data": {
      "text/plain": [
       "0"
      ]
     },
     "execution_count": 121,
     "metadata": {},
     "output_type": "execute_result"
    }
   ],
   "source": [
    "data['country'].isna().sum()"
   ]
  },
  {
   "cell_type": "code",
   "execution_count": 122,
   "id": "c5a261bf",
   "metadata": {},
   "outputs": [
    {
     "data": {
      "text/plain": [
       "{'Austria',\n",
       " 'Belgium',\n",
       " 'Bulgaria',\n",
       " 'Croatia',\n",
       " 'Czech Republic',\n",
       " 'Denmark',\n",
       " 'England',\n",
       " 'Finland',\n",
       " 'France',\n",
       " 'Germany',\n",
       " 'Greece',\n",
       " 'Hungary',\n",
       " 'Ireland',\n",
       " 'Italy',\n",
       " 'Northern Ireland',\n",
       " 'Poland',\n",
       " 'Portugal',\n",
       " 'Romania',\n",
       " 'Scotland',\n",
       " 'Slovakia',\n",
       " 'Spain',\n",
       " 'Sweden',\n",
       " 'The Netherlands',\n",
       " 'Wales'}"
      ]
     },
     "execution_count": 122,
     "metadata": {},
     "output_type": "execute_result"
    }
   ],
   "source": [
    "country_list = set(list(data['country']))\n",
    "country_list"
   ]
  },
  {
   "cell_type": "code",
   "execution_count": 123,
   "id": "e69806a1",
   "metadata": {},
   "outputs": [
    {
     "data": {
      "text/plain": [
       "530295"
      ]
     },
     "execution_count": 123,
     "metadata": {},
     "output_type": "execute_result"
    }
   ],
   "source": [
    "# NaNs BEFORE FILLING OUT\n",
    "data['lower_limit'].isna().sum()"
   ]
  },
  {
   "cell_type": "code",
   "execution_count": 124,
   "id": "f004d30e",
   "metadata": {},
   "outputs": [
    {
     "name": "stdout",
     "output_type": "stream",
     "text": [
      "COUNTRY:  Wales\n",
      "COUNTRY:  Wales\n"
     ]
    },
    {
     "name": "stderr",
     "output_type": "stream",
     "text": [
      "C:\\Users\\KIMERA\\AppData\\Local\\Temp/ipykernel_5292/1955803888.py:11: SettingWithCopyWarning: \n",
      "A value is trying to be set on a copy of a slice from a DataFrame.\n",
      "Try using .loc[row_indexer,col_indexer] = value instead\n",
      "\n",
      "See the caveats in the documentation: https://pandas.pydata.org/pandas-docs/stable/user_guide/indexing.html#returning-a-view-versus-a-copy\n",
      "  dfx['lower_limit'] = dfx['lower_limit'].apply(lambda x: this_mean)\n"
     ]
    },
    {
     "name": "stdout",
     "output_type": "stream",
     "text": [
      "COUNTRY:  Wales\n",
      "COUNTRY:  Wales\n",
      "COUNTRY:  Wales\n",
      "COUNTRY:  Czech Republic\n",
      "COUNTRY:  Czech Republic\n",
      "COUNTRY:  Czech Republic\n",
      "COUNTRY:  Czech Republic\n",
      "COUNTRY:  Czech Republic\n",
      "COUNTRY:  Poland\n",
      "COUNTRY:  Poland\n",
      "COUNTRY:  Poland\n",
      "COUNTRY:  Poland\n",
      "COUNTRY:  Poland\n",
      "COUNTRY:  Austria\n",
      "COUNTRY:  Austria\n",
      "COUNTRY:  Austria\n",
      "COUNTRY:  Austria\n",
      "COUNTRY:  Austria\n",
      "COUNTRY:  The Netherlands\n",
      "COUNTRY:  The Netherlands\n",
      "COUNTRY:  The Netherlands\n",
      "COUNTRY:  The Netherlands\n",
      "COUNTRY:  The Netherlands\n",
      "COUNTRY:  Sweden\n",
      "COUNTRY:  Sweden\n",
      "COUNTRY:  Sweden\n",
      "COUNTRY:  Sweden\n",
      "COUNTRY:  Sweden\n",
      "COUNTRY:  Northern Ireland\n",
      "COUNTRY:  Northern Ireland\n",
      "COUNTRY:  Northern Ireland\n",
      "COUNTRY:  Northern Ireland\n",
      "COUNTRY:  Northern Ireland\n",
      "COUNTRY:  Ireland\n",
      "COUNTRY:  Ireland\n",
      "COUNTRY:  Ireland\n",
      "COUNTRY:  Ireland\n",
      "COUNTRY:  Ireland\n",
      "COUNTRY:  Croatia\n",
      "COUNTRY:  Croatia\n",
      "COUNTRY:  Croatia\n",
      "COUNTRY:  Croatia\n",
      "COUNTRY:  Croatia\n",
      "COUNTRY:  Scotland\n",
      "COUNTRY:  Scotland\n",
      "COUNTRY:  Scotland\n",
      "COUNTRY:  Scotland\n",
      "COUNTRY:  Scotland\n",
      "COUNTRY:  Portugal\n",
      "COUNTRY:  Portugal\n",
      "COUNTRY:  Portugal\n",
      "COUNTRY:  Portugal\n",
      "COUNTRY:  Portugal\n",
      "COUNTRY:  Italy\n",
      "COUNTRY:  Italy\n",
      "COUNTRY:  Italy\n",
      "COUNTRY:  Italy\n",
      "COUNTRY:  Italy\n",
      "COUNTRY:  Slovakia\n",
      "COUNTRY:  Slovakia\n",
      "COUNTRY:  Slovakia\n",
      "COUNTRY:  Slovakia\n",
      "COUNTRY:  Slovakia\n",
      "COUNTRY:  Greece\n",
      "COUNTRY:  Greece\n",
      "COUNTRY:  Greece\n",
      "COUNTRY:  Greece\n",
      "COUNTRY:  Greece\n",
      "COUNTRY:  Belgium\n",
      "COUNTRY:  Belgium\n",
      "COUNTRY:  Belgium\n",
      "COUNTRY:  Belgium\n",
      "COUNTRY:  Belgium\n",
      "COUNTRY:  Spain\n",
      "COUNTRY:  Spain\n",
      "COUNTRY:  Spain\n",
      "COUNTRY:  Spain\n",
      "COUNTRY:  Spain\n",
      "COUNTRY:  Bulgaria\n",
      "COUNTRY:  Bulgaria\n",
      "COUNTRY:  Bulgaria\n",
      "COUNTRY:  Bulgaria\n",
      "COUNTRY:  Bulgaria\n",
      "COUNTRY:  Romania\n",
      "COUNTRY:  Romania\n",
      "COUNTRY:  Romania\n",
      "COUNTRY:  Romania\n",
      "COUNTRY:  Romania\n",
      "COUNTRY:  Denmark\n",
      "COUNTRY:  Denmark\n",
      "COUNTRY:  Denmark\n",
      "COUNTRY:  Denmark\n",
      "COUNTRY:  Denmark\n",
      "COUNTRY:  Finland\n",
      "COUNTRY:  Finland\n",
      "COUNTRY:  Finland\n",
      "COUNTRY:  Finland\n",
      "COUNTRY:  Finland\n",
      "COUNTRY:  England\n",
      "COUNTRY:  England\n",
      "COUNTRY:  England\n",
      "COUNTRY:  England\n",
      "COUNTRY:  England\n",
      "COUNTRY:  Hungary\n",
      "COUNTRY:  Hungary\n",
      "COUNTRY:  Hungary\n",
      "COUNTRY:  Hungary\n",
      "COUNTRY:  Hungary\n",
      "COUNTRY:  Germany\n",
      "COUNTRY:  Germany\n",
      "COUNTRY:  Germany\n",
      "COUNTRY:  Germany\n",
      "COUNTRY:  Germany\n",
      "COUNTRY:  France\n",
      "COUNTRY:  France\n",
      "COUNTRY:  France\n",
      "COUNTRY:  France\n",
      "COUNTRY:  France\n"
     ]
    }
   ],
   "source": [
    "ratings = {'one':1.0,'two':2.0,'three':3.0,'four':4.0,'five':5.0}\n",
    "df_list = []\n",
    "for country in country_list:\n",
    "    for key in ratings:\n",
    "        print(\"COUNTRY: \", country)\n",
    "        df = data['lower_limit'][(data['price_level'] == ratings[key]) & (data['country'] == country) & (~data['lower_limit'].isna())]\n",
    "        dfx = country+'_df'\n",
    "        dfx = data[(data['price_level'] == ratings[key]) & (data['country'] == country) & (data['lower_limit'].isna())]\n",
    "        if len(df) != 0 and len(dfx) != 0:\n",
    "            this_mean = np.mean(df)\n",
    "            dfx['lower_limit'] = dfx['lower_limit'].apply(lambda x: this_mean)\n",
    "            #print(dfx['lower_limit'])\n",
    "            df_list.append(dfx)\n",
    "                "
   ]
  },
  {
   "cell_type": "code",
   "execution_count": 125,
   "id": "f6d8b462",
   "metadata": {},
   "outputs": [],
   "source": [
    "my_df = pd.DataFrame(columns = data.columns)\n",
    "for item in df_list:\n",
    "    #print(item)\n",
    "    my_df = pd.concat([my_df, item], axis = 0)\n"
   ]
  },
  {
   "cell_type": "code",
   "execution_count": 126,
   "id": "7708188d",
   "metadata": {},
   "outputs": [
    {
     "data": {
      "text/plain": [
       "(522773, 71)"
      ]
     },
     "execution_count": 126,
     "metadata": {},
     "output_type": "execute_result"
    }
   ],
   "source": [
    "my_df.shape"
   ]
  },
  {
   "cell_type": "code",
   "execution_count": 127,
   "id": "94ccc55e",
   "metadata": {},
   "outputs": [
    {
     "data": {
      "text/plain": [
       "7522"
      ]
     },
     "execution_count": 127,
     "metadata": {},
     "output_type": "execute_result"
    }
   ],
   "source": [
    "data = data.combine_first(my_df)\n",
    "data['lower_limit'].isna().sum()"
   ]
  },
  {
   "cell_type": "markdown",
   "id": "f5067125",
   "metadata": {},
   "source": [
    "# ONE FINAL DROP....\n",
    "## Drop all rows with NaN in lower_limit and coordinates\n",
    "## I want to vizualize all the restaurants on the European map"
   ]
  },
  {
   "cell_type": "code",
   "execution_count": 128,
   "id": "9e4823f2",
   "metadata": {},
   "outputs": [],
   "source": [
    "#del my_df\n",
    "check_df = data['country'][data['lower_limit'].isna()].value_counts(dropna = False)"
   ]
  },
  {
   "cell_type": "code",
   "execution_count": 129,
   "id": "49d0e366",
   "metadata": {},
   "outputs": [
    {
     "data": {
      "text/plain": [
       "Belgium             2605\n",
       "Scotland            1598\n",
       "Ireland             1134\n",
       "Northern Ireland     585\n",
       "Greece               566\n",
       "Romania              433\n",
       "Slovakia             292\n",
       "Bulgaria             228\n",
       "Wales                 81\n",
       "Name: country, dtype: int64"
      ]
     },
     "execution_count": 129,
     "metadata": {},
     "output_type": "execute_result"
    }
   ],
   "source": [
    "check_df"
   ]
  },
  {
   "cell_type": "code",
   "execution_count": 130,
   "id": "c272e419",
   "metadata": {},
   "outputs": [
    {
     "name": "stdout",
     "output_type": "stream",
     "text": [
      "774358\n"
     ]
    },
    {
     "data": {
      "text/plain": [
       "766836"
      ]
     },
     "execution_count": 130,
     "metadata": {},
     "output_type": "execute_result"
    }
   ],
   "source": [
    "print(len(data))\n",
    "data = data[~data['lower_limit'].isna()]\n",
    "len(data)"
   ]
  },
  {
   "cell_type": "code",
   "execution_count": 131,
   "id": "d5791bf5",
   "metadata": {},
   "outputs": [
    {
     "name": "stdout",
     "output_type": "stream",
     "text": [
      "766836\n"
     ]
    },
    {
     "data": {
      "text/plain": [
       "758011"
      ]
     },
     "execution_count": 131,
     "metadata": {},
     "output_type": "execute_result"
    }
   ],
   "source": [
    "print(len(data))\n",
    "data = data[(~data['latitude'].isna()) & (~data['longitude'].isna())]\n",
    "len(data)"
   ]
  },
  {
   "cell_type": "code",
   "execution_count": 132,
   "id": "1777592c",
   "metadata": {},
   "outputs": [],
   "source": [
    "#data.to_csv(\"E:\\\\SKUL\\\\PROGRAMMING_SKULS\\\\ironhack\\\\COURSE\\\\Final-Year-Project\\\\Final Data\\\\tableau_data_f.csv\")"
   ]
  },
  {
   "cell_type": "markdown",
   "id": "8461c020",
   "metadata": {},
   "source": [
    "## PERFORM ANALYSIS ON ONE COUNTRY\n",
    "### ITALY has the highest number of restaurants but has alot of nulls in the 'city' column (85%)"
   ]
  },
  {
   "cell_type": "markdown",
   "id": "8709da5d",
   "metadata": {},
   "source": [
    "# ANALYSIS TO BE DONE ON RESTAURANTS IN FRANCE"
   ]
  },
  {
   "cell_type": "code",
   "execution_count": 133,
   "id": "bb895c8a",
   "metadata": {},
   "outputs": [
    {
     "data": {
      "text/plain": [
       "Italy               160451\n",
       "France              116848\n",
       "Spain               113856\n",
       "England              94543\n",
       "Germany              79468\n",
       "Portugal             24437\n",
       "Greece               23198\n",
       "The Netherlands      22748\n",
       "Poland               16657\n",
       "Belgium              15896\n",
       "Austria              14311\n",
       "Sweden               11446\n",
       "Czech Republic        9241\n",
       "Scotland              8316\n",
       "Ireland               6377\n",
       "Denmark               6326\n",
       "Croatia               5973\n",
       "Wales                 5563\n",
       "Hungary               5440\n",
       "Romania               5322\n",
       "Finland               4779\n",
       "Bulgaria              2586\n",
       "Slovakia              2178\n",
       "Northern Ireland      2051\n",
       "Name: country, dtype: int64"
      ]
     },
     "execution_count": 133,
     "metadata": {},
     "output_type": "execute_result"
    }
   ],
   "source": [
    "data['country'].value_counts()"
   ]
  },
  {
   "cell_type": "code",
   "execution_count": 134,
   "id": "fc81ab11",
   "metadata": {},
   "outputs": [],
   "source": [
    "italy = data[data['country'] == 'Italy']"
   ]
  },
  {
   "cell_type": "code",
   "execution_count": 136,
   "id": "592ec22a",
   "metadata": {},
   "outputs": [
    {
     "data": {
      "text/plain": [
       "0.8574206455553409"
      ]
     },
     "execution_count": 136,
     "metadata": {},
     "output_type": "execute_result"
    }
   ],
   "source": [
    "italy['city'].isna().sum()/len(italy)"
   ]
  },
  {
   "cell_type": "markdown",
   "id": "bcdff1d7",
   "metadata": {},
   "source": [
    "## Filter out restaurants in france"
   ]
  },
  {
   "cell_type": "code",
   "execution_count": 137,
   "id": "107a7efc",
   "metadata": {},
   "outputs": [],
   "source": [
    "france = data[data['country'] == 'France']"
   ]
  },
  {
   "cell_type": "code",
   "execution_count": 139,
   "id": "b4cf2944",
   "metadata": {},
   "outputs": [
    {
     "data": {
      "text/html": [
       "<div>\n",
       "<style scoped>\n",
       "    .dataframe tbody tr th:only-of-type {\n",
       "        vertical-align: middle;\n",
       "    }\n",
       "\n",
       "    .dataframe tbody tr th {\n",
       "        vertical-align: top;\n",
       "    }\n",
       "\n",
       "    .dataframe thead th {\n",
       "        text-align: right;\n",
       "    }\n",
       "</style>\n",
       "<table border=\"1\" class=\"dataframe\">\n",
       "  <thead>\n",
       "    <tr style=\"text-align: right;\">\n",
       "      <th></th>\n",
       "      <th>0</th>\n",
       "    </tr>\n",
       "  </thead>\n",
       "  <tbody>\n",
       "    <tr>\n",
       "      <th>restaurant_link</th>\n",
       "      <td>0.000000</td>\n",
       "    </tr>\n",
       "    <tr>\n",
       "      <th>restaurant_name</th>\n",
       "      <td>0.000000</td>\n",
       "    </tr>\n",
       "    <tr>\n",
       "      <th>original_location</th>\n",
       "      <td>0.000000</td>\n",
       "    </tr>\n",
       "    <tr>\n",
       "      <th>country</th>\n",
       "      <td>0.000000</td>\n",
       "    </tr>\n",
       "    <tr>\n",
       "      <th>region</th>\n",
       "      <td>0.000009</td>\n",
       "    </tr>\n",
       "    <tr>\n",
       "      <th>...</th>\n",
       "      <td>...</td>\n",
       "    </tr>\n",
       "    <tr>\n",
       "      <th>fri_close</th>\n",
       "      <td>0.000000</td>\n",
       "    </tr>\n",
       "    <tr>\n",
       "      <th>sat_open</th>\n",
       "      <td>0.000000</td>\n",
       "    </tr>\n",
       "    <tr>\n",
       "      <th>sat_close</th>\n",
       "      <td>0.000000</td>\n",
       "    </tr>\n",
       "    <tr>\n",
       "      <th>sun_open</th>\n",
       "      <td>0.000000</td>\n",
       "    </tr>\n",
       "    <tr>\n",
       "      <th>sun_close</th>\n",
       "      <td>0.000000</td>\n",
       "    </tr>\n",
       "  </tbody>\n",
       "</table>\n",
       "<p>71 rows × 1 columns</p>\n",
       "</div>"
      ],
      "text/plain": [
       "                          0\n",
       "restaurant_link    0.000000\n",
       "restaurant_name    0.000000\n",
       "original_location  0.000000\n",
       "country            0.000000\n",
       "region             0.000009\n",
       "...                     ...\n",
       "fri_close          0.000000\n",
       "sat_open           0.000000\n",
       "sat_close          0.000000\n",
       "sun_open           0.000000\n",
       "sun_close          0.000000\n",
       "\n",
       "[71 rows x 1 columns]"
      ]
     },
     "execution_count": 139,
     "metadata": {},
     "output_type": "execute_result"
    }
   ],
   "source": [
    "pd.DataFrame(france.isna().sum()/len(france))"
   ]
  },
  {
   "cell_type": "markdown",
   "id": "1b4cfda1",
   "metadata": {},
   "source": [
    "## Filter and drop nulls on 'province' and 'city' columns"
   ]
  },
  {
   "cell_type": "code",
   "execution_count": 140,
   "id": "aa77baf3",
   "metadata": {},
   "outputs": [
    {
     "data": {
      "text/plain": [
       "restaurant_link      0.0\n",
       "restaurant_name      0.0\n",
       "original_location    0.0\n",
       "country              0.0\n",
       "region               0.0\n",
       "                    ... \n",
       "fri_close            0.0\n",
       "sat_open             0.0\n",
       "sat_close            0.0\n",
       "sun_open             0.0\n",
       "sun_close            0.0\n",
       "Length: 71, dtype: float64"
      ]
     },
     "execution_count": 140,
     "metadata": {},
     "output_type": "execute_result"
    }
   ],
   "source": [
    "france = france[(~france['province'].isna()) & (~france['city'].isna())]\n",
    "france.isna().sum()/len(france)"
   ]
  },
  {
   "cell_type": "code",
   "execution_count": 144,
   "id": "d042065b",
   "metadata": {},
   "outputs": [
    {
     "name": "stdout",
     "output_type": "stream",
     "text": [
      "restaurant_link 0.0\n",
      "restaurant_name 0.0\n",
      "original_location 0.0\n",
      "country 0.0\n",
      "region 0.0\n",
      "province 0.0\n",
      "city 0.0\n",
      "address 0.0\n",
      "latitude 0.0\n",
      "longitude 0.0\n",
      "claimed 0.0\n",
      "awards 0.0\n",
      "popularity_detailed 0.04519405220162614\n",
      "popularity_generic 0.045664423603044936\n",
      "top_tags 0.0\n",
      "price_level 0.0\n",
      "price_range 0.6334270876330719\n",
      "meals 0.0\n",
      "cuisines 0.0\n",
      "special_diets 0.8062453802808789\n",
      "features 0.0\n",
      "vegetarian_friendly 0.0\n",
      "vegan_options 0.0\n",
      "gluten_free 0.0\n",
      "original_open_hours 0.0\n",
      "open_days_per_week 0.0\n",
      "open_hours_per_week 0.0\n",
      "working_shifts_per_week 0.0\n",
      "avg_rating 0.0\n",
      "total_reviews_count 0.024257725130312078\n",
      "default_language 0.0\n",
      "reviews_count_in_default_language 0.044906069710961574\n",
      "excellent 0.044906069710961574\n",
      "very_good 0.044906069710961574\n",
      "average 0.044906069710961574\n",
      "poor 0.044906069710961574\n",
      "terrible 0.044906069710961574\n",
      "food 0.2835091626429113\n",
      "service 0.2812820980484387\n",
      "value 0.2821172472713659\n",
      "atmosphere 0.6925210947174412\n",
      "keywords 0.9766158217580371\n",
      "reservations 0.0\n",
      "seating 0.0\n",
      "wheel_chair 0.0\n",
      "alcohol 0.0\n",
      "credit_cards 0.0\n",
      "table_service 0.0\n",
      "takeout 0.0\n",
      "outdoor 0.0\n",
      "delivery 0.0\n",
      "wifi 0.0\n",
      "highchair 0.0\n",
      "full_bar 0.0\n",
      "parking 0.0\n",
      "street_parking 0.0\n",
      "lower_limit 0.0\n",
      "mon_open 0.0\n",
      "mon_close 0.0\n",
      "tue_open 0.0\n",
      "tue_close 0.0\n",
      "wed_open 0.0\n",
      "wed_close 0.0\n",
      "thur_open 0.0\n",
      "thur_close 0.0\n",
      "fri_open 0.0\n",
      "fri_close 0.0\n",
      "sat_open 0.0\n",
      "sat_close 0.0\n",
      "sun_open 0.0\n",
      "sun_close 0.0\n"
     ]
    }
   ],
   "source": [
    "for col in france.columns:\n",
    "    print(col,france[col].isna().sum()/len(france))"
   ]
  },
  {
   "cell_type": "code",
   "execution_count": 145,
   "id": "94d5b1b8",
   "metadata": {},
   "outputs": [],
   "source": [
    "# RANDOMIZE THE open_hours_per_week COLUMN\n",
    "import random\n",
    "france['open_hours_per_week'] = np.where(france['open_hours_per_week'] == 84,random.randint(70, 90),france['open_hours_per_week'])"
   ]
  },
  {
   "cell_type": "code",
   "execution_count": 146,
   "id": "49fbf651",
   "metadata": {},
   "outputs": [
    {
     "data": {
      "text/plain": [
       "0"
      ]
     },
     "execution_count": 146,
     "metadata": {},
     "output_type": "execute_result"
    }
   ],
   "source": [
    "# Checking the randomization\n",
    "len(france[france['open_hours_per_week'] == 84])"
   ]
  },
  {
   "cell_type": "markdown",
   "id": "84d58ffb",
   "metadata": {},
   "source": [
    "## Export france for use with Tableau"
   ]
  },
  {
   "cell_type": "code",
   "execution_count": null,
   "id": "136a5b91",
   "metadata": {},
   "outputs": [],
   "source": [
    "#france.to_csv(\"E:\\\\SKUL\\\\PROGRAMMING_SKULS\\\\ironhack\\\\COURSE\\\\Final-Year-Project\\\\Final Data\\\\france.csv\")"
   ]
  }
 ],
 "metadata": {
  "kernelspec": {
   "display_name": "Python 3 (ipykernel)",
   "language": "python",
   "name": "python3"
  },
  "language_info": {
   "codemirror_mode": {
    "name": "ipython",
    "version": 3
   },
   "file_extension": ".py",
   "mimetype": "text/x-python",
   "name": "python",
   "nbconvert_exporter": "python",
   "pygments_lexer": "ipython3",
   "version": "3.8.12"
  }
 },
 "nbformat": 4,
 "nbformat_minor": 5
}
