{
 "cells": [
  {
   "cell_type": "code",
   "execution_count": 1,
   "id": "13817bdc",
   "metadata": {},
   "outputs": [],
   "source": [
    "import numpy as np\n",
    "from pandas.io.json import json_normalize\n",
    "from sklearn.model_selection import cross_validate, train_test_split\n",
    "import seaborn as sns\n",
    "import matplotlib.pyplot as plt"
   ]
  },
  {
   "cell_type": "code",
   "execution_count": 2,
   "id": "03811800",
   "metadata": {},
   "outputs": [],
   "source": [
    "import pandas as pd\n",
    "data1 = pd.read_csv('tripadvisor_european_restaurants.csv', low_memory = False)\n",
    "#data.head()"
   ]
  },
  {
   "cell_type": "code",
   "execution_count": 3,
   "id": "db1bc33a",
   "metadata": {},
   "outputs": [
    {
     "data": {
      "text/html": [
       "<div>\n",
       "<style scoped>\n",
       "    .dataframe tbody tr th:only-of-type {\n",
       "        vertical-align: middle;\n",
       "    }\n",
       "\n",
       "    .dataframe tbody tr th {\n",
       "        vertical-align: top;\n",
       "    }\n",
       "\n",
       "    .dataframe thead th {\n",
       "        text-align: right;\n",
       "    }\n",
       "</style>\n",
       "<table border=\"1\" class=\"dataframe\">\n",
       "  <thead>\n",
       "    <tr style=\"text-align: right;\">\n",
       "      <th></th>\n",
       "      <th>restaurant_link</th>\n",
       "      <th>restaurant_name</th>\n",
       "      <th>original_location</th>\n",
       "      <th>country</th>\n",
       "      <th>region</th>\n",
       "      <th>province</th>\n",
       "      <th>city</th>\n",
       "      <th>address</th>\n",
       "      <th>latitude</th>\n",
       "      <th>longitude</th>\n",
       "      <th>...</th>\n",
       "      <th>excellent</th>\n",
       "      <th>very_good</th>\n",
       "      <th>average</th>\n",
       "      <th>poor</th>\n",
       "      <th>terrible</th>\n",
       "      <th>food</th>\n",
       "      <th>service</th>\n",
       "      <th>value</th>\n",
       "      <th>atmosphere</th>\n",
       "      <th>keywords</th>\n",
       "    </tr>\n",
       "  </thead>\n",
       "  <tbody>\n",
       "    <tr>\n",
       "      <th>0</th>\n",
       "      <td>g10001637-d10002227</td>\n",
       "      <td>Le 147</td>\n",
       "      <td>[\"Europe\", \"France\", \"Nouvelle-Aquitaine\", \"Ha...</td>\n",
       "      <td>France</td>\n",
       "      <td>Nouvelle-Aquitaine</td>\n",
       "      <td>Haute-Vienne</td>\n",
       "      <td>Saint-Jouvent</td>\n",
       "      <td>10 Maison Neuve, 87510 Saint-Jouvent France</td>\n",
       "      <td>45.961674</td>\n",
       "      <td>1.169131</td>\n",
       "      <td>...</td>\n",
       "      <td>2.0</td>\n",
       "      <td>0.0</td>\n",
       "      <td>0.0</td>\n",
       "      <td>0.0</td>\n",
       "      <td>0.0</td>\n",
       "      <td>4.0</td>\n",
       "      <td>4.5</td>\n",
       "      <td>4.0</td>\n",
       "      <td>NaN</td>\n",
       "      <td>NaN</td>\n",
       "    </tr>\n",
       "    <tr>\n",
       "      <th>1</th>\n",
       "      <td>g10001637-d14975787</td>\n",
       "      <td>Le Saint Jouvent</td>\n",
       "      <td>[\"Europe\", \"France\", \"Nouvelle-Aquitaine\", \"Ha...</td>\n",
       "      <td>France</td>\n",
       "      <td>Nouvelle-Aquitaine</td>\n",
       "      <td>Haute-Vienne</td>\n",
       "      <td>Saint-Jouvent</td>\n",
       "      <td>16 Place de l Eglise, 87510 Saint-Jouvent France</td>\n",
       "      <td>45.957040</td>\n",
       "      <td>1.205480</td>\n",
       "      <td>...</td>\n",
       "      <td>2.0</td>\n",
       "      <td>2.0</td>\n",
       "      <td>1.0</td>\n",
       "      <td>0.0</td>\n",
       "      <td>0.0</td>\n",
       "      <td>NaN</td>\n",
       "      <td>NaN</td>\n",
       "      <td>NaN</td>\n",
       "      <td>NaN</td>\n",
       "      <td>NaN</td>\n",
       "    </tr>\n",
       "    <tr>\n",
       "      <th>2</th>\n",
       "      <td>g10002858-d4586832</td>\n",
       "      <td>Au Bout du Pont</td>\n",
       "      <td>[\"Europe\", \"France\", \"Centre-Val de Loire\", \"B...</td>\n",
       "      <td>France</td>\n",
       "      <td>Centre-Val de Loire</td>\n",
       "      <td>Berry</td>\n",
       "      <td>Rivarennes</td>\n",
       "      <td>2 rue des Dames, 36800 Rivarennes France</td>\n",
       "      <td>46.635895</td>\n",
       "      <td>1.386133</td>\n",
       "      <td>...</td>\n",
       "      <td>3.0</td>\n",
       "      <td>1.0</td>\n",
       "      <td>0.0</td>\n",
       "      <td>0.0</td>\n",
       "      <td>0.0</td>\n",
       "      <td>NaN</td>\n",
       "      <td>NaN</td>\n",
       "      <td>NaN</td>\n",
       "      <td>NaN</td>\n",
       "      <td>NaN</td>\n",
       "    </tr>\n",
       "  </tbody>\n",
       "</table>\n",
       "<p>3 rows × 42 columns</p>\n",
       "</div>"
      ],
      "text/plain": [
       "       restaurant_link   restaurant_name  \\\n",
       "0  g10001637-d10002227            Le 147   \n",
       "1  g10001637-d14975787  Le Saint Jouvent   \n",
       "2   g10002858-d4586832   Au Bout du Pont   \n",
       "\n",
       "                                   original_location country  \\\n",
       "0  [\"Europe\", \"France\", \"Nouvelle-Aquitaine\", \"Ha...  France   \n",
       "1  [\"Europe\", \"France\", \"Nouvelle-Aquitaine\", \"Ha...  France   \n",
       "2  [\"Europe\", \"France\", \"Centre-Val de Loire\", \"B...  France   \n",
       "\n",
       "                region      province           city  \\\n",
       "0   Nouvelle-Aquitaine  Haute-Vienne  Saint-Jouvent   \n",
       "1   Nouvelle-Aquitaine  Haute-Vienne  Saint-Jouvent   \n",
       "2  Centre-Val de Loire         Berry     Rivarennes   \n",
       "\n",
       "                                            address   latitude  longitude  \\\n",
       "0       10 Maison Neuve, 87510 Saint-Jouvent France  45.961674   1.169131   \n",
       "1  16 Place de l Eglise, 87510 Saint-Jouvent France  45.957040   1.205480   \n",
       "2          2 rue des Dames, 36800 Rivarennes France  46.635895   1.386133   \n",
       "\n",
       "   ... excellent very_good average poor terrible food service value  \\\n",
       "0  ...       2.0       0.0     0.0  0.0      0.0  4.0     4.5   4.0   \n",
       "1  ...       2.0       2.0     1.0  0.0      0.0  NaN     NaN   NaN   \n",
       "2  ...       3.0       1.0     0.0  0.0      0.0  NaN     NaN   NaN   \n",
       "\n",
       "  atmosphere keywords  \n",
       "0        NaN      NaN  \n",
       "1        NaN      NaN  \n",
       "2        NaN      NaN  \n",
       "\n",
       "[3 rows x 42 columns]"
      ]
     },
     "execution_count": 3,
     "metadata": {},
     "output_type": "execute_result"
    }
   ],
   "source": [
    "data = data1.copy()\n",
    "data.head(3)"
   ]
  },
  {
   "cell_type": "code",
   "execution_count": 4,
   "id": "d8d8b509",
   "metadata": {},
   "outputs": [
    {
     "data": {
      "text/plain": [
       "Index(['restaurant_link', 'restaurant_name', 'original_location', 'country',\n",
       "       'region', 'province', 'city', 'address', 'latitude', 'longitude',\n",
       "       'claimed', 'awards', 'popularity_detailed', 'popularity_generic',\n",
       "       'top_tags', 'price_level', 'price_range', 'meals', 'cuisines',\n",
       "       'special_diets', 'features', 'vegetarian_friendly', 'vegan_options',\n",
       "       'gluten_free', 'original_open_hours', 'open_days_per_week',\n",
       "       'open_hours_per_week', 'working_shifts_per_week', 'avg_rating',\n",
       "       'total_reviews_count', 'default_language',\n",
       "       'reviews_count_in_default_language', 'excellent', 'very_good',\n",
       "       'average', 'poor', 'terrible', 'food', 'service', 'value', 'atmosphere',\n",
       "       'keywords'],\n",
       "      dtype='object')"
      ]
     },
     "execution_count": 4,
     "metadata": {},
     "output_type": "execute_result"
    }
   ],
   "source": [
    "data.columns"
   ]
  },
  {
   "cell_type": "code",
   "execution_count": 5,
   "id": "b92f2476",
   "metadata": {},
   "outputs": [
    {
     "data": {
      "text/plain": [
       "(1083397, 42)"
      ]
     },
     "execution_count": 5,
     "metadata": {},
     "output_type": "execute_result"
    }
   ],
   "source": [
    "data.shape"
   ]
  },
  {
   "cell_type": "markdown",
   "id": "14ea306c",
   "metadata": {},
   "source": [
    "# DATA CLEANING"
   ]
  },
  {
   "cell_type": "markdown",
   "id": "2b1023ee",
   "metadata": {},
   "source": [
    "    1.Drop column \"popularity_generic\" because its similar to \"popularity_detailed\". It only replaces 'Restaurants to eat' with 'Places to eat'. A place to eat can be taken to mean restaurant\n",
    "    2. Drop \"Original_location\" column because where the restaurant originally started has little impact on its rating now. The current location is more important\n",
    "    3. Over 25% of rows in the \"price_level\" columns are emmpty. There is no 3# and 2# ratings in the data"
   ]
  },
  {
   "cell_type": "code",
   "execution_count": 6,
   "id": "d2a65315",
   "metadata": {},
   "outputs": [
    {
     "data": {
      "text/plain": [
       "0.2558665013840725"
      ]
     },
     "execution_count": 6,
     "metadata": {},
     "output_type": "execute_result"
    }
   ],
   "source": [
    "data['price_level'].isna().sum()/len(data)"
   ]
  },
  {
   "cell_type": "code",
   "execution_count": 7,
   "id": "0e1270ae",
   "metadata": {},
   "outputs": [
    {
     "data": {
      "text/plain": [
       "NaN          779070\n",
       "€10-€30        5937\n",
       "€5-€15         5810\n",
       "€10-€20        5148\n",
       "€5-€20         4793\n",
       "              ...  \n",
       "€5-€2,242         1\n",
       "€38-€63           1\n",
       "€11-€113          1\n",
       "€661-€862         1\n",
       "€35-€180          1\n",
       "Name: price_range, Length: 7299, dtype: int64"
      ]
     },
     "execution_count": 7,
     "metadata": {},
     "output_type": "execute_result"
    }
   ],
   "source": [
    "data['price_range'].value_counts(dropna = False)"
   ]
  },
  {
   "cell_type": "code",
   "execution_count": 8,
   "id": "79040132",
   "metadata": {},
   "outputs": [
    {
     "data": {
      "text/plain": [
       "0.7190992775501501"
      ]
     },
     "execution_count": 8,
     "metadata": {},
     "output_type": "execute_result"
    }
   ],
   "source": [
    "data['price_range'].isna().sum()/len(data)"
   ]
  },
  {
   "cell_type": "code",
   "execution_count": 9,
   "id": "b9d7dbc4",
   "metadata": {},
   "outputs": [],
   "source": [
    "#data['city'].value_counts()"
   ]
  },
  {
   "cell_type": "code",
   "execution_count": 10,
   "id": "b2823b25",
   "metadata": {},
   "outputs": [
    {
     "data": {
      "text/plain": [
       "110634"
      ]
     },
     "execution_count": 10,
     "metadata": {},
     "output_type": "execute_result"
    }
   ],
   "source": [
    "data['top_tags'].isna().sum()"
   ]
  },
  {
   "cell_type": "markdown",
   "id": "6aede488",
   "metadata": {},
   "source": [
    "## Check restaurants with no ratings,  description and cuisines"
   ]
  },
  {
   "cell_type": "code",
   "execution_count": 11,
   "id": "8c35a93f",
   "metadata": {},
   "outputs": [
    {
     "data": {
      "text/plain": [
       "(110617, 42)"
      ]
     },
     "execution_count": 11,
     "metadata": {},
     "output_type": "execute_result"
    }
   ],
   "source": [
    "restaurant_drop = data[(data['top_tags'].isna()) & (data['price_level'].isna())]\n",
    "restaurant_drop.shape"
   ]
  },
  {
   "cell_type": "code",
   "execution_count": 12,
   "id": "1f94c55c",
   "metadata": {},
   "outputs": [
    {
     "data": {
      "text/plain": [
       "NaN                                                            110634\n",
       "Mid-range, French                                               20211\n",
       "Mid-range                                                       19422\n",
       "Cheap Eats                                                      15864\n",
       "Mid-range, Italian                                              14363\n",
       "                                                                ...  \n",
       "Cheap Eats, Chinese, American, Asian                                1\n",
       "Quick Bites, Chinese, Fast food, Sushi                              1\n",
       "Bakeries, French, Spanish                                           1\n",
       "Mid-range, International, Catalan, Vegetarian Friendly              1\n",
       "Mid-range, Gastropub, Eastern European, Vegetarian Friendly         1\n",
       "Name: top_tags, Length: 39963, dtype: int64"
      ]
     },
     "execution_count": 12,
     "metadata": {},
     "output_type": "execute_result"
    }
   ],
   "source": [
    "data['top_tags'].value_counts(dropna = False)"
   ]
  },
  {
   "cell_type": "code",
   "execution_count": 13,
   "id": "3265c075",
   "metadata": {},
   "outputs": [
    {
     "data": {
      "text/plain": [
       "(110634, 42)"
      ]
     },
     "execution_count": 13,
     "metadata": {},
     "output_type": "execute_result"
    }
   ],
   "source": [
    "no_rating_restaurant = data[data['top_tags'].isna()]\n",
    "no_rating_restaurant.shape"
   ]
  },
  {
   "cell_type": "code",
   "execution_count": 14,
   "id": "8444ce9b",
   "metadata": {},
   "outputs": [],
   "source": [
    "#pokemon_games = df.loc[df['Name'].str.contains(\"pokemon\", case=False)]"
   ]
  },
  {
   "cell_type": "markdown",
   "id": "3fef96a8",
   "metadata": {},
   "source": [
    "## Its hard to fill out ratings without a description. These restaurants are a significant percentage of the data (10%). But even if i drop them, I still remain with enough sample data to build a recommender"
   ]
  },
  {
   "cell_type": "code",
   "execution_count": 15,
   "id": "7f25cf60",
   "metadata": {},
   "outputs": [
    {
     "data": {
      "text/plain": [
       "0.10211769092954845"
      ]
     },
     "execution_count": 15,
     "metadata": {},
     "output_type": "execute_result"
    }
   ],
   "source": [
    "len(no_rating_restaurant)/len(data)"
   ]
  },
  {
   "cell_type": "code",
   "execution_count": 16,
   "id": "8514aee9",
   "metadata": {},
   "outputs": [
    {
     "data": {
      "text/plain": [
       "(972763, 42)"
      ]
     },
     "execution_count": 16,
     "metadata": {},
     "output_type": "execute_result"
    }
   ],
   "source": [
    "data = data[~data['top_tags'].isna()]\n",
    "data.shape"
   ]
  },
  {
   "cell_type": "markdown",
   "id": "125a4b2d",
   "metadata": {},
   "source": [
    "## Remove bars and pubs"
   ]
  },
  {
   "cell_type": "code",
   "execution_count": 17,
   "id": "71b70225",
   "metadata": {},
   "outputs": [
    {
     "data": {
      "text/plain": [
       "(831905, 42)"
      ]
     },
     "execution_count": 17,
     "metadata": {},
     "output_type": "execute_result"
    }
   ],
   "source": [
    "data = data[~data['top_tags'].str.contains('pub', case = False)]\n",
    "data = data[~data['top_tags'].str.contains('bar', case = False)]\n",
    "data.shape"
   ]
  },
  {
   "cell_type": "markdown",
   "id": "9b4991a8",
   "metadata": {},
   "source": [
    "## Remove restaurants with no Cuisine specified"
   ]
  },
  {
   "cell_type": "code",
   "execution_count": 18,
   "id": "7a568d4f",
   "metadata": {},
   "outputs": [
    {
     "name": "stdout",
     "output_type": "stream",
     "text": [
      "(831905, 42)\n"
     ]
    },
    {
     "data": {
      "text/plain": [
       "(774358, 42)"
      ]
     },
     "execution_count": 18,
     "metadata": {},
     "output_type": "execute_result"
    }
   ],
   "source": [
    "print(data.shape)\n",
    "data = data[data['cuisines'].notnull()]\n",
    "data.shape"
   ]
  },
  {
   "cell_type": "code",
   "execution_count": 19,
   "id": "a04c2411",
   "metadata": {},
   "outputs": [
    {
     "data": {
      "text/plain": [
       "139834"
      ]
     },
     "execution_count": 19,
     "metadata": {},
     "output_type": "execute_result"
    }
   ],
   "source": [
    "data['price_level'].isna().sum()"
   ]
  },
  {
   "cell_type": "code",
   "execution_count": 20,
   "id": "4f5b0a94",
   "metadata": {},
   "outputs": [],
   "source": [
    "# conditions = [\n",
    "#     (df['Age'] < 20),\n",
    "#     (df['Age'] >= 20) & (df['Age'] < 40),\n",
    "#     (df['Age'] >= 40) & (df['Age'] < 59),\n",
    "#     (df['Age'] >= 60)\n",
    "# ]\n",
    "# values = ['<20 years old', '20-39 years old', '40-59 years old', '60+ years old']\n",
    "# df['Age Group'] = np.select(conditions, values)\n",
    "# print(df)"
   ]
  },
  {
   "cell_type": "code",
   "execution_count": 21,
   "id": "d60333d5",
   "metadata": {},
   "outputs": [
    {
     "data": {
      "text/plain": [
       "€€-€€€    421602\n",
       "€         188360\n",
       "NaN       139834\n",
       "€€€€       24562\n",
       "Name: price_level, dtype: int64"
      ]
     },
     "execution_count": 21,
     "metadata": {},
     "output_type": "execute_result"
    }
   ],
   "source": [
    "data['price_level'].value_counts(dropna = False)"
   ]
  },
  {
   "cell_type": "code",
   "execution_count": 22,
   "id": "a4f4a0d5",
   "metadata": {},
   "outputs": [
    {
     "data": {
      "text/plain": [
       "5.0    421602\n",
       "1.0    188360\n",
       "NaN    139834\n",
       "4.0     24562\n",
       "Name: price_level, dtype: int64"
      ]
     },
     "execution_count": 22,
     "metadata": {},
     "output_type": "execute_result"
    }
   ],
   "source": [
    "# Map Euro Counts to Numbers\n",
    "# To be done before assigning Null values ratings. If done after, it will map all values that are not present\n",
    "#in the mapping dictionary to NaN\n",
    "\n",
    "data['price_level'] = data['price_level'].map({'€€-€€€':5,'€€€€':4,'€':1})\n",
    "data['price_level'].value_counts(dropna = False)"
   ]
  },
  {
   "cell_type": "code",
   "execution_count": 23,
   "id": "993c4269",
   "metadata": {},
   "outputs": [],
   "source": [
    "# data = np.where(data['price_level'].isna(),label_rate(),data['price_level'])\n",
    "# data['price_level'].isna().sum()\n",
    "# data['price_level'] = data[data['price_level'].isna()].apply( data['cuisines'] : label_rate(data['cuisines']))"
   ]
  },
  {
   "cell_type": "code",
   "execution_count": 24,
   "id": "62d1d707",
   "metadata": {},
   "outputs": [],
   "source": [
    "#data[data['price_level'] == 1]"
   ]
  },
  {
   "cell_type": "code",
   "execution_count": 25,
   "id": "e63d030c",
   "metadata": {},
   "outputs": [
    {
     "data": {
      "text/plain": [
       "(139834, 42)"
      ]
     },
     "execution_count": 25,
     "metadata": {},
     "output_type": "execute_result"
    }
   ],
   "source": [
    "rest_without_rating = data[(data['price_level'].isna()) & (~data['top_tags'].isna())]\n",
    "rest_without_rating.shape"
   ]
  },
  {
   "cell_type": "code",
   "execution_count": 26,
   "id": "1d471f22",
   "metadata": {},
   "outputs": [
    {
     "data": {
      "text/plain": [
       "5.0    421602\n",
       "1.0    188360\n",
       "NaN    139834\n",
       "4.0     24562\n",
       "Name: price_level, dtype: int64"
      ]
     },
     "execution_count": 26,
     "metadata": {},
     "output_type": "execute_result"
    }
   ],
   "source": [
    "data['price_level'].value_counts(dropna = False)"
   ]
  },
  {
   "cell_type": "code",
   "execution_count": 27,
   "id": "ce9a51f6",
   "metadata": {},
   "outputs": [],
   "source": [
    "#rest_without_rating.to_csv(\"E:\\\\SKUL\\\\PROGRAMMING_SKULS\\\\ironhack\\\\COURSE\\\\Final-Year-Project\\\\Final Data\\\\ratings.csv\")"
   ]
  },
  {
   "cell_type": "code",
   "execution_count": 28,
   "id": "26ed3b6f",
   "metadata": {},
   "outputs": [
    {
     "data": {
      "text/plain": [
       "0.0"
      ]
     },
     "execution_count": 28,
     "metadata": {},
     "output_type": "execute_result"
    }
   ],
   "source": [
    "rest_without_rating['cuisines'].isna().sum()/len(rest_without_rating)"
   ]
  },
  {
   "cell_type": "markdown",
   "id": "3d5455b3",
   "metadata": {},
   "source": [
    "## Filling out ratings for restaurants without them\n",
    "### Assumptions \n",
    "    1.Every restaurant with the tags 'french','italian','german', 'european','portuguese','american','international' cuisines is considered good and allocated a 3-Star rating\n",
    "    2.Every restaurant with a cuisnine \"Street food\" is given a 1-Star rating"
   ]
  },
  {
   "cell_type": "code",
   "execution_count": 29,
   "id": "a46a5fcc",
   "metadata": {},
   "outputs": [],
   "source": [
    "# Function for assigning a rating to the restaurants\n",
    "\n",
    "three_star_labels = ['french','italian','german', 'european','portuguese','american','international','Japanese','Chinese']\n",
    "one_start_labels = ['street food','pizza']\n",
    "def label_rate(x):\n",
    "    x = x.lower()\n",
    "    if any(ext in x for ext in three_star_labels):\n",
    "        return 3\n",
    "    elif any(ext in x for ext in one_start_labels):\n",
    "        return 1\n",
    "    else:\n",
    "        return 2      \n",
    "    "
   ]
  },
  {
   "cell_type": "code",
   "execution_count": 30,
   "id": "1a5d8f2e",
   "metadata": {},
   "outputs": [],
   "source": [
    "# Get DF for restaurants without ratings but having cuisine types\n",
    "\n",
    "rest_without_rating = rest_without_rating[~rest_without_rating['cuisines'].isna()]\n",
    "rest_without_rating['price_level'] = rest_without_rating['cuisines'].apply(lambda x : label_rate(x))"
   ]
  },
  {
   "cell_type": "code",
   "execution_count": 31,
   "id": "e8018760",
   "metadata": {},
   "outputs": [
    {
     "data": {
      "text/plain": [
       "0"
      ]
     },
     "execution_count": 31,
     "metadata": {},
     "output_type": "execute_result"
    }
   ],
   "source": [
    "#rest_without_rating.to_csv(\"E:\\\\SKUL\\\\PROGRAMMING_SKULS\\\\ironhack\\\\COURSE\\\\Final-Year-Project\\\\Final Data\\\\ratings.csv\")\n",
    "rest_without_rating['price_level'].isna().sum()"
   ]
  },
  {
   "cell_type": "markdown",
   "id": "ce90ac18",
   "metadata": {},
   "source": [
    "### Combine the two dataframes and fill the NaN in the original data with the assigned ratings\n",
    "### After, delete the created dataframe to free up memory"
   ]
  },
  {
   "cell_type": "code",
   "execution_count": 32,
   "id": "3512cbc2",
   "metadata": {},
   "outputs": [],
   "source": [
    "#data.loc[rest_without_rating.index, :] = rest_without_rating[:]\n",
    "data = data.combine_first(rest_without_rating)\n",
    "del rest_without_rating"
   ]
  },
  {
   "cell_type": "code",
   "execution_count": 33,
   "id": "dd907e98",
   "metadata": {},
   "outputs": [
    {
     "name": "stdout",
     "output_type": "stream",
     "text": [
      "5.0    421602\n",
      "1.0    198355\n",
      "3.0     68170\n",
      "2.0     61669\n",
      "4.0     24562\n",
      "Name: price_level, dtype: int64\n"
     ]
    },
    {
     "data": {
      "text/plain": [
       "0"
      ]
     },
     "execution_count": 33,
     "metadata": {},
     "output_type": "execute_result"
    }
   ],
   "source": [
    "# Check if all NaN values have been filled out\n",
    "\n",
    "print(data['price_level'].value_counts(dropna = False))\n",
    "data['price_level'].isna().sum()"
   ]
  },
  {
   "cell_type": "code",
   "execution_count": 34,
   "id": "c6d64b8c",
   "metadata": {},
   "outputs": [],
   "source": [
    "#data.iloc[:1000].to_csv(\"E:\\\\SKUL\\\\PROGRAMMING_SKULS\\\\ironhack\\\\COURSE\\\\Final-Year-Project\\\\Final Data\\\\mydata.csv\")"
   ]
  },
  {
   "cell_type": "code",
   "execution_count": 35,
   "id": "b88a252e",
   "metadata": {},
   "outputs": [
    {
     "data": {
      "text/plain": [
       "(774358, 42)"
      ]
     },
     "execution_count": 35,
     "metadata": {},
     "output_type": "execute_result"
    }
   ],
   "source": [
    "data.shape"
   ]
  },
  {
   "cell_type": "markdown",
   "id": "5bdc7f31",
   "metadata": {},
   "source": [
    "# We have lost over 30% of our original data in this phase of data cleaning. I need a minimum of 500k restaurants"
   ]
  },
  {
   "cell_type": "markdown",
   "id": "3bdac00f",
   "metadata": {},
   "source": [
    "## Cleaning the meals column"
   ]
  },
  {
   "cell_type": "code",
   "execution_count": 36,
   "id": "f5073e6d",
   "metadata": {},
   "outputs": [
    {
     "data": {
      "text/plain": [
       "0.39024843806094855"
      ]
     },
     "execution_count": 36,
     "metadata": {},
     "output_type": "execute_result"
    }
   ],
   "source": [
    "data['meals'].isna().sum()/len(data)"
   ]
  },
  {
   "cell_type": "markdown",
   "id": "b8d60ad3",
   "metadata": {},
   "source": [
    "### About 39% of restaurants do not specify meal types\n",
    "### We removed all pubs, bars and those serving only breakfast\n",
    "### Safe to assume all our remaining restaurants atleast serve both lunch and dinner\n",
    "### Fill all NaN in meals with Lunch, Dinner"
   ]
  },
  {
   "cell_type": "code",
   "execution_count": 37,
   "id": "20817d18",
   "metadata": {},
   "outputs": [
    {
     "data": {
      "text/plain": [
       "0"
      ]
     },
     "execution_count": 37,
     "metadata": {},
     "output_type": "execute_result"
    }
   ],
   "source": [
    "data['meals'] = data['meals'].fillna('Lunch, Dinner')\n",
    "data['meals'].isna().sum()"
   ]
  },
  {
   "cell_type": "code",
   "execution_count": 38,
   "id": "19bb752f",
   "metadata": {},
   "outputs": [],
   "source": [
    "data['features'] = data['features'].astype(str)"
   ]
  },
  {
   "cell_type": "markdown",
   "id": "fce7ae40",
   "metadata": {},
   "source": [
    "## Fileter out restaurants that have won awards\n",
    "### Over 73% of restaurants have never won an award\n",
    "### Count Number of awards by counting the commas that appear in the string and add 1"
   ]
  },
  {
   "cell_type": "code",
   "execution_count": 39,
   "id": "7bb7e854",
   "metadata": {},
   "outputs": [
    {
     "data": {
      "text/plain": [
       "0.73"
      ]
     },
     "execution_count": 39,
     "metadata": {},
     "output_type": "execute_result"
    }
   ],
   "source": [
    "round(data['awards'].isna().sum()/len(data),2)"
   ]
  },
  {
   "cell_type": "code",
   "execution_count": 40,
   "id": "ce8c4fe1",
   "metadata": {},
   "outputs": [
    {
     "data": {
      "text/plain": [
       "568207"
      ]
     },
     "execution_count": 40,
     "metadata": {},
     "output_type": "execute_result"
    }
   ],
   "source": [
    "data['awards'].isna().sum()"
   ]
  },
  {
   "cell_type": "code",
   "execution_count": 41,
   "id": "0c47fa90",
   "metadata": {},
   "outputs": [
    {
     "data": {
      "text/plain": [
       "dtype('O')"
      ]
     },
     "execution_count": 41,
     "metadata": {},
     "output_type": "execute_result"
    }
   ],
   "source": [
    "data['awards'].dtypes"
   ]
  },
  {
   "cell_type": "code",
   "execution_count": 42,
   "id": "5229a5ee",
   "metadata": {},
   "outputs": [],
   "source": [
    "def awards(x):    \n",
    "    if x!= 0:\n",
    "        x = str(x)\n",
    "        return (x.count(\",\")+1)\n",
    "    else:\n",
    "        return 0"
   ]
  },
  {
   "cell_type": "code",
   "execution_count": 43,
   "id": "312e3ad6",
   "metadata": {},
   "outputs": [
    {
     "data": {
      "text/plain": [
       "0     568207\n",
       "2      40174\n",
       "1      38247\n",
       "3      34357\n",
       "4      25068\n",
       "5      19606\n",
       "6      16858\n",
       "7      12740\n",
       "8       9143\n",
       "9       5785\n",
       "10      2909\n",
       "11      1254\n",
       "12        10\n",
       "Name: awards, dtype: int64"
      ]
     },
     "execution_count": 43,
     "metadata": {},
     "output_type": "execute_result"
    }
   ],
   "source": [
    "#ASK JAN WHY I CANT FILL NaN WITH 0\n",
    "data['awards'].fillna(0, inplace = True)\n",
    "data['awards'] = data['awards'].apply(lambda x: awards(x))\n",
    "data['awards'].value_counts(dropna = False)"
   ]
  },
  {
   "cell_type": "code",
   "execution_count": 44,
   "id": "c327e332",
   "metadata": {},
   "outputs": [
    {
     "data": {
      "text/plain": [
       "568207"
      ]
     },
     "execution_count": 44,
     "metadata": {},
     "output_type": "execute_result"
    }
   ],
   "source": [
    "len(data[data['awards'] == 0])\n",
    "#.replace(np.nan, 0)"
   ]
  },
  {
   "cell_type": "code",
   "execution_count": 45,
   "id": "f0d45718",
   "metadata": {},
   "outputs": [
    {
     "data": {
      "text/plain": [
       "0"
      ]
     },
     "execution_count": 45,
     "metadata": {},
     "output_type": "execute_result"
    }
   ],
   "source": [
    "data['awards'].isna().sum()"
   ]
  },
  {
   "cell_type": "code",
   "execution_count": 46,
   "id": "efdb468b",
   "metadata": {},
   "outputs": [
    {
     "data": {
      "text/plain": [
       "(428762, 42)"
      ]
     },
     "execution_count": 46,
     "metadata": {},
     "output_type": "execute_result"
    }
   ],
   "source": [
    "all_data = data[~data['original_open_hours'].isna()]\n",
    "all_data.shape"
   ]
  },
  {
   "cell_type": "markdown",
   "id": "50c9c25a",
   "metadata": {},
   "source": [
    "## Encoding 'features' Column\n",
    "## My PC ran out of memory when i attempted to use onehot Encoding"
   ]
  },
  {
   "cell_type": "code",
   "execution_count": 47,
   "id": "505f1860",
   "metadata": {},
   "outputs": [],
   "source": [
    "data['reservations'] = np.where(data['features'].str.contains(\"Reservations\", case=False, na=False), 1, 0)\n",
    "data['seating'] = np.where(data['features'].str.contains(\"Seating\", case=False, na=False), 1, 0)\n",
    "data['wheel_chair'] = np.where(data['features'].str.contains(\"Wheelchair Accessible\", case=False, na=False), 1, 0)\n",
    "data['alcohol'] = np.where(data['features'].str.contains(\"Serves Alcohol\", case=False, na=False), 1, 0)\n",
    "data['credit_cards'] = np.where(data['features'].str.contains(\"Accepts Credit Cards\", case=False, na=False), 1, 0)\n",
    "data['table_service'] = np.where(data['features'].str.contains(\"Table Service\", case=False, na=False), 1, 0)\n",
    "data['takeout'] = np.where(data['features'].str.contains(\"Takeout\", case=False, na=False), 1, 0)\n",
    "data['outdoor'] = np.where(data['features'].str.contains(\"Outdoor Seating\", case=False, na=False), 1, 0)\n",
    "data['delivery'] = np.where(data['features'].str.contains(\"Delivery\", case=False, na=False), 1, 0)\n",
    "data['wifi'] = np.where(data['features'].str.contains(\"Free Wifi\", case=False, na=False), 1, 0)\n",
    "data['highchair'] = np.where(data['features'].str.contains(\"Highchairs Available\", case=False, na=False), 1, 0)\n",
    "data['full_bar'] = np.where(data['features'].str.contains(\"Full Bar\", case=False, na=False), 1, 0)\n",
    "data['parking'] = np.where(data['features'].str.contains(\"Parking Available\", case=False, na=False), 1, 0)\n",
    "data['street_parking'] = np.where(data['features'].str.contains(\"Free off-street parking\", case=False, na=False), 1, 0)"
   ]
  },
  {
   "cell_type": "code",
   "execution_count": 48,
   "id": "54084251",
   "metadata": {},
   "outputs": [],
   "source": [
    "#numerical = data.select_dtypes(include = np.number)\n",
    "#numerical.columns"
   ]
  },
  {
   "cell_type": "markdown",
   "id": "d087f2bb",
   "metadata": {},
   "source": [
    "## Encoding 'original_open_hours' column. Its a dictionary with keys (days of week) and value (open hours)"
   ]
  },
  {
   "cell_type": "markdown",
   "id": "d0d73727",
   "metadata": {},
   "source": [
    "### Program reads it as a string. Convert values from string to a dictionary\n",
    "### Assign all restaurants with no time specified uniform hours"
   ]
  },
  {
   "cell_type": "code",
   "execution_count": 49,
   "id": "2f9dcb26",
   "metadata": {},
   "outputs": [],
   "source": [
    "#data['original_open_hours'].value_counts(dropna = False)"
   ]
  },
  {
   "cell_type": "code",
   "execution_count": 50,
   "id": "d38fcaf7",
   "metadata": {},
   "outputs": [
    {
     "data": {
      "text/plain": [
       "'\\n{\"Mon\": [\"00:00-23:59\"], \"Tue\": [\"00:00-23:59\"], \"Wed\": [\"00:00-23:59\"], \"Thu\": [\"00:00-23:59\"], \\n \"Fri\": [\"00:00-23:59\"], \"Sat\": [\"00:00-23:59\"], \"Sun\": [\"00:00-23:59\"]}\\n'"
      ]
     },
     "execution_count": 50,
     "metadata": {},
     "output_type": "execute_result"
    }
   ],
   "source": [
    "# Below is the most commonly occuring working hours \n",
    "\n",
    "\"\"\"\n",
    "{\"Mon\": [\"00:00-23:59\"], \"Tue\": [\"00:00-23:59\"], \"Wed\": [\"00:00-23:59\"], \"Thu\": [\"00:00-23:59\"], \n",
    " \"Fri\": [\"00:00-23:59\"], \"Sat\": [\"00:00-23:59\"], \"Sun\": [\"00:00-23:59\"]}\n",
    "\"\"\""
   ]
  },
  {
   "cell_type": "code",
   "execution_count": null,
   "id": "61e70198",
   "metadata": {},
   "outputs": [],
   "source": []
  },
  {
   "cell_type": "code",
   "execution_count": 51,
   "id": "ac671e80",
   "metadata": {},
   "outputs": [],
   "source": [
    "import ast\n",
    "x = {\"Mon\": [\"00:00-23:59\"], \"Tue\": [\"00:00-23:59\"], \"Wed\": [\"00:00-23:59\"], \"Thu\": [\"00:00-23:59\"],\"Fri\": [\"00:00-23:59\"], \"Sat\": [\"00:00-23:59\"], \"Sun\": [\"00:00-23:59\"]}  \n",
    "#x = {\"Mon\": [\"09:00-14:30\"], \"Tue\": [\"09:00-14:30\", \"19:00-21:30\"], \"Wed\": [\"09:00-14:30\", \"19:00-21:30\"], \"Thu\": [\"09:00-14:30\", \"19:00-21:30\"], \"Fri\": [\"09:00-14:30\", \"19:00-22:00\"], \"Sat\": [\"09:00-14:30\", \"19:00-22:00\"], \"Sun\": [\"09:00-16:00\"]}\n",
    "x = str(x)\n",
    "x = x.replace('\"\"', \"''\")\n",
    "def convert_dict(l):\n",
    "    if l != 0:\n",
    "      return ast.literal_eval(l)  \n",
    "    else:       \n",
    "        return ast.literal_eval(x)"
   ]
  },
  {
   "cell_type": "code",
   "execution_count": 52,
   "id": "89db2eed",
   "metadata": {},
   "outputs": [],
   "source": [
    "data['original_open_hours'].fillna(0, inplace = True)\n",
    "data['original_open_hours'] = data['original_open_hours'].apply(lambda l : convert_dict(l))"
   ]
  },
  {
   "cell_type": "markdown",
   "id": "1c37680e",
   "metadata": {},
   "source": [
    "## Fill out 'open_days_per_week' and 'open_hours_per_week' columns based on values\n",
    "## in the 'original_open_hours' column\n",
    "## For the assigned hours and from data exploration, days_per_week = 7, hours_per_week = 84 and working shifts = 7"
   ]
  },
  {
   "cell_type": "code",
   "execution_count": 53,
   "id": "75fc028e",
   "metadata": {},
   "outputs": [
    {
     "data": {
      "text/plain": [
       "0    7.0\n",
       "2    7.0\n",
       "3    7.0\n",
       "4    7.0\n",
       "5    7.0\n",
       "Name: open_days_per_week, dtype: float64"
      ]
     },
     "execution_count": 53,
     "metadata": {},
     "output_type": "execute_result"
    }
   ],
   "source": [
    "ll = {\"Mon\": [\"00:00-23:59\"], \"Tue\": [\"00:00-23:59\"], \"Wed\": [\"00:00-23:59\"], \"Thu\": [\"00:00-23:59\"],\"Fri\": [\"00:00-23:59\"], \"Sat\": [\"00:00-23:59\"], \"Sun\": [\"00:00-23:59\"]} \n",
    "data['open_days_per_week'] = np.where(data['original_open_hours'] == ll,7,data['open_days_per_week'])\n",
    "data['open_days_per_week'].head()"
   ]
  },
  {
   "cell_type": "code",
   "execution_count": 54,
   "id": "385ef8cc",
   "metadata": {},
   "outputs": [
    {
     "data": {
      "text/plain": [
       "0    84.0\n",
       "2    84.0\n",
       "3    84.0\n",
       "4    84.0\n",
       "5    53.5\n",
       "Name: open_hours_per_week, dtype: float64"
      ]
     },
     "execution_count": 54,
     "metadata": {},
     "output_type": "execute_result"
    }
   ],
   "source": [
    "data['open_hours_per_week'] = np.where(data['original_open_hours'] == ll,84,data['open_hours_per_week'])\n",
    "data['open_hours_per_week'].head()"
   ]
  },
  {
   "cell_type": "code",
   "execution_count": 55,
   "id": "6766807f",
   "metadata": {},
   "outputs": [
    {
     "data": {
      "text/plain": [
       "0     7.0\n",
       "2     7.0\n",
       "3     7.0\n",
       "4     7.0\n",
       "5    12.0\n",
       "Name: working_shifts_per_week, dtype: float64"
      ]
     },
     "execution_count": 55,
     "metadata": {},
     "output_type": "execute_result"
    }
   ],
   "source": [
    "data['working_shifts_per_week'] = np.where(data['original_open_hours'] == ll,7,data['working_shifts_per_week'])\n",
    "data['working_shifts_per_week'].head()"
   ]
  },
  {
   "cell_type": "code",
   "execution_count": 56,
   "id": "fc483525",
   "metadata": {},
   "outputs": [],
   "source": [
    "#df = data[data['original_open_hours'] != 0]\n",
    "#df['Mon'] = df['original_open_hours'].apply(lambda x : x['Mon'])"
   ]
  },
  {
   "cell_type": "code",
   "execution_count": 57,
   "id": "0c0a560b",
   "metadata": {},
   "outputs": [],
   "source": [
    "data['mon'] = data['original_open_hours'].apply(lambda x : x['Mon'])\n",
    "data['tue'] = data['original_open_hours'].apply(lambda x : x['Tue'])\n",
    "data['wed'] = data['original_open_hours'].apply(lambda x : x['Wed'])\n",
    "data['thur'] = data['original_open_hours'].apply(lambda x : x['Thu'])\n",
    "data['fri'] = data['original_open_hours'].apply(lambda x : x['Fri'])\n",
    "data['sat'] = data['original_open_hours'].apply(lambda x : x['Sat'])\n",
    "data['sun'] = data['original_open_hours'].apply(lambda x : x['Sun'])"
   ]
  },
  {
   "cell_type": "code",
   "execution_count": 58,
   "id": "8626b45e",
   "metadata": {},
   "outputs": [
    {
     "data": {
      "text/html": [
       "<div>\n",
       "<style scoped>\n",
       "    .dataframe tbody tr th:only-of-type {\n",
       "        vertical-align: middle;\n",
       "    }\n",
       "\n",
       "    .dataframe tbody tr th {\n",
       "        vertical-align: top;\n",
       "    }\n",
       "\n",
       "    .dataframe thead th {\n",
       "        text-align: right;\n",
       "    }\n",
       "</style>\n",
       "<table border=\"1\" class=\"dataframe\">\n",
       "  <thead>\n",
       "    <tr style=\"text-align: right;\">\n",
       "      <th></th>\n",
       "      <th>mon</th>\n",
       "      <th>tue</th>\n",
       "      <th>wed</th>\n",
       "    </tr>\n",
       "  </thead>\n",
       "  <tbody>\n",
       "    <tr>\n",
       "      <th>0</th>\n",
       "      <td>[00:00-23:59]</td>\n",
       "      <td>[00:00-23:59]</td>\n",
       "      <td>[00:00-23:59]</td>\n",
       "    </tr>\n",
       "    <tr>\n",
       "      <th>2</th>\n",
       "      <td>[00:00-23:59]</td>\n",
       "      <td>[00:00-23:59]</td>\n",
       "      <td>[00:00-23:59]</td>\n",
       "    </tr>\n",
       "    <tr>\n",
       "      <th>3</th>\n",
       "      <td>[00:00-23:59]</td>\n",
       "      <td>[00:00-23:59]</td>\n",
       "      <td>[00:00-23:59]</td>\n",
       "    </tr>\n",
       "    <tr>\n",
       "      <th>4</th>\n",
       "      <td>[00:00-23:59]</td>\n",
       "      <td>[00:00-23:59]</td>\n",
       "      <td>[00:00-23:59]</td>\n",
       "    </tr>\n",
       "    <tr>\n",
       "      <th>5</th>\n",
       "      <td>[09:00-14:30]</td>\n",
       "      <td>[09:00-14:30, 19:00-21:30]</td>\n",
       "      <td>[09:00-14:30, 19:00-21:30]</td>\n",
       "    </tr>\n",
       "  </tbody>\n",
       "</table>\n",
       "</div>"
      ],
      "text/plain": [
       "             mon                         tue                         wed\n",
       "0  [00:00-23:59]               [00:00-23:59]               [00:00-23:59]\n",
       "2  [00:00-23:59]               [00:00-23:59]               [00:00-23:59]\n",
       "3  [00:00-23:59]               [00:00-23:59]               [00:00-23:59]\n",
       "4  [00:00-23:59]               [00:00-23:59]               [00:00-23:59]\n",
       "5  [09:00-14:30]  [09:00-14:30, 19:00-21:30]  [09:00-14:30, 19:00-21:30]"
      ]
     },
     "execution_count": 58,
     "metadata": {},
     "output_type": "execute_result"
    }
   ],
   "source": [
    "data[['mon','tue','wed']].head()"
   ]
  },
  {
   "cell_type": "markdown",
   "id": "776b2736",
   "metadata": {},
   "source": [
    "# Encoding 'default_language' column\n",
    "## Using Web scrapping to get official languages of European countries from Wikipedia\n",
    "## Assign restaurants the official country language of the countries where they are located\n",
    "### Over 47,000 restaurants are not assigned a language "
   ]
  },
  {
   "cell_type": "code",
   "execution_count": 59,
   "id": "d788b96b",
   "metadata": {},
   "outputs": [
    {
     "data": {
      "text/plain": [
       "English          522125\n",
       "All languages    204381\n",
       "NaN               47852\n",
       "Name: default_language, dtype: int64"
      ]
     },
     "execution_count": 59,
     "metadata": {},
     "output_type": "execute_result"
    }
   ],
   "source": [
    "data['default_language'].value_counts(dropna = False)"
   ]
  },
  {
   "cell_type": "code",
   "execution_count": 60,
   "id": "df2235ca",
   "metadata": {},
   "outputs": [],
   "source": [
    "import requests\n",
    "from bs4 import BeautifulSoup\n"
   ]
  },
  {
   "cell_type": "code",
   "execution_count": 61,
   "id": "af453563",
   "metadata": {},
   "outputs": [],
   "source": [
    "uri = 'https://en.wikipedia.org/wiki/Languages_of_the_European_Union'\n",
    "response = requests.get(uri)\n",
    "soup = BeautifulSoup(response.content, 'html.parser')\n",
    "#soup"
   ]
  },
  {
   "cell_type": "code",
   "execution_count": 62,
   "id": "b9eaa980",
   "metadata": {},
   "outputs": [],
   "source": [
    "countries = []\n",
    "languages = []\n",
    "for i in range(3,27):\n",
    "    language  =(soup.select(\"#mw-content-text > div.mw-parser-output > table:nth-child(16) > tbody > tr:nth-child(\" + str(i) + \") > td:nth-child(1) > a\")[0].text)\n",
    "    country = soup.select(\"#mw-content-text > div.mw-parser-output > table:nth-child(16) > tbody > tr:nth-child(\" + str(i) + \") > td:nth-child(2)\")[0].text.replace('\\n','')\n",
    "    #count = len(country.split()) --> DOES NOT WORK. SOME COUNTRIES HAVE DOUBLE SPACES\n",
    "    count = country.count(' ')   \n",
    "    if count > 1 and 'Czech' not in country:\n",
    "        countries.append(country.split())\n",
    "        languages.append(language)\n",
    "    else:\n",
    "        languages.append(language)\n",
    "        countries.append(country)\n"
   ]
  },
  {
   "cell_type": "code",
   "execution_count": 63,
   "id": "db2bcfeb",
   "metadata": {},
   "outputs": [
    {
     "name": "stdout",
     "output_type": "stream",
     "text": [
      "['Bulgarian', 'Croatian', 'Czech', 'Danish', 'Dutch', 'English', 'Estonian', 'Finnish', 'French', 'German', 'Greek', 'Hungarian', 'Irish', 'Italian', 'Latvian', 'Lithuanian', 'Maltese', 'Polish', 'Portuguese', 'Romanian', 'Slovak', 'Slovene', 'Spanish', 'Swedish']\n",
      "['Bulgaria', 'Croatia', 'Czech Republic', 'Denmark', ['Belgium', 'Netherlands'], ['Ireland', 'Malta'], 'Estonia', 'Finland', ['Belgium', 'France', 'Luxembourg'], ['Austria', 'Belgium', 'Germany', 'Luxembourg'], ['Cyprus', 'Greece'], 'Hungary', 'Ireland', 'Italy', 'Latvia', 'Lithuania', 'Malta', 'Poland', 'Portugal', 'Romania', 'Slovakia', 'Slovenia', 'Spain', ['Sweden', 'Finland']]\n"
     ]
    }
   ],
   "source": [
    "print(languages)\n",
    "print(countries)"
   ]
  },
  {
   "cell_type": "markdown",
   "id": "7f48bac9",
   "metadata": {},
   "source": [
    "## Cleaning the lists\n",
    "### There are languages spoken by multiple countries\n",
    "###  Belgium and Finland have more than one official language\n",
    "### Countries that appear more than twice are assigned the last instance where they appear (Ireland & Malta)"
   ]
  },
  {
   "cell_type": "code",
   "execution_count": 64,
   "id": "e5a912fa",
   "metadata": {},
   "outputs": [],
   "source": [
    "countries_and_languages = {}\n",
    "for country in countries:\n",
    "    for language in languages:\n",
    "        if isinstance(country, list) == True:\n",
    "            for i in range(len(country)):\n",
    "                countries_and_languages[country[i]] = language\n",
    "            languages.remove(language)\n",
    "            break\n",
    "            \n",
    "        else:\n",
    "            countries_and_languages[country] = language\n",
    "            languages.remove(language)\n",
    "            break\n",
    "        "
   ]
  },
  {
   "cell_type": "markdown",
   "id": "84723249",
   "metadata": {},
   "source": [
    "### The UK, Scotland, Wales and Northern Ireland are not part of the European Union but i want to include them in recommender\n",
    "### Fortunately, they all speak the same language. Will append them to the language dictionary"
   ]
  },
  {
   "cell_type": "code",
   "execution_count": 65,
   "id": "023bafe1",
   "metadata": {},
   "outputs": [
    {
     "data": {
      "text/plain": [
       "{'Bulgaria': 'Bulgarian',\n",
       " 'Croatia': 'Croatian',\n",
       " 'Czech Republic': 'Czech',\n",
       " 'Denmark': 'Danish',\n",
       " 'Belgium': 'German',\n",
       " 'Netherlands': 'Dutch',\n",
       " 'Ireland': 'Irish',\n",
       " 'Malta': 'Maltese',\n",
       " 'Estonia': 'Estonian',\n",
       " 'Finland': 'Swedish',\n",
       " 'France': 'French',\n",
       " 'Luxembourg': 'German',\n",
       " 'Austria': 'German',\n",
       " 'Germany': 'German',\n",
       " 'Cyprus': 'Greek',\n",
       " 'Greece': 'Greek',\n",
       " 'Hungary': 'Hungarian',\n",
       " 'Italy': 'Italian',\n",
       " 'Latvia': 'Latvian',\n",
       " 'Lithuania': 'Lithuanian',\n",
       " 'Poland': 'Polish',\n",
       " 'Portugal': 'Portuguese',\n",
       " 'Romania': 'Romanian',\n",
       " 'Slovakia': 'Slovak',\n",
       " 'Slovenia': 'Slovene',\n",
       " 'Spain': 'Spanish',\n",
       " 'Sweden': 'Swedish',\n",
       " 'England': 'English',\n",
       " 'Scotland': 'English',\n",
       " 'Wales': 'English',\n",
       " 'Northern Ireland': 'English'}"
      ]
     },
     "execution_count": 65,
     "metadata": {},
     "output_type": "execute_result"
    }
   ],
   "source": [
    "uk_countries = ['England','Scotland','Wales','Northern Ireland']\n",
    "for country in uk_countries:\n",
    "    countries_and_languages[country] = 'English'\n",
    "countries_and_languages"
   ]
  },
  {
   "cell_type": "markdown",
   "id": "7bfd3cd5",
   "metadata": {},
   "source": [
    "### I am populating a column based on values of another column\n",
    "### Create a new dataframe, fill the NaN in 'default_language' column based on values in the 'country' column\n",
    "### There are no NaNs in the 'country' column"
   ]
  },
  {
   "cell_type": "code",
   "execution_count": 66,
   "id": "c02312ab",
   "metadata": {},
   "outputs": [
    {
     "data": {
      "text/plain": [
       "0"
      ]
     },
     "metadata": {},
     "output_type": "display_data"
    },
    {
     "data": {
      "text/plain": [
       "47852"
      ]
     },
     "execution_count": 66,
     "metadata": {},
     "output_type": "execute_result"
    }
   ],
   "source": [
    "# Check for NaN in 'country' column\n",
    "display(data['country'].isna().sum())\n",
    "country_data = data[data['default_language'].isna()]\n",
    "len(country_data)"
   ]
  },
  {
   "cell_type": "code",
   "execution_count": 67,
   "id": "3f86ad8d",
   "metadata": {},
   "outputs": [],
   "source": [
    "def clean_country(x):\n",
    "    if x == 'The Netherlands':\n",
    "        return 'Netherlands'\n",
    "    else:\n",
    "        return x"
   ]
  },
  {
   "cell_type": "code",
   "execution_count": 68,
   "id": "453fd6c9",
   "metadata": {},
   "outputs": [
    {
     "name": "stderr",
     "output_type": "stream",
     "text": [
      "C:\\Users\\KIMERA\\AppData\\Local\\Temp/ipykernel_16232/3065780036.py:1: SettingWithCopyWarning: \n",
      "A value is trying to be set on a copy of a slice from a DataFrame.\n",
      "Try using .loc[row_indexer,col_indexer] = value instead\n",
      "\n",
      "See the caveats in the documentation: https://pandas.pydata.org/pandas-docs/stable/user_guide/indexing.html#returning-a-view-versus-a-copy\n",
      "  country_data['country'] = country_data['country'].apply(lambda x : clean_country(x))\n"
     ]
    },
    {
     "data": {
      "text/plain": [
       "Spain               7631\n",
       "Italy               7239\n",
       "France              5549\n",
       "Germany             5410\n",
       "England             5153\n",
       "Poland              2130\n",
       "Portugal            2085\n",
       "Greece              1959\n",
       "Netherlands         1428\n",
       "Czech Republic      1218\n",
       "Austria             1128\n",
       "Romania             1085\n",
       "Belgium             1067\n",
       "Sweden               830\n",
       "Hungary              494\n",
       "Finland              492\n",
       "Ireland              491\n",
       "Denmark              465\n",
       "Bulgaria             450\n",
       "Slovakia             422\n",
       "Scotland             405\n",
       "Croatia              355\n",
       "Wales                244\n",
       "Northern Ireland     122\n",
       "Name: country, dtype: int64"
      ]
     },
     "execution_count": 68,
     "metadata": {},
     "output_type": "execute_result"
    }
   ],
   "source": [
    "country_data['country'] = country_data['country'].apply(lambda x : clean_country(x))\n",
    "country_data['country'].value_counts(dropna = False)"
   ]
  },
  {
   "cell_type": "code",
   "execution_count": 69,
   "id": "7cc9663e",
   "metadata": {},
   "outputs": [],
   "source": [
    "def languages(x):\n",
    "    #x = str(x)\n",
    "    return countries_and_languages[x]"
   ]
  },
  {
   "cell_type": "code",
   "execution_count": 70,
   "id": "d8b4cef6",
   "metadata": {},
   "outputs": [
    {
     "name": "stderr",
     "output_type": "stream",
     "text": [
      "C:\\Users\\KIMERA\\AppData\\Local\\Temp/ipykernel_16232/3434592492.py:1: SettingWithCopyWarning: \n",
      "A value is trying to be set on a copy of a slice from a DataFrame.\n",
      "Try using .loc[row_indexer,col_indexer] = value instead\n",
      "\n",
      "See the caveats in the documentation: https://pandas.pydata.org/pandas-docs/stable/user_guide/indexing.html#returning-a-view-versus-a-copy\n",
      "  country_data['default_language'] = country_data['country'].apply(lambda x : countries_and_languages[x])\n"
     ]
    }
   ],
   "source": [
    "country_data['default_language'] = country_data['country'].apply(lambda x : countries_and_languages[x])"
   ]
  },
  {
   "cell_type": "code",
   "execution_count": 71,
   "id": "2c2e1b87",
   "metadata": {},
   "outputs": [
    {
     "data": {
      "text/plain": [
       "Spanish       7631\n",
       "German        7605\n",
       "Italian       7239\n",
       "English       5924\n",
       "French        5549\n",
       "Polish        2130\n",
       "Portuguese    2085\n",
       "Greek         1959\n",
       "Dutch         1428\n",
       "Swedish       1322\n",
       "Czech         1218\n",
       "Romanian      1085\n",
       "Hungarian      494\n",
       "Irish          491\n",
       "Danish         465\n",
       "Bulgarian      450\n",
       "Slovak         422\n",
       "Croatian       355\n",
       "Name: default_language, dtype: int64"
      ]
     },
     "execution_count": 71,
     "metadata": {},
     "output_type": "execute_result"
    }
   ],
   "source": [
    "country_data['default_language'].value_counts(dropna = False)"
   ]
  },
  {
   "cell_type": "markdown",
   "id": "089e8a1d",
   "metadata": {},
   "source": [
    "### Merge the two dataframes \n",
    "### After, delete the 'country_data' dataframe o save memory"
   ]
  },
  {
   "cell_type": "code",
   "execution_count": 72,
   "id": "e8c1347f",
   "metadata": {},
   "outputs": [
    {
     "data": {
      "text/plain": [
       "0"
      ]
     },
     "execution_count": 72,
     "metadata": {},
     "output_type": "execute_result"
    }
   ],
   "source": [
    "data = data.combine_first(country_data)\n",
    "len(data[data['default_language'].isna()])"
   ]
  },
  {
   "cell_type": "code",
   "execution_count": 73,
   "id": "3324f4a8",
   "metadata": {},
   "outputs": [],
   "source": [
    "del country_data"
   ]
  },
  {
   "cell_type": "markdown",
   "id": "f5e1a95a",
   "metadata": {},
   "source": [
    "## Cleaning the Average rating column\n",
    "### Only 6% of restaurants do not have ratings\n",
    "### Its small enough to be filled with the mean value"
   ]
  },
  {
   "cell_type": "code",
   "execution_count": 74,
   "id": "392f2d10",
   "metadata": {},
   "outputs": [
    {
     "data": {
      "text/plain": [
       "0.06321107291459506"
      ]
     },
     "execution_count": 74,
     "metadata": {},
     "output_type": "execute_result"
    }
   ],
   "source": [
    "data['avg_rating'].isna().sum()/len(data)"
   ]
  },
  {
   "cell_type": "code",
   "execution_count": 75,
   "id": "3796184b",
   "metadata": {},
   "outputs": [
    {
     "data": {
      "text/plain": [
       "0.0"
      ]
     },
     "execution_count": 75,
     "metadata": {},
     "output_type": "execute_result"
    }
   ],
   "source": [
    "data['avg_rating'].fillna(np.mean(data['avg_rating']), inplace = True)\n",
    "data['avg_rating'].isna().sum()/len(data)"
   ]
  },
  {
   "cell_type": "markdown",
   "id": "d4a1f591",
   "metadata": {},
   "source": [
    "## Check for NaN in the various reviews columns\n",
    "### All columns have the same percentage of NaN values (6%)\n",
    "### It is assumed that these restaurants have just not received any reviews"
   ]
  },
  {
   "cell_type": "code",
   "execution_count": 76,
   "id": "94856696",
   "metadata": {},
   "outputs": [
    {
     "data": {
      "text/plain": [
       "reviews_count_in_default_language    0.06\n",
       "excellent                            0.06\n",
       "very_good                            0.06\n",
       "average                              0.06\n",
       "poor                                 0.06\n",
       "terrible                             0.06\n",
       "dtype: float64"
      ]
     },
     "execution_count": 76,
     "metadata": {},
     "output_type": "execute_result"
    }
   ],
   "source": [
    "reviews_df = data[['reviews_count_in_default_language','excellent','very_good','average','poor','terrible']]\n",
    "round(reviews_df.isna().sum()/len(data),2)"
   ]
  },
  {
   "cell_type": "code",
   "execution_count": 77,
   "id": "d8f47240",
   "metadata": {},
   "outputs": [],
   "source": [
    "# DELETE DATAFRAME TO SAVE MEMORY\n",
    "del reviews_df"
   ]
  },
  {
   "cell_type": "markdown",
   "id": "73894a2c",
   "metadata": {},
   "source": [
    "## Processing Vegan Options"
   ]
  },
  {
   "cell_type": "code",
   "execution_count": 78,
   "id": "3dd102d3",
   "metadata": {},
   "outputs": [],
   "source": [
    "vegans_columns = ['vegetarian_friendly','vegan_options','gluten_free']\n",
    "for col in vegans_columns:\n",
    "    data[col] = data[col].map({'Y':1,'N':0})\n"
   ]
  },
  {
   "cell_type": "code",
   "execution_count": 79,
   "id": "ba302e56",
   "metadata": {},
   "outputs": [
    {
     "data": {
      "text/plain": [
       "0    661754\n",
       "1    112604\n",
       "Name: vegan_options, dtype: int64"
      ]
     },
     "execution_count": 79,
     "metadata": {},
     "output_type": "execute_result"
    }
   ],
   "source": [
    "\n",
    "data['vegan_options'].value_counts(dropna = False)"
   ]
  },
  {
   "cell_type": "code",
   "execution_count": 80,
   "id": "7cad7cb6",
   "metadata": {},
   "outputs": [
    {
     "data": {
      "text/plain": [
       "0    678507\n",
       "1     95851\n",
       "Name: gluten_free, dtype: int64"
      ]
     },
     "execution_count": 80,
     "metadata": {},
     "output_type": "execute_result"
    }
   ],
   "source": [
    "data['gluten_free'].value_counts(dropna = False)"
   ]
  },
  {
   "cell_type": "code",
   "execution_count": 81,
   "id": "ac9e1051",
   "metadata": {},
   "outputs": [
    {
     "data": {
      "text/plain": [
       "0    508622\n",
       "1    265736\n",
       "Name: vegetarian_friendly, dtype: int64"
      ]
     },
     "execution_count": 81,
     "metadata": {},
     "output_type": "execute_result"
    }
   ],
   "source": [
    "data['vegetarian_friendly'].value_counts(dropna = False)"
   ]
  },
  {
   "cell_type": "markdown",
   "id": "c4710062",
   "metadata": {},
   "source": [
    "## Process the Claimed Column\n",
    "### Claimed - Restaurant owners manages the account, post new content and respond to reviews\n",
    "### Unclaimed - The account is unmanaged and reviews do not get responses\n",
    "### Over 52.8% of restaurants are unclaimed"
   ]
  },
  {
   "cell_type": "code",
   "execution_count": 82,
   "id": "6e451fa3",
   "metadata": {},
   "outputs": [
    {
     "data": {
      "text/plain": [
       "0.528628877082693"
      ]
     },
     "execution_count": 82,
     "metadata": {},
     "output_type": "execute_result"
    }
   ],
   "source": [
    "unclaimed_perc = len(data[data['claimed'] == 'Unclaimed'])/len(data)\n",
    "unclaimed_perc"
   ]
  },
  {
   "cell_type": "code",
   "execution_count": 83,
   "id": "9f8db2c1",
   "metadata": {},
   "outputs": [
    {
     "data": {
      "text/plain": [
       "0    409348\n",
       "1    365010\n",
       "Name: claimed, dtype: int64"
      ]
     },
     "execution_count": 83,
     "metadata": {},
     "output_type": "execute_result"
    }
   ],
   "source": [
    "data['claimed'] = data['claimed'].map({'Claimed':1,'Unclaimed':0})\n",
    "data['claimed'].value_counts(dropna = False)"
   ]
  },
  {
   "cell_type": "code",
   "execution_count": 84,
   "id": "4a8a340f",
   "metadata": {},
   "outputs": [],
   "source": [
    "#data.iloc[:1000].to_csv(\"E:\\\\SKUL\\\\PROGRAMMING_SKULS\\\\ironhack\\\\COURSE\\\\Final-Year-Project\\\\Final Data\\\\mydata.csv\")"
   ]
  },
  {
   "cell_type": "code",
   "execution_count": 85,
   "id": "04419a5d",
   "metadata": {},
   "outputs": [
    {
     "data": {
      "text/plain": [
       "dtype('O')"
      ]
     },
     "execution_count": 85,
     "metadata": {},
     "output_type": "execute_result"
    }
   ],
   "source": [
    "data['price_range'].dtypes"
   ]
  },
  {
   "cell_type": "markdown",
   "id": "af21ce73",
   "metadata": {},
   "source": [
    "# USING MACHINE LEARNING\n",
    "## Applying Linear Regression to predict and fillout the missing values in the 'lower_limit' column"
   ]
  },
  {
   "cell_type": "code",
   "execution_count": 86,
   "id": "c515ecf4",
   "metadata": {},
   "outputs": [
    {
     "data": {
      "text/plain": [
       "0       NaN\n",
       "2       NaN\n",
       "3       NaN\n",
       "4       NaN\n",
       "5     14-29\n",
       "6      8-17\n",
       "7     10-35\n",
       "8     12-26\n",
       "10      NaN\n",
       "11      NaN\n",
       "Name: price_range, dtype: object"
      ]
     },
     "execution_count": 86,
     "metadata": {},
     "output_type": "execute_result"
    }
   ],
   "source": [
    "# REPLACE THE EUROS SIGN\n",
    "data['price_range'] = data['price_range'].str.replace('€','')\n",
    "data['price_range'].iloc[:10]"
   ]
  },
  {
   "cell_type": "code",
   "execution_count": 87,
   "id": "f7710fc2",
   "metadata": {},
   "outputs": [
    {
     "data": {
      "text/plain": [
       "0     nan\n",
       "2     nan\n",
       "3     nan\n",
       "4     nan\n",
       "5      14\n",
       "6       8\n",
       "7      10\n",
       "8      12\n",
       "10    nan\n",
       "11    nan\n",
       "Name: lower_limit, dtype: object"
      ]
     },
     "execution_count": 87,
     "metadata": {},
     "output_type": "execute_result"
    }
   ],
   "source": [
    "# GET THE LOWER LIMIT\n",
    "data['lower_limit'] = data['price_range'].apply(lambda x : str(x).split('-')[0])\n",
    "data['lower_limit'].head(10)"
   ]
  },
  {
   "cell_type": "markdown",
   "id": "33d6431f",
   "metadata": {},
   "source": [
    "## Switzerland doesnot use EUROS. Swiss use Swiss Francs\n",
    "### Processing the swiss francs"
   ]
  },
  {
   "cell_type": "code",
   "execution_count": 88,
   "id": "edc82567",
   "metadata": {},
   "outputs": [],
   "source": [
    "def swiss_francs(x):\n",
    "    y = str(x)\n",
    "    if 'CHF' in y:\n",
    "        # Keep the last two characters on the string\n",
    "        m = y[-2:]\n",
    "        #m = y.replace(\"CHF\"+\"\\\\xa\",\"\")\n",
    "        z = int(m) * 0.96\n",
    "        return z\n",
    "    else:\n",
    "        return y\n",
    "data['lower_limit'] = data['lower_limit'].apply(lambda x: swiss_francs(x))\n",
    "data['lower_limit'] = data['lower_limit'].apply(lambda x: str(x).replace(\",\",\"\"))\n",
    "data['lower_limit'] = data['lower_limit'].astype(float).round(2)"
   ]
  },
  {
   "cell_type": "markdown",
   "id": "3a6abc2b",
   "metadata": {},
   "source": [
    "### Convert 'nan' back to proper NaN => Its just a text"
   ]
  },
  {
   "cell_type": "code",
   "execution_count": 89,
   "id": "cad52d26",
   "metadata": {},
   "outputs": [
    {
     "data": {
      "text/plain": [
       "0     NaN\n",
       "2     NaN\n",
       "3     NaN\n",
       "4     NaN\n",
       "5    14.0\n",
       "6     8.0\n",
       "7    10.0\n",
       "Name: lower_limit, dtype: float64"
      ]
     },
     "execution_count": 89,
     "metadata": {},
     "output_type": "execute_result"
    }
   ],
   "source": [
    "data['lower_limit'] = data['lower_limit'].replace('nan',np.nan)\n",
    "data['lower_limit'].head(7)"
   ]
  },
  {
   "cell_type": "code",
   "execution_count": 90,
   "id": "365a5e41",
   "metadata": {},
   "outputs": [
    {
     "data": {
      "text/plain": [
       "530295"
      ]
     },
     "execution_count": 90,
     "metadata": {},
     "output_type": "execute_result"
    }
   ],
   "source": [
    "data['lower_limit'].isna().sum()"
   ]
  },
  {
   "cell_type": "code",
   "execution_count": 91,
   "id": "c0f4c7a0",
   "metadata": {},
   "outputs": [
    {
     "data": {
      "text/plain": [
       "5.0       26766\n",
       "10.0      25050\n",
       "2.0       22750\n",
       "3.0       20751\n",
       "6.0       15319\n",
       "          ...  \n",
       "1390.0        1\n",
       "583.0         1\n",
       "743.0         1\n",
       "1212.0        1\n",
       "174.0         1\n",
       "Name: lower_limit, Length: 371, dtype: int64"
      ]
     },
     "execution_count": 91,
     "metadata": {},
     "output_type": "execute_result"
    }
   ],
   "source": [
    "data['lower_limit'].value_counts()"
   ]
  },
  {
   "cell_type": "code",
   "execution_count": 94,
   "id": "1db9bb9d",
   "metadata": {},
   "outputs": [
    {
     "data": {
      "text/plain": [
       "dtype('float64')"
      ]
     },
     "execution_count": 94,
     "metadata": {},
     "output_type": "execute_result"
    }
   ],
   "source": [
    "data['lower_limit'].dtypes"
   ]
  },
  {
   "cell_type": "code",
   "execution_count": 96,
   "id": "642d149b",
   "metadata": {},
   "outputs": [],
   "source": [
    "#some are empty. Others have more than one range \n",
    "# count = 0\n",
    "# new_list = []\n",
    "# for item in my_list:\n",
    "#     if len(item) > 1:\n",
    "#         count += 1\n",
    "#     elif len(item)==1:\n",
    "#         new_list.append(item[0])\n",
    "    \n",
    "# print(count)\n",
    "# print(\"PERCENTAGE: \", count/len(my_list))\n",
    "# #print(my_list)"
   ]
  },
  {
   "cell_type": "code",
   "execution_count": 97,
   "id": "859cc445",
   "metadata": {},
   "outputs": [],
   "source": [
    "#new_list"
   ]
  },
  {
   "cell_type": "markdown",
   "id": "96a237c6",
   "metadata": {},
   "source": [
    "## PROCESSING OPENING AND CLOSING TIMES"
   ]
  },
  {
   "cell_type": "code",
   "execution_count": 98,
   "id": "b759334f",
   "metadata": {},
   "outputs": [],
   "source": [
    "# FUNCTION FOR OPEN TIME\n",
    "def clean_time(x):\n",
    "    if len(x) >= 1:\n",
    "        y = x[0]\n",
    "        z = str(y).split(\"-\")[0][:2]\n",
    "        return z\n",
    "    else:\n",
    "        return 0\n",
    "\n",
    "# FUNCTION FOR CLOSE TIME\n",
    "def clean_time_close(x):\n",
    "    if len(x) == 1:\n",
    "        y = x[0]\n",
    "        z = str(y).split(\"-\")[1][:2]\n",
    "        #str(x[1]).split(\"-\")[1][:2]\n",
    "        return z\n",
    "    elif len(x) > 1:\n",
    "        # GET LAST ELEMENT OF LIST\n",
    "        y = list(x)\n",
    "        z = str(y[-1]).split(\"-\")[1][:2]\n",
    "        return z\n",
    "       \n",
    "    else:\n",
    "        return 0       "
   ]
  },
  {
   "cell_type": "code",
   "execution_count": 99,
   "id": "26729da6",
   "metadata": {},
   "outputs": [],
   "source": [
    "col_process_list = ['mon','tue','wed','thur','fri','sat','sun']\n",
    "for col in col_process_list:\n",
    "    new_col = col+'_open'\n",
    "    new_col_close = col+'_close'\n",
    "    #print(new_col)\n",
    "    #data_copy[new_col] = data_copy[col].apply(lambda x: clean_time_close(x))\n",
    "    data[new_col] = data[col].apply(lambda x: clean_time(x)).astype(int)\n",
    "    \n",
    "    #print(new_col)\n",
    "    data[new_col_close] = data[col].apply(lambda x: clean_time_close(x)).astype(int)"
   ]
  },
  {
   "cell_type": "code",
   "execution_count": 100,
   "id": "b98cb34a",
   "metadata": {},
   "outputs": [],
   "source": [
    "# DROP ORIGINAL COLUMNS\n",
    "data = data.drop(col_process_list, axis = 1)"
   ]
  },
  {
   "cell_type": "code",
   "execution_count": 103,
   "id": "047a892b",
   "metadata": {},
   "outputs": [
    {
     "data": {
      "text/plain": [
       "Index(['restaurant_link', 'restaurant_name', 'original_location', 'country',\n",
       "       'region', 'province', 'city', 'address', 'latitude', 'longitude',\n",
       "       'claimed', 'awards', 'popularity_detailed', 'popularity_generic',\n",
       "       'top_tags', 'price_level', 'price_range', 'meals', 'cuisines',\n",
       "       'special_diets', 'features', 'vegetarian_friendly', 'vegan_options',\n",
       "       'gluten_free', 'original_open_hours', 'open_days_per_week',\n",
       "       'open_hours_per_week', 'working_shifts_per_week', 'avg_rating',\n",
       "       'total_reviews_count', 'default_language',\n",
       "       'reviews_count_in_default_language', 'excellent', 'very_good',\n",
       "       'average', 'poor', 'terrible', 'food', 'service', 'value', 'atmosphere',\n",
       "       'keywords', 'reservations', 'seating', 'wheel_chair', 'alcohol',\n",
       "       'credit_cards', 'table_service', 'takeout', 'outdoor', 'delivery',\n",
       "       'wifi', 'highchair', 'full_bar', 'parking', 'street_parking',\n",
       "       'lower_limit', 'mon_open', 'mon_close', 'tue_open', 'tue_close',\n",
       "       'wed_open', 'wed_close', 'thur_open', 'thur_close', 'fri_open',\n",
       "       'fri_close', 'sat_open', 'sat_close', 'sun_open', 'sun_close'],\n",
       "      dtype='object')"
      ]
     },
     "execution_count": 103,
     "metadata": {},
     "output_type": "execute_result"
    }
   ],
   "source": [
    "data.columns"
   ]
  },
  {
   "cell_type": "code",
   "execution_count": 104,
   "id": "59cc5645",
   "metadata": {},
   "outputs": [
    {
     "data": {
      "text/plain": [
       "Series([], Name: mon_close, dtype: int32)"
      ]
     },
     "execution_count": 104,
     "metadata": {},
     "output_type": "execute_result"
    }
   ],
   "source": [
    "data['mon_close'][data['mon_close'] == '00'].head(10)"
   ]
  },
  {
   "cell_type": "code",
   "execution_count": 105,
   "id": "9435099f",
   "metadata": {},
   "outputs": [
    {
     "data": {
      "text/plain": [
       "0    0\n",
       "2    0\n",
       "3    0\n",
       "4    0\n",
       "5    9\n",
       "Name: mon_open, dtype: int32"
      ]
     },
     "execution_count": 105,
     "metadata": {},
     "output_type": "execute_result"
    }
   ],
   "source": [
    "data['mon_open'].head()"
   ]
  },
  {
   "cell_type": "code",
   "execution_count": 112,
   "id": "0cc00102",
   "metadata": {},
   "outputs": [
    {
     "data": {
      "text/plain": [
       "0    23\n",
       "2    23\n",
       "3    23\n",
       "4    23\n",
       "5    14\n",
       "Name: mon_close, dtype: int32"
      ]
     },
     "execution_count": 112,
     "metadata": {},
     "output_type": "execute_result"
    }
   ],
   "source": [
    "data['mon_close'].head()"
   ]
  },
  {
   "cell_type": "markdown",
   "id": "b8e4e0ee",
   "metadata": {},
   "source": [
    "# MACHINE LEARNING\n",
    "## Training a model on the dataframe where the lower_limit column value is given\n",
    "## Use the model to predict the values in lower_limit column"
   ]
  },
  {
   "cell_type": "markdown",
   "id": "91238155",
   "metadata": {},
   "source": [
    "## Get dataframe where price_level is not NaN (ml_df)\n",
    "### Only 31.5% of values are given \n",
    "### 244k rows are enough to train the model"
   ]
  },
  {
   "cell_type": "code",
   "execution_count": 113,
   "id": "fc092591",
   "metadata": {},
   "outputs": [
    {
     "data": {
      "text/plain": [
       "(244063, 71)"
      ]
     },
     "execution_count": 113,
     "metadata": {},
     "output_type": "execute_result"
    }
   ],
   "source": [
    "ml_df = data[~data['lower_limit'].isna()]\n",
    "ml_df.shape"
   ]
  },
  {
   "cell_type": "code",
   "execution_count": 114,
   "id": "86ddd67f",
   "metadata": {},
   "outputs": [
    {
     "data": {
      "text/plain": [
       "0.31518109194971833"
      ]
     },
     "execution_count": 114,
     "metadata": {},
     "output_type": "execute_result"
    }
   ],
   "source": [
    "len(ml_df)/len(data)"
   ]
  },
  {
   "cell_type": "markdown",
   "id": "141f4e4d",
   "metadata": {},
   "source": [
    "## Get Numerical columns and treat NaN\n",
    "### Delete the ml_df to save memory"
   ]
  },
  {
   "cell_type": "code",
   "execution_count": 115,
   "id": "fcf653ef",
   "metadata": {},
   "outputs": [
    {
     "data": {
      "text/html": [
       "<div>\n",
       "<style scoped>\n",
       "    .dataframe tbody tr th:only-of-type {\n",
       "        vertical-align: middle;\n",
       "    }\n",
       "\n",
       "    .dataframe tbody tr th {\n",
       "        vertical-align: top;\n",
       "    }\n",
       "\n",
       "    .dataframe thead th {\n",
       "        text-align: right;\n",
       "    }\n",
       "</style>\n",
       "<table border=\"1\" class=\"dataframe\">\n",
       "  <thead>\n",
       "    <tr style=\"text-align: right;\">\n",
       "      <th></th>\n",
       "      <th>latitude</th>\n",
       "      <th>longitude</th>\n",
       "      <th>claimed</th>\n",
       "      <th>awards</th>\n",
       "      <th>price_level</th>\n",
       "      <th>vegetarian_friendly</th>\n",
       "      <th>vegan_options</th>\n",
       "      <th>gluten_free</th>\n",
       "      <th>open_days_per_week</th>\n",
       "      <th>open_hours_per_week</th>\n",
       "      <th>...</th>\n",
       "      <th>wed_open</th>\n",
       "      <th>wed_close</th>\n",
       "      <th>thur_open</th>\n",
       "      <th>thur_close</th>\n",
       "      <th>fri_open</th>\n",
       "      <th>fri_close</th>\n",
       "      <th>sat_open</th>\n",
       "      <th>sat_close</th>\n",
       "      <th>sun_open</th>\n",
       "      <th>sun_close</th>\n",
       "    </tr>\n",
       "  </thead>\n",
       "  <tbody>\n",
       "    <tr>\n",
       "      <th>5</th>\n",
       "      <td>46.169823</td>\n",
       "      <td>3.855819</td>\n",
       "      <td>1</td>\n",
       "      <td>2</td>\n",
       "      <td>5.0</td>\n",
       "      <td>0</td>\n",
       "      <td>0</td>\n",
       "      <td>0</td>\n",
       "      <td>7.0</td>\n",
       "      <td>53.5</td>\n",
       "      <td>...</td>\n",
       "      <td>9</td>\n",
       "      <td>21</td>\n",
       "      <td>9</td>\n",
       "      <td>21</td>\n",
       "      <td>9</td>\n",
       "      <td>22</td>\n",
       "      <td>9</td>\n",
       "      <td>22</td>\n",
       "      <td>9</td>\n",
       "      <td>16</td>\n",
       "    </tr>\n",
       "    <tr>\n",
       "      <th>6</th>\n",
       "      <td>44.233078</td>\n",
       "      <td>4.251449</td>\n",
       "      <td>1</td>\n",
       "      <td>0</td>\n",
       "      <td>5.0</td>\n",
       "      <td>0</td>\n",
       "      <td>0</td>\n",
       "      <td>0</td>\n",
       "      <td>5.0</td>\n",
       "      <td>30.0</td>\n",
       "      <td>...</td>\n",
       "      <td>12</td>\n",
       "      <td>22</td>\n",
       "      <td>12</td>\n",
       "      <td>22</td>\n",
       "      <td>12</td>\n",
       "      <td>22</td>\n",
       "      <td>12</td>\n",
       "      <td>22</td>\n",
       "      <td>12</td>\n",
       "      <td>22</td>\n",
       "    </tr>\n",
       "    <tr>\n",
       "      <th>7</th>\n",
       "      <td>43.360023</td>\n",
       "      <td>2.219851</td>\n",
       "      <td>1</td>\n",
       "      <td>5</td>\n",
       "      <td>5.0</td>\n",
       "      <td>1</td>\n",
       "      <td>0</td>\n",
       "      <td>0</td>\n",
       "      <td>6.0</td>\n",
       "      <td>24.0</td>\n",
       "      <td>...</td>\n",
       "      <td>10</td>\n",
       "      <td>14</td>\n",
       "      <td>10</td>\n",
       "      <td>14</td>\n",
       "      <td>10</td>\n",
       "      <td>14</td>\n",
       "      <td>10</td>\n",
       "      <td>14</td>\n",
       "      <td>10</td>\n",
       "      <td>14</td>\n",
       "    </tr>\n",
       "    <tr>\n",
       "      <th>8</th>\n",
       "      <td>42.934000</td>\n",
       "      <td>0.936559</td>\n",
       "      <td>1</td>\n",
       "      <td>0</td>\n",
       "      <td>5.0</td>\n",
       "      <td>0</td>\n",
       "      <td>0</td>\n",
       "      <td>0</td>\n",
       "      <td>5.0</td>\n",
       "      <td>14.0</td>\n",
       "      <td>...</td>\n",
       "      <td>12</td>\n",
       "      <td>14</td>\n",
       "      <td>12</td>\n",
       "      <td>14</td>\n",
       "      <td>12</td>\n",
       "      <td>21</td>\n",
       "      <td>19</td>\n",
       "      <td>21</td>\n",
       "      <td>12</td>\n",
       "      <td>21</td>\n",
       "    </tr>\n",
       "    <tr>\n",
       "      <th>14</th>\n",
       "      <td>43.315163</td>\n",
       "      <td>6.076051</td>\n",
       "      <td>1</td>\n",
       "      <td>0</td>\n",
       "      <td>5.0</td>\n",
       "      <td>0</td>\n",
       "      <td>0</td>\n",
       "      <td>0</td>\n",
       "      <td>6.0</td>\n",
       "      <td>20.5</td>\n",
       "      <td>...</td>\n",
       "      <td>11</td>\n",
       "      <td>14</td>\n",
       "      <td>11</td>\n",
       "      <td>14</td>\n",
       "      <td>11</td>\n",
       "      <td>21</td>\n",
       "      <td>11</td>\n",
       "      <td>21</td>\n",
       "      <td>11</td>\n",
       "      <td>14</td>\n",
       "    </tr>\n",
       "  </tbody>\n",
       "</table>\n",
       "<p>5 rows × 52 columns</p>\n",
       "</div>"
      ],
      "text/plain": [
       "     latitude  longitude  claimed  awards  price_level  vegetarian_friendly  \\\n",
       "5   46.169823   3.855819        1       2          5.0                    0   \n",
       "6   44.233078   4.251449        1       0          5.0                    0   \n",
       "7   43.360023   2.219851        1       5          5.0                    1   \n",
       "8   42.934000   0.936559        1       0          5.0                    0   \n",
       "14  43.315163   6.076051        1       0          5.0                    0   \n",
       "\n",
       "    vegan_options  gluten_free  open_days_per_week  open_hours_per_week  ...  \\\n",
       "5               0            0                 7.0                 53.5  ...   \n",
       "6               0            0                 5.0                 30.0  ...   \n",
       "7               0            0                 6.0                 24.0  ...   \n",
       "8               0            0                 5.0                 14.0  ...   \n",
       "14              0            0                 6.0                 20.5  ...   \n",
       "\n",
       "    wed_open  wed_close  thur_open  thur_close  fri_open  fri_close  sat_open  \\\n",
       "5          9         21          9          21         9         22         9   \n",
       "6         12         22         12          22        12         22        12   \n",
       "7         10         14         10          14        10         14        10   \n",
       "8         12         14         12          14        12         21        19   \n",
       "14        11         14         11          14        11         21        11   \n",
       "\n",
       "    sat_close  sun_open  sun_close  \n",
       "5          22         9         16  \n",
       "6          22        12         22  \n",
       "7          14        10         14  \n",
       "8          21        12         21  \n",
       "14         21        11         14  \n",
       "\n",
       "[5 rows x 52 columns]"
      ]
     },
     "execution_count": 115,
     "metadata": {},
     "output_type": "execute_result"
    }
   ],
   "source": [
    "numerical = ml_df.select_dtypes(include = np.number)\n",
    "numerical.head()"
   ]
  },
  {
   "cell_type": "code",
   "execution_count": 116,
   "id": "3486bbc4",
   "metadata": {},
   "outputs": [],
   "source": [
    "del ml_df"
   ]
  },
  {
   "cell_type": "code",
   "execution_count": 117,
   "id": "7937663c",
   "metadata": {},
   "outputs": [
    {
     "data": {
      "text/plain": [
       "latitude                              1.0\n",
       "longitude                             1.0\n",
       "claimed                               0.0\n",
       "awards                                0.0\n",
       "price_level                           0.0\n",
       "vegetarian_friendly                   0.0\n",
       "vegan_options                         0.0\n",
       "gluten_free                           0.0\n",
       "open_days_per_week                    0.0\n",
       "open_hours_per_week                   0.0\n",
       "working_shifts_per_week               0.0\n",
       "avg_rating                            0.0\n",
       "total_reviews_count                   4.0\n",
       "reviews_count_in_default_language     8.0\n",
       "excellent                             8.0\n",
       "very_good                             8.0\n",
       "average                               8.0\n",
       "poor                                  8.0\n",
       "terrible                              8.0\n",
       "food                                 38.0\n",
       "service                              37.0\n",
       "value                                38.0\n",
       "atmosphere                           73.0\n",
       "reservations                          0.0\n",
       "seating                               0.0\n",
       "wheel_chair                           0.0\n",
       "alcohol                               0.0\n",
       "credit_cards                          0.0\n",
       "table_service                         0.0\n",
       "takeout                               0.0\n",
       "outdoor                               0.0\n",
       "delivery                              0.0\n",
       "wifi                                  0.0\n",
       "highchair                             0.0\n",
       "full_bar                              0.0\n",
       "parking                               0.0\n",
       "street_parking                        0.0\n",
       "lower_limit                           0.0\n",
       "mon_open                              0.0\n",
       "mon_close                             0.0\n",
       "tue_open                              0.0\n",
       "tue_close                             0.0\n",
       "wed_open                              0.0\n",
       "wed_close                             0.0\n",
       "thur_open                             0.0\n",
       "thur_close                            0.0\n",
       "fri_open                              0.0\n",
       "fri_close                             0.0\n",
       "sat_open                              0.0\n",
       "sat_close                             0.0\n",
       "sun_open                              0.0\n",
       "sun_close                             0.0\n",
       "dtype: float64"
      ]
     },
     "execution_count": 117,
     "metadata": {},
     "output_type": "execute_result"
    }
   ],
   "source": [
    "all_cols = round(numerical.isna().sum()/len(numerical),2)* 100\n",
    "all_cols"
   ]
  },
  {
   "cell_type": "markdown",
   "id": "7b93df29",
   "metadata": {},
   "source": [
    "## Drop columns that have over 30% NaN"
   ]
  },
  {
   "cell_type": "code",
   "execution_count": 118,
   "id": "58966bba",
   "metadata": {},
   "outputs": [],
   "source": [
    "cols_with_high_perc = ['food','service','value','atmosphere']\n",
    "numerical = numerical.drop(cols_with_high_perc, axis =1)"
   ]
  },
  {
   "cell_type": "code",
   "execution_count": 119,
   "id": "6d6c0c27",
   "metadata": {},
   "outputs": [
    {
     "data": {
      "text/html": [
       "<div>\n",
       "<style scoped>\n",
       "    .dataframe tbody tr th:only-of-type {\n",
       "        vertical-align: middle;\n",
       "    }\n",
       "\n",
       "    .dataframe tbody tr th {\n",
       "        vertical-align: top;\n",
       "    }\n",
       "\n",
       "    .dataframe thead th {\n",
       "        text-align: right;\n",
       "    }\n",
       "</style>\n",
       "<table border=\"1\" class=\"dataframe\">\n",
       "  <thead>\n",
       "    <tr style=\"text-align: right;\">\n",
       "      <th></th>\n",
       "      <th>0</th>\n",
       "    </tr>\n",
       "  </thead>\n",
       "  <tbody>\n",
       "    <tr>\n",
       "      <th>latitude</th>\n",
       "      <td>1.0</td>\n",
       "    </tr>\n",
       "    <tr>\n",
       "      <th>longitude</th>\n",
       "      <td>1.0</td>\n",
       "    </tr>\n",
       "    <tr>\n",
       "      <th>claimed</th>\n",
       "      <td>0.0</td>\n",
       "    </tr>\n",
       "    <tr>\n",
       "      <th>awards</th>\n",
       "      <td>0.0</td>\n",
       "    </tr>\n",
       "    <tr>\n",
       "      <th>price_level</th>\n",
       "      <td>0.0</td>\n",
       "    </tr>\n",
       "  </tbody>\n",
       "</table>\n",
       "</div>"
      ],
      "text/plain": [
       "               0\n",
       "latitude     1.0\n",
       "longitude    1.0\n",
       "claimed      0.0\n",
       "awards       0.0\n",
       "price_level  0.0"
      ]
     },
     "execution_count": 119,
     "metadata": {},
     "output_type": "execute_result"
    }
   ],
   "source": [
    "df = pd.DataFrame(all_cols)\n",
    "df.head()"
   ]
  },
  {
   "cell_type": "code",
   "execution_count": 120,
   "id": "16973d35",
   "metadata": {},
   "outputs": [
    {
     "data": {
      "text/plain": [
       "latitude                             1.0\n",
       "longitude                            1.0\n",
       "claimed                              0.0\n",
       "awards                               0.0\n",
       "price_level                          0.0\n",
       "vegetarian_friendly                  0.0\n",
       "vegan_options                        0.0\n",
       "gluten_free                          0.0\n",
       "open_days_per_week                   0.0\n",
       "open_hours_per_week                  0.0\n",
       "working_shifts_per_week              0.0\n",
       "avg_rating                           0.0\n",
       "total_reviews_count                  4.0\n",
       "reviews_count_in_default_language    8.0\n",
       "excellent                            8.0\n",
       "very_good                            8.0\n",
       "average                              8.0\n",
       "poor                                 8.0\n",
       "terrible                             8.0\n",
       "reservations                         0.0\n",
       "seating                              0.0\n",
       "wheel_chair                          0.0\n",
       "alcohol                              0.0\n",
       "credit_cards                         0.0\n",
       "table_service                        0.0\n",
       "takeout                              0.0\n",
       "outdoor                              0.0\n",
       "delivery                             0.0\n",
       "wifi                                 0.0\n",
       "highchair                            0.0\n",
       "full_bar                             0.0\n",
       "parking                              0.0\n",
       "street_parking                       0.0\n",
       "lower_limit                          0.0\n",
       "mon_open                             0.0\n",
       "mon_close                            0.0\n",
       "tue_open                             0.0\n",
       "tue_close                            0.0\n",
       "wed_open                             0.0\n",
       "wed_close                            0.0\n",
       "thur_open                            0.0\n",
       "thur_close                           0.0\n",
       "fri_open                             0.0\n",
       "fri_close                            0.0\n",
       "sat_open                             0.0\n",
       "sat_close                            0.0\n",
       "sun_open                             0.0\n",
       "sun_close                            0.0\n",
       "dtype: float64"
      ]
     },
     "execution_count": 120,
     "metadata": {},
     "output_type": "execute_result"
    }
   ],
   "source": [
    "round(numerical.isna().sum()/len(numerical),2)* 100"
   ]
  },
  {
   "cell_type": "markdown",
   "id": "704e9191",
   "metadata": {},
   "source": [
    "## REPLACE ALL NaN WITH ZERO"
   ]
  },
  {
   "cell_type": "code",
   "execution_count": 121,
   "id": "48138a5f",
   "metadata": {},
   "outputs": [
    {
     "data": {
      "text/plain": [
       "latitude                             0\n",
       "longitude                            0\n",
       "claimed                              0\n",
       "awards                               0\n",
       "price_level                          0\n",
       "vegetarian_friendly                  0\n",
       "vegan_options                        0\n",
       "gluten_free                          0\n",
       "open_days_per_week                   0\n",
       "open_hours_per_week                  0\n",
       "working_shifts_per_week              0\n",
       "avg_rating                           0\n",
       "total_reviews_count                  0\n",
       "reviews_count_in_default_language    0\n",
       "excellent                            0\n",
       "very_good                            0\n",
       "average                              0\n",
       "poor                                 0\n",
       "terrible                             0\n",
       "reservations                         0\n",
       "seating                              0\n",
       "wheel_chair                          0\n",
       "alcohol                              0\n",
       "credit_cards                         0\n",
       "table_service                        0\n",
       "takeout                              0\n",
       "outdoor                              0\n",
       "delivery                             0\n",
       "wifi                                 0\n",
       "highchair                            0\n",
       "full_bar                             0\n",
       "parking                              0\n",
       "street_parking                       0\n",
       "lower_limit                          0\n",
       "mon_open                             0\n",
       "mon_close                            0\n",
       "tue_open                             0\n",
       "tue_close                            0\n",
       "wed_open                             0\n",
       "wed_close                            0\n",
       "thur_open                            0\n",
       "thur_close                           0\n",
       "fri_open                             0\n",
       "fri_close                            0\n",
       "sat_open                             0\n",
       "sat_close                            0\n",
       "sun_open                             0\n",
       "sun_close                            0\n",
       "dtype: int64"
      ]
     },
     "execution_count": 121,
     "metadata": {},
     "output_type": "execute_result"
    }
   ],
   "source": [
    "numerical.fillna(0, inplace = True)\n",
    "numerical.isna().sum()"
   ]
  },
  {
   "cell_type": "markdown",
   "id": "468d15c6",
   "metadata": {},
   "source": [
    "## Normalize the Data"
   ]
  },
  {
   "cell_type": "code",
   "execution_count": 122,
   "id": "3e881ff0",
   "metadata": {},
   "outputs": [
    {
     "name": "stdout",
     "output_type": "stream",
     "text": [
      "(244063, 48)\n"
     ]
    },
    {
     "data": {
      "text/html": [
       "<div>\n",
       "<style scoped>\n",
       "    .dataframe tbody tr th:only-of-type {\n",
       "        vertical-align: middle;\n",
       "    }\n",
       "\n",
       "    .dataframe tbody tr th {\n",
       "        vertical-align: top;\n",
       "    }\n",
       "\n",
       "    .dataframe thead th {\n",
       "        text-align: right;\n",
       "    }\n",
       "</style>\n",
       "<table border=\"1\" class=\"dataframe\">\n",
       "  <thead>\n",
       "    <tr style=\"text-align: right;\">\n",
       "      <th></th>\n",
       "      <th>latitude</th>\n",
       "      <th>longitude</th>\n",
       "      <th>claimed</th>\n",
       "      <th>awards</th>\n",
       "      <th>price_level</th>\n",
       "      <th>vegetarian_friendly</th>\n",
       "      <th>vegan_options</th>\n",
       "      <th>gluten_free</th>\n",
       "      <th>open_days_per_week</th>\n",
       "      <th>open_hours_per_week</th>\n",
       "      <th>...</th>\n",
       "      <th>wed_open</th>\n",
       "      <th>wed_close</th>\n",
       "      <th>thur_open</th>\n",
       "      <th>thur_close</th>\n",
       "      <th>fri_open</th>\n",
       "      <th>fri_close</th>\n",
       "      <th>sat_open</th>\n",
       "      <th>sat_close</th>\n",
       "      <th>sun_open</th>\n",
       "      <th>sun_close</th>\n",
       "    </tr>\n",
       "  </thead>\n",
       "  <tbody>\n",
       "    <tr>\n",
       "      <th>0</th>\n",
       "      <td>0.660261</td>\n",
       "      <td>0.734889</td>\n",
       "      <td>1.0</td>\n",
       "      <td>0.166667</td>\n",
       "      <td>1.0</td>\n",
       "      <td>0.0</td>\n",
       "      <td>0.0</td>\n",
       "      <td>0.0</td>\n",
       "      <td>1.000000</td>\n",
       "      <td>0.318452</td>\n",
       "      <td>...</td>\n",
       "      <td>0.391304</td>\n",
       "      <td>0.913043</td>\n",
       "      <td>0.391304</td>\n",
       "      <td>0.913043</td>\n",
       "      <td>0.391304</td>\n",
       "      <td>0.956522</td>\n",
       "      <td>0.391304</td>\n",
       "      <td>0.956522</td>\n",
       "      <td>0.391304</td>\n",
       "      <td>0.695652</td>\n",
       "    </tr>\n",
       "    <tr>\n",
       "      <th>1</th>\n",
       "      <td>0.632565</td>\n",
       "      <td>0.738762</td>\n",
       "      <td>1.0</td>\n",
       "      <td>0.000000</td>\n",
       "      <td>1.0</td>\n",
       "      <td>0.0</td>\n",
       "      <td>0.0</td>\n",
       "      <td>0.0</td>\n",
       "      <td>0.666667</td>\n",
       "      <td>0.178571</td>\n",
       "      <td>...</td>\n",
       "      <td>0.521739</td>\n",
       "      <td>0.956522</td>\n",
       "      <td>0.521739</td>\n",
       "      <td>0.956522</td>\n",
       "      <td>0.521739</td>\n",
       "      <td>0.956522</td>\n",
       "      <td>0.521739</td>\n",
       "      <td>0.956522</td>\n",
       "      <td>0.521739</td>\n",
       "      <td>0.956522</td>\n",
       "    </tr>\n",
       "    <tr>\n",
       "      <th>2</th>\n",
       "      <td>0.620079</td>\n",
       "      <td>0.718875</td>\n",
       "      <td>1.0</td>\n",
       "      <td>0.416667</td>\n",
       "      <td>1.0</td>\n",
       "      <td>1.0</td>\n",
       "      <td>0.0</td>\n",
       "      <td>0.0</td>\n",
       "      <td>0.833333</td>\n",
       "      <td>0.142857</td>\n",
       "      <td>...</td>\n",
       "      <td>0.434783</td>\n",
       "      <td>0.608696</td>\n",
       "      <td>0.434783</td>\n",
       "      <td>0.608696</td>\n",
       "      <td>0.434783</td>\n",
       "      <td>0.608696</td>\n",
       "      <td>0.434783</td>\n",
       "      <td>0.608696</td>\n",
       "      <td>0.434783</td>\n",
       "      <td>0.608696</td>\n",
       "    </tr>\n",
       "    <tr>\n",
       "      <th>3</th>\n",
       "      <td>0.613987</td>\n",
       "      <td>0.706313</td>\n",
       "      <td>1.0</td>\n",
       "      <td>0.000000</td>\n",
       "      <td>1.0</td>\n",
       "      <td>0.0</td>\n",
       "      <td>0.0</td>\n",
       "      <td>0.0</td>\n",
       "      <td>0.666667</td>\n",
       "      <td>0.083333</td>\n",
       "      <td>...</td>\n",
       "      <td>0.521739</td>\n",
       "      <td>0.608696</td>\n",
       "      <td>0.521739</td>\n",
       "      <td>0.608696</td>\n",
       "      <td>0.521739</td>\n",
       "      <td>0.913043</td>\n",
       "      <td>0.826087</td>\n",
       "      <td>0.913043</td>\n",
       "      <td>0.521739</td>\n",
       "      <td>0.913043</td>\n",
       "    </tr>\n",
       "    <tr>\n",
       "      <th>4</th>\n",
       "      <td>0.619438</td>\n",
       "      <td>0.756622</td>\n",
       "      <td>1.0</td>\n",
       "      <td>0.000000</td>\n",
       "      <td>1.0</td>\n",
       "      <td>0.0</td>\n",
       "      <td>0.0</td>\n",
       "      <td>0.0</td>\n",
       "      <td>0.833333</td>\n",
       "      <td>0.122024</td>\n",
       "      <td>...</td>\n",
       "      <td>0.478261</td>\n",
       "      <td>0.608696</td>\n",
       "      <td>0.478261</td>\n",
       "      <td>0.608696</td>\n",
       "      <td>0.478261</td>\n",
       "      <td>0.913043</td>\n",
       "      <td>0.478261</td>\n",
       "      <td>0.913043</td>\n",
       "      <td>0.478261</td>\n",
       "      <td>0.608696</td>\n",
       "    </tr>\n",
       "  </tbody>\n",
       "</table>\n",
       "<p>5 rows × 48 columns</p>\n",
       "</div>"
      ],
      "text/plain": [
       "   latitude  longitude  claimed    awards  price_level  vegetarian_friendly  \\\n",
       "0  0.660261   0.734889      1.0  0.166667          1.0                  0.0   \n",
       "1  0.632565   0.738762      1.0  0.000000          1.0                  0.0   \n",
       "2  0.620079   0.718875      1.0  0.416667          1.0                  1.0   \n",
       "3  0.613987   0.706313      1.0  0.000000          1.0                  0.0   \n",
       "4  0.619438   0.756622      1.0  0.000000          1.0                  0.0   \n",
       "\n",
       "   vegan_options  gluten_free  open_days_per_week  open_hours_per_week  ...  \\\n",
       "0            0.0          0.0            1.000000             0.318452  ...   \n",
       "1            0.0          0.0            0.666667             0.178571  ...   \n",
       "2            0.0          0.0            0.833333             0.142857  ...   \n",
       "3            0.0          0.0            0.666667             0.083333  ...   \n",
       "4            0.0          0.0            0.833333             0.122024  ...   \n",
       "\n",
       "   wed_open  wed_close  thur_open  thur_close  fri_open  fri_close  sat_open  \\\n",
       "0  0.391304   0.913043   0.391304    0.913043  0.391304   0.956522  0.391304   \n",
       "1  0.521739   0.956522   0.521739    0.956522  0.521739   0.956522  0.521739   \n",
       "2  0.434783   0.608696   0.434783    0.608696  0.434783   0.608696  0.434783   \n",
       "3  0.521739   0.608696   0.521739    0.608696  0.521739   0.913043  0.826087   \n",
       "4  0.478261   0.608696   0.478261    0.608696  0.478261   0.913043  0.478261   \n",
       "\n",
       "   sat_close  sun_open  sun_close  \n",
       "0   0.956522  0.391304   0.695652  \n",
       "1   0.956522  0.521739   0.956522  \n",
       "2   0.608696  0.434783   0.608696  \n",
       "3   0.913043  0.521739   0.913043  \n",
       "4   0.913043  0.478261   0.608696  \n",
       "\n",
       "[5 rows x 48 columns]"
      ]
     },
     "execution_count": 122,
     "metadata": {},
     "output_type": "execute_result"
    }
   ],
   "source": [
    "from sklearn.preprocessing import MinMaxScaler\n",
    "kimera = MinMaxScaler().fit(numerical)\n",
    "numerical_normalized = kimera.transform(numerical)\n",
    "print(numerical_normalized.shape)\n",
    "numerical_normalized = pd.DataFrame(numerical_normalized,columns=numerical.columns)\n",
    "numerical_normalized.head()"
   ]
  },
  {
   "cell_type": "code",
   "execution_count": 123,
   "id": "ea479bba",
   "metadata": {},
   "outputs": [],
   "source": [
    "from sklearn.metrics import r2_score\n",
    "#,mean_squared_error,mean_absolute_error\n",
    "from sklearn import linear_model\n",
    "#from sklearn.linear_model import LinearRegression\n",
    "from sklearn.model_selection import cross_val_score\n"
   ]
  },
  {
   "cell_type": "code",
   "execution_count": 124,
   "id": "88dbcc51",
   "metadata": {},
   "outputs": [],
   "source": [
    "#model = LinearRegression()\n",
    "y = numerical_normalized['lower_limit']\n",
    "X = numerical_normalized.drop('lower_limit', axis = 1)\n",
    "X_train, X_test, y_train, y_test = train_test_split(X, y, test_size=0.25, random_state=42)\n",
    "#scores = cross_val_score(model, X_rand, y_rand, cv=10)"
   ]
  },
  {
   "cell_type": "code",
   "execution_count": 125,
   "id": "1e5d38ac",
   "metadata": {},
   "outputs": [],
   "source": [
    "#y.head(20)\n",
    "#X.head(10)"
   ]
  },
  {
   "cell_type": "code",
   "execution_count": 129,
   "id": "82a58f4d",
   "metadata": {},
   "outputs": [],
   "source": [
    "#model = LinearRegression()\n",
    "lm = linear_model.LinearRegression()\n",
    "#lm = model.fit(X_train,y_train)\n",
    "model = lm.fit(X_train,y_train)"
   ]
  },
  {
   "cell_type": "code",
   "execution_count": 130,
   "id": "f5541a04",
   "metadata": {},
   "outputs": [
    {
     "data": {
      "text/plain": [
       "array([ 2.60726676e-05,  2.27274954e-06,  1.74696109e-06, ...,\n",
       "        2.53217376e-05, -7.75283352e-06,  4.77398377e-05])"
      ]
     },
     "execution_count": 130,
     "metadata": {},
     "output_type": "execute_result"
    }
   ],
   "source": [
    "predictions = model.predict(X_train)\n",
    "predictions"
   ]
  },
  {
   "cell_type": "code",
   "execution_count": 131,
   "id": "04da7e01",
   "metadata": {},
   "outputs": [
    {
     "data": {
      "text/plain": [
       "0.0001927334202815878"
      ]
     },
     "execution_count": 131,
     "metadata": {},
     "output_type": "execute_result"
    }
   ],
   "source": [
    "r2_score(y_train, predictions)"
   ]
  },
  {
   "cell_type": "code",
   "execution_count": 132,
   "id": "c3ef17b4",
   "metadata": {},
   "outputs": [
    {
     "data": {
      "text/plain": [
       "array([-2.74006225e-05, -6.71648962e+00, -3.07472729e-01, -2.61886504e+00,\n",
       "       -5.02897837e-02])"
      ]
     },
     "execution_count": 132,
     "metadata": {},
     "output_type": "execute_result"
    }
   ],
   "source": [
    "from sklearn.tree import DecisionTreeRegressor\n",
    "model1 = DecisionTreeRegressor()\n",
    "from sklearn.linear_model import LinearRegression\n",
    "#model2 = LinearRegression()\n",
    "\n",
    "cross_val_score(model1, X_train, y_train, cv=5)\n"
   ]
  },
  {
   "cell_type": "code",
   "execution_count": 134,
   "id": "e38bdd8b",
   "metadata": {},
   "outputs": [
    {
     "data": {
      "text/plain": [
       "array([-2.74042425e-05, -6.73738879e+00, -5.47199856e-01, -4.47422970e+00,\n",
       "       -5.70866595e-02])"
      ]
     },
     "execution_count": 134,
     "metadata": {},
     "output_type": "execute_result"
    }
   ],
   "source": [
    "#KNN Model\n",
    "cross_val_score(model1, X_train, y_train, cv=5)"
   ]
  },
  {
   "cell_type": "code",
   "execution_count": 135,
   "id": "d9ce5f99",
   "metadata": {},
   "outputs": [
    {
     "name": "stderr",
     "output_type": "stream",
     "text": [
      "C:\\Users\\KIMERA\\.conda\\envs\\iron_hack_DA\\lib\\site-packages\\sklearn\\base.py:441: UserWarning: X does not have valid feature names, but KNeighborsRegressor was fitted with feature names\n",
      "  warnings.warn(\n",
      "C:\\Users\\KIMERA\\.conda\\envs\\iron_hack_DA\\lib\\site-packages\\sklearn\\base.py:441: UserWarning: X does not have valid feature names, but KNeighborsRegressor was fitted with feature names\n",
      "  warnings.warn(\n",
      "C:\\Users\\KIMERA\\.conda\\envs\\iron_hack_DA\\lib\\site-packages\\sklearn\\base.py:441: UserWarning: X does not have valid feature names, but KNeighborsRegressor was fitted with feature names\n",
      "  warnings.warn(\n"
     ]
    },
    {
     "ename": "KeyboardInterrupt",
     "evalue": "",
     "output_type": "error",
     "traceback": [
      "\u001b[1;31m---------------------------------------------------------------------------\u001b[0m",
      "\u001b[1;31mKeyboardInterrupt\u001b[0m                         Traceback (most recent call last)",
      "\u001b[1;32m~\\AppData\\Local\\Temp/ipykernel_16232/2753192110.py\u001b[0m in \u001b[0;36m<module>\u001b[1;34m\u001b[0m\n\u001b[0;32m      2\u001b[0m \u001b[0mmodel3\u001b[0m \u001b[1;33m=\u001b[0m \u001b[0mKNeighborsRegressor\u001b[0m\u001b[1;33m(\u001b[0m\u001b[1;33m)\u001b[0m\u001b[1;33m\u001b[0m\u001b[1;33m\u001b[0m\u001b[0m\n\u001b[0;32m      3\u001b[0m \u001b[1;33m\u001b[0m\u001b[0m\n\u001b[1;32m----> 4\u001b[1;33m \u001b[0mcross_val_score\u001b[0m\u001b[1;33m(\u001b[0m\u001b[0mmodel3\u001b[0m\u001b[1;33m,\u001b[0m \u001b[0mX_train\u001b[0m\u001b[1;33m,\u001b[0m \u001b[0my_train\u001b[0m\u001b[1;33m,\u001b[0m \u001b[0mcv\u001b[0m\u001b[1;33m=\u001b[0m\u001b[1;36m5\u001b[0m\u001b[1;33m)\u001b[0m\u001b[1;33m\u001b[0m\u001b[1;33m\u001b[0m\u001b[0m\n\u001b[0m",
      "\u001b[1;32m~\\.conda\\envs\\iron_hack_DA\\lib\\site-packages\\sklearn\\model_selection\\_validation.py\u001b[0m in \u001b[0;36mcross_val_score\u001b[1;34m(estimator, X, y, groups, scoring, cv, n_jobs, verbose, fit_params, pre_dispatch, error_score)\u001b[0m\n\u001b[0;32m    508\u001b[0m     \u001b[0mscorer\u001b[0m \u001b[1;33m=\u001b[0m \u001b[0mcheck_scoring\u001b[0m\u001b[1;33m(\u001b[0m\u001b[0mestimator\u001b[0m\u001b[1;33m,\u001b[0m \u001b[0mscoring\u001b[0m\u001b[1;33m=\u001b[0m\u001b[0mscoring\u001b[0m\u001b[1;33m)\u001b[0m\u001b[1;33m\u001b[0m\u001b[1;33m\u001b[0m\u001b[0m\n\u001b[0;32m    509\u001b[0m \u001b[1;33m\u001b[0m\u001b[0m\n\u001b[1;32m--> 510\u001b[1;33m     cv_results = cross_validate(\n\u001b[0m\u001b[0;32m    511\u001b[0m         \u001b[0mestimator\u001b[0m\u001b[1;33m=\u001b[0m\u001b[0mestimator\u001b[0m\u001b[1;33m,\u001b[0m\u001b[1;33m\u001b[0m\u001b[1;33m\u001b[0m\u001b[0m\n\u001b[0;32m    512\u001b[0m         \u001b[0mX\u001b[0m\u001b[1;33m=\u001b[0m\u001b[0mX\u001b[0m\u001b[1;33m,\u001b[0m\u001b[1;33m\u001b[0m\u001b[1;33m\u001b[0m\u001b[0m\n",
      "\u001b[1;32m~\\.conda\\envs\\iron_hack_DA\\lib\\site-packages\\sklearn\\model_selection\\_validation.py\u001b[0m in \u001b[0;36mcross_validate\u001b[1;34m(estimator, X, y, groups, scoring, cv, n_jobs, verbose, fit_params, pre_dispatch, return_train_score, return_estimator, error_score)\u001b[0m\n\u001b[0;32m    265\u001b[0m     \u001b[1;31m# independent, and that it is pickle-able.\u001b[0m\u001b[1;33m\u001b[0m\u001b[1;33m\u001b[0m\u001b[1;33m\u001b[0m\u001b[0m\n\u001b[0;32m    266\u001b[0m     \u001b[0mparallel\u001b[0m \u001b[1;33m=\u001b[0m \u001b[0mParallel\u001b[0m\u001b[1;33m(\u001b[0m\u001b[0mn_jobs\u001b[0m\u001b[1;33m=\u001b[0m\u001b[0mn_jobs\u001b[0m\u001b[1;33m,\u001b[0m \u001b[0mverbose\u001b[0m\u001b[1;33m=\u001b[0m\u001b[0mverbose\u001b[0m\u001b[1;33m,\u001b[0m \u001b[0mpre_dispatch\u001b[0m\u001b[1;33m=\u001b[0m\u001b[0mpre_dispatch\u001b[0m\u001b[1;33m)\u001b[0m\u001b[1;33m\u001b[0m\u001b[1;33m\u001b[0m\u001b[0m\n\u001b[1;32m--> 267\u001b[1;33m     results = parallel(\n\u001b[0m\u001b[0;32m    268\u001b[0m         delayed(_fit_and_score)(\n\u001b[0;32m    269\u001b[0m             \u001b[0mclone\u001b[0m\u001b[1;33m(\u001b[0m\u001b[0mestimator\u001b[0m\u001b[1;33m)\u001b[0m\u001b[1;33m,\u001b[0m\u001b[1;33m\u001b[0m\u001b[1;33m\u001b[0m\u001b[0m\n",
      "\u001b[1;32m~\\.conda\\envs\\iron_hack_DA\\lib\\site-packages\\joblib\\parallel.py\u001b[0m in \u001b[0;36m__call__\u001b[1;34m(self, iterable)\u001b[0m\n\u001b[0;32m   1044\u001b[0m                 \u001b[0mself\u001b[0m\u001b[1;33m.\u001b[0m\u001b[0m_iterating\u001b[0m \u001b[1;33m=\u001b[0m \u001b[0mself\u001b[0m\u001b[1;33m.\u001b[0m\u001b[0m_original_iterator\u001b[0m \u001b[1;32mis\u001b[0m \u001b[1;32mnot\u001b[0m \u001b[1;32mNone\u001b[0m\u001b[1;33m\u001b[0m\u001b[1;33m\u001b[0m\u001b[0m\n\u001b[0;32m   1045\u001b[0m \u001b[1;33m\u001b[0m\u001b[0m\n\u001b[1;32m-> 1046\u001b[1;33m             \u001b[1;32mwhile\u001b[0m \u001b[0mself\u001b[0m\u001b[1;33m.\u001b[0m\u001b[0mdispatch_one_batch\u001b[0m\u001b[1;33m(\u001b[0m\u001b[0miterator\u001b[0m\u001b[1;33m)\u001b[0m\u001b[1;33m:\u001b[0m\u001b[1;33m\u001b[0m\u001b[1;33m\u001b[0m\u001b[0m\n\u001b[0m\u001b[0;32m   1047\u001b[0m                 \u001b[1;32mpass\u001b[0m\u001b[1;33m\u001b[0m\u001b[1;33m\u001b[0m\u001b[0m\n\u001b[0;32m   1048\u001b[0m \u001b[1;33m\u001b[0m\u001b[0m\n",
      "\u001b[1;32m~\\.conda\\envs\\iron_hack_DA\\lib\\site-packages\\joblib\\parallel.py\u001b[0m in \u001b[0;36mdispatch_one_batch\u001b[1;34m(self, iterator)\u001b[0m\n\u001b[0;32m    859\u001b[0m                 \u001b[1;32mreturn\u001b[0m \u001b[1;32mFalse\u001b[0m\u001b[1;33m\u001b[0m\u001b[1;33m\u001b[0m\u001b[0m\n\u001b[0;32m    860\u001b[0m             \u001b[1;32melse\u001b[0m\u001b[1;33m:\u001b[0m\u001b[1;33m\u001b[0m\u001b[1;33m\u001b[0m\u001b[0m\n\u001b[1;32m--> 861\u001b[1;33m                 \u001b[0mself\u001b[0m\u001b[1;33m.\u001b[0m\u001b[0m_dispatch\u001b[0m\u001b[1;33m(\u001b[0m\u001b[0mtasks\u001b[0m\u001b[1;33m)\u001b[0m\u001b[1;33m\u001b[0m\u001b[1;33m\u001b[0m\u001b[0m\n\u001b[0m\u001b[0;32m    862\u001b[0m                 \u001b[1;32mreturn\u001b[0m \u001b[1;32mTrue\u001b[0m\u001b[1;33m\u001b[0m\u001b[1;33m\u001b[0m\u001b[0m\n\u001b[0;32m    863\u001b[0m \u001b[1;33m\u001b[0m\u001b[0m\n",
      "\u001b[1;32m~\\.conda\\envs\\iron_hack_DA\\lib\\site-packages\\joblib\\parallel.py\u001b[0m in \u001b[0;36m_dispatch\u001b[1;34m(self, batch)\u001b[0m\n\u001b[0;32m    777\u001b[0m         \u001b[1;32mwith\u001b[0m \u001b[0mself\u001b[0m\u001b[1;33m.\u001b[0m\u001b[0m_lock\u001b[0m\u001b[1;33m:\u001b[0m\u001b[1;33m\u001b[0m\u001b[1;33m\u001b[0m\u001b[0m\n\u001b[0;32m    778\u001b[0m             \u001b[0mjob_idx\u001b[0m \u001b[1;33m=\u001b[0m \u001b[0mlen\u001b[0m\u001b[1;33m(\u001b[0m\u001b[0mself\u001b[0m\u001b[1;33m.\u001b[0m\u001b[0m_jobs\u001b[0m\u001b[1;33m)\u001b[0m\u001b[1;33m\u001b[0m\u001b[1;33m\u001b[0m\u001b[0m\n\u001b[1;32m--> 779\u001b[1;33m             \u001b[0mjob\u001b[0m \u001b[1;33m=\u001b[0m \u001b[0mself\u001b[0m\u001b[1;33m.\u001b[0m\u001b[0m_backend\u001b[0m\u001b[1;33m.\u001b[0m\u001b[0mapply_async\u001b[0m\u001b[1;33m(\u001b[0m\u001b[0mbatch\u001b[0m\u001b[1;33m,\u001b[0m \u001b[0mcallback\u001b[0m\u001b[1;33m=\u001b[0m\u001b[0mcb\u001b[0m\u001b[1;33m)\u001b[0m\u001b[1;33m\u001b[0m\u001b[1;33m\u001b[0m\u001b[0m\n\u001b[0m\u001b[0;32m    780\u001b[0m             \u001b[1;31m# A job can complete so quickly than its callback is\u001b[0m\u001b[1;33m\u001b[0m\u001b[1;33m\u001b[0m\u001b[1;33m\u001b[0m\u001b[0m\n\u001b[0;32m    781\u001b[0m             \u001b[1;31m# called before we get here, causing self._jobs to\u001b[0m\u001b[1;33m\u001b[0m\u001b[1;33m\u001b[0m\u001b[1;33m\u001b[0m\u001b[0m\n",
      "\u001b[1;32m~\\.conda\\envs\\iron_hack_DA\\lib\\site-packages\\joblib\\_parallel_backends.py\u001b[0m in \u001b[0;36mapply_async\u001b[1;34m(self, func, callback)\u001b[0m\n\u001b[0;32m    206\u001b[0m     \u001b[1;32mdef\u001b[0m \u001b[0mapply_async\u001b[0m\u001b[1;33m(\u001b[0m\u001b[0mself\u001b[0m\u001b[1;33m,\u001b[0m \u001b[0mfunc\u001b[0m\u001b[1;33m,\u001b[0m \u001b[0mcallback\u001b[0m\u001b[1;33m=\u001b[0m\u001b[1;32mNone\u001b[0m\u001b[1;33m)\u001b[0m\u001b[1;33m:\u001b[0m\u001b[1;33m\u001b[0m\u001b[1;33m\u001b[0m\u001b[0m\n\u001b[0;32m    207\u001b[0m         \u001b[1;34m\"\"\"Schedule a func to be run\"\"\"\u001b[0m\u001b[1;33m\u001b[0m\u001b[1;33m\u001b[0m\u001b[0m\n\u001b[1;32m--> 208\u001b[1;33m         \u001b[0mresult\u001b[0m \u001b[1;33m=\u001b[0m \u001b[0mImmediateResult\u001b[0m\u001b[1;33m(\u001b[0m\u001b[0mfunc\u001b[0m\u001b[1;33m)\u001b[0m\u001b[1;33m\u001b[0m\u001b[1;33m\u001b[0m\u001b[0m\n\u001b[0m\u001b[0;32m    209\u001b[0m         \u001b[1;32mif\u001b[0m \u001b[0mcallback\u001b[0m\u001b[1;33m:\u001b[0m\u001b[1;33m\u001b[0m\u001b[1;33m\u001b[0m\u001b[0m\n\u001b[0;32m    210\u001b[0m             \u001b[0mcallback\u001b[0m\u001b[1;33m(\u001b[0m\u001b[0mresult\u001b[0m\u001b[1;33m)\u001b[0m\u001b[1;33m\u001b[0m\u001b[1;33m\u001b[0m\u001b[0m\n",
      "\u001b[1;32m~\\.conda\\envs\\iron_hack_DA\\lib\\site-packages\\joblib\\_parallel_backends.py\u001b[0m in \u001b[0;36m__init__\u001b[1;34m(self, batch)\u001b[0m\n\u001b[0;32m    570\u001b[0m         \u001b[1;31m# Don't delay the application, to avoid keeping the input\u001b[0m\u001b[1;33m\u001b[0m\u001b[1;33m\u001b[0m\u001b[1;33m\u001b[0m\u001b[0m\n\u001b[0;32m    571\u001b[0m         \u001b[1;31m# arguments in memory\u001b[0m\u001b[1;33m\u001b[0m\u001b[1;33m\u001b[0m\u001b[1;33m\u001b[0m\u001b[0m\n\u001b[1;32m--> 572\u001b[1;33m         \u001b[0mself\u001b[0m\u001b[1;33m.\u001b[0m\u001b[0mresults\u001b[0m \u001b[1;33m=\u001b[0m \u001b[0mbatch\u001b[0m\u001b[1;33m(\u001b[0m\u001b[1;33m)\u001b[0m\u001b[1;33m\u001b[0m\u001b[1;33m\u001b[0m\u001b[0m\n\u001b[0m\u001b[0;32m    573\u001b[0m \u001b[1;33m\u001b[0m\u001b[0m\n\u001b[0;32m    574\u001b[0m     \u001b[1;32mdef\u001b[0m \u001b[0mget\u001b[0m\u001b[1;33m(\u001b[0m\u001b[0mself\u001b[0m\u001b[1;33m)\u001b[0m\u001b[1;33m:\u001b[0m\u001b[1;33m\u001b[0m\u001b[1;33m\u001b[0m\u001b[0m\n",
      "\u001b[1;32m~\\.conda\\envs\\iron_hack_DA\\lib\\site-packages\\joblib\\parallel.py\u001b[0m in \u001b[0;36m__call__\u001b[1;34m(self)\u001b[0m\n\u001b[0;32m    260\u001b[0m         \u001b[1;31m# change the default number of processes to -1\u001b[0m\u001b[1;33m\u001b[0m\u001b[1;33m\u001b[0m\u001b[1;33m\u001b[0m\u001b[0m\n\u001b[0;32m    261\u001b[0m         \u001b[1;32mwith\u001b[0m \u001b[0mparallel_backend\u001b[0m\u001b[1;33m(\u001b[0m\u001b[0mself\u001b[0m\u001b[1;33m.\u001b[0m\u001b[0m_backend\u001b[0m\u001b[1;33m,\u001b[0m \u001b[0mn_jobs\u001b[0m\u001b[1;33m=\u001b[0m\u001b[0mself\u001b[0m\u001b[1;33m.\u001b[0m\u001b[0m_n_jobs\u001b[0m\u001b[1;33m)\u001b[0m\u001b[1;33m:\u001b[0m\u001b[1;33m\u001b[0m\u001b[1;33m\u001b[0m\u001b[0m\n\u001b[1;32m--> 262\u001b[1;33m             return [func(*args, **kwargs)\n\u001b[0m\u001b[0;32m    263\u001b[0m                     for func, args, kwargs in self.items]\n\u001b[0;32m    264\u001b[0m \u001b[1;33m\u001b[0m\u001b[0m\n",
      "\u001b[1;32m~\\.conda\\envs\\iron_hack_DA\\lib\\site-packages\\joblib\\parallel.py\u001b[0m in \u001b[0;36m<listcomp>\u001b[1;34m(.0)\u001b[0m\n\u001b[0;32m    260\u001b[0m         \u001b[1;31m# change the default number of processes to -1\u001b[0m\u001b[1;33m\u001b[0m\u001b[1;33m\u001b[0m\u001b[1;33m\u001b[0m\u001b[0m\n\u001b[0;32m    261\u001b[0m         \u001b[1;32mwith\u001b[0m \u001b[0mparallel_backend\u001b[0m\u001b[1;33m(\u001b[0m\u001b[0mself\u001b[0m\u001b[1;33m.\u001b[0m\u001b[0m_backend\u001b[0m\u001b[1;33m,\u001b[0m \u001b[0mn_jobs\u001b[0m\u001b[1;33m=\u001b[0m\u001b[0mself\u001b[0m\u001b[1;33m.\u001b[0m\u001b[0m_n_jobs\u001b[0m\u001b[1;33m)\u001b[0m\u001b[1;33m:\u001b[0m\u001b[1;33m\u001b[0m\u001b[1;33m\u001b[0m\u001b[0m\n\u001b[1;32m--> 262\u001b[1;33m             return [func(*args, **kwargs)\n\u001b[0m\u001b[0;32m    263\u001b[0m                     for func, args, kwargs in self.items]\n\u001b[0;32m    264\u001b[0m \u001b[1;33m\u001b[0m\u001b[0m\n",
      "\u001b[1;32m~\\.conda\\envs\\iron_hack_DA\\lib\\site-packages\\sklearn\\utils\\fixes.py\u001b[0m in \u001b[0;36m__call__\u001b[1;34m(self, *args, **kwargs)\u001b[0m\n\u001b[0;32m    207\u001b[0m     \u001b[1;32mdef\u001b[0m \u001b[0m__call__\u001b[0m\u001b[1;33m(\u001b[0m\u001b[0mself\u001b[0m\u001b[1;33m,\u001b[0m \u001b[1;33m*\u001b[0m\u001b[0margs\u001b[0m\u001b[1;33m,\u001b[0m \u001b[1;33m**\u001b[0m\u001b[0mkwargs\u001b[0m\u001b[1;33m)\u001b[0m\u001b[1;33m:\u001b[0m\u001b[1;33m\u001b[0m\u001b[1;33m\u001b[0m\u001b[0m\n\u001b[0;32m    208\u001b[0m         \u001b[1;32mwith\u001b[0m \u001b[0mconfig_context\u001b[0m\u001b[1;33m(\u001b[0m\u001b[1;33m**\u001b[0m\u001b[0mself\u001b[0m\u001b[1;33m.\u001b[0m\u001b[0mconfig\u001b[0m\u001b[1;33m)\u001b[0m\u001b[1;33m:\u001b[0m\u001b[1;33m\u001b[0m\u001b[1;33m\u001b[0m\u001b[0m\n\u001b[1;32m--> 209\u001b[1;33m             \u001b[1;32mreturn\u001b[0m \u001b[0mself\u001b[0m\u001b[1;33m.\u001b[0m\u001b[0mfunction\u001b[0m\u001b[1;33m(\u001b[0m\u001b[1;33m*\u001b[0m\u001b[0margs\u001b[0m\u001b[1;33m,\u001b[0m \u001b[1;33m**\u001b[0m\u001b[0mkwargs\u001b[0m\u001b[1;33m)\u001b[0m\u001b[1;33m\u001b[0m\u001b[1;33m\u001b[0m\u001b[0m\n\u001b[0m\u001b[0;32m    210\u001b[0m \u001b[1;33m\u001b[0m\u001b[0m\n\u001b[0;32m    211\u001b[0m \u001b[1;33m\u001b[0m\u001b[0m\n",
      "\u001b[1;32m~\\.conda\\envs\\iron_hack_DA\\lib\\site-packages\\sklearn\\model_selection\\_validation.py\u001b[0m in \u001b[0;36m_fit_and_score\u001b[1;34m(estimator, X, y, scorer, train, test, verbose, parameters, fit_params, return_train_score, return_parameters, return_n_test_samples, return_times, return_estimator, split_progress, candidate_progress, error_score)\u001b[0m\n\u001b[0;32m    701\u001b[0m \u001b[1;33m\u001b[0m\u001b[0m\n\u001b[0;32m    702\u001b[0m         \u001b[0mfit_time\u001b[0m \u001b[1;33m=\u001b[0m \u001b[0mtime\u001b[0m\u001b[1;33m.\u001b[0m\u001b[0mtime\u001b[0m\u001b[1;33m(\u001b[0m\u001b[1;33m)\u001b[0m \u001b[1;33m-\u001b[0m \u001b[0mstart_time\u001b[0m\u001b[1;33m\u001b[0m\u001b[1;33m\u001b[0m\u001b[0m\n\u001b[1;32m--> 703\u001b[1;33m         \u001b[0mtest_scores\u001b[0m \u001b[1;33m=\u001b[0m \u001b[0m_score\u001b[0m\u001b[1;33m(\u001b[0m\u001b[0mestimator\u001b[0m\u001b[1;33m,\u001b[0m \u001b[0mX_test\u001b[0m\u001b[1;33m,\u001b[0m \u001b[0my_test\u001b[0m\u001b[1;33m,\u001b[0m \u001b[0mscorer\u001b[0m\u001b[1;33m,\u001b[0m \u001b[0merror_score\u001b[0m\u001b[1;33m)\u001b[0m\u001b[1;33m\u001b[0m\u001b[1;33m\u001b[0m\u001b[0m\n\u001b[0m\u001b[0;32m    704\u001b[0m         \u001b[0mscore_time\u001b[0m \u001b[1;33m=\u001b[0m \u001b[0mtime\u001b[0m\u001b[1;33m.\u001b[0m\u001b[0mtime\u001b[0m\u001b[1;33m(\u001b[0m\u001b[1;33m)\u001b[0m \u001b[1;33m-\u001b[0m \u001b[0mstart_time\u001b[0m \u001b[1;33m-\u001b[0m \u001b[0mfit_time\u001b[0m\u001b[1;33m\u001b[0m\u001b[1;33m\u001b[0m\u001b[0m\n\u001b[0;32m    705\u001b[0m         \u001b[1;32mif\u001b[0m \u001b[0mreturn_train_score\u001b[0m\u001b[1;33m:\u001b[0m\u001b[1;33m\u001b[0m\u001b[1;33m\u001b[0m\u001b[0m\n",
      "\u001b[1;32m~\\.conda\\envs\\iron_hack_DA\\lib\\site-packages\\sklearn\\model_selection\\_validation.py\u001b[0m in \u001b[0;36m_score\u001b[1;34m(estimator, X_test, y_test, scorer, error_score)\u001b[0m\n\u001b[0;32m    760\u001b[0m             \u001b[0mscores\u001b[0m \u001b[1;33m=\u001b[0m \u001b[0mscorer\u001b[0m\u001b[1;33m(\u001b[0m\u001b[0mestimator\u001b[0m\u001b[1;33m,\u001b[0m \u001b[0mX_test\u001b[0m\u001b[1;33m)\u001b[0m\u001b[1;33m\u001b[0m\u001b[1;33m\u001b[0m\u001b[0m\n\u001b[0;32m    761\u001b[0m         \u001b[1;32melse\u001b[0m\u001b[1;33m:\u001b[0m\u001b[1;33m\u001b[0m\u001b[1;33m\u001b[0m\u001b[0m\n\u001b[1;32m--> 762\u001b[1;33m             \u001b[0mscores\u001b[0m \u001b[1;33m=\u001b[0m \u001b[0mscorer\u001b[0m\u001b[1;33m(\u001b[0m\u001b[0mestimator\u001b[0m\u001b[1;33m,\u001b[0m \u001b[0mX_test\u001b[0m\u001b[1;33m,\u001b[0m \u001b[0my_test\u001b[0m\u001b[1;33m)\u001b[0m\u001b[1;33m\u001b[0m\u001b[1;33m\u001b[0m\u001b[0m\n\u001b[0m\u001b[0;32m    763\u001b[0m     \u001b[1;32mexcept\u001b[0m \u001b[0mException\u001b[0m\u001b[1;33m:\u001b[0m\u001b[1;33m\u001b[0m\u001b[1;33m\u001b[0m\u001b[0m\n\u001b[0;32m    764\u001b[0m         \u001b[1;32mif\u001b[0m \u001b[0merror_score\u001b[0m \u001b[1;33m==\u001b[0m \u001b[1;34m\"raise\"\u001b[0m\u001b[1;33m:\u001b[0m\u001b[1;33m\u001b[0m\u001b[1;33m\u001b[0m\u001b[0m\n",
      "\u001b[1;32m~\\.conda\\envs\\iron_hack_DA\\lib\\site-packages\\sklearn\\metrics\\_scorer.py\u001b[0m in \u001b[0;36m__call__\u001b[1;34m(self, estimator, *args, **kwargs)\u001b[0m\n\u001b[0;32m    103\u001b[0m                 \u001b[0mscore\u001b[0m \u001b[1;33m=\u001b[0m \u001b[0mscorer\u001b[0m\u001b[1;33m.\u001b[0m\u001b[0m_score\u001b[0m\u001b[1;33m(\u001b[0m\u001b[0mcached_call\u001b[0m\u001b[1;33m,\u001b[0m \u001b[0mestimator\u001b[0m\u001b[1;33m,\u001b[0m \u001b[1;33m*\u001b[0m\u001b[0margs\u001b[0m\u001b[1;33m,\u001b[0m \u001b[1;33m**\u001b[0m\u001b[0mkwargs\u001b[0m\u001b[1;33m)\u001b[0m\u001b[1;33m\u001b[0m\u001b[1;33m\u001b[0m\u001b[0m\n\u001b[0;32m    104\u001b[0m             \u001b[1;32melse\u001b[0m\u001b[1;33m:\u001b[0m\u001b[1;33m\u001b[0m\u001b[1;33m\u001b[0m\u001b[0m\n\u001b[1;32m--> 105\u001b[1;33m                 \u001b[0mscore\u001b[0m \u001b[1;33m=\u001b[0m \u001b[0mscorer\u001b[0m\u001b[1;33m(\u001b[0m\u001b[0mestimator\u001b[0m\u001b[1;33m,\u001b[0m \u001b[1;33m*\u001b[0m\u001b[0margs\u001b[0m\u001b[1;33m,\u001b[0m \u001b[1;33m**\u001b[0m\u001b[0mkwargs\u001b[0m\u001b[1;33m)\u001b[0m\u001b[1;33m\u001b[0m\u001b[1;33m\u001b[0m\u001b[0m\n\u001b[0m\u001b[0;32m    106\u001b[0m             \u001b[0mscores\u001b[0m\u001b[1;33m[\u001b[0m\u001b[0mname\u001b[0m\u001b[1;33m]\u001b[0m \u001b[1;33m=\u001b[0m \u001b[0mscore\u001b[0m\u001b[1;33m\u001b[0m\u001b[1;33m\u001b[0m\u001b[0m\n\u001b[0;32m    107\u001b[0m         \u001b[1;32mreturn\u001b[0m \u001b[0mscores\u001b[0m\u001b[1;33m\u001b[0m\u001b[1;33m\u001b[0m\u001b[0m\n",
      "\u001b[1;32m~\\.conda\\envs\\iron_hack_DA\\lib\\site-packages\\sklearn\\metrics\\_scorer.py\u001b[0m in \u001b[0;36m_passthrough_scorer\u001b[1;34m(estimator, *args, **kwargs)\u001b[0m\n\u001b[0;32m    416\u001b[0m \u001b[1;32mdef\u001b[0m \u001b[0m_passthrough_scorer\u001b[0m\u001b[1;33m(\u001b[0m\u001b[0mestimator\u001b[0m\u001b[1;33m,\u001b[0m \u001b[1;33m*\u001b[0m\u001b[0margs\u001b[0m\u001b[1;33m,\u001b[0m \u001b[1;33m**\u001b[0m\u001b[0mkwargs\u001b[0m\u001b[1;33m)\u001b[0m\u001b[1;33m:\u001b[0m\u001b[1;33m\u001b[0m\u001b[1;33m\u001b[0m\u001b[0m\n\u001b[0;32m    417\u001b[0m     \u001b[1;34m\"\"\"Function that wraps estimator.score\"\"\"\u001b[0m\u001b[1;33m\u001b[0m\u001b[1;33m\u001b[0m\u001b[0m\n\u001b[1;32m--> 418\u001b[1;33m     \u001b[1;32mreturn\u001b[0m \u001b[0mestimator\u001b[0m\u001b[1;33m.\u001b[0m\u001b[0mscore\u001b[0m\u001b[1;33m(\u001b[0m\u001b[1;33m*\u001b[0m\u001b[0margs\u001b[0m\u001b[1;33m,\u001b[0m \u001b[1;33m**\u001b[0m\u001b[0mkwargs\u001b[0m\u001b[1;33m)\u001b[0m\u001b[1;33m\u001b[0m\u001b[1;33m\u001b[0m\u001b[0m\n\u001b[0m\u001b[0;32m    419\u001b[0m \u001b[1;33m\u001b[0m\u001b[0m\n\u001b[0;32m    420\u001b[0m \u001b[1;33m\u001b[0m\u001b[0m\n",
      "\u001b[1;32m~\\.conda\\envs\\iron_hack_DA\\lib\\site-packages\\sklearn\\base.py\u001b[0m in \u001b[0;36mscore\u001b[1;34m(self, X, y, sample_weight)\u001b[0m\n\u001b[0;32m    694\u001b[0m         \u001b[1;32mfrom\u001b[0m \u001b[1;33m.\u001b[0m\u001b[0mmetrics\u001b[0m \u001b[1;32mimport\u001b[0m \u001b[0mr2_score\u001b[0m\u001b[1;33m\u001b[0m\u001b[1;33m\u001b[0m\u001b[0m\n\u001b[0;32m    695\u001b[0m \u001b[1;33m\u001b[0m\u001b[0m\n\u001b[1;32m--> 696\u001b[1;33m         \u001b[0my_pred\u001b[0m \u001b[1;33m=\u001b[0m \u001b[0mself\u001b[0m\u001b[1;33m.\u001b[0m\u001b[0mpredict\u001b[0m\u001b[1;33m(\u001b[0m\u001b[0mX\u001b[0m\u001b[1;33m)\u001b[0m\u001b[1;33m\u001b[0m\u001b[1;33m\u001b[0m\u001b[0m\n\u001b[0m\u001b[0;32m    697\u001b[0m         \u001b[1;32mreturn\u001b[0m \u001b[0mr2_score\u001b[0m\u001b[1;33m(\u001b[0m\u001b[0my\u001b[0m\u001b[1;33m,\u001b[0m \u001b[0my_pred\u001b[0m\u001b[1;33m,\u001b[0m \u001b[0msample_weight\u001b[0m\u001b[1;33m=\u001b[0m\u001b[0msample_weight\u001b[0m\u001b[1;33m)\u001b[0m\u001b[1;33m\u001b[0m\u001b[1;33m\u001b[0m\u001b[0m\n\u001b[0;32m    698\u001b[0m \u001b[1;33m\u001b[0m\u001b[0m\n",
      "\u001b[1;32m~\\.conda\\envs\\iron_hack_DA\\lib\\site-packages\\sklearn\\neighbors\\_regression.py\u001b[0m in \u001b[0;36mpredict\u001b[1;34m(self, X)\u001b[0m\n\u001b[0;32m    229\u001b[0m         \u001b[0mX\u001b[0m \u001b[1;33m=\u001b[0m \u001b[0mself\u001b[0m\u001b[1;33m.\u001b[0m\u001b[0m_validate_data\u001b[0m\u001b[1;33m(\u001b[0m\u001b[0mX\u001b[0m\u001b[1;33m,\u001b[0m \u001b[0maccept_sparse\u001b[0m\u001b[1;33m=\u001b[0m\u001b[1;34m\"csr\"\u001b[0m\u001b[1;33m,\u001b[0m \u001b[0mreset\u001b[0m\u001b[1;33m=\u001b[0m\u001b[1;32mFalse\u001b[0m\u001b[1;33m)\u001b[0m\u001b[1;33m\u001b[0m\u001b[1;33m\u001b[0m\u001b[0m\n\u001b[0;32m    230\u001b[0m \u001b[1;33m\u001b[0m\u001b[0m\n\u001b[1;32m--> 231\u001b[1;33m         \u001b[0mneigh_dist\u001b[0m\u001b[1;33m,\u001b[0m \u001b[0mneigh_ind\u001b[0m \u001b[1;33m=\u001b[0m \u001b[0mself\u001b[0m\u001b[1;33m.\u001b[0m\u001b[0mkneighbors\u001b[0m\u001b[1;33m(\u001b[0m\u001b[0mX\u001b[0m\u001b[1;33m)\u001b[0m\u001b[1;33m\u001b[0m\u001b[1;33m\u001b[0m\u001b[0m\n\u001b[0m\u001b[0;32m    232\u001b[0m \u001b[1;33m\u001b[0m\u001b[0m\n\u001b[0;32m    233\u001b[0m         \u001b[0mweights\u001b[0m \u001b[1;33m=\u001b[0m \u001b[0m_get_weights\u001b[0m\u001b[1;33m(\u001b[0m\u001b[0mneigh_dist\u001b[0m\u001b[1;33m,\u001b[0m \u001b[0mself\u001b[0m\u001b[1;33m.\u001b[0m\u001b[0mweights\u001b[0m\u001b[1;33m)\u001b[0m\u001b[1;33m\u001b[0m\u001b[1;33m\u001b[0m\u001b[0m\n",
      "\u001b[1;32m~\\.conda\\envs\\iron_hack_DA\\lib\\site-packages\\sklearn\\neighbors\\_base.py\u001b[0m in \u001b[0;36mkneighbors\u001b[1;34m(self, X, n_neighbors, return_distance)\u001b[0m\n\u001b[0;32m    747\u001b[0m                 \u001b[0mkwds\u001b[0m \u001b[1;33m=\u001b[0m \u001b[0mself\u001b[0m\u001b[1;33m.\u001b[0m\u001b[0meffective_metric_params_\u001b[0m\u001b[1;33m\u001b[0m\u001b[1;33m\u001b[0m\u001b[0m\n\u001b[0;32m    748\u001b[0m \u001b[1;33m\u001b[0m\u001b[0m\n\u001b[1;32m--> 749\u001b[1;33m             chunked_results = list(\n\u001b[0m\u001b[0;32m    750\u001b[0m                 pairwise_distances_chunked(\n\u001b[0;32m    751\u001b[0m                     \u001b[0mX\u001b[0m\u001b[1;33m,\u001b[0m\u001b[1;33m\u001b[0m\u001b[1;33m\u001b[0m\u001b[0m\n",
      "\u001b[1;32m~\\.conda\\envs\\iron_hack_DA\\lib\\site-packages\\sklearn\\metrics\\pairwise.py\u001b[0m in \u001b[0;36mpairwise_distances_chunked\u001b[1;34m(X, Y, reduce_func, metric, n_jobs, working_memory, **kwds)\u001b[0m\n\u001b[0;32m   1719\u001b[0m         \u001b[1;32mif\u001b[0m \u001b[0mreduce_func\u001b[0m \u001b[1;32mis\u001b[0m \u001b[1;32mnot\u001b[0m \u001b[1;32mNone\u001b[0m\u001b[1;33m:\u001b[0m\u001b[1;33m\u001b[0m\u001b[1;33m\u001b[0m\u001b[0m\n\u001b[0;32m   1720\u001b[0m             \u001b[0mchunk_size\u001b[0m \u001b[1;33m=\u001b[0m \u001b[0mD_chunk\u001b[0m\u001b[1;33m.\u001b[0m\u001b[0mshape\u001b[0m\u001b[1;33m[\u001b[0m\u001b[1;36m0\u001b[0m\u001b[1;33m]\u001b[0m\u001b[1;33m\u001b[0m\u001b[1;33m\u001b[0m\u001b[0m\n\u001b[1;32m-> 1721\u001b[1;33m             \u001b[0mD_chunk\u001b[0m \u001b[1;33m=\u001b[0m \u001b[0mreduce_func\u001b[0m\u001b[1;33m(\u001b[0m\u001b[0mD_chunk\u001b[0m\u001b[1;33m,\u001b[0m \u001b[0msl\u001b[0m\u001b[1;33m.\u001b[0m\u001b[0mstart\u001b[0m\u001b[1;33m)\u001b[0m\u001b[1;33m\u001b[0m\u001b[1;33m\u001b[0m\u001b[0m\n\u001b[0m\u001b[0;32m   1722\u001b[0m             \u001b[0m_check_chunk_size\u001b[0m\u001b[1;33m(\u001b[0m\u001b[0mD_chunk\u001b[0m\u001b[1;33m,\u001b[0m \u001b[0mchunk_size\u001b[0m\u001b[1;33m)\u001b[0m\u001b[1;33m\u001b[0m\u001b[1;33m\u001b[0m\u001b[0m\n\u001b[0;32m   1723\u001b[0m         \u001b[1;32myield\u001b[0m \u001b[0mD_chunk\u001b[0m\u001b[1;33m\u001b[0m\u001b[1;33m\u001b[0m\u001b[0m\n",
      "\u001b[1;32m~\\.conda\\envs\\iron_hack_DA\\lib\\site-packages\\sklearn\\neighbors\\_base.py\u001b[0m in \u001b[0;36m_kneighbors_reduce_func\u001b[1;34m(self, dist, start, n_neighbors, return_distance)\u001b[0m\n\u001b[0;32m    629\u001b[0m         \"\"\"\n\u001b[0;32m    630\u001b[0m         \u001b[0msample_range\u001b[0m \u001b[1;33m=\u001b[0m \u001b[0mnp\u001b[0m\u001b[1;33m.\u001b[0m\u001b[0marange\u001b[0m\u001b[1;33m(\u001b[0m\u001b[0mdist\u001b[0m\u001b[1;33m.\u001b[0m\u001b[0mshape\u001b[0m\u001b[1;33m[\u001b[0m\u001b[1;36m0\u001b[0m\u001b[1;33m]\u001b[0m\u001b[1;33m)\u001b[0m\u001b[1;33m[\u001b[0m\u001b[1;33m:\u001b[0m\u001b[1;33m,\u001b[0m \u001b[1;32mNone\u001b[0m\u001b[1;33m]\u001b[0m\u001b[1;33m\u001b[0m\u001b[1;33m\u001b[0m\u001b[0m\n\u001b[1;32m--> 631\u001b[1;33m         \u001b[0mneigh_ind\u001b[0m \u001b[1;33m=\u001b[0m \u001b[0mnp\u001b[0m\u001b[1;33m.\u001b[0m\u001b[0margpartition\u001b[0m\u001b[1;33m(\u001b[0m\u001b[0mdist\u001b[0m\u001b[1;33m,\u001b[0m \u001b[0mn_neighbors\u001b[0m \u001b[1;33m-\u001b[0m \u001b[1;36m1\u001b[0m\u001b[1;33m,\u001b[0m \u001b[0maxis\u001b[0m\u001b[1;33m=\u001b[0m\u001b[1;36m1\u001b[0m\u001b[1;33m)\u001b[0m\u001b[1;33m\u001b[0m\u001b[1;33m\u001b[0m\u001b[0m\n\u001b[0m\u001b[0;32m    632\u001b[0m         \u001b[0mneigh_ind\u001b[0m \u001b[1;33m=\u001b[0m \u001b[0mneigh_ind\u001b[0m\u001b[1;33m[\u001b[0m\u001b[1;33m:\u001b[0m\u001b[1;33m,\u001b[0m \u001b[1;33m:\u001b[0m\u001b[0mn_neighbors\u001b[0m\u001b[1;33m]\u001b[0m\u001b[1;33m\u001b[0m\u001b[1;33m\u001b[0m\u001b[0m\n\u001b[0;32m    633\u001b[0m         \u001b[1;31m# argpartition doesn't guarantee sorted order, so we sort again\u001b[0m\u001b[1;33m\u001b[0m\u001b[1;33m\u001b[0m\u001b[1;33m\u001b[0m\u001b[0m\n",
      "\u001b[1;32m<__array_function__ internals>\u001b[0m in \u001b[0;36margpartition\u001b[1;34m(*args, **kwargs)\u001b[0m\n",
      "\u001b[1;32m~\\.conda\\envs\\iron_hack_DA\\lib\\site-packages\\numpy\\core\\fromnumeric.py\u001b[0m in \u001b[0;36margpartition\u001b[1;34m(a, kth, axis, kind, order)\u001b[0m\n\u001b[0;32m    837\u001b[0m \u001b[1;33m\u001b[0m\u001b[0m\n\u001b[0;32m    838\u001b[0m     \"\"\"\n\u001b[1;32m--> 839\u001b[1;33m     \u001b[1;32mreturn\u001b[0m \u001b[0m_wrapfunc\u001b[0m\u001b[1;33m(\u001b[0m\u001b[0ma\u001b[0m\u001b[1;33m,\u001b[0m \u001b[1;34m'argpartition'\u001b[0m\u001b[1;33m,\u001b[0m \u001b[0mkth\u001b[0m\u001b[1;33m,\u001b[0m \u001b[0maxis\u001b[0m\u001b[1;33m=\u001b[0m\u001b[0maxis\u001b[0m\u001b[1;33m,\u001b[0m \u001b[0mkind\u001b[0m\u001b[1;33m=\u001b[0m\u001b[0mkind\u001b[0m\u001b[1;33m,\u001b[0m \u001b[0morder\u001b[0m\u001b[1;33m=\u001b[0m\u001b[0morder\u001b[0m\u001b[1;33m)\u001b[0m\u001b[1;33m\u001b[0m\u001b[1;33m\u001b[0m\u001b[0m\n\u001b[0m\u001b[0;32m    840\u001b[0m \u001b[1;33m\u001b[0m\u001b[0m\n\u001b[0;32m    841\u001b[0m \u001b[1;33m\u001b[0m\u001b[0m\n",
      "\u001b[1;32m~\\.conda\\envs\\iron_hack_DA\\lib\\site-packages\\numpy\\core\\fromnumeric.py\u001b[0m in \u001b[0;36m_wrapfunc\u001b[1;34m(obj, method, *args, **kwds)\u001b[0m\n\u001b[0;32m     55\u001b[0m \u001b[1;33m\u001b[0m\u001b[0m\n\u001b[0;32m     56\u001b[0m     \u001b[1;32mtry\u001b[0m\u001b[1;33m:\u001b[0m\u001b[1;33m\u001b[0m\u001b[1;33m\u001b[0m\u001b[0m\n\u001b[1;32m---> 57\u001b[1;33m         \u001b[1;32mreturn\u001b[0m \u001b[0mbound\u001b[0m\u001b[1;33m(\u001b[0m\u001b[1;33m*\u001b[0m\u001b[0margs\u001b[0m\u001b[1;33m,\u001b[0m \u001b[1;33m**\u001b[0m\u001b[0mkwds\u001b[0m\u001b[1;33m)\u001b[0m\u001b[1;33m\u001b[0m\u001b[1;33m\u001b[0m\u001b[0m\n\u001b[0m\u001b[0;32m     58\u001b[0m     \u001b[1;32mexcept\u001b[0m \u001b[0mTypeError\u001b[0m\u001b[1;33m:\u001b[0m\u001b[1;33m\u001b[0m\u001b[1;33m\u001b[0m\u001b[0m\n\u001b[0;32m     59\u001b[0m         \u001b[1;31m# A TypeError occurs if the object does have such a method in its\u001b[0m\u001b[1;33m\u001b[0m\u001b[1;33m\u001b[0m\u001b[1;33m\u001b[0m\u001b[0m\n",
      "\u001b[1;31mKeyboardInterrupt\u001b[0m: "
     ]
    }
   ],
   "source": [
    "# from sklearn.neighbors import KNeighborsRegressor\n",
    "# model3 = KNeighborsRegressor()\n",
    "\n",
    "# cross_val_score(model3, X_train, y_train, cv=5)"
   ]
  },
  {
   "cell_type": "markdown",
   "id": "092f347c",
   "metadata": {},
   "source": [
    "# CONCLUSION\n",
    "## With the data available, it is impossible to predict the lower_limit values\n",
    "\n",
    "## Recommendation\n",
    "    1.Alot of data in the columns we are using is derived from values of other columns. We need to collect more data directly from restaurant owners and customers\n",
    "    2.Collect more information using load scrapping or APIs"
   ]
  },
  {
   "cell_type": "markdown",
   "id": "5ef530cd",
   "metadata": {},
   "source": [
    "# Fill out the NaN values using the ratings column (since our Machine learning models are not usable)\n",
    "### We are filling out the NaNs with the average of lower_limit of restaurants in the same country and with the same rating\n",
    "### All restaurants in our data are assigned a country"
   ]
  },
  {
   "cell_type": "code",
   "execution_count": 136,
   "id": "d40a9cd3",
   "metadata": {},
   "outputs": [
    {
     "data": {
      "text/plain": [
       "0"
      ]
     },
     "execution_count": 136,
     "metadata": {},
     "output_type": "execute_result"
    }
   ],
   "source": [
    "data['country'].isna().sum()"
   ]
  },
  {
   "cell_type": "code",
   "execution_count": 137,
   "id": "c5a261bf",
   "metadata": {},
   "outputs": [
    {
     "data": {
      "text/plain": [
       "{'Austria',\n",
       " 'Belgium',\n",
       " 'Bulgaria',\n",
       " 'Croatia',\n",
       " 'Czech Republic',\n",
       " 'Denmark',\n",
       " 'England',\n",
       " 'Finland',\n",
       " 'France',\n",
       " 'Germany',\n",
       " 'Greece',\n",
       " 'Hungary',\n",
       " 'Ireland',\n",
       " 'Italy',\n",
       " 'Northern Ireland',\n",
       " 'Poland',\n",
       " 'Portugal',\n",
       " 'Romania',\n",
       " 'Scotland',\n",
       " 'Slovakia',\n",
       " 'Spain',\n",
       " 'Sweden',\n",
       " 'The Netherlands',\n",
       " 'Wales'}"
      ]
     },
     "execution_count": 137,
     "metadata": {},
     "output_type": "execute_result"
    }
   ],
   "source": [
    "country_list = set(list(data['country']))\n",
    "country_list"
   ]
  },
  {
   "cell_type": "code",
   "execution_count": 138,
   "id": "e69806a1",
   "metadata": {},
   "outputs": [
    {
     "data": {
      "text/plain": [
       "530295"
      ]
     },
     "execution_count": 138,
     "metadata": {},
     "output_type": "execute_result"
    }
   ],
   "source": [
    "# NaNs BEFORE FILLING OUT\n",
    "data['lower_limit'].isna().sum()"
   ]
  },
  {
   "cell_type": "code",
   "execution_count": 139,
   "id": "f004d30e",
   "metadata": {},
   "outputs": [
    {
     "name": "stdout",
     "output_type": "stream",
     "text": [
      "COUNTRY:  Poland\n"
     ]
    },
    {
     "name": "stderr",
     "output_type": "stream",
     "text": [
      "C:\\Users\\KIMERA\\AppData\\Local\\Temp/ipykernel_16232/1955803888.py:11: SettingWithCopyWarning: \n",
      "A value is trying to be set on a copy of a slice from a DataFrame.\n",
      "Try using .loc[row_indexer,col_indexer] = value instead\n",
      "\n",
      "See the caveats in the documentation: https://pandas.pydata.org/pandas-docs/stable/user_guide/indexing.html#returning-a-view-versus-a-copy\n",
      "  dfx['lower_limit'] = dfx['lower_limit'].apply(lambda x: this_mean)\n"
     ]
    },
    {
     "name": "stdout",
     "output_type": "stream",
     "text": [
      "COUNTRY:  Poland\n",
      "COUNTRY:  Poland\n",
      "COUNTRY:  Poland\n",
      "COUNTRY:  Poland\n",
      "COUNTRY:  Austria\n",
      "COUNTRY:  Austria\n",
      "COUNTRY:  Austria\n",
      "COUNTRY:  Austria\n",
      "COUNTRY:  Austria\n",
      "COUNTRY:  France\n",
      "COUNTRY:  France\n",
      "COUNTRY:  France\n",
      "COUNTRY:  France\n",
      "COUNTRY:  France\n",
      "COUNTRY:  Germany\n",
      "COUNTRY:  Germany\n",
      "COUNTRY:  Germany\n",
      "COUNTRY:  Germany\n",
      "COUNTRY:  Germany\n",
      "COUNTRY:  Ireland\n",
      "COUNTRY:  Ireland\n",
      "COUNTRY:  Ireland\n",
      "COUNTRY:  Ireland\n",
      "COUNTRY:  Ireland\n",
      "COUNTRY:  Croatia\n",
      "COUNTRY:  Croatia\n",
      "COUNTRY:  Croatia\n",
      "COUNTRY:  Croatia\n",
      "COUNTRY:  Croatia\n",
      "COUNTRY:  England\n",
      "COUNTRY:  England\n",
      "COUNTRY:  England\n",
      "COUNTRY:  England\n",
      "COUNTRY:  England\n",
      "COUNTRY:  Denmark\n",
      "COUNTRY:  Denmark\n",
      "COUNTRY:  Denmark\n",
      "COUNTRY:  Denmark\n",
      "COUNTRY:  Denmark\n",
      "COUNTRY:  Slovakia\n",
      "COUNTRY:  Slovakia\n",
      "COUNTRY:  Slovakia\n",
      "COUNTRY:  Slovakia\n",
      "COUNTRY:  Slovakia\n",
      "COUNTRY:  Northern Ireland\n",
      "COUNTRY:  Northern Ireland\n",
      "COUNTRY:  Northern Ireland\n",
      "COUNTRY:  Northern Ireland\n",
      "COUNTRY:  Northern Ireland\n",
      "COUNTRY:  Wales\n",
      "COUNTRY:  Wales\n",
      "COUNTRY:  Wales\n",
      "COUNTRY:  Wales\n",
      "COUNTRY:  Wales\n",
      "COUNTRY:  Czech Republic\n",
      "COUNTRY:  Czech Republic\n",
      "COUNTRY:  Czech Republic\n",
      "COUNTRY:  Czech Republic\n",
      "COUNTRY:  Czech Republic\n",
      "COUNTRY:  Italy\n",
      "COUNTRY:  Italy\n",
      "COUNTRY:  Italy\n",
      "COUNTRY:  Italy\n",
      "COUNTRY:  Italy\n",
      "COUNTRY:  Greece\n",
      "COUNTRY:  Greece\n",
      "COUNTRY:  Greece\n",
      "COUNTRY:  Greece\n",
      "COUNTRY:  Greece\n",
      "COUNTRY:  Bulgaria\n",
      "COUNTRY:  Bulgaria\n",
      "COUNTRY:  Bulgaria\n",
      "COUNTRY:  Bulgaria\n",
      "COUNTRY:  Bulgaria\n",
      "COUNTRY:  Spain\n",
      "COUNTRY:  Spain\n",
      "COUNTRY:  Spain\n",
      "COUNTRY:  Spain\n",
      "COUNTRY:  Spain\n",
      "COUNTRY:  Portugal\n",
      "COUNTRY:  Portugal\n",
      "COUNTRY:  Portugal\n",
      "COUNTRY:  Portugal\n",
      "COUNTRY:  Portugal\n",
      "COUNTRY:  Finland\n",
      "COUNTRY:  Finland\n",
      "COUNTRY:  Finland\n",
      "COUNTRY:  Finland\n",
      "COUNTRY:  Finland\n",
      "COUNTRY:  Sweden\n",
      "COUNTRY:  Sweden\n",
      "COUNTRY:  Sweden\n",
      "COUNTRY:  Sweden\n",
      "COUNTRY:  Sweden\n",
      "COUNTRY:  The Netherlands\n",
      "COUNTRY:  The Netherlands\n",
      "COUNTRY:  The Netherlands\n",
      "COUNTRY:  The Netherlands\n",
      "COUNTRY:  The Netherlands\n",
      "COUNTRY:  Romania\n",
      "COUNTRY:  Romania\n",
      "COUNTRY:  Romania\n",
      "COUNTRY:  Romania\n",
      "COUNTRY:  Romania\n",
      "COUNTRY:  Scotland\n",
      "COUNTRY:  Scotland\n",
      "COUNTRY:  Scotland\n",
      "COUNTRY:  Scotland\n",
      "COUNTRY:  Scotland\n",
      "COUNTRY:  Belgium\n",
      "COUNTRY:  Belgium\n",
      "COUNTRY:  Belgium\n",
      "COUNTRY:  Belgium\n",
      "COUNTRY:  Belgium\n",
      "COUNTRY:  Hungary\n",
      "COUNTRY:  Hungary\n",
      "COUNTRY:  Hungary\n",
      "COUNTRY:  Hungary\n",
      "COUNTRY:  Hungary\n"
     ]
    }
   ],
   "source": [
    "ratings = {'one':1.0,'two':2.0,'three':3.0,'four':4.0,'five':5.0}\n",
    "df_list = []\n",
    "for country in country_list:\n",
    "    for key in ratings:\n",
    "        print(\"COUNTRY: \", country)\n",
    "        df = data['lower_limit'][(data['price_level'] == ratings[key]) & (data['country'] == country) & (~data['lower_limit'].isna())]\n",
    "        dfx = country+'_df'\n",
    "        dfx = data[(data['price_level'] == ratings[key]) & (data['country'] == country) & (data['lower_limit'].isna())]\n",
    "        if len(df) != 0 and len(dfx) != 0:\n",
    "            this_mean = np.mean(df)\n",
    "            dfx['lower_limit'] = dfx['lower_limit'].apply(lambda x: this_mean)\n",
    "            #print(dfx['lower_limit'])\n",
    "            df_list.append(dfx)\n",
    "                "
   ]
  },
  {
   "cell_type": "code",
   "execution_count": 140,
   "id": "f6d8b462",
   "metadata": {},
   "outputs": [],
   "source": [
    "my_df = pd.DataFrame(columns = data.columns)\n",
    "for item in df_list:\n",
    "    #print(item)\n",
    "    my_df = pd.concat([my_df, item], axis = 0)\n"
   ]
  },
  {
   "cell_type": "code",
   "execution_count": 141,
   "id": "7708188d",
   "metadata": {},
   "outputs": [
    {
     "data": {
      "text/plain": [
       "(522773, 71)"
      ]
     },
     "execution_count": 141,
     "metadata": {},
     "output_type": "execute_result"
    }
   ],
   "source": [
    "my_df.shape"
   ]
  },
  {
   "cell_type": "code",
   "execution_count": 142,
   "id": "94ccc55e",
   "metadata": {},
   "outputs": [
    {
     "data": {
      "text/plain": [
       "7522"
      ]
     },
     "execution_count": 142,
     "metadata": {},
     "output_type": "execute_result"
    }
   ],
   "source": [
    "data = data.combine_first(my_df)\n",
    "data['lower_limit'].isna().sum()"
   ]
  },
  {
   "cell_type": "markdown",
   "id": "f5067125",
   "metadata": {},
   "source": [
    "# ONE FINAL DROP....\n",
    "## Drop all rows with NaN in lower_limit and coordinates\n",
    "## I want to vizualize all the restaurants on the European map"
   ]
  },
  {
   "cell_type": "code",
   "execution_count": 143,
   "id": "9e4823f2",
   "metadata": {},
   "outputs": [],
   "source": [
    "#del my_df\n",
    "check_df = data['country'][data['lower_limit'].isna()].value_counts(dropna = False)"
   ]
  },
  {
   "cell_type": "code",
   "execution_count": 144,
   "id": "49d0e366",
   "metadata": {},
   "outputs": [
    {
     "data": {
      "text/plain": [
       "Belgium             2605\n",
       "Scotland            1598\n",
       "Ireland             1134\n",
       "Northern Ireland     585\n",
       "Greece               566\n",
       "Romania              433\n",
       "Slovakia             292\n",
       "Bulgaria             228\n",
       "Wales                 81\n",
       "Name: country, dtype: int64"
      ]
     },
     "execution_count": 144,
     "metadata": {},
     "output_type": "execute_result"
    }
   ],
   "source": [
    "check_df"
   ]
  },
  {
   "cell_type": "code",
   "execution_count": 145,
   "id": "c272e419",
   "metadata": {},
   "outputs": [
    {
     "name": "stdout",
     "output_type": "stream",
     "text": [
      "774358\n"
     ]
    },
    {
     "data": {
      "text/plain": [
       "766836"
      ]
     },
     "execution_count": 145,
     "metadata": {},
     "output_type": "execute_result"
    }
   ],
   "source": [
    "print(len(data))\n",
    "data = data[~data['lower_limit'].isna()]\n",
    "len(data)"
   ]
  },
  {
   "cell_type": "code",
   "execution_count": 146,
   "id": "d5791bf5",
   "metadata": {},
   "outputs": [
    {
     "name": "stdout",
     "output_type": "stream",
     "text": [
      "766836\n"
     ]
    },
    {
     "data": {
      "text/plain": [
       "758011"
      ]
     },
     "execution_count": 146,
     "metadata": {},
     "output_type": "execute_result"
    }
   ],
   "source": [
    "print(len(data))\n",
    "data = data[(~data['latitude'].isna()) & (~data['longitude'].isna())]\n",
    "len(data)"
   ]
  },
  {
   "cell_type": "code",
   "execution_count": 147,
   "id": "1777592c",
   "metadata": {},
   "outputs": [],
   "source": [
    "data.to_csv(\"E:\\\\SKUL\\\\PROGRAMMING_SKULS\\\\ironhack\\\\COURSE\\\\Final-Year-Project\\\\Final Data\\\\tableau_data.csv\")"
   ]
  },
  {
   "cell_type": "code",
   "execution_count": null,
   "id": "ffee7aa9",
   "metadata": {},
   "outputs": [],
   "source": []
  }
 ],
 "metadata": {
  "kernelspec": {
   "display_name": "Python 3 (ipykernel)",
   "language": "python",
   "name": "python3"
  },
  "language_info": {
   "codemirror_mode": {
    "name": "ipython",
    "version": 3
   },
   "file_extension": ".py",
   "mimetype": "text/x-python",
   "name": "python",
   "nbconvert_exporter": "python",
   "pygments_lexer": "ipython3",
   "version": "3.8.12"
  }
 },
 "nbformat": 4,
 "nbformat_minor": 5
}
